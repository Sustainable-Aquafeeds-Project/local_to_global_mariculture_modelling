{
 "cells": [
  {
   "cell_type": "markdown",
   "metadata": {},
   "source": [
    "# Local to global N input modelling\n",
    "\n",
    "Tormey Reimer [![](data:image/png;base64,iVBORw0KGgoAAAANSUhEUgAAABAAAAAQCAYAAAAf8/9hAAAAGXRFWHRTb2Z0d2FyZQBBZG9iZSBJbWFnZVJlYWR5ccllPAAAA2ZpVFh0WE1MOmNvbS5hZG9iZS54bXAAAAAAADw/eHBhY2tldCBiZWdpbj0i77u/IiBpZD0iVzVNME1wQ2VoaUh6cmVTek5UY3prYzlkIj8+IDx4OnhtcG1ldGEgeG1sbnM6eD0iYWRvYmU6bnM6bWV0YS8iIHg6eG1wdGs9IkFkb2JlIFhNUCBDb3JlIDUuMC1jMDYwIDYxLjEzNDc3NywgMjAxMC8wMi8xMi0xNzozMjowMCAgICAgICAgIj4gPHJkZjpSREYgeG1sbnM6cmRmPSJodHRwOi8vd3d3LnczLm9yZy8xOTk5LzAyLzIyLXJkZi1zeW50YXgtbnMjIj4gPHJkZjpEZXNjcmlwdGlvbiByZGY6YWJvdXQ9IiIgeG1sbnM6eG1wTU09Imh0dHA6Ly9ucy5hZG9iZS5jb20veGFwLzEuMC9tbS8iIHhtbG5zOnN0UmVmPSJodHRwOi8vbnMuYWRvYmUuY29tL3hhcC8xLjAvc1R5cGUvUmVzb3VyY2VSZWYjIiB4bWxuczp4bXA9Imh0dHA6Ly9ucy5hZG9iZS5jb20veGFwLzEuMC8iIHhtcE1NOk9yaWdpbmFsRG9jdW1lbnRJRD0ieG1wLmRpZDo1N0NEMjA4MDI1MjA2ODExOTk0QzkzNTEzRjZEQTg1NyIgeG1wTU06RG9jdW1lbnRJRD0ieG1wLmRpZDozM0NDOEJGNEZGNTcxMUUxODdBOEVCODg2RjdCQ0QwOSIgeG1wTU06SW5zdGFuY2VJRD0ieG1wLmlpZDozM0NDOEJGM0ZGNTcxMUUxODdBOEVCODg2RjdCQ0QwOSIgeG1wOkNyZWF0b3JUb29sPSJBZG9iZSBQaG90b3Nob3AgQ1M1IE1hY2ludG9zaCI+IDx4bXBNTTpEZXJpdmVkRnJvbSBzdFJlZjppbnN0YW5jZUlEPSJ4bXAuaWlkOkZDN0YxMTc0MDcyMDY4MTE5NUZFRDc5MUM2MUUwNEREIiBzdFJlZjpkb2N1bWVudElEPSJ4bXAuZGlkOjU3Q0QyMDgwMjUyMDY4MTE5OTRDOTM1MTNGNkRBODU3Ii8+IDwvcmRmOkRlc2NyaXB0aW9uPiA8L3JkZjpSREY+IDwveDp4bXBtZXRhPiA8P3hwYWNrZXQgZW5kPSJyIj8+84NovQAAAR1JREFUeNpiZEADy85ZJgCpeCB2QJM6AMQLo4yOL0AWZETSqACk1gOxAQN+cAGIA4EGPQBxmJA0nwdpjjQ8xqArmczw5tMHXAaALDgP1QMxAGqzAAPxQACqh4ER6uf5MBlkm0X4EGayMfMw/Pr7Bd2gRBZogMFBrv01hisv5jLsv9nLAPIOMnjy8RDDyYctyAbFM2EJbRQw+aAWw/LzVgx7b+cwCHKqMhjJFCBLOzAR6+lXX84xnHjYyqAo5IUizkRCwIENQQckGSDGY4TVgAPEaraQr2a4/24bSuoExcJCfAEJihXkWDj3ZAKy9EJGaEo8T0QSxkjSwORsCAuDQCD+QILmD1A9kECEZgxDaEZhICIzGcIyEyOl2RkgwAAhkmC+eAm0TAAAAABJRU5ErkJggg==)](https://orcid.org/0000-0002-5983-2798)Richard S. Cottrell [![](data:image/png;base64,iVBORw0KGgoAAAANSUhEUgAAABAAAAAQCAYAAAAf8/9hAAAAGXRFWHRTb2Z0d2FyZQBBZG9iZSBJbWFnZVJlYWR5ccllPAAAA2ZpVFh0WE1MOmNvbS5hZG9iZS54bXAAAAAAADw/eHBhY2tldCBiZWdpbj0i77u/IiBpZD0iVzVNME1wQ2VoaUh6cmVTek5UY3prYzlkIj8+IDx4OnhtcG1ldGEgeG1sbnM6eD0iYWRvYmU6bnM6bWV0YS8iIHg6eG1wdGs9IkFkb2JlIFhNUCBDb3JlIDUuMC1jMDYwIDYxLjEzNDc3NywgMjAxMC8wMi8xMi0xNzozMjowMCAgICAgICAgIj4gPHJkZjpSREYgeG1sbnM6cmRmPSJodHRwOi8vd3d3LnczLm9yZy8xOTk5LzAyLzIyLXJkZi1zeW50YXgtbnMjIj4gPHJkZjpEZXNjcmlwdGlvbiByZGY6YWJvdXQ9IiIgeG1sbnM6eG1wTU09Imh0dHA6Ly9ucy5hZG9iZS5jb20veGFwLzEuMC9tbS8iIHhtbG5zOnN0UmVmPSJodHRwOi8vbnMuYWRvYmUuY29tL3hhcC8xLjAvc1R5cGUvUmVzb3VyY2VSZWYjIiB4bWxuczp4bXA9Imh0dHA6Ly9ucy5hZG9iZS5jb20veGFwLzEuMC8iIHhtcE1NOk9yaWdpbmFsRG9jdW1lbnRJRD0ieG1wLmRpZDo1N0NEMjA4MDI1MjA2ODExOTk0QzkzNTEzRjZEQTg1NyIgeG1wTU06RG9jdW1lbnRJRD0ieG1wLmRpZDozM0NDOEJGNEZGNTcxMUUxODdBOEVCODg2RjdCQ0QwOSIgeG1wTU06SW5zdGFuY2VJRD0ieG1wLmlpZDozM0NDOEJGM0ZGNTcxMUUxODdBOEVCODg2RjdCQ0QwOSIgeG1wOkNyZWF0b3JUb29sPSJBZG9iZSBQaG90b3Nob3AgQ1M1IE1hY2ludG9zaCI+IDx4bXBNTTpEZXJpdmVkRnJvbSBzdFJlZjppbnN0YW5jZUlEPSJ4bXAuaWlkOkZDN0YxMTc0MDcyMDY4MTE5NUZFRDc5MUM2MUUwNEREIiBzdFJlZjpkb2N1bWVudElEPSJ4bXAuZGlkOjU3Q0QyMDgwMjUyMDY4MTE5OTRDOTM1MTNGNkRBODU3Ii8+IDwvcmRmOkRlc2NyaXB0aW9uPiA8L3JkZjpSREY+IDwveDp4bXBtZXRhPiA8P3hwYWNrZXQgZW5kPSJyIj8+84NovQAAAR1JREFUeNpiZEADy85ZJgCpeCB2QJM6AMQLo4yOL0AWZETSqACk1gOxAQN+cAGIA4EGPQBxmJA0nwdpjjQ8xqArmczw5tMHXAaALDgP1QMxAGqzAAPxQACqh4ER6uf5MBlkm0X4EGayMfMw/Pr7Bd2gRBZogMFBrv01hisv5jLsv9nLAPIOMnjy8RDDyYctyAbFM2EJbRQw+aAWw/LzVgx7b+cwCHKqMhjJFCBLOzAR6+lXX84xnHjYyqAo5IUizkRCwIENQQckGSDGY4TVgAPEaraQr2a4/24bSuoExcJCfAEJihXkWDj3ZAKy9EJGaEo8T0QSxkjSwORsCAuDQCD+QILmD1A9kECEZgxDaEZhICIzGcIyEyOl2RkgwAAhkmC+eAm0TAAAAABJRU5ErkJggg==)](https://orcid.org/0000-0002-6499-7503)Alexandra Johne [![](data:image/png;base64,iVBORw0KGgoAAAANSUhEUgAAABAAAAAQCAYAAAAf8/9hAAAAGXRFWHRTb2Z0d2FyZQBBZG9iZSBJbWFnZVJlYWR5ccllPAAAA2ZpVFh0WE1MOmNvbS5hZG9iZS54bXAAAAAAADw/eHBhY2tldCBiZWdpbj0i77u/IiBpZD0iVzVNME1wQ2VoaUh6cmVTek5UY3prYzlkIj8+IDx4OnhtcG1ldGEgeG1sbnM6eD0iYWRvYmU6bnM6bWV0YS8iIHg6eG1wdGs9IkFkb2JlIFhNUCBDb3JlIDUuMC1jMDYwIDYxLjEzNDc3NywgMjAxMC8wMi8xMi0xNzozMjowMCAgICAgICAgIj4gPHJkZjpSREYgeG1sbnM6cmRmPSJodHRwOi8vd3d3LnczLm9yZy8xOTk5LzAyLzIyLXJkZi1zeW50YXgtbnMjIj4gPHJkZjpEZXNjcmlwdGlvbiByZGY6YWJvdXQ9IiIgeG1sbnM6eG1wTU09Imh0dHA6Ly9ucy5hZG9iZS5jb20veGFwLzEuMC9tbS8iIHhtbG5zOnN0UmVmPSJodHRwOi8vbnMuYWRvYmUuY29tL3hhcC8xLjAvc1R5cGUvUmVzb3VyY2VSZWYjIiB4bWxuczp4bXA9Imh0dHA6Ly9ucy5hZG9iZS5jb20veGFwLzEuMC8iIHhtcE1NOk9yaWdpbmFsRG9jdW1lbnRJRD0ieG1wLmRpZDo1N0NEMjA4MDI1MjA2ODExOTk0QzkzNTEzRjZEQTg1NyIgeG1wTU06RG9jdW1lbnRJRD0ieG1wLmRpZDozM0NDOEJGNEZGNTcxMUUxODdBOEVCODg2RjdCQ0QwOSIgeG1wTU06SW5zdGFuY2VJRD0ieG1wLmlpZDozM0NDOEJGM0ZGNTcxMUUxODdBOEVCODg2RjdCQ0QwOSIgeG1wOkNyZWF0b3JUb29sPSJBZG9iZSBQaG90b3Nob3AgQ1M1IE1hY2ludG9zaCI+IDx4bXBNTTpEZXJpdmVkRnJvbSBzdFJlZjppbnN0YW5jZUlEPSJ4bXAuaWlkOkZDN0YxMTc0MDcyMDY4MTE5NUZFRDc5MUM2MUUwNEREIiBzdFJlZjpkb2N1bWVudElEPSJ4bXAuZGlkOjU3Q0QyMDgwMjUyMDY4MTE5OTRDOTM1MTNGNkRBODU3Ii8+IDwvcmRmOkRlc2NyaXB0aW9uPiA8L3JkZjpSREY+IDwveDp4bXBtZXRhPiA8P3hwYWNrZXQgZW5kPSJyIj8+84NovQAAAR1JREFUeNpiZEADy85ZJgCpeCB2QJM6AMQLo4yOL0AWZETSqACk1gOxAQN+cAGIA4EGPQBxmJA0nwdpjjQ8xqArmczw5tMHXAaALDgP1QMxAGqzAAPxQACqh4ER6uf5MBlkm0X4EGayMfMw/Pr7Bd2gRBZogMFBrv01hisv5jLsv9nLAPIOMnjy8RDDyYctyAbFM2EJbRQw+aAWw/LzVgx7b+cwCHKqMhjJFCBLOzAR6+lXX84xnHjYyqAo5IUizkRCwIENQQckGSDGY4TVgAPEaraQr2a4/24bSuoExcJCfAEJihXkWDj3ZAKy9EJGaEo8T0QSxkjSwORsCAuDQCD+QILmD1A9kECEZgxDaEZhICIzGcIyEyOl2RkgwAAhkmC+eAm0TAAAAABJRU5ErkJggg==)](https://orcid.org/0000-0002-2816-7983)Sowdamini Sesha PrasadMarceau CormeryGage ClawsonScott HadleyHelen HamiltonBenjamin S. HalpernCatriona MacleodCamille WhiteJulia L. Blanchard"
   ],
   "id": "dfa58d4d-d609-4bb9-ab4f-82d895d64ead"
  },
  {
   "cell_type": "code",
   "execution_count": null,
   "metadata": {
    "layout-align": "center"
   },
   "outputs": [
    {
     "output_type": "stream",
     "name": "stderr",
     "text": [
      "\n",
      "Attaching package: 'dplyr'"
     ]
    },
    {
     "output_type": "stream",
     "name": "stderr",
     "text": [
      "The following objects are masked from 'package:stats':\n",
      "\n",
      "    filter, lag"
     ]
    },
    {
     "output_type": "stream",
     "name": "stderr",
     "text": [
      "The following objects are masked from 'package:base':\n",
      "\n",
      "    intersect, setdiff, setequal, union"
     ]
    },
    {
     "output_type": "stream",
     "name": "stderr",
     "text": [
      "\n",
      "Attaching package: 'tidyr'"
     ]
    },
    {
     "output_type": "stream",
     "name": "stderr",
     "text": [
      "The following object is masked from 'package:magrittr':\n",
      "\n",
      "    extract"
     ]
    },
    {
     "output_type": "stream",
     "name": "stderr",
     "text": [
      "Warning: package 'ggplot2' was built under R version 4.4.3"
     ]
    },
    {
     "output_type": "stream",
     "name": "stderr",
     "text": [
      "here() starts at C:/Users/treimer/Documents/R-temp-files/local_to_global_mariculture_modelling"
     ]
    },
    {
     "output_type": "stream",
     "name": "stderr",
     "text": [
      "Warning: package 'qs' was built under R version 4.4.3"
     ]
    },
    {
     "output_type": "stream",
     "name": "stderr",
     "text": [
      "qs 0.27.3. Announcement: https://github.com/qsbase/qs/issues/103"
     ]
    },
    {
     "output_type": "stream",
     "name": "stderr",
     "text": [
      "Warning: package 'arrow' was built under R version 4.4.3"
     ]
    },
    {
     "output_type": "stream",
     "name": "stderr",
     "text": [
      "\n",
      "Attaching package: 'arrow'"
     ]
    },
    {
     "output_type": "stream",
     "name": "stderr",
     "text": [
      "The following object is masked from 'package:magrittr':\n",
      "\n",
      "    is_in"
     ]
    },
    {
     "output_type": "stream",
     "name": "stderr",
     "text": [
      "The following object is masked from 'package:utils':\n",
      "\n",
      "    timestamp"
     ]
    },
    {
     "output_type": "stream",
     "name": "stderr",
     "text": [
      "Warning: package 'targets' was built under R version 4.4.3"
     ]
    },
    {
     "output_type": "stream",
     "name": "stderr",
     "text": [
      "Warning: package 'sf' was built under R version 4.4.3"
     ]
    },
    {
     "output_type": "stream",
     "name": "stderr",
     "text": [
      "Linking to GEOS 3.13.0, GDAL 3.10.1, PROJ 9.5.1; sf_use_s2() is TRUE"
     ]
    },
    {
     "output_type": "stream",
     "name": "stderr",
     "text": [
      "terra 1.8.42"
     ]
    },
    {
     "output_type": "stream",
     "name": "stderr",
     "text": [
      "\n",
      "Attaching package: 'terra'"
     ]
    },
    {
     "output_type": "stream",
     "name": "stderr",
     "text": [
      "The following object is masked from 'package:arrow':\n",
      "\n",
      "    buffer"
     ]
    },
    {
     "output_type": "stream",
     "name": "stderr",
     "text": [
      "The following object is masked from 'package:patchwork':\n",
      "\n",
      "    area"
     ]
    },
    {
     "output_type": "stream",
     "name": "stderr",
     "text": [
      "The following object is masked from 'package:ggpubr':\n",
      "\n",
      "    rotate"
     ]
    },
    {
     "output_type": "stream",
     "name": "stderr",
     "text": [
      "The following object is masked from 'package:tidyr':\n",
      "\n",
      "    extract"
     ]
    },
    {
     "output_type": "stream",
     "name": "stderr",
     "text": [
      "The following objects are masked from 'package:magrittr':\n",
      "\n",
      "    extract, inset"
     ]
    },
    {
     "output_type": "stream",
     "name": "stderr",
     "text": [
      "\n",
      "Attaching package: 'rnaturalearthdata'"
     ]
    },
    {
     "output_type": "stream",
     "name": "stderr",
     "text": [
      "The following object is masked from 'package:rnaturalearth':\n",
      "\n",
      "    countries110"
     ]
    },
    {
     "output_type": "stream",
     "name": "stderr",
     "text": [
      "Loading required package: future"
     ]
    },
    {
     "output_type": "stream",
     "name": "stderr",
     "text": [
      "Warning: package 'future' was built under R version 4.4.3"
     ]
    },
    {
     "output_type": "stream",
     "name": "stderr",
     "text": [
      "\n",
      "Attaching package: 'purrr'"
     ]
    },
    {
     "output_type": "stream",
     "name": "stderr",
     "text": [
      "The following object is masked from 'package:magrittr':\n",
      "\n",
      "    set_names"
     ]
    },
    {
     "output_type": "stream",
     "name": "stderr",
     "text": [
      "Warning: package 'readxl' was built under R version 4.4.3"
     ]
    },
    {
     "output_type": "stream",
     "name": "stderr",
     "text": [
      "Warning: package 'units' was built under R version 4.4.3"
     ]
    },
    {
     "output_type": "stream",
     "name": "stderr",
     "text": [
      "udunits database from C:/Users/treimer/AppData/Local/R/cache/R/renv/cache/v5/windows/R-4.4/x86_64-w64-mingw32/units/0.8-7/5d0b024902d5da97a2b64f002e92a869/units/share/udunits/udunits2.xml"
     ]
    }
   ],
   "source": [
    "library(magrittr)\n",
    "library(dplyr)"
   ],
   "id": "3af5334b-3bb8-4c8c-8e4e-28dc73e3131c"
  },
  {
   "cell_type": "code",
   "execution_count": null,
   "metadata": {
    "layout-align": "center"
   },
   "outputs": [
    {
     "output_type": "stream",
     "name": "stderr",
     "text": [
      "Warning: package 'qs2' was built under R version 4.4.3"
     ]
    }
   ],
   "source": [
    "source(here(\"00_model_functions.R\"))"
   ],
   "id": "8368792b-8edc-41d7-ba39-aba7c041c406"
  },
  {
   "cell_type": "markdown",
   "metadata": {},
   "source": [
    "# Introduction\n",
    "\n",
    "<span class=\"column-margin margin-aside\">This is a note create with the `aside` class.</span>\n",
    "\n",
    "Aquaculture is now the dominant form of aquatic animal food (herein ‘seafood’) production and is expected to be the primary way we meet future seafood demand. Freshwater systems will likely continue to provide the majority of farmed seafood but marine aquaculture is also poised to expand substantially in numerous areas. Farmed marine fish and invertebrates are produced near exclusively in coastal waters, and nearly three quarters of this production is dependent on human-made feeds. Nearshore locations and feed inputs are necessary to maintain profitable and productive farming operations but coastal aquaculture generates a number of challenges. In the crowded coastal zone, aquaculture operations can conflict with other stakeholder uses such as recreation, fishing, renewable energy, transport, and tourism. And while farming marine fish typically generates a far smaller nutrient footprint than livestock farming, the overt nature of aquaculture in nearshore regions and evidence of localised nutrient impacts around fish farms remains a primary public and scientific concern. Identifying strategies that reduce ecosystem impacts from fish farm waste therefore represents an important goal for improving marine aquaculture sustainability and maintaining the sector’s social licence to operate.\n",
    "\n",
    "Aquaculture feeds represent an important lever for reducing nutrient waste impacts around fish farms. Like all farmed animals, fish and invertebrates must digest the nutrients contained in feeds before they can be used for growth. Any nutrients left undigested are egested as solid waste, and dissolved wastes are excreted as metabolic waste products. Further, some feed inevitably remains uneaten and is lost to the surrounding ecosystem. Particulate organic matter (both feed and faeces) that settles can simplify benthic communities as the oxygen demand from its decomposition drives the production of sulphides that kill less mobile faunal, encouraging a lower diversity of opportunistic scavengers and the growth of bacterial mats (e.g., Beggiatoa spp). Thus, the chemical composition of the ingredients used in aquaculture feeds and their digestibility for the farmed species has significant implications for the nature and reactivity of the waste generate by marine aquaculture.\n",
    "\n",
    "Firstly the overall volume of nutrient waste is dictated by the nature and intensity of production, that is the farm size, the density of farmed animals and the feed requirements and efficiency of the species grown. SecondlDeposition of waste is heavily influenced by water depth and current speed at the farming site. Once\n",
    "\n",
    "As farmed fish and invertebrates are fed, whatever\n",
    "\n",
    "Nutand its impact on marine ecosystems is influenced by many factors. \\* Farm size \\* Depth \\* Current speed \\* Benthic impact - sediment type/faunal assemblages/wider marine community \\* High turnover environments - nitrogen enriched areas \\* Feed influences all of these things\n",
    "\n",
    "The primary source of organic waste from fed aquaculture production comes from the excretion and faeces of the farmed animals and through uneaten feed that dissolves in the water column or settles on the benthos. The nature and impact of this waste are influenced heavily by the composition of the feeds fed to farmed animals.\n",
    "\n",
    "## P2\n",
    "\n",
    "-   Waste from aquaculture farms and it’s impact is influenced by many things but the composition of feeds plays a central role.\n",
    "-   Waste from aquaculture farms has multiple sources.\n",
    "-   The primary source of organic waste comes from the faeces and excretion of the fish or invertebrates.\n",
    "-   Uneaten feed produced another key source.\n",
    "-   The nature and impact of this waste are influenced heavily by the composition of the feeds fed to farmed animals\n",
    "-   Many marine fish are naturally carnivorous so diets used to be high in fishmeal and oil but increasing fishmeal and oil prices along with concerns over the sustainability of marine ingredients have led to a reduction in their use across multiple farmed taxa\n",
    "-   In lieu of fishmeal and oil, many plant-based ingredients such as soy protein concentrate, canola oil, and wheat gluten have replaced them.\n",
    "-   Changes in feed composition influences the digestibility of the nutrients held in each feed and can alter the composition of waste.\n",
    "-   Of particular concern are changes (increases) to the presence of reactive nitrogen and phosphorus in coastal waters that could have an effect on eutrophication.\n",
    "\n",
    "## P3\n",
    "\n",
    "-   Whether or not nutrients lead to eutrophication depends on the sensitivity of the receiving environment\n",
    "-   Ecosystems that are already enriched through natural processes and whose biota is well adapted to substantial fluxes in available nutrients (e.g. upwelling zones, dynamic coastal communities) may be less sensitive while oligotrophic ecosystem are likely to see considerable changes under nutrient enrichment scenarios.\n",
    "-   To understand the impact of aquaculture waste under present day or future scenarios we need to quantify the volume, nature, and location of mariculture waste and determine the sensitivity of the receiving environments to that waste. Yet only recent estimates even give us the estimated location of marine farms let alone the volume of nature of the waste produced. To address this gap, we use existing maps of mariculture location with a bioenergtic model\n",
    "\n",
    "# Methods\n",
    "\n",
    "## Farm temperature forcings"
   ],
   "id": "e7966fb3-6869-41e2-95c2-3e9461a48710"
  },
  {
   "cell_type": "code",
   "execution_count": null,
   "metadata": {
    "fig-caption": "Colours show farm site mean temperature",
    "layout-align": "center"
   },
   "outputs": [
    {
     "output_type": "display_data",
     "metadata": {},
     "data": {}
    }
   ],
   "source": [
    "worldmap <- ne_countries(scale = \"medium\", returnclass = \"sf\")\n",
    "farms_to_omit <- here() %>% \n",
    "  file.path(\"data\", \"_general_data\", \"farm_locations\", \"atlantic_salmon_farms_to_omit.qs\") %>% \n",
    "  qread()\n",
    "\n",
    "farms_w_temp_df <- here() %>% \n",
    "  file.path(\"data\", \"_general_data\", \"farm_locations\", \"atlantic_salmon_locations_w_temps.qs\") %>% \n",
    "  qread() %>% \n",
    "  filter(!farm_id %in% farms_to_omit) %>% \n",
    "  mutate(country = as.factor(country),\n",
    "         species_group = as.factor(species_group),\n",
    "         data_type = as.factor(data_type),\n",
    "         data_type_2 = as.factor(data_type_2),\n",
    "         model_name = as.factor(model_name),\n",
    "         F_CODE = as.factor(F_CODE),\n",
    "         day = str_split_i(day, \"_\", 2) %>% as.integer())\n",
    "\n",
    "farm_temp_means <- farms_w_temp_df %>% \n",
    "  select(iso3c, country, farm_id, temp_c)\n",
    "farm_temp_means_1 <- farms_w_temp_df %>% \n",
    "  filter(day == 1) %>% \n",
    "  select(geometry)\n",
    "\n",
    "farm_temp_means <- farm_temp_means %>% \n",
    "  group_by(iso3c, country, farm_id) %>% \n",
    "  reframe(temp_c = meanna(temp_c))\n",
    "\n",
    "farm_temp_means <- cbind(farm_temp_means, farm_temp_means_1)\n",
    "\n",
    "ggplot(data = worldmap, aes(geometry = geometry)) +\n",
    "  geom_sf(fill = \"white\", color = \"dimgray\") +\n",
    "  geom_sf(data = farm_temp_means, aes(colour = temp_c), size = 1.5) +\n",
    "  coord_sf() +\n",
    "  theme_classic() "
   ],
   "id": "cell-fig-farm-mean-temps"
  },
  {
   "cell_type": "code",
   "execution_count": null,
   "metadata": {
    "layout-align": "center"
   },
   "outputs": [
    {
     "output_type": "display_data",
     "metadata": {},
     "data": {}
    }
   ],
   "source": [
    "farm_temp_means %>%\n",
    "  mutate(\n",
    "    coords = st_coordinates(geometry),\n",
    "    longitude = coords[,1],\n",
    "    latitude = coords[,2]\n",
    "  ) %>%\n",
    "  select(-coords) %>% \n",
    "  ggplot(aes(y = temp_c, x = abs(latitude), colour = country)) +\n",
    "  geom_point() +\n",
    "  labs(x = expression(\"Absolute latitude (\"*degree*\")\"), y = expression(\"Temperature (\"*degree*\"C)\")) +\n",
    "  theme_classic() +\n",
    "  theme(legend.position = \"bottom\", legend.title = element_blank())"
   ],
   "id": "cell-fig-farm_temp_means-2"
  },
  {
   "cell_type": "markdown",
   "metadata": {},
   "source": [
    "## Model and approach\n",
    "\n",
    "We adapted the methods of Baldan et al. ([2018](#ref-baldan_r_2018)) to create a bioenergetic model that simulates individual growth and farm-scale production for Atlantic salmon and the resultant nutrient waste in the form of excess labile nitrogen and phosphorus. The model simulates growth at an individual level, calculating the change in individual weight through time using:\n",
    "\n",
    "$$\n",
    "\\frac{dw}{dt} = \\frac{A-C}{\\epsilon}\n",
    "$$\n",
    "\n",
    "Where $w=$ is wet weight (t), $t=$ time (d), $A=$ anabolic rate (J t$^{-1}$), $C=$ the catabolic rate (J t$^{-1}$), $\\epsilon=$ energy density of body tissues (J t$^{-1}$). Individual models were then upscaled using monte-carlo simulations to simulate size structure in a population. Size differences were achieved through different initial starting weights and ingestion rates for different finfish species. All individuals have a fixed mortality rate to simulate stocking and harvesting.\n",
    "\n",
    "-   Farms with a mean temperature of $\\leq 6^\\circ$C were excluded."
   ],
   "id": "3f914982-5e4c-4608-b6a1-7e2511d864e2"
  },
  {
   "cell_type": "code",
   "execution_count": null,
   "metadata": {
    "layout-align": "center"
   },
   "outputs": [],
   "source": [
    "farms_to_omit <- here() %>% file.path(\"data/_general_data/farm_locations/atlantic_salmon_farms_to_omit.qs\") %>% \n",
    "  qread()"
   ],
   "id": "b1b4e305-b9f2-496c-8490-efa56b8d4486"
  },
  {
   "cell_type": "markdown",
   "metadata": {},
   "source": [
    "<span class=\"column-margin margin-aside\">Need to put the cohort concept (and harvest timing) in here.</span>"
   ],
   "id": "a6dc1ca6-95b8-412a-b684-e78be9036c4f"
  },
  {
   "cell_type": "code",
   "execution_count": null,
   "metadata": {
    "layout-align": "center"
   },
   "outputs": [
    {
     "output_type": "stream",
     "name": "stdout",
     "text": [
      "787.7115 [t]"
     ]
    },
    {
     "output_type": "stream",
     "name": "stdout",
     "text": [
      "101.4564 [t]"
     ]
    },
    {
     "output_type": "display_data",
     "metadata": {},
     "data": {}
    }
   ],
   "source": [
    "fnms <- coho_outputs %>% \n",
    "  list.files(full.names = T) %>% \n",
    "  str_subset(\"biomass\")\n",
    "\n",
    "df <- fnms[1] %>% read_parquet() %>% \n",
    "  filter(feed == \"reference\") %>% \n",
    "  mutate(mean = set_units(mean, \"g\") %>% set_units(\"t\"),\n",
    "         sd = set_units(sd, \"g\") %>% set_units(\"t\"))\n",
    "\n",
    "ggplot(df, aes(x = yday, y = mean, ymin = mean-sd, ymax = mean+sd, colour = as.factor(cohort))) +\n",
    "  geom_line(linewidth = 0.75) +\n",
    "  geom_ribbon(linetype = \"dotted\", alpha = 0) +\n",
    "  scale_x_continuous(breaks = seq(0, 2000, 200)) +\n",
    "  labs(y = \"Farm biomass\", x = \"Day of the year\") +\n",
    "  theme_classic() +\n",
    "  theme(legend.position = \"none\", aspect.ratio = 0.75)\n",
    "\n",
    "yrs <- max(df$yday)/365\n",
    "harvests <- df %>% \n",
    "  group_by(cohort) %>% \n",
    "  reframe(mean = maxna(mean),\n",
    "          sd = maxna(sd))\n",
    "\n",
    "sum(harvests$mean)/yrs"
   ],
   "id": "cell-fig-cohorts"
  },
  {
   "cell_type": "markdown",
   "metadata": {},
   "source": [
    "### Feeding rate"
   ],
   "id": "0818b438-9a2c-4623-8817-b7cb77fb8568"
  },
  {
   "cell_type": "code",
   "execution_count": null,
   "metadata": {
    "layout-align": "center"
   },
   "outputs": [
    {
     "output_type": "display_data",
     "metadata": {},
     "data": {}
    }
   ],
   "source": [
    "df <- data.frame(water_temp = seq(-5, 26, 0.25))\n",
    "df$feeding <- sapply(FUN = feeding_rate, X = df$water_temp, species_params = species_params)\n",
    "df <- df %>% \n",
    "mutate(ing_pot = pop_params['meanImax'] * (pop_params['meanW']^species_params['m']) * feeding,\n",
    "       food_prov = NA)\n",
    "for (i in 1:nrow(df)) {\n",
    "  df$food_prov[i] <- food_prov_rate(pop_params = pop_params, rel_feeding = df$feeding[i], ing_pot = df$ing_pot[i], \n",
    "                                    ing_pot_10 = pop_params['meanImax'] * (pop_params['meanW']^species_params['m']) * 0.1)\n",
    "}\n",
    "df$ing_pot <- df$ing_pot/maxna(df$ing_pot)\n",
    "df$food_prov <- df$food_prov/maxna(df$ing_pot)\n",
    "\n",
    "df %>% \n",
    "  ggplot(aes(x = water_temp, y = ing_pot)) +\n",
    "  geom_line(linewidth = 0.75) +\n",
    "  geom_line(aes(y = food_prov), linewidth = 0.75, linetype = \"dotted\") +\n",
    "  scale_y_continuous(breaks = seq(0,1.5,0.25)) +\n",
    "  scale_x_continuous(breaks = seq(-5,30,5), limits = c(-5,26)) +\n",
    "  labs(x = expression(\"Water temperature (\"*degree*\"C)\"), y = \"Relative food ingested/provided\") +\n",
    "  theme_classic() +\n",
    "  theme(text = element_text(colour = \"black\", family = \"serif\", size = 12))"
   ],
   "id": "cell-fig-functional-response-to-temperature"
  },
  {
   "cell_type": "markdown",
   "metadata": {},
   "source": [
    "## Parameterisation for Atlantic salmon"
   ],
   "id": "4ae62f8d-dba1-4e62-a331-2002dc99de27"
  },
  {
   "cell_type": "code",
   "execution_count": null,
   "metadata": {
    "layout-align": "center"
   },
   "outputs": [],
   "source": [
    "params <- c(pop_params, species_params)\n",
    "pnames <- names(params)\n",
    "sens_excr <- here() %>% file.path(\"data\", \"atlantic_salmon\", \"data_products\", \"excreted_parameter_sensitivity.parquet\") %>%\n",
    "  read_parquet() %>%\n",
    "  mutate(adj_param = factor(adj_param, levels = rev(adj_param)))"
   ],
   "id": "9cd281ab-98f2-46e3-ade0-2617ac8c8871"
  },
  {
   "cell_type": "markdown",
   "metadata": {},
   "source": [
    "Table <a href=\"#tbl-params\" class=\"quarto-xref\">Table 1</a> shows the parameter values used to model the growth of farmed Atlantic salmon.\n",
    "\n",
    "| Parameter | Value | Units | Description | Reference |\n",
    "|:--:|:--:|:--:|:---|:---|\n",
    "| $\\alpha$ | 0.04 | \\- | Feeding catabolism coefficient | *Salvelinus alpinus*, *Oncorhynchus mykiss* (temps: 8–13$^{\\circ}$C) ([Broekhuizen et al. 1994](#ref-broekhuizen_modelling_1994)) |\n",
    "| $\\epsilon_{P}$ | 2.36^{4} | J g protein$^{-1}$ | Energy content of protein | Baldan et al. ([2018](#ref-baldan_r_2018)) |\n",
    "| $\\epsilon_{L}$ | 3.62^{4} | J g lipid$^{-1}$ | Energy content of lipid | Baldan et al. ([2018](#ref-baldan_r_2018)) |\n",
    "| $\\epsilon_{C}$ | 1.72^{4} | J g carbohydrate$^{-1}$ | Energy content of carbohydrate | Baldan et al. ([2018](#ref-baldan_r_2018)) |\n",
    "| $\\epsilon_{O_2}$ | 1.34^{4} | J g O2$^{-1}$ | Energy consumed by the respiration of 1 g of oxygen | Elliott and Davison ([1975](#ref-elliott_energy_1975)) |\n",
    "| $pk$ | 0.05 | d$^{-1}$ | Temperature coefficient for the fasting catabolism | Macnaughton et al. ([2019](#ref-macnaughton_using_2019)) |\n",
    "| $k_0$ | 0.003 | \\- | Fasting catabolism at 0 $^{^\\circ}$C | Macnaughton et al. ([2019](#ref-macnaughton_using_2019)) |\n",
    "| $m$ | 0.75 | \\- | Weight exponent for anabolism | Experimentally-derived alue over a range of *Oncorhynchus*, *Perca* and *Salmo* species (temps: 8–13$^{\\circ}$C) ([Broekhuizen et al. 1994](#ref-broekhuizen_modelling_1994)) |\n",
    "| $n$ | 1 | \\- | Weight exponent for catabolism | Baldan et al. ([2018](#ref-baldan_r_2018)) |\n",
    "| $\\beta C$ | 0.3234 | \\- | Shape coefficient for the feeding function | Fish size range: 2.25 $\\pm$ 0.49 – 11.5 $\\pm$ 5.29 g, temperature ranges: 5–24$\\^{\\circ}$C. Coefficent for mean daily energy intake of the moderately fast growing group, 0.4398 (mean fast group), 0.2214 (mean slow group) ([B. Jonsson et al. 2001](#ref-jonsson_thermal_2001)) |\n",
    "| $T_{max}$ | 26 | $^{^\\circ}$C | Maximum lethal temperature | Juvenile *Oncorhynchus tshawytscha* (19.8 $\\pm$ 0.02 g, acclimation temp: 15$^{^\\circ}$C, 19${\\circ}$C) ([Poletto et al. 2017](#ref-poletto_unusual_2017)) |\n",
    "| $T_{opt}$ | 16 | $^{^\\circ}$C | Optimal temperature | Fish size range: 2.25 $\\pm$ 0.49 – 11.5 $\\pm$ 5.29 g, temperature ranges: 5–24$^{^\\circ}$C ([B. Jonsson et al. 2001](#ref-jonsson_thermal_2001)). Alt value: 14°C ([Handeland, Imsland, and Stefansson 2008](#ref-handeland_effect_2008)), *Salmo salar* initial size: 77.0 $\\pm$ 14.6 g, temps: 6, 10, 14, 18${\\circ}$C |\n",
    "| $T_{min}$ | 2 | $^{^\\circ}$C | Lowest feeding temperature | Fish essentially stop feeding when below 2$^{\\circ}$C ([Vadboncoeur et al. 2023](#ref-vadboncoeur_lowering_2023)) |\n",
    "| $\\omega$ | 0.6542 | g O2 / g | Oxygen consumption:weight loss ratio | Calibrated value from Baldan et al. ([2018](#ref-baldan_r_2018)) |\n",
    "| $a$ | 2669 | J g tissue$^{-1}$ | Energy content of fish tissue | Alt value: 17.02350 (nls model fitted to female Atlantic salmon data extracted and transformed from N. Jonsson and Jonsson ([2003](#ref-jonsson_energy_2003); [Van Tien et al. 2016](#ref-van_tien_development_2016)) |\n",
    "| $k$ | 0.1715 | \\- | Weight exponent for energy content | Alt value: 1.65175 (nls model fitted to female Atlantic salmon data extracted and transformed from N. Jonsson and Jonsson ([2003](#ref-jonsson_energy_2003); [Van Tien et al. 2016](#ref-van_tien_development_2016)) |\n",
    "| $eff$ | 0.97 | \\- | Food ingestion efficiency | Range: 95-97% ingestion efficiency ([Uglem et al. 2020](#ref-uglem_does_2020)) |\n",
    "| $\\overline{W}$ | 125 | g | Dry weight mean | Range of 100-150 given so used a mean of 125 and sd of 10 which over 1000 draws from a normal distribution delivers a minimum and maximum close to these numbers ([Dempsey et al. 2023](#ref-dempsey_estimating_2023)) |\n",
    "| $\\Delta{W}$ | 10 | g | Dry weight standard deviation | Range of 100-150 given so used a mean of 125 and sd of 10 which over 1000 draws from a normal distribution delivers a minimum and maximum close to these numbers ([Dempsey et al. 2023](#ref-dempsey_estimating_2023)) |\n",
    "| $\\overline{I_{max}}$ | 0.035 | g g$^{-1}$ fish day$^{-1}$ | Ingestion rate mean | [FAO](https://www.fao.org/fileadmin/user_upload/affris/docs/tabl10.pdf) |\n",
    "| $\\Delta{I_{max}}$ | 0.005 | g g$^{-1}$ fish day$^{-1}$ | Ingestion rate standard deviation | [FAO](https://www.fao.org/fileadmin/user_upload/affris/docs/tabl10.pdf) |\n",
    "| $mort$ | 5.99798^{-4} | d$^{-1}$ | Natural mortality rate | Tvete, Aldrin, and Jensen ([2023](#ref-tvete_towards_2023)) |\n",
    "\n",
    "Table 1: Growth parameters for Atlantic salmon\n",
    "\n",
    "Looking at <a href=\"#fig-param-sens-weight\" class=\"quarto-xref\">Figure 5</a>:\n",
    "\n",
    "-   The most sensitive parameter by far is $m$ the weight exponent for anabolism, followed closely by $n$ the weight exponent for catabolism\n",
    "-   These two are also relatively uncertain, as $m$ was taken from *Salmo trutta* measurements in a fairly old paper ([Broekhuizen et al. 1994](#ref-broekhuizen_modelling_1994)) and $n$ was taken from Baldan et al. ([2018](#ref-baldan_r_2018)) which did not specifically look at Atlantic salmon. There must be more up-to-date measurements for Atlantic salmon in particular."
   ],
   "id": "453921af-2fe9-4f53-b60d-6ec60f3f29e8"
  },
  {
   "cell_type": "code",
   "execution_count": null,
   "metadata": {
    "layout-align": "center"
   },
   "outputs": [
    {
     "output_type": "display_data",
     "metadata": {},
     "data": {}
    }
   ],
   "source": [
    "sens_excr %>% \n",
    "  ggplot(aes(x = adj_param, y = sens, ymin = sens-sd, ymax = sens+sd)) +\n",
    "  geom_col(colour = \"black\", fill = \"salmon\", alpha = 0.5) +\n",
    "  geom_errorbar(width = 0.3) +\n",
    "  geom_hline(aes(yintercept = 0), linetype = \"dashed\") +\n",
    "  scale_y_continuous(breaks = seq(-20,30,5)) +\n",
    "  labs(x = \"Adjusted parameter\", y = \"Sensitivity\") +\n",
    "  theme_classic() + theme(legend.position = \"none\", \n",
    "        strip.text = element_blank(), \n",
    "        aspect.ratio = 0.8,\n",
    "        text = element_text(size = 12)) +\n",
    "  coord_flip()"
   ],
   "id": "cell-fig-param-sens-weight"
  },
  {
   "cell_type": "markdown",
   "metadata": {},
   "source": [
    "## Population and biomass estimates\n",
    "\n",
    "New method is to take the average predicted individual harvest size for each farm, then working backwards with the standard mortality rate to generate a population for each farm that will produce the correct tonnage for each farm. <a href=\"#fig-harvest-size\" class=\"quarto-xref\">Figure 6</a> shows the average individual harvest size at each farm as predicted by the fish-growth model, which was used to create the population inputs for the farm-level growth curves."
   ],
   "id": "e0326895-dbed-4aeb-90c4-b68c4d285d6b"
  },
  {
   "cell_type": "code",
   "execution_count": null,
   "metadata": {
    "layout-align": "center"
   },
   "outputs": [
    {
     "output_type": "display_data",
     "metadata": {},
     "data": {}
    }
   ],
   "source": [
    "pdata <- here() %>% file.path(\"data\", \"atlantic_salmon\", \"data_products\", \"harvest_size.parquet\") %>% read_parquet()\n",
    "pdata %>% \n",
    "  mutate(weight = weight %>% set_units(\"g\") %>% set_units(\"kg\")) %>% \n",
    "  select(c(farm_ID, weight)) %>% \n",
    "  ggplot(aes(x = weight)) +\n",
    "  geom_histogram(binwidth = 0.25, colour = \"black\", fill = \"salmon\", alpha = 0.5) +\n",
    "  scale_y_continuous(limits = c(0,500)) +\n",
    "  labs(y = \"Frequency\", x = \"Harvest weight\") +\n",
    "  theme_classic() +\n",
    "  theme(legend.position = \"none\", aspect.ratio = 0.75)"
   ],
   "id": "cell-fig-harvest-size"
  },
  {
   "cell_type": "markdown",
   "metadata": {},
   "source": [
    "This means that the population estimates aren’t actual fish numbers, they’re just a method that allows each farm location to approximate of the correct tonnage produced while to allowing comparisons between the different feeds.\n",
    "\n",
    "## Species vulnerability layers\n",
    "\n",
    "# Results\n",
    "\n",
    "-   Main point is the difference between feeds.\n",
    "-   This should be expressed in t/t salmon, so farm biomass is also important.\n",
    "-   Also interesting to see if difference between feeds varies geographically (correlates with mean/median/max temperature?)\n",
    "\n",
    "# Biomass produced"
   ],
   "id": "3f279328-dc1f-4506-9322-463a7777372e"
  },
  {
   "cell_type": "code",
   "execution_count": null,
   "metadata": {
    "layout-align": "center"
   },
   "outputs": [],
   "source": [
    "fnms <- farm_outputs %>% \n",
    "  list.files(full.names = T) %>% \n",
    "  str_subset(\"biomass\")\n",
    "\n",
    "dfs <- list()\n",
    "for (fid in seq_along(fnms)) {\n",
    "  dfs[[fid]] <- fnms[fid] %>% \n",
    "    read_parquet() %>% \n",
    "    filter(days == max(days)) %>% \n",
    "    mutate(mean = mean %>% set_units(\"g\") %>% set_units(\"t\"),\n",
    "           sd = sd %>% set_units(\"g\") %>% set_units(\"t\"))\n",
    "}\n",
    "df <- bind_rows(dfs)\n",
    "df_mean <- df %>% \n",
    "  select(-c(days, sd)) %>% \n",
    "  pivot_wider(names_from = feed, values_from = mean) %>% \n",
    "  mutate(future_diff = (future - reference)/reference,\n",
    "         past_diff = (past - reference)/reference) %>% \n",
    "  select(-c(reference, past, future)) %>% \n",
    "  pivot_longer(names_to = \"feed\", values_to = \"mean\", cols = c(future_diff, past_diff))\n",
    "df_sd <- df %>% \n",
    "  select(-c(days, mean)) %>% \n",
    "  pivot_wider(names_from = feed, values_from = sd) %>% \n",
    "  mutate(future_diff = (future - reference)/reference,\n",
    "         past_diff = (past - reference)/reference) %>% \n",
    "  select(-c(reference, past, future)) %>% \n",
    "  pivot_longer(names_to = \"feed\", values_to = \"sd\", cols = c(future_diff, past_diff))\n",
    "df <- merge(df_mean, df_sd, by = c(\"farm_ID\", \"feed\"))"
   ],
   "id": "089a84ac-8c6f-45ab-a57b-21bffa218a62"
  },
  {
   "cell_type": "markdown",
   "metadata": {},
   "source": [
    "# Locations\n",
    "\n",
    "# Statistical analysis & code availability\n",
    "\n",
    "All analysis was conducted in R version 4.2 “Pile of Leaves” ([R Core Team 2019](#ref-R_base)). For a full list of R packages used see the lockfile on [Github](https://www.github.com). This manuscript was written in Quarto ([Allaire et al. 2024](#ref-quarto)) using TinyTex ([Xie 2017](#ref-tinytex)) and the acronyms extension ([Chaput 2024](#ref-acronyms)).\n",
    "\n",
    "# References\n",
    "\n",
    "Allaire, J. J., Charles Teague, Carlos Scheidegger, Yihui Xie, and Christophe Dervieux. 2024. ‘Quarto’. <https://doi.org/10.5281/zenodo.5960048>.\n",
    "\n",
    "Baldan, Damiano, Erika Maria Diletta Porporato, Roberto Pastres, and Daniele Brigolin. 2018. ‘An R Package for Simulating Growth and Organic Wastage in Aquaculture Farms in Response to Environmental Conditions and Husbandry Practices’. *PLOS ONE* 13 (5): e0195732. <https://doi.org/10.1371/journal.pone.0195732>.\n",
    "\n",
    "Broekhuizen, N., W. S. C. Gurney, A. Jones, and A. D. Bryant. 1994. ‘Modelling Compensatory Growth’. *Functional Ecology* 8 (6): 770–82. <https://doi.org/10.2307/2390237>.\n",
    "\n",
    "Chaput, Remy. 2024. ‘<span class=\"nocase\">acronyms</span>’. <https://github.com/rchaput/acronyms>.\n",
    "\n",
    "Dempsey, Danielle P., Gregor K. Reid, Leah Lewis-McCrea, Toby Balch, Roland Cusack, André Dumas, and Jack Rensel. 2023. ‘Estimating Stocking Weights for Atlantic Salmon to Grow to Market Size at Novel Aquaculture Sites with Extreme Temperatures’. *Frontiers in Marine Science* 10 (May). <https://doi.org/10.3389/fmars.2023.1094247>.\n",
    "\n",
    "Elliott, J. M., and W. Davison. 1975. ‘Energy Equivalents of Oxygen Consumption in Animal Energetics’. *Oecologia* 19 (3): 195–201. <https://doi.org/10.1007/BF00345305>.\n",
    "\n",
    "Handeland, Sigurd O., Albert K. Imsland, and Sigurd O. Stefansson. 2008. ‘The Effect of Temperature and Fish Size on Growth, Feed Intake, Food Conversion Efficiency and Stomach Evacuation Rate of Atlantic Salmon Post-Smolts’. *Aquaculture* 283 (1): 36–42. <https://doi.org/10.1016/j.aquaculture.2008.06.042>.\n",
    "\n",
    "Jonsson, B., T. Forseth, A. J. Jensen, and T. F. Næsje. 2001. ‘Thermal Performance of Juvenile Atlantic Salmon, Salmo Salar L.’ *Functional Ecology* 15 (6): 701–11. <https://doi.org/10.1046/j.0269-8463.2001.00572.x>.\n",
    "\n",
    "Jonsson, Nina, and Bror Jonsson. 2003. ‘Energy Allocation Among Developmental Stages, Age Groups, and Types of Atlantic Salmon (Salmo Salar) Spawners’. *Canadian Journal of Fisheries and Aquatic Sciences* 60 (5): 506–16. <https://doi.org/10.1139/f03-042>.\n",
    "\n",
    "Macnaughton, Camille J., David Deslauriers, Erinn L. Ipsen, Emily Corey, and Eva C. Enders. 2019. ‘Using Meta-Analysis to Derive a Respiration Model for Atlantic Salmon (Salmo Salar) to Assess Bioenergetics Requirements of Juveniles in Two Canadian Rivers’. *Canadian Journal of Fisheries and Aquatic Sciences* 76 (12): 2225–34. <https://doi.org/10.1139/cjfas-2018-0436>.\n",
    "\n",
    "Poletto, Jamilynn B., Dennis E. Cocherell, Sarah E. Baird, Trinh X. Nguyen, Valentina Cabrera-Stagno, Anthony P. Farrell, and Nann A. Fangue. 2017. ‘Unusual Aerobic Performance at High Temperatures in Juvenile Chinook Salmon, Oncorhynchus Tshawytscha’. *Conservation Physiology* 5 (1): cow067. <https://doi.org/10.1093/conphys/cow067>.\n",
    "\n",
    "R Core Team. 2019. *R: A Language and Environment for Statistical Computing*. Vienna, Austria: R Foundation for Statistical Computing. <https://www.R-project.org>.\n",
    "\n",
    "Tvete, Ingunn Fride, Magne Aldrin, and Britt Bang Jensen. 2023. ‘Towards Better Survival: Modeling Drivers for Daily Mortality in Norwegian Atlantic Salmon Farming’. *Preventive Veterinary Medicine* 210 (January): 105798. <https://doi.org/10.1016/j.prevetmed.2022.105798>.\n",
    "\n",
    "Uglem, Ingebrigt, Kilian Toledo-Guedes, Pablo Sanchez-Jerez, Eva Marita Ulvan, Tor Evensen, and Bjørn Steinar Sæther. 2020. ‘Does Waste Feed from Salmon Farming Affect the Quality of Saithe (Pollachius Virens L.) Attracted to Fish Farms?’ *Aquaculture Research* 51 (4): 1720–30. <https://doi.org/10.1111/are.14519>.\n",
    "\n",
    "Vadboncoeur, Émile, Charlotte Nelson, Jennifer R. Hall, Kathy A. Clow, Rebeccah M. Sandrelli, Colin J. Brauner, Andrew K. Swanson, and A. Kurt Gamperl. 2023. ‘Lowering Temperature to 1 °C Results in Physiological Changes, Stress and Mortality in Cultured Atlantic Salmon (*Salmo Salar*)’. *Aquaculture* 568 (April): 739313. <https://doi.org/10.1016/j.aquaculture.2023.739313>.\n",
    "\n",
    "Van Tien, Nguyen, Dam Thi My Chinh, Tran Thi Mai Huong, Truong Ha Phuong, Simon Irvin, and Brett Glencross. 2016. ‘Development of a Nutritional Model to Define the Energy and Protein Requirements of Cobia, *Rachycentron Canadum*’. *Aquaculture* 463 (October): 193–200. <https://doi.org/10.1016/j.aquaculture.2016.05.037>.\n",
    "\n",
    "Xie, Yihui. 2017. ‘Tinytex: Helper Functions to Install and Maintain TeX Live, and Compile LaTeX Documents’. <https://cran.r-project.org/web/packages/tinytex>."
   ],
   "id": "bd3cd535-3ad6-4458-b92f-7dfab7b4333d"
  }
 ],
 "nbformat": 4,
 "nbformat_minor": 5,
 "metadata": {}
}
