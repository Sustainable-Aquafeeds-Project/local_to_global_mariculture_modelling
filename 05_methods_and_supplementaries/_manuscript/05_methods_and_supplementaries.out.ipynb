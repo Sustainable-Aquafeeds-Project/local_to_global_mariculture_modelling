{
 "cells": [
  {
   "cell_type": "markdown",
   "metadata": {},
   "source": [
    "# Model inner workings - for methods and supplementary sections\n",
    "\n",
    "Tormey Reimer  \n",
    "2 April 2025\n",
    "\n",
    "# Introduction"
   ],
   "id": "1449e01c-e872-49f7-8502-f9449134e288"
  },
  {
   "cell_type": "code",
   "execution_count": null,
   "metadata": {
    "layout-align": "center"
   },
   "outputs": [],
   "source": [
    "packs <- unique(c('magrittr', 'dplyr', 'tidyr', 'stringr', 'ggplot2', 'here', 'ggpubr', 'patchwork', 'qs', 'arrow', 'targets', 'sf', 'terra', 'rnaturalearth', 'rnaturalearthdata', 'dtplyr', 'furrr', 'RColorBrewer', 'conflicted'))\n",
    "pacman::p_load(char = packs)\n",
    "\n",
    "conflicts_prefer(dplyr::select(), dplyr::filter(), .quiet = T)\n",
    "\n",
    "source(here(\"src/spatial_templates.R\"))\n",
    "source(here(\"src/model_functions.R\"))\n",
    "\n",
    "# Sys.setenv(TAR_PROJECT = \"project_main\")\n",
    "base_path <- file.path(\"C:\", \"Users\", \"treimer\", \"Documents\", \"R-temp-files\", \"local_to_global_mariculture_modelling\")\n",
    "targets_store <- file.path(base_path, \"targets\", \"_targets_individual\")\n",
    "farm_IDs <- tar_read(farm_IDs, store = targets_store)\n",
    "b1 <- sample(length(farm_IDs), 100, replace = F)\n",
    "b2 <- b1 + length(farm_IDs)\n",
    "b3 <- b2 + length(farm_IDs)\n",
    "b <- c(b1, b2, b3)"
   ],
   "id": "58f57127-6fb1-47d8-8856-a5c4b4e04c1a"
  },
  {
   "cell_type": "markdown",
   "metadata": {},
   "source": [
    "# Temporary questions to answer:\n",
    "\n",
    "-   Do the fish reach harvest size within a reasonable amount of time?\n",
    "    -   If not, are they growing for the correct amount of time, starting at the correct weight?\n",
    "-   Is their FCE/FCR reasonably close to experimental data?\n",
    "-   Is their SGR reasonably close to experimental data?\n",
    "\n",
    "# Model approach\n",
    "\n",
    "We adapted the methods of Baldan et al. ([2018](#ref-baldan_r_2018)) to create a bioenergetic model that simulates individual growth and farm-scale production for Atlantic salmon and the resultant nutrient waste in the form of excess labile nitrogen and phosphorus. The model simulates growth at an individual level, calculating the change in individual weight through time using:\n",
    "\n",
    "$$\n",
    "\\frac{dw}{dt} = \\frac{A-C}{\\epsilon}\n",
    "$$\n",
    "\n",
    "Where $w=$ is wet weight (t), $t=$ time (d), $A=$ anabolic rate (J t$^{-1}$), $C=$ the catabolic rate (J t$^{-1}$), $\\epsilon=$ energy density of body tissues (J t$^{-1}$).\n",
    "\n",
    "Individual models were then upscaled using monte-carlo simulations to simulate size structure in a population. Size differences were achieved through different initial starting weights and ingestion rates for different finfish species. All individuals have a fixed mortality rate to simulate stocking and harvesting.\n",
    "\n",
    "-   Parameterised for atlantic salmon\n",
    "-   Farms with mean temperature \\< 8.5$^\\circ$ were excluded\n",
    "\n",
    "# Water temp"
   ],
   "id": "560b340c-1df7-4f79-b4f1-1fd820bc76c4"
  },
  {
   "cell_type": "code",
   "execution_count": null,
   "metadata": {
    "layout-align": "center"
   },
   "outputs": [],
   "source": [
    "# This is the full idealised year (2 years?) of temperature data\n",
    "sst <- file.path(base_path, \"data\", \"_general_data\", \"SST\", \"farm_SST_extracted.parquet\") %>% read_parquet()\n",
    "\n",
    "# This is the actual temperature curve for the farming period\n",
    "farm_temp <- tar_read(example_individual, store = targets_store, branches = b1)"
   ],
   "id": "630f5a88-1fb1-4f99-bfa5-88ad49665523"
  },
  {
   "cell_type": "markdown",
   "metadata": {},
   "source": [
    "Originally, all salmon were transferred to grow-out cages (model began) on January 1st. This isn’t particularly realistic. Now, all farms begin the modelling period in spring (1st of May in the northern hemisphere, 1st of October in the southern hemisphere)."
   ],
   "id": "dd07d349-942b-4a2a-85b8-0a28b0bb71de"
  },
  {
   "cell_type": "code",
   "execution_count": null,
   "metadata": {
    "layout-align": "center"
   },
   "outputs": [
    {
     "output_type": "display_data",
     "metadata": {},
     "data": {}
    }
   ],
   "source": [
    "farm_temp %>% \n",
    "  ggplot(aes(x = prod_days, y = water_temp, colour = as.factor(farm_ID))) +\n",
    "  geom_line(linewidth = 0.75) +\n",
    "  theme_classic() +\n",
    "  theme(legend.position = \"none\") +\n",
    "  scale_x_continuous(breaks = seq(0, 550, 50)) +\n",
    "  labs(x = \"Day of production cycle\", y = expression(\"Water temperature (\"*degree*\"C)\"))"
   ],
   "id": "cell-fig-water-temp"
  },
  {
   "cell_type": "markdown",
   "metadata": {},
   "source": [
    "# Weight"
   ],
   "id": "72bf5ade-f9f9-4306-b4fa-ffc16d60ccea"
  },
  {
   "cell_type": "code",
   "execution_count": null,
   "metadata": {
    "layout-align": "center"
   },
   "outputs": [],
   "source": [
    "species_params <- tar_read(species_params, store = targets_store)\n",
    "pop_params <- tar_read(pop_params, store = targets_store)\n",
    "weight <- tar_read(example_individual, store = targets_store, branches = b) %>% select(farm_ID, weight, days, prod_days, feed)\n",
    "SGR <- tar_read(example_individual, store = targets_store, branches = b) %>% select(farm_ID, SGR, days, prod_days, feed)\n",
    "FCR <- tar_read(example_individual, store = targets_store, branches = b) %>% select(farm_ID, FCR, days, prod_days, feed)\n",
    "\n",
    "weight_smolt <- weight %>% \n",
    "  filter(prod_days == 152 & feed == \"reference\") %>% \n",
    "  group_by(feed) %>% \n",
    "  reframe(final_weight = mean(weight))\n",
    "weight_ocean <- weight %>% \n",
    "  filter(prod_days == max(prod_days) & feed == \"reference\") %>% \n",
    "  group_by(feed) %>% \n",
    "  reframe(final_weight = mean(weight),\n",
    "          final_wt_sd = sd(weight))"
   ],
   "id": "194f2f71-d177-4e50-b6e0-9009e9efd501"
  },
  {
   "cell_type": "markdown",
   "metadata": {},
   "source": [
    "<a href=\"#fig-ref-weight\" class=\"quarto-xref\">Figure 2</a> shows the change in weight for 100 individuals grown at different farms. Within the first 5 months (post-smolt period) the fish grow from 125g to 490g, or approximately 3.9$\\times$ their starting weight. By the end of the production cycle (730 days) the fish have grown to a mean of 1535 g with a SD of 268.3 g. <!-- This is not quite what's needed - I'm expecting individual weights to at least approximate the mean commercial weight of 5kg. -->"
   ],
   "id": "d2650925-c0b1-445e-b9bc-0a47becbc26f"
  },
  {
   "cell_type": "code",
   "execution_count": null,
   "metadata": {
    "layout-align": "center"
   },
   "outputs": [
    {
     "output_type": "display_data",
     "metadata": {},
     "data": {}
    }
   ],
   "source": [
    "weight %>% \n",
    "  mutate(feed == \"reference\") %>% \n",
    "  ggplot(aes(x = prod_days, y = weight, colour = as.factor(farm_ID))) +\n",
    "  geom_line(linewidth = 0.75) +\n",
    "  scale_y_continuous(breaks = seq(0, 7500, 500)) +\n",
    "  theme_classic() +\n",
    "  theme(legend.position = \"none\") +\n",
    "  scale_x_continuous(breaks = seq(0, 550, 150)) +\n",
    "  labs(x = \"Day of production cycle\", y = \"Individual weight (g)\")"
   ],
   "id": "cell-fig-ref-weight"
  },
  {
   "cell_type": "code",
   "execution_count": null,
   "metadata": {
    "layout-align": "center"
   },
   "outputs": [
    {
     "output_type": "stream",
     "name": "stderr",
     "text": [
      "Warning: Removed 300 rows containing missing values or values outside the scale range\n",
      "(`geom_line()`)."
     ]
    },
    {
     "output_type": "display_data",
     "metadata": {},
     "data": {}
    }
   ],
   "source": [
    "SGR %>% \n",
    "  mutate(feed == \"reference\") %>% \n",
    "  ggplot(aes(x = prod_days, y = SGR, colour = as.factor(farm_ID))) +\n",
    "  geom_line(linewidth = 0.75) +\n",
    "  scale_y_continuous(breaks = seq(0, 2.5, 0.25)) +\n",
    "  theme_classic() +\n",
    "  theme(legend.position = \"none\") +\n",
    "  scale_x_continuous(breaks = seq(0, 550, 50)) +\n",
    "  labs(x = \"Day of production cycle\", y = expression(\"SGR\"))"
   ],
   "id": "cell-fig-ref-SGR"
  },
  {
   "cell_type": "code",
   "execution_count": null,
   "metadata": {
    "layout-align": "center"
   },
   "outputs": [
    {
     "output_type": "display_data",
     "metadata": {},
     "data": {}
    }
   ],
   "source": [
    "FCR %>% \n",
    "  mutate(feed == \"reference\") %>% \n",
    "  filter(FCR < 50 & FCR > -50) %>% \n",
    "  group_by(prod_days) %>% \n",
    "  reframe(sd = sd(FCR),\n",
    "          FCR = mean(FCR)) %>% \n",
    "  ggplot(aes(x = prod_days, y = FCR, ymin = FCR-sd, ymax = FCR+sd)) +\n",
    "  geom_line(linewidth = 0.75) +\n",
    "  geom_ribbon(alpha = 0.25) +\n",
    "  theme_classic() +\n",
    "  theme(legend.position = \"none\") +\n",
    "  scale_x_continuous(breaks = seq(0, 550, 50)) +\n",
    "  labs(x = \"Day of production cycle\", y = expression(\"FCR\"))"
   ],
   "id": "cell-fig-ref-FCR"
  },
  {
   "cell_type": "markdown",
   "metadata": {},
   "source": [
    "# General fish functions\n",
    "\n",
    "<a href=\"#fig-functional-response-to-temperature\" class=\"quarto-xref\">Figure 5</a> shows the metabolic response of all salmon to temperature (affecting their relative metabolism), and <a href=\"#fig-feeding-rate-with-temperature\" class=\"quarto-xref\">Figure 6</a> shows how the salmons’ feeding rate changes with temperature."
   ],
   "id": "9e384b2c-57e5-4b6e-a72f-18e2f577bfb0"
  },
  {
   "cell_type": "code",
   "execution_count": null,
   "metadata": {
    "layout-align": "center"
   },
   "outputs": [
    {
     "output_type": "display_data",
     "metadata": {},
     "data": {}
    }
   ],
   "source": [
    "df <- data.frame(water_temp = seq(-5, 30, 0.25))\n",
    "df$resp <- exp(species_params['pk']*df$water_temp)\n",
    "\n",
    "df %>% \n",
    "  ggplot(aes(x = water_temp, y = resp)) +\n",
    "  geom_line(linewidth = 0.75) +\n",
    "  scale_y_continuous(breaks = seq(0,5,0.5)) +\n",
    "  scale_x_continuous(breaks = seq(-10,35,5)) +\n",
    "  labs(x = expression(\"Water temperature (\"*degree*\"C)\"), y = \"Temperature response\") +\n",
    "  theme_classic() +\n",
    "  theme(text = element_text(colour = \"black\", family = \"serif\", size = 12))"
   ],
   "id": "cell-fig-functional-response-to-temperature"
  },
  {
   "cell_type": "markdown",
   "metadata": {},
   "source": [
    "$$\n",
    "cat = \\epsilon_{O_2} \\times k_0 \\times T_{resp} \\times W^n \\times \\omega\n",
    "$$\n",
    "\n",
    "Relative feeding rate is temperature-dependent and calculated via:\n",
    "\n",
    "$$\n",
    "FR_{rel} = e^{b(T_w-T_{opt})} \\times \\bigg[\\frac{T_{max}-T_w}{T_{max}-T_{opt}}\\bigg]^{b(T_{max}-T_{opt})}\n",
    "$$\n",
    "\n",
    "where $T_{opt}$ is the optimum feeding temperature, $T_{max}$ is the maximum feeding temperature (lethal temperature), $T_w$ is the current water temperature, and $b$ is a species-specific shape coefficient."
   ],
   "id": "08e08f55-b854-4ec2-9c46-2a9b9a107a41"
  },
  {
   "cell_type": "code",
   "execution_count": null,
   "metadata": {
    "layout-align": "center"
   },
   "outputs": [
    {
     "output_type": "stream",
     "name": "stderr",
     "text": [
      "Warning: Removed 16 rows containing missing values or values outside the scale range\n",
      "(`geom_line()`)."
     ]
    },
    {
     "output_type": "display_data",
     "metadata": {},
     "data": {}
    }
   ],
   "source": [
    "df <- data.frame(water_temp = seq(-5, 30, 0.25))\n",
    "df$feeding <- sapply(FUN = feeding_rate, X = df$water_temp, species_params = species_params)\n",
    "\n",
    "df %>% \n",
    "  ggplot(aes(x = water_temp, y = feeding)) +\n",
    "  geom_line(linewidth = 0.75) +\n",
    "  geom_vline(aes(xintercept = species_params[\"Toa\"]), linetype = \"dashed\") +\n",
    "  geom_vline(aes(xintercept = species_params[\"Taa\"]), linetype = \"dotted\") +\n",
    "  geom_vline(aes(xintercept = species_params[\"Tma\"]), linetype = \"dotted\") +\n",
    "  scale_y_continuous(breaks = seq(0,1,0.1)) +\n",
    "  labs(x = expression(\"Water temperature (\"*degree*\"C)\"), y = \"Relative feeding rate\") +\n",
    "  theme_classic() +\n",
    "  theme(text = element_text(colour = \"black\", family = \"serif\", size = 12))"
   ],
   "id": "cell-fig-feeding-rate-with-temperature"
  },
  {
   "cell_type": "markdown",
   "metadata": {},
   "source": [
    "# Feed data"
   ],
   "id": "f559d2ef-b08b-4f4b-8fdb-8d976062f44c"
  },
  {
   "cell_type": "code",
   "execution_count": null,
   "metadata": {
    "layout-align": "center"
   },
   "outputs": [],
   "source": [
    "feed_params_protein <- tar_read(feed_params_protein, store = targets_store)\n",
    "feed_params_carbs <- tar_read(feed_params_carbs, store = targets_store)\n",
    "feed_params_lipids <- tar_read(feed_params_lipids, store = targets_store)"
   ],
   "id": "3eee4ee3-4ddc-418d-af6b-4ff448ce3ea6"
  },
  {
   "cell_type": "markdown",
   "metadata": {},
   "source": [
    "Incorporated the individual digestibility of each ingredient and switched to tracking ingredients separately instead of feed – this unfortunately makes the model run slower but I think it will be worth it once the digestibility coefficients from the experiments are incorporated."
   ],
   "id": "84933653-d0f3-45cb-9707-1c9939022071"
  },
  {
   "cell_type": "code",
   "execution_count": null,
   "metadata": {
    "layout-align": "center"
   },
   "outputs": [],
   "source": [
    "ref_feed <- list(\n",
    "    feed_params_protein[[1]] %>% \n",
    "      mutate(feed = \"reference\", type = \"protein\") %>% group_by(feed, type) %>% \n",
    "      reframe(proportion = sum(proportion),\n",
    "              macro = sum(macro),\n",
    "              digest = sum(digest)),\n",
    "  feed_params_carbs[[1]] %>% \n",
    "      mutate(feed = \"reference\", type = \"carb\") %>% group_by(feed, type) %>% \n",
    "      reframe(proportion = sum(proportion),\n",
    "              macro = sum(macro),\n",
    "              digest = sum(digest)),\n",
    "  feed_params_lipids[[1]] %>% \n",
    "      mutate(feed = \"reference\", type = \"lipid\") %>% group_by(feed, type) %>% \n",
    "      reframe(proportion = sum(proportion),\n",
    "              macro = sum(macro),\n",
    "              digest = sum(digest))\n",
    ") %>% bind_rows()\n",
    "past_feed <- list(\n",
    "    feed_params_protein[[2]] %>% \n",
    "      mutate(feed = \"past\", type = \"protein\") %>% group_by(feed, type) %>% \n",
    "      reframe(proportion = sum(proportion),\n",
    "              macro = sum(macro),\n",
    "              digest = sum(digest)),\n",
    "  feed_params_carbs[[2]] %>% \n",
    "      mutate(feed = \"past\", type = \"carb\") %>% group_by(feed, type) %>% \n",
    "      reframe(proportion = sum(proportion),\n",
    "              macro = sum(macro),\n",
    "              digest = sum(digest)),\n",
    "  feed_params_lipids[[2]] %>% \n",
    "      mutate(feed = \"past\", type = \"lipid\") %>% group_by(feed, type) %>% \n",
    "      reframe(proportion = sum(proportion),\n",
    "              macro = sum(macro),\n",
    "              digest = sum(digest))\n",
    ") %>% bind_rows()\n",
    "fut_feed <- list(\n",
    "    feed_params_protein[[3]] %>% \n",
    "      mutate(feed = \"future\", type = \"protein\") %>% group_by(feed, type) %>% \n",
    "      reframe(proportion = sum(proportion),\n",
    "              macro = sum(macro),\n",
    "              digest = sum(digest)),\n",
    "  feed_params_carbs[[3]] %>% \n",
    "      mutate(feed = \"future\", type = \"carb\") %>% group_by(feed, type) %>% \n",
    "      reframe(proportion = sum(proportion),\n",
    "              macro = sum(macro),\n",
    "              digest = sum(digest)),\n",
    "  feed_params_lipids[[3]] %>% \n",
    "      mutate(feed = \"future\", type = \"lipid\") %>% group_by(feed, type) %>% \n",
    "      reframe(proportion = sum(proportion),\n",
    "              macro = sum(macro),\n",
    "              digest = sum(digest))\n",
    ") %>% bind_rows()\n",
    "\n",
    "feeds <- rbind(ref_feed, past_feed, fut_feed)"
   ],
   "id": "a46a569e-c4a7-4499-892c-c1f7364f2f58"
  },
  {
   "cell_type": "markdown",
   "metadata": {},
   "source": [
    "# Individual runs\n",
    "\n",
    "I set up some “example fish” to speed up future model adjustments – basically fish that are the average of their whole farm, easier than running 5000 fish per farm while I’m making changes.\n",
    "\n",
    "## Food provided vs food eaten"
   ],
   "id": "4e7bf679-edc5-453e-97d9-d764db4f1611"
  },
  {
   "cell_type": "code",
   "execution_count": null,
   "metadata": {
    "layout-align": "center"
   },
   "outputs": [],
   "source": [
    "#c(b1, b2, b3))\n",
    "ing_pot <- tar_read(example_individual, store = targets_store, branches = b1) %>% select(farm_ID, ing_pot, days, prod_days, feed)\n",
    "ing_act <- tar_read(example_individual, store = targets_store, branches = b1) %>% select(farm_ID, ing_act, days, prod_days, feed)\n",
    "food_prov <- tar_read(example_individual, store = targets_store, branches = b1) %>% select(farm_ID, food_prov, days, prod_days, feed)"
   ],
   "id": "ee077b77-79a7-46ad-b73c-e69ae1eec768"
  },
  {
   "cell_type": "markdown",
   "metadata": {},
   "source": [
    "Within the model, salmon have a maximum ingestion potential (based on their weight and individualised feeding rate). The actual food ingested is 97% of their ingestion potential (food encounter efficiency) or the total food provided, whichever is less. <a href=\"#fig-food-prov-theoretical\" class=\"quarto-xref\">Figure 7</a> shows an example of how food provided scales with potential individual ingestion."
   ],
   "id": "7fa76837-02d1-4034-8101-0176f8fbd385"
  },
  {
   "cell_type": "code",
   "execution_count": null,
   "metadata": {
    "layout-align": "center"
   },
   "outputs": [
    {
     "output_type": "display_data",
     "metadata": {},
     "data": {}
    }
   ],
   "source": [
    "df <- data.frame(rel_feeding = seq(0,1,0.01)) %>% \n",
    "mutate(ing_pot = pop_params['meanImax'] * (pop_params['meanW']^species_params['m']) * rel_feeding,\n",
    "       food_prov = NA)\n",
    "for (i in 1:nrow(df)) {\n",
    "  df$food_prov[i] <- food_prov_rate(rel_feeding = df$rel_feeding[i], ing_pot = df$ing_pot[i], \n",
    "                                    ing_pot_10 = pop_params['meanImax'] * (pop_params['meanW']^species_params['m']) * 0.1)\n",
    "}\n",
    "lin <- seq(0,max(df$ing_pot),length.out=101)\n",
    "\n",
    "df %>% \n",
    "  ggplot(aes(x = ing_pot, y = food_prov)) +\n",
    "  geom_line(linewidth = 0.75) +\n",
    "  geom_line(aes(x = lin, y = lin), linetype = \"dashed\") +\n",
    "  theme_classic() +\n",
    "  scale_x_continuous(breaks = seq(0,1.5, 0.25), limits = c(0,max(df$food_prov))) +\n",
    "  scale_y_continuous(breaks = seq(0,1.5, 0.25)) +\n",
    "  labs(x = \"Potential ingestion (g)\", y = \"Food provided (g)\")"
   ],
   "id": "cell-fig-food-prov-theoretical"
  },
  {
   "cell_type": "code",
   "execution_count": null,
   "metadata": {
    "layout-align": "center"
   },
   "outputs": [],
   "source": [
    "prov <- merge(ing_pot, ing_act, by = c(\"farm_ID\", \"feed\", \"days\", \"prod_days\")) %>% \n",
    "  merge(food_prov, by = c(\"farm_ID\", \"feed\", \"days\", \"prod_days\")) %>% \n",
    "  mutate(uneaten = food_prov - ing_act,\n",
    "         uneaten_perc = uneaten/food_prov) %>% \n",
    "  select(-c(food_prov, ing_act))\n",
    "\n",
    "# Therefore, uneaten feed can be quite high (up to \\~30%) when relative feeding is $\\leq$10%. But generally, the median amount of uneaten food is `r round(100*median(prov$uneaten_perc), 1)`% (@fig-uneaten-feed)."
   ],
   "id": "f93792c1-c1bc-432b-b283-e9b5b9c3d861"
  },
  {
   "cell_type": "code",
   "execution_count": null,
   "metadata": {
    "layout-align": "center"
   },
   "outputs": [
    {
     "output_type": "display_data",
     "metadata": {},
     "data": {}
    }
   ],
   "source": [
    "prov %>% \n",
    "  ggplot(aes(x = ing_pot, y = 100*uneaten_perc, colour = feed)) +\n",
    "  geom_point() +\n",
    "  theme_classic() +\n",
    "  scale_colour_brewer(palette = \"Set1\") +\n",
    "  theme_classic() +\n",
    "  labs(x = \"Potential feed ingestion (g)\", y = \"Uneaten food (% of provided)\")"
   ],
   "id": "cell-fig-uneaten-feed"
  },
  {
   "cell_type": "markdown",
   "metadata": {},
   "source": [
    "# Parameters for Atlantic salmon"
   ],
   "id": "01064c24-e132-45f7-8767-98135134ebb8"
  },
  {
   "cell_type": "code",
   "execution_count": null,
   "metadata": {
    "layout-align": "center"
   },
   "outputs": [],
   "source": [
    "params <- tar_read(sens_all_params, store = targets_store)\n",
    "pnames <- names(params)"
   ],
   "id": "3e396759-c41e-4149-949d-f496135e463f"
  },
  {
   "cell_type": "markdown",
   "metadata": {},
   "source": [
    "| Parameter | Value | Units | Description | Reference | Comment |\n",
    "|:--:|:--:|:--:|----|----|----|\n",
    "| $\\alpha$ | 0.04 | \\- | Feeding catabolism coefficient | Broekhuizen et al. ([1994](#ref-broekhuizen_modelling_1994)) | *Salvelinus alpinus*, *Oncorhynchus mykiss* (temps: 8–13$^{\\circ}$C) |\n",
    "| $\\epsilon_{P}$ | 2.36^{4} | J g protein-1 | Energy content of protein | Baldan et al. ([2018](#ref-baldan_r_2018)) |  |\n",
    "| $\\epsilon_{L}$ | 3.62^{4} | J g lipid-1 | Energy content of lipid | Baldan et al. ([2018](#ref-baldan_r_2018)) |  |\n",
    "| $\\epsilon_{C}$ | 1.72^{4} | J g carbohydrate-1 | Energy content of carbohydrate | Baldan et al. ([2018](#ref-baldan_r_2018)) |  |\n",
    "| $\\epsilon_{O_2}$ | 1.34^{4} | J g O2-1 | Energy consumed by the respiration of 1 g of oxygen | Elliott and Davison ([1975](#ref-elliott_energy_1975)) |  |\n",
    "| $pk$ | 0.05 | d-1 | Temperature coefficient for the fasting catabolism | Macnaughton et al. ([2019](#ref-macnaughton_using_2019)) |  |\n",
    "| $k_0$ | 0.003 | degree C-1 | Fasting catabolism at 0 Celsius degree | Macnaughton et al. ([2019](#ref-macnaughton_using_2019)) |  |\n",
    "| $m$ | 0.7 | \\- | Weight exponent for the anabolism | Broekhuizen et al. ([1994](#ref-broekhuizen_modelling_1994)) | *Salmo trutta* (temps: 8–13$^{\\circ}$C) |\n",
    "| $n$ | 1 | \\- | Weight exponent for the catabolism | Baldan et al. ([2018](#ref-baldan_r_2018)) |  |\n",
    "| $\\beta C$ | 0.3234 | \\- | Shape coefficient for the feeding function | B. Jonsson et al. ([2001](#ref-jonsson_thermal_2001)) | Fish size range: 2.25\\$$0.49 – 11.5$$5.29 g, temperature ranges: 5–24$^{}\\$C. Coefficent for mean daily energy intake of the moderately fast growing group, 0.4398 (mean fast group), 0.2214 (mean slow group) |\n",
    "| $T_{max}$ | 26 | C | Maximum lethal temperature | Poletto et al. ([2017](#ref-poletto_unusual_2017)) | Juvenile Chinook salmon (19.8\\$$0.02 g, acclimation temp: 15$<sup>{</sup>}$C, 19${}\\$C) |\n",
    "| $T_{opt}$ | 14 | C | Optimal temperature | B. Jonsson et al. ([2001](#ref-jonsson_thermal_2001)) | Fish size range: 2.25\\$$0.49 – 11.5$$5.29 g, temperature ranges: 5–24$<sup>{</sup>}$C.\n",
    "Alt value: 14°C [@handeland_effect_2008], *Salmo salar* initial size: 77.0$$14.6 g, temps: 6, 10, 14, 18${}\\$C |\n",
    "| $T_{min}$ | 2 | C | Lowest feeding temperature | Vadboncoeur et al. ([2023](#ref-vadboncoeur_lowering_2023)) | Fish essentially stop feeding when below 2$^{\\circ}$C |\n",
    "| $a$ | 2669 | J g tissue-1 | Energy content of fish tissue | Van Tien et al. ([2016](#ref-van_tien_development_2016)) | Alt value: 17.02350 (nls model fitted to female Atlantic salmon data extracted and transformed from N. Jonsson and Jonsson ([2003](#ref-jonsson_energy_2003)) |\n",
    "| $k$ | 0.1715 | \\- | Weight exponent for energy content | Van Tien et al. ([2016](#ref-van_tien_development_2016)) | Alt value: 1.65175 (nls model fitted to female Atlantic salmon data extracted and transformed from N. Jonsson and Jonsson ([2003](#ref-jonsson_energy_2003)) |\n",
    "| $eff$ | 0.97 | \\- | Food ingestion efficiency | Uglem et al. ([2020](#ref-uglem_does_2020)) | Range: 95-97% ingestion efficiency |\n",
    "| $\\overline{W}$ | 125 | g | Dry weight mean | Dempsey et al. ([2023](#ref-dempsey_estimating_2023)) | Range of 100-150 given so used a mean of 125 and sd of 10 which over 1000 draws from a normal distribution delivers a minimum and maximum close to these numbers |\n",
    "| $\\Delta{W}$ | NA | g | Dry weight standard deviation | Dempsey et al. ([2023](#ref-dempsey_estimating_2023)) | Range of 100-150 given so used a mean of 125 and sd of 10 which over 1000 draws from a normal distribution delivers a minimum and maximum close to these numbers |\n",
    "| $Wlb$ | NA | g | Dry weight lower bound | Reference |  |\n",
    "| $\\overline{I_{max}}$ | 0.03 | g g-1 fish day-1 | Ingestion rate mean | [FAO](https://www.fao.org/fileadmin/user_upload/affris/docs/tabl10.pdf) |  |\n",
    "| $\\Delta{I_{max}}$ | NA | g g-1 fish day-1 | Ingestion rate standard deviation | [FAO](https://www.fao.org/fileadmin/user_upload/affris/docs/tabl10.pdf) |  |\n",
    "| $mort$ | NA | d-1 | Natural mortality rate | Tvete, Aldrin, and Jensen ([2023](#ref-tvete_towards_2023)) |  |\n",
    "\n",
    "Params\n",
    "\n",
    "## Sensitivity\n",
    "\n",
    "In the following plots, a value \\> 0 indicates that increasing that parameter increases the output variable while a negative value indicates that increasing the parameter decreases the variable. The sensitivity follows a power relationship, such that output$_1$ $\\propto$ output$_0^{S}$."
   ],
   "id": "c4c8f2ed-1088-4ed2-92a8-03f6d312ee6d"
  },
  {
   "cell_type": "code",
   "execution_count": null,
   "metadata": {
    "layout-align": "center"
   },
   "outputs": [],
   "source": [
    "sens_wt <- file.path(\"..\", \"data\", \"atlantic_salmon\", \"data_products\", \"weight_parameter_sensitivity.parquet\") %>% \n",
    "  read_parquet() %>% \n",
    "  mutate(adj_param = factor(adj_param, levels = rev(adj_param)))\n",
    "# sens_dw <- file.path(\"data\", \"atlantic_salmon\", \"data_products\", \"dw_parameter_sensitivity.parquet\") %>% \n",
    "#   read_parquet() %>% \n",
    "#   mutate(adj_param = factor(adj_param, levels = rev(adj_param)))\n",
    "# sens_excr <- file.path(\"data\", \"atlantic_salmon\", \"data_products\", \"excreted_parameter_sensitivity.parquet\") %>% \n",
    "#   read_parquet() %>% \n",
    "#   mutate(adj_param = factor(adj_param, levels = rev(adj_param)))\n",
    "# sens_uneat <- file.path(\"data\", \"atlantic_salmon\", \"data_products\", \"uneaten_parameter_sensitivity.parquet\") %>% \n",
    "#   read_parquet() %>% \n",
    "#   mutate(adj_param = factor(adj_param, levels = rev(adj_param)))"
   ],
   "id": "63326231-c3fb-47f3-95ed-8abfb2ca5d8a"
  },
  {
   "cell_type": "markdown",
   "metadata": {},
   "source": [
    "Looking at <a href=\"#fig-param-sens-weight\" class=\"quarto-xref\">Figure 9</a>:\n",
    "\n",
    "-   The most sensitive parameter by far is $m$ the weight exponent for anabolism, followed closely by $n$ the weight exponent for catabolism\n",
    "-   These two are also relatively uncertain, as $m$ was taken from *Salmo trutta* measurements in a fairly old paper ([Broekhuizen et al. 1994](#ref-broekhuizen_modelling_1994)) and $n$ was taken from Baldan et al. ([2018](#ref-baldan_r_2018)) which did not specifically look at Atlantic salmon. There must be more up-to-date measurements for Atlantic salmon in particular."
   ],
   "id": "d5b0569d-5509-48c4-bb26-7a06a8d77194"
  },
  {
   "cell_type": "code",
   "execution_count": null,
   "metadata": {
    "layout-align": "center"
   },
   "outputs": [
    {
     "output_type": "display_data",
     "metadata": {},
     "data": {}
    }
   ],
   "source": [
    "(\n",
    "  p_sens <- sens_wt %>% \n",
    "    ggplot(aes(x = adj_param, y = sens, ymin = sens-sd, ymax = sens+sd)) +\n",
    "    geom_col(alpha = 0.35, colour = \"black\") +\n",
    "    geom_errorbar(width = 0.3) +\n",
    "    geom_hline(aes(yintercept = 0), linetype = \"dashed\") +\n",
    "    scale_y_continuous(breaks = seq(-20,30,5)) +\n",
    "    labs(x = \"Adjusted parameter\", y = \"Sensitivity\") +\n",
    "    theme_classic() + theme(legend.position = \"none\", \n",
    "          strip.text = element_blank(), \n",
    "          aspect.ratio = 0.8,\n",
    "          text = element_text(size = 12)) +\n",
    "    coord_flip()\n",
    " )"
   ],
   "id": "cell-fig-param-sens-weight"
  },
  {
   "cell_type": "code",
   "execution_count": null,
   "metadata": {
    "layout-align": "center"
   },
   "outputs": [],
   "source": [
    "p_sens %+% sens_dw"
   ],
   "id": "cell-fig-param-sens-dw"
  },
  {
   "cell_type": "code",
   "execution_count": null,
   "metadata": {
    "layout-align": "center"
   },
   "outputs": [],
   "source": [
    "p_sens %+% sens_excr"
   ],
   "id": "cell-fig-param-sens-excr"
  },
  {
   "cell_type": "code",
   "execution_count": null,
   "metadata": {
    "layout-align": "center"
   },
   "outputs": [],
   "source": [
    "p_sens %+% sens_uneat"
   ],
   "id": "cell-fig-param-sens-uneat"
  },
  {
   "cell_type": "markdown",
   "metadata": {},
   "source": [
    "# References\n",
    "\n",
    "Baldan, Damiano, Erika Maria Diletta Porporato, Roberto Pastres, and Daniele Brigolin. 2018. ‘An R Package for Simulating Growth and Organic Wastage in Aquaculture Farms in Response to Environmental Conditions and Husbandry Practices’. *PLOS ONE* 13 (5): e0195732. <https://doi.org/10.1371/journal.pone.0195732>.\n",
    "\n",
    "Broekhuizen, N., W. S. C. Gurney, A. Jones, and A. D. Bryant. 1994. ‘Modelling Compensatory Growth’. *Functional Ecology* 8 (6): 770–82. <https://doi.org/10.2307/2390237>.\n",
    "\n",
    "Dempsey, Danielle P., Gregor K. Reid, Leah Lewis-McCrea, Toby Balch, Roland Cusack, André Dumas, and Jack Rensel. 2023. ‘Estimating Stocking Weights for Atlantic Salmon to Grow to Market Size at Novel Aquaculture Sites with Extreme Temperatures’. *Frontiers in Marine Science* 10 (May). <https://doi.org/10.3389/fmars.2023.1094247>.\n",
    "\n",
    "Elliott, J. M., and W. Davison. 1975. ‘Energy Equivalents of Oxygen Consumption in Animal Energetics’. *Oecologia* 19 (3): 195–201. <https://doi.org/10.1007/BF00345305>.\n",
    "\n",
    "Jonsson, B., T. Forseth, A. J. Jensen, and T. F. Næsje. 2001. ‘Thermal Performance of Juvenile Atlantic Salmon, Salmo Salar L.’ *Functional Ecology* 15 (6): 701–11. <https://doi.org/10.1046/j.0269-8463.2001.00572.x>.\n",
    "\n",
    "Jonsson, Nina, and Bror Jonsson. 2003. ‘Energy Allocation Among Developmental Stages, Age Groups, and Types of Atlantic Salmon (Salmo Salar) Spawners’. *Canadian Journal of Fisheries and Aquatic Sciences* 60 (5): 506–16. <https://doi.org/10.1139/f03-042>.\n",
    "\n",
    "Macnaughton, Camille J., David Deslauriers, Erinn L. Ipsen, Emily Corey, and Eva C. Enders. 2019. ‘Using Meta-Analysis to Derive a Respiration Model for Atlantic Salmon (Salmo Salar) to Assess Bioenergetics Requirements of Juveniles in Two Canadian Rivers’. *Canadian Journal of Fisheries and Aquatic Sciences* 76 (12): 2225–34. <https://doi.org/10.1139/cjfas-2018-0436>.\n",
    "\n",
    "Poletto, Jamilynn B., Dennis E. Cocherell, Sarah E. Baird, Trinh X. Nguyen, Valentina Cabrera-Stagno, Anthony P. Farrell, and Nann A. Fangue. 2017. ‘Unusual Aerobic Performance at High Temperatures in Juvenile Chinook Salmon, Oncorhynchus Tshawytscha’. *Conservation Physiology* 5 (1): cow067. <https://doi.org/10.1093/conphys/cow067>.\n",
    "\n",
    "Tvete, Ingunn Fride, Magne Aldrin, and Britt Bang Jensen. 2023. ‘Towards Better Survival: Modeling Drivers for Daily Mortality in Norwegian Atlantic Salmon Farming’. *Preventive Veterinary Medicine* 210 (January): 105798. <https://doi.org/10.1016/j.prevetmed.2022.105798>.\n",
    "\n",
    "Uglem, Ingebrigt, Kilian Toledo-Guedes, Pablo Sanchez-Jerez, Eva Marita Ulvan, Tor Evensen, and Bjørn Steinar Sæther. 2020. ‘Does Waste Feed from Salmon Farming Affect the Quality of Saithe (Pollachius Virens L.) Attracted to Fish Farms?’ *Aquaculture Research* 51 (4): 1720–30. <https://doi.org/10.1111/are.14519>.\n",
    "\n",
    "Vadboncoeur, Émile, Charlotte Nelson, Jennifer R. Hall, Kathy A. Clow, Rebeccah M. Sandrelli, Colin J. Brauner, Andrew K. Swanson, and A. Kurt Gamperl. 2023. ‘Lowering Temperature to 1 °C Results in Physiological Changes, Stress and Mortality in Cultured Atlantic Salmon (*Salmo Salar*)’. *Aquaculture* 568 (April): 739313. <https://doi.org/10.1016/j.aquaculture.2023.739313>.\n",
    "\n",
    "Van Tien, Nguyen, Dam Thi My Chinh, Tran Thi Mai Huong, Truong Ha Phuong, Simon Irvin, and Brett Glencross. 2016. ‘Development of a Nutritional Model to Define the Energy and Protein Requirements of Cobia, *Rachycentron Canadum*’. *Aquaculture* 463 (October): 193–200. <https://doi.org/10.1016/j.aquaculture.2016.05.037>."
   ],
   "id": "dc107285-99f4-4fa6-8cdf-fda375f81b43"
  }
 ],
 "nbformat": 4,
 "nbformat_minor": 5,
 "metadata": {}
}
