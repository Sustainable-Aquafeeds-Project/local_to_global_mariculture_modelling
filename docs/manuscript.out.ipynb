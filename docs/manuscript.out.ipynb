{
 "cells": [
  {
   "cell_type": "markdown",
   "metadata": {},
   "source": [
    "# Local to global N input modelling"
   ],
   "id": "c84fbe83-3a2d-43be-a60b-e3833b8d239a"
  },
  {
   "cell_type": "code",
   "execution_count": null,
   "metadata": {
    "layout-align": "center"
   },
   "outputs": [
    {
     "output_type": "stream",
     "name": "stderr",
     "text": [
      "\n",
      "Attaching package: 'dplyr'"
     ]
    },
    {
     "output_type": "stream",
     "name": "stderr",
     "text": [
      "The following objects are masked from 'package:stats':\n",
      "\n",
      "    filter, lag"
     ]
    },
    {
     "output_type": "stream",
     "name": "stderr",
     "text": [
      "The following objects are masked from 'package:base':\n",
      "\n",
      "    intersect, setdiff, setequal, union"
     ]
    },
    {
     "output_type": "stream",
     "name": "stderr",
     "text": [
      "\n",
      "Attaching package: 'tidyr'"
     ]
    },
    {
     "output_type": "stream",
     "name": "stderr",
     "text": [
      "The following object is masked from 'package:magrittr':\n",
      "\n",
      "    extract"
     ]
    },
    {
     "output_type": "stream",
     "name": "stderr",
     "text": [
      "Warning: package 'ggplot2' was built under R version 4.4.3"
     ]
    },
    {
     "output_type": "stream",
     "name": "stderr",
     "text": [
      "Warning: package 'ggh4x' was built under R version 4.4.3"
     ]
    },
    {
     "output_type": "stream",
     "name": "stderr",
     "text": [
      "here() starts at C:/Users/treimer/Documents/R-temp-files/local_to_global_mariculture_modelling"
     ]
    },
    {
     "output_type": "stream",
     "name": "stderr",
     "text": [
      "\n",
      "Attaching package: 'cowplot'"
     ]
    },
    {
     "output_type": "stream",
     "name": "stderr",
     "text": [
      "The following object is masked from 'package:ggpubr':\n",
      "\n",
      "    get_legend"
     ]
    },
    {
     "output_type": "stream",
     "name": "stderr",
     "text": [
      "\n",
      "Attaching package: 'patchwork'"
     ]
    },
    {
     "output_type": "stream",
     "name": "stderr",
     "text": [
      "The following object is masked from 'package:cowplot':\n",
      "\n",
      "    align_plots"
     ]
    },
    {
     "output_type": "stream",
     "name": "stderr",
     "text": [
      "Warning: package 'qs' was built under R version 4.4.3"
     ]
    },
    {
     "output_type": "stream",
     "name": "stderr",
     "text": [
      "qs 0.27.3. Announcement: https://github.com/qsbase/qs/issues/103"
     ]
    },
    {
     "output_type": "stream",
     "name": "stderr",
     "text": [
      "\n",
      "Attaching package: 'arrow'"
     ]
    },
    {
     "output_type": "stream",
     "name": "stderr",
     "text": [
      "The following object is masked from 'package:magrittr':\n",
      "\n",
      "    is_in"
     ]
    },
    {
     "output_type": "stream",
     "name": "stderr",
     "text": [
      "The following object is masked from 'package:utils':\n",
      "\n",
      "    timestamp"
     ]
    },
    {
     "output_type": "stream",
     "name": "stderr",
     "text": [
      "Linking to GEOS 3.13.0, GDAL 3.10.1, PROJ 9.5.1; sf_use_s2() is TRUE"
     ]
    },
    {
     "output_type": "stream",
     "name": "stderr",
     "text": [
      "Warning: package 'terra' was built under R version 4.4.3"
     ]
    },
    {
     "output_type": "stream",
     "name": "stderr",
     "text": [
      "terra 1.8.54"
     ]
    },
    {
     "output_type": "stream",
     "name": "stderr",
     "text": [
      "\n",
      "Attaching package: 'terra'"
     ]
    },
    {
     "output_type": "stream",
     "name": "stderr",
     "text": [
      "The following object is masked from 'package:arrow':\n",
      "\n",
      "    buffer"
     ]
    },
    {
     "output_type": "stream",
     "name": "stderr",
     "text": [
      "The following object is masked from 'package:patchwork':\n",
      "\n",
      "    area"
     ]
    },
    {
     "output_type": "stream",
     "name": "stderr",
     "text": [
      "The following object is masked from 'package:ggpubr':\n",
      "\n",
      "    rotate"
     ]
    },
    {
     "output_type": "stream",
     "name": "stderr",
     "text": [
      "The following object is masked from 'package:tidyr':\n",
      "\n",
      "    extract"
     ]
    },
    {
     "output_type": "stream",
     "name": "stderr",
     "text": [
      "The following objects are masked from 'package:magrittr':\n",
      "\n",
      "    extract, inset"
     ]
    },
    {
     "output_type": "stream",
     "name": "stderr",
     "text": [
      "\n",
      "Attaching package: 'rnaturalearthdata'"
     ]
    },
    {
     "output_type": "stream",
     "name": "stderr",
     "text": [
      "The following object is masked from 'package:rnaturalearth':\n",
      "\n",
      "    countries110"
     ]
    },
    {
     "output_type": "stream",
     "name": "stderr",
     "text": [
      "Loading required package: future"
     ]
    },
    {
     "output_type": "stream",
     "name": "stderr",
     "text": [
      "\n",
      "Attaching package: 'purrr'"
     ]
    },
    {
     "output_type": "stream",
     "name": "stderr",
     "text": [
      "The following object is masked from 'package:magrittr':\n",
      "\n",
      "    set_names"
     ]
    },
    {
     "output_type": "stream",
     "name": "stderr",
     "text": [
      "Warning: package 'readxl' was built under R version 4.4.3"
     ]
    },
    {
     "output_type": "stream",
     "name": "stderr",
     "text": [
      "Warning: package 'units' was built under R version 4.4.3"
     ]
    },
    {
     "output_type": "stream",
     "name": "stderr",
     "text": [
      "udunits database from C:/Users/treimer/AppData/Local/R/cache/R/renv/cache/v5/windows/R-4.4/x86_64-w64-mingw32/units/0.8-7/5d0b024902d5da97a2b64f002e92a869/units/share/udunits/udunits2.xml"
     ]
    }
   ],
   "source": [
    "library(magrittr)\n",
    "library(dplyr)"
   ],
   "id": "756a9c5a-9692-42a4-a70c-a70aba98875b"
  },
  {
   "cell_type": "code",
   "execution_count": null,
   "metadata": {
    "layout-align": "center"
   },
   "outputs": [],
   "source": [
    "source(here(\"00_model_functions.R\"))\n",
    "\n",
    "# Input paths\n",
    "input_farm_coords_path <- here() %>% file.path(\"data\", \"_general_data\", \"farm_locations\")\n",
    "input_farm_sst_path <- here() %>% file.path(\"data\", \"_general_data\", \"SST\")\n",
    "input_species_param_path <- here() %>% file.path(\"data\", \"atlantic_salmon\", \"params\")\n",
    "input_feed_profile_path <- here() %>% file.path(\"data\", \"_general_data\", \"diets\")\n",
    "\n",
    "# Output paths\n",
    "output_farm_data_path <- here() %>% file.path(\"outputs\", \"farm_data\")\n",
    "output_species_data_path <- here() %>% file.path(\"outputs\", \"species_data\")\n",
    "output_sens_data_path <- here() %>% file.path(\"outputs\", \"sensitivity_data\")\n",
    "output_farm_growth_data_path <- here() %>% file.path(\"outputs\", \"farm_growth_data\")\n",
    "output_cohort_growth_data_path <- here() %>% file.path(\"outputs\", \"cohort_growth_data\")\n",
    "data_analysis_path <- here() %>% file.path(\"outputs\", \"data_analysis\")\n",
    "\n",
    "# Filenames\n",
    "farm_coords_file <- file.path(output_farm_data_path, \"farm_coords.qs\")\n",
    "species_params_file <- file.path(output_species_data_path, \"species_params.qs\")\n",
    "pop_params_file <- file.path(output_species_data_path, \"pop_params.qs\")\n",
    "feed_params_file <- file.path(output_species_data_path, \"feed_params.qs\")\n",
    "sens_params_file <- file.path(output_species_data_path, \"sens_params.qs\")\n",
    "sens_results_files <- file.path(output_sens_data_path) %>% str_subset(\"results\")\n",
    "\n",
    "species_params <- qread(species_params_file)\n",
    "pop_params <- qread(pop_params_file)\n",
    "\n",
    "prettyplot <- function() {\n",
    "  theme_classic() +\n",
    "    theme(legend.position = \"none\",\n",
    "          text = element_text(family = \"serif\", size = 12, colour = \"black\"),\n",
    "          axis.title.x = element_text(vjust = 0.5),\n",
    "          axis.title.y = element_text(hjust = 0.5))\n",
    "}\n",
    "  \n",
    "feed_pal <- c(\"past\" = \"#E41A1C\", \"reference\" = \"#377EB8\", \"future\" = \"#4DAF4A\")  \n",
    "cohort_pal <- c(\"1\" = \"#E41A1C\", \"2\" = \"#377EB8\", \"3\" = \"#4DAF4A\", \"all\" = \"black\")\n",
    "macro_pal <- c(\n",
    "  \"protein\" = \"darkred\", \"P\" = \"darkred\", \n",
    "  \"carbohydrates\" = \"steelblue\", \"C\" = \"steelblue\", \n",
    "  \"lipids\" = \"darkgoldenrod1\", \"L\" = \"darkgoldenrod1\"\n",
    ")"
   ],
   "id": "0ae0681c-3f12-4d8e-acb1-42ca106f3b41"
  },
  {
   "cell_type": "markdown",
   "metadata": {},
   "source": [
    "This document was last updated at 14:26 on 10 Jun, 2025.\n",
    "\n",
    "# Methods\n",
    "\n",
    "### Feeding rate\n",
    "\n",
    "To detail here:\n",
    "\n",
    "-   Functional response to temperature (species-specific)\n",
    "-   Overfeeding parameters and how they come into play\n",
    "-   Deminstration of how feeding response and actual food given vary with temperature?"
   ],
   "id": "ab874e0d-d858-4424-9392-c331d62d7dcf"
  },
  {
   "cell_type": "code",
   "execution_count": null,
   "metadata": {
    "layout-align": "center"
   },
   "outputs": [],
   "source": [
    "df <- data.frame(water_temp = seq(-5, 26, 0.25))\n",
    "df$feeding <- sapply(FUN = feeding_rate, X = df$water_temp, species_params = species_params)\n",
    "df <- df %>% \n",
    "mutate(ing_pot = pop_params['meanImax'] * (pop_params['meanW']^species_params['m']) * feeding,\n",
    "       food_prov = NA)\n",
    "for (i in 1:nrow(df)) {\n",
    "  df$food_prov[i] <- food_prov_rate(pop_params = pop_params, rel_feeding = df$feeding[i], ing_pot = df$ing_pot[i], \n",
    "                                    ing_pot_10 = pop_params['meanImax'] * (pop_params['meanW']^species_params['m']) * 0.1)\n",
    "}\n",
    "df$ing_pot <- df$ing_pot/maxna(df$ing_pot)\n",
    "df$food_prov <- df$food_prov/maxna(df$ing_pot)\n",
    "\n",
    "df %>% \n",
    "  ggplot(aes(x = water_temp, y = ing_pot)) +\n",
    "  geom_line(linewidth = 0.75) +\n",
    "  geom_line(aes(y = food_prov), linewidth = 0.75, linetype = \"dotted\") +\n",
    "  scale_y_continuous(breaks = seq(0,1.5,0.25)) +\n",
    "  scale_x_continuous(breaks = seq(-5,30,5), limits = c(-5,26)) +\n",
    "  labs(x = expression(\"Water temperature (\"*degree*\"C)\"), y = \"Relative food ingested/provided\") +\n",
    "  prettyplot() +\n",
    "  theme(text = element_text(colour = \"black\", family = \"serif\", size = 12))"
   ],
   "id": "cell-fig-functional-response-to-temperature"
  },
  {
   "cell_type": "markdown",
   "metadata": {},
   "source": [
    "## Farm temperature forcings"
   ],
   "id": "68037089-99df-4855-8011-13aa05445371"
  },
  {
   "cell_type": "code",
   "execution_count": null,
   "metadata": {
    "layout-align": "center"
   },
   "outputs": [],
   "source": [
    "farms_to_omit <- file.path(input_farm_coords_path, \"atlantic_salmon_farms_to_omit.qs\") %>% qs::qread()\n",
    "farm_ts_data <- file.path(output_farm_data_path, \"farm_ts_data.qs\") %>% qs::qread()\n",
    "farm_coords <- file.path(output_farm_data_path, \"farm_coords.qs\") %>% qs::qread() %>% \n",
    "    mutate(hemisphere = case_when(lat < 0 ~ \"S\", T ~ \"N\") %>% as.factor()) \n",
    "\n",
    "farms_geometry <- file.path(output_farm_data_path, \"farm_geometry.qs\") %>% qs::qread() %>% \n",
    "  rename(farm_ID = farm_id)\n",
    "\n",
    "sorted_countries <- farm_coords %>% \n",
    "  merge(farms_geometry, by = \"farm_ID\") %>% \n",
    "  group_by(country) %>% \n",
    "  reframe(av_lat = mean(lat)) %>% \n",
    "  arrange(-av_lat) %>% \n",
    "  pull(country) %>% \n",
    "  unique()"
   ],
   "id": "caa6aa68-e1e1-412f-818a-e4abe7f9757a"
  },
  {
   "cell_type": "code",
   "execution_count": null,
   "metadata": {
    "layout-align": "center"
   },
   "outputs": [],
   "source": [
    "farm_temp_means <- farm_ts_data %>% \n",
    "  group_by(farm_ID) %>% \n",
    "  reframe(mean_temp = mean(temp_c)) %>% \n",
    "  merge(farms_geometry, by = \"farm_ID\") %>% \n",
    "  merge(farm_coords, by = \"farm_ID\") %>% \n",
    "  dplyr::filter(!farm_ID %in% farms_to_omit)\n",
    "\n",
    "overall_mean <- mean(farm_temp_means$mean_temp)\n",
    "overall_sd <- sd(farm_temp_means$mean_temp)\n",
    "\n",
    "rm(farm_ts_data)"
   ],
   "id": "868ae1e5-20c8-46d7-a77a-8b542ace1b7a"
  },
  {
   "cell_type": "markdown",
   "metadata": {},
   "source": [
    "Mean daily temperatures at the farms globally ranged from from 6$^{\\circ}$C to 16.7$^{\\circ}$C, with an overall mean of 10.1$^{\\circ}$C ($\\pm$ 1.8$^{\\circ}$C SD). Farms with a mean temperature of \\$$6$^\\$C were excluded (4 farms). The total number of farms included in the analysis was therefore 2717."
   ],
   "id": "29758570-9c51-407d-9d4c-242c0329aebd"
  },
  {
   "cell_type": "code",
   "execution_count": null,
   "metadata": {
    "layout-align": "center"
   },
   "outputs": [
    {
     "output_type": "stream",
     "name": "stderr",
     "text": [
      "Coordinate system already present. Adding new coordinate system, which will\n",
      "replace the existing one."
     ]
    },
    {
     "output_type": "display_data",
     "metadata": {},
     "data": {}
    }
   ],
   "source": [
    "worldmap <- ne_countries(scale = \"medium\", returnclass = \"sf\") %>% st_transform(crs = \"+proj=robin\")\n",
    "graticules <- st_graticule(worldmap, lon = seq(-180, 180, 30), lat = seq(-90, 90, 30)) \n",
    "\n",
    "inset_boxes <- list(   # lonmin, lonmax, latmin, latmax\n",
    "  CAN1 = c(-132, -122, 47.75, 54.25),\n",
    "  CAN2 = c(-70, -54, 43, 48.5),\n",
    "  EUR = c(-26, 30, 51, 72),\n",
    "  CHI = c(-77.5, -62.5, -56, -25),\n",
    "  AUS = c(144, 149.5, -44, -39.75)\n",
    ")\n",
    "labels_spec <- c(CAN1 = \"bottom_left_outside\", CAN2 = \"bottom_right_outside\", EUR = \"bottom_left_outside\", CHI = \"top_left_outside\", AUS = \"bottom_left_outside\")\n",
    "labels_offset <- c(CAN1 = 1, CAN2 = 2, EUR = 1.75, CHI = 1.75, AUS = 3.5)\n",
    "\n",
    "box_data <- create_boxes(box_list = inset_boxes, # see function create_boxes above\n",
    "                         label_positions = unname(labels_spec),\n",
    "                         offset_deg = unname(labels_offset))\n",
    "boxes_robinson <- st_transform(box_data$boxes, crs = \"+proj=robin\")\n",
    "labels_robinson <- st_transform(box_data$labels, crs = \"+proj=robin\")\n",
    "farm_temp_robinson <- st_sf(farm_temp_means) %>% st_transform(crs = \"+proj=robin\")\n",
    "\n",
    "p1 <- ggplot() +\n",
    "  geom_sf(data = graticules, color = \"gray80\", size = 0.3) +\n",
    "  geom_sf(data = worldmap, fill = \"white\", color = \"dimgray\") +\n",
    "  geom_sf(data = farm_temp_robinson, aes(color = mean_temp), size = 1) +\n",
    "  coord_sf() +\n",
    "  scale_color_viridis_c(option = \"turbo\") +\n",
    "  guides(col = guide_colourbar(\n",
    "    title = \"Mean temperature (°C)\",\n",
    "    direction = \"horizontal\", position = \"bottom\",\n",
    "    label.position = \"bottom\", title.position = \"top\", \n",
    "    title.vjust = 1, title.hjust = 0.5,\n",
    "    frame.colour = \"black\", ticks.colour = \"black\",ticks.linewidth = 2,\n",
    "    barwidth = 25,barheight = 1.5\n",
    "  )) +\n",
    "  geom_sf(data = boxes_robinson, fill = NA, color = \"darkred\", size = 1.65) +\n",
    "  geom_sf_text(data = labels_robinson, aes(label = letter), \n",
    "               color = \"darkred\", size = 5, fontface = \"bold\", \n",
    "               hjust = 0.5, vjust = 0.5) +\n",
    "  theme_void()"
   ],
   "id": "cell-fig-farm-mean-temps"
  },
  {
   "cell_type": "code",
   "execution_count": null,
   "metadata": {
    "layout-align": "center"
   },
   "outputs": [
    {
     "output_type": "stream",
     "name": "stderr",
     "text": [
      "Coordinate system already present. Adding new coordinate system, which will\n",
      "replace the existing one."
     ]
    },
    {
     "output_type": "stream",
     "name": "stderr",
     "text": [
      "Coordinate system already present. Adding new coordinate system, which will\n",
      "replace the existing one."
     ]
    },
    {
     "output_type": "stream",
     "name": "stderr",
     "text": [
      "Coordinate system already present. Adding new coordinate system, which will\n",
      "replace the existing one."
     ]
    },
    {
     "output_type": "stream",
     "name": "stderr",
     "text": [
      "Coordinate system already present. Adding new coordinate system, which will\n",
      "replace the existing one."
     ]
    },
    {
     "output_type": "stream",
     "name": "stderr",
     "text": [
      "Coordinate system already present. Adding new coordinate system, which will\n",
      "replace the existing one."
     ]
    },
    {
     "output_type": "display_data",
     "metadata": {},
     "data": {}
    }
   ],
   "source": [
    "no_margins <- function() {\n",
    "  theme(legend.position = \"none\", \n",
    "        plot.margin = margin(0, 0, 0, 0),\n",
    "        axis.title = element_blank())\n",
    "}\n",
    "\n",
    "inset_boxes_sm <- list(   # lonmin, lonmax, latmin, latmax\n",
    "  CAN1 = c(-132, -122, 48.5, 54),\n",
    "  CAN2 = c(-70, -54, 43, 48.5),\n",
    "  EUR = c(-23, 28.5, 52, 71),\n",
    "  CHI = c(-78, -62, -55.5, -27),\n",
    "  AUS = c(144, 149, -43.75, -40.75)\n",
    ")\n",
    "\n",
    "inset_boxes_sm <- map(inset_boxes_sm, function(bx) {\n",
    "  list(\n",
    "    xlims = bx[1:2],\n",
    "    ylims = bx[3:4],\n",
    "    labx = bx[1],\n",
    "    laby = bx[4]\n",
    "    )\n",
    "})\n",
    "\n",
    "worldmap <- ne_countries(scale = \"large\", returnclass = \"sf\")\n",
    "p1 <- ggplot() +\n",
    "  geom_sf(data = worldmap, fill = \"white\", color = \"dimgray\") +\n",
    "  geom_sf(data = farm_temp_means, aes(color = mean_temp, geometry = geometry), size = 2) +\n",
    "  coord_sf() +\n",
    "  scale_color_viridis_c(option = \"turbo\") +\n",
    "  guides(col = guide_colourbar(\n",
    "    title = \"Mean temperature (°C)\",\n",
    "    direction = \"vertical\", position = \"right\",\n",
    "    label.position = \"right\", title.position = \"top\", \n",
    "    title.vjust = 1, title.hjust = 0.5,\n",
    "    frame.colour = \"black\", ticks.colour = \"black\",ticks.linewidth = 2,\n",
    "    barwidth = 1.5, barheight = 20\n",
    "  )) +\n",
    "  prettyplot() +\n",
    "  labs(y = \"Latitude\", x = \"Longitude\")\n",
    "\n",
    "p_Can1 <- p1 + \n",
    "  coord_sf(xlim = inset_boxes_sm[[\"CAN1\"]][[\"xlims\"]], \n",
    "           ylim = inset_boxes_sm[[\"CAN1\"]][[\"ylims\"]])  +\n",
    "  draw_label(\"A\", size = 14, fontface = \"bold\", \n",
    "             x = inset_boxes_sm[[\"CAN1\"]][[\"labx\"]], \n",
    "             y = inset_boxes_sm[[\"CAN1\"]][[\"laby\"]], \n",
    "             hjust = -1, vjust = 0.5)"
   ],
   "id": "f547b086-e8cf-4443-aac6-2277520efae0"
  },
  {
   "cell_type": "markdown",
   "metadata": {},
   "source": [
    "## Model parameterisation"
   ],
   "id": "9e4019ec-eb2c-4cf5-a168-7b5c91848b2a"
  },
  {
   "cell_type": "raw",
   "metadata": {
    "raw_mimetype": "text/html"
   },
   "source": [
    "<!-- Salmon were grown for 548 days and were initialised in Spring. This was on day 274 for farms in the southern hemisphere and day 121 for farms in the northern hemisphere. Cohorts were initialised annually, such that there was an overlap of 183 days where one cohort was nearing harvest and another was being initialised. -->"
   ],
   "id": "627d12f6-77bf-47ec-8de2-61620a7e19ca"
  },
  {
   "cell_type": "code",
   "execution_count": null,
   "metadata": {
    "layout-align": "center"
   },
   "outputs": [],
   "source": [
    "params <- file.path(output_species_data_path, \"sens_params.qs\") %>% qs::qread()\n",
    "\n",
    "param_names <- tibble::tribble(\n",
    "  ~name,        ~lab,\n",
    "  \"alpha\",      bquote(alpha),\n",
    "  \"epsprot\",    bquote(epsilon[\"P\"]),\n",
    "  \"epslip\",     bquote(epsilon[\"L\"]),\n",
    "  \"epscarb\",    bquote(epsilon[\"C\"]),\n",
    "  \"epsO2\",      bquote(epsilon[\"O\"[2]]),\n",
    "  \"pk\",         bquote(\"pk\"),\n",
    "  \"k0\",         bquote(\"k\"[0]),\n",
    "  \"m\",          bquote(\"m\"),\n",
    "  \"n\",          bquote(\"n\"),\n",
    "  \"betac\",      bquote(beta*\"C\"),\n",
    "  \"Tma\",        bquote(\"T\"[\"max\"]),\n",
    "  \"Toa\",        bquote(\"T\"[\"opt\"]),\n",
    "  \"Taa\",        bquote(\"T\"[\"min\"]),\n",
    "  \"omega\",      bquote(omega),\n",
    "  \"a\",          bquote(\"a\"),\n",
    "  \"k\",          bquote(\"k\"),\n",
    "  \"eff\",        bquote(\"eff\"),\n",
    "  \"meanW\",      bquote(bar(\"W\")),\n",
    "  \"deltaW\",     bquote(Delta*\"W\"), \n",
    "  \"meanImax\",   bquote(bar(\"I\"[\"max\"])),\n",
    "  \"deltaImax\",  bquote(Delta*\"I\"[\"max\"]),\n",
    "  \"overFmean\",  bquote(bar(\"F\")),\n",
    "  \"overFdelta\", bquote(Delta*\"F\"),\n",
    "  \"mortmyt\",    bquote(\"mort\")\n",
    ")"
   ],
   "id": "4e81ccb8-4e0c-4a48-ae27-c63e9d31eb96"
  },
  {
   "cell_type": "markdown",
   "metadata": {},
   "source": [
    "| Parameter | Value | Reference |\n",
    "|:------------------:|:------------------:|:------------------------------:|\n",
    "| $\\alpha$ | 0.04 | ([Broekhuizen et al. 1994](#ref-broekhuizen_modelling_1994)) |\n",
    "| $\\epsilon_{P}$ | 2.36^{4} | Baldan et al. ([2018](#ref-baldan_r_2018)) |\n",
    "| $\\epsilon_{L}$ | 3.62^{4} | Baldan et al. ([2018](#ref-baldan_r_2018)) |\n",
    "| $\\epsilon_{C}$ | 1.72^{4} | Baldan et al. ([2018](#ref-baldan_r_2018)) |\n",
    "| $\\epsilon_{O_2}$ | 1.34^{4} | Elliott and Davison ([1975](#ref-elliott_energy_1975)) |\n",
    "| $p_k$ | 0.05 | Macnaughton et al. ([2019](#ref-macnaughton_using_2019)) |\n",
    "| $k_0$ | 0.003 | Macnaughton et al. ([2019](#ref-macnaughton_using_2019)) |\n",
    "| $m$ | 0.75 | Broekhuizen et al. ([1994](#ref-broekhuizen_modelling_1994)) |\n",
    "| $n$ | 1 | Baldan et al. ([2018](#ref-baldan_r_2018)) |\n",
    "| $\\beta C$ | 0.3234 | Jonsson et al. ([2001](#ref-jonsson_thermal_2001)) |\n",
    "| $T_{max}$ | 26 | Poletto et al. ([2017](#ref-poletto_unusual_2017)) |\n",
    "| $T_{opt}$ | 16 | Jonsson et al. ([2001](#ref-jonsson_thermal_2001)) |\n",
    "| $T_{min}$ | 2 | Vadboncoeur et al. ([2023](#ref-vadboncoeur_lowering_2023)) |\n",
    "| $\\omega$ | 0.6542 | Baldan et al. ([2018](#ref-baldan_r_2018)) |\n",
    "| $a$ | 2669 | Van Tien et al. ([2016](#ref-van_tien_development_2016)) |\n",
    "| $k$ | 0.1715 | Van Tien et al. ([2016](#ref-van_tien_development_2016)) |\n",
    "| $eff$ | 0.97 | Uglem et al. ([2020](#ref-uglem_does_2020)) |\n",
    "| $\\overline{W}$ | 125 | Dempsey et al. ([2023](#ref-dempsey_estimating_2023)) |\n",
    "| $\\Delta{W}$ | 10 | Dempsey et al. ([2023](#ref-dempsey_estimating_2023)) |\n",
    "| $\\overline{I_{max}}$ | 0.035 | ([**lall_nutrition_2009?**](#ref-lall_nutrition_2009)) |\n",
    "| $\\Delta{I_{max}}$ | 0.005 | ([**lall_nutrition_2009?**](#ref-lall_nutrition_2009)) |\n",
    "| $\\overline{F}$ | 0.015 |  |\n",
    "| $\\Delta{F}$ | 0.0045 |  |\n",
    "| $mort$ | 5.99798^{-4} | Tvete, Aldrin, and Jensen ([2023](#ref-tvete_towards_2023)) |\n",
    "\n",
    "Table 1: Model growth parameters for Atlantic salmon (for double-checking numbers and reference list only)\n",
    "\n",
    "### Parameter sensitivity\n",
    "\n",
    "Parameter sensitivity was tested by varying each parameter in <a href=\"#tbl-params\" class=\"quarto-xref\">Table 1</a> by $\\pm 10$% and calculating sensitivity as $S_p = \\frac{(P_{1.1} - P_{0.9})}{0.2 \\times P_1}$, where $S$ is the sensitivity of the measured variable to changes in parameter $p$, and $P_{1.1}$, $P_{0.9}$, and $P_{1}$ are the value of the measured variable when the model is run with parameter $p$ at 110%, 90%, and 100% of its value respectively. All parameters in Table <a href=\"#tbl-params\" class=\"quarto-xref\">Table 1</a> were tested. The population-level parameters ($\\overline{W}$, $\\Delta{W}$, $\\overline{I_{max}}$, $\\Delta{I_{max}}$, $\\overline{F}$, $\\Delta{F}$) were tested with a population of of 5000 on a random 10% of farms, while all other parameters were tested across all farms with a population of 10.\n",
    "\n",
    "## Modelled experimental feeds"
   ],
   "id": "84baf498-722f-4546-a79d-8a86b13e10a9"
  },
  {
   "cell_type": "code",
   "execution_count": null,
   "metadata": {
    "layout-align": "center"
   },
   "outputs": [],
   "source": [
    "feed_params <- file.path(output_species_data_path, \"feed_params.qs\") %>%\n",
    "  qs::qread() \n",
    "\n",
    "feed_summary <- map_dfr(names(feed_params), function(feed) {\n",
    "  df <- feed_params[[feed]]\n",
    "  map_dfr(c(\"Proteins\", \"Lipids\", \"Carbohydrates\"), function(macro) {\n",
    "    contrib <- df[[macro]]$proportion * df[[macro]]$macro\n",
    "    total <- sum(contrib)\n",
    "    digest <- sum(df[[macro]]$digest * contrib) / total\n",
    "        tibble(\n",
    "      feed = feed,\n",
    "      macro = macro,\n",
    "      total = total,\n",
    "      digest = digest\n",
    "    )\n",
    "  })\n",
    "}) %>%\n",
    "  mutate(macro = factor(macro, levels = c(\"Proteins\", \"Lipids\", \"Carbohydrates\"), labels = c(\"P\", \"L\", \"C\")),\n",
    "         feed = factor(feed, levels = c(\"reference\", \"past\", \"future\")),\n",
    "         total_r = total * 100 %>% round(1),\n",
    "         digest_r = digest * 100 %>% round(1))"
   ],
   "id": "8ae6bf23-4ddd-47b2-bb09-bb4484da10dc"
  },
  {
   "cell_type": "markdown",
   "metadata": {},
   "source": [
    "The reference feed was 37.8% protein, 36.5% lipid, and 20.4% carbohydrate, the past feed was 49.8% protein, 27.1% lipid, and 16.6% carbohydrate, and the future feed was 47.7% protein, 32.9% lipid, and 13.9% carbohydrate.\n",
    "\n",
    "Ingredients are tracked seperately through the model with their own digestibility coefficients. Overall, protein digestibility was 89.2%, 90.5%, and 86.2% and carbohydrate digestibility was 69.6%, 79.7%, and 69.3% within the reference, past, and future feeds respectively. The digestibility of lipids was assumed to remain constant across all ingredients at 96%."
   ],
   "id": "a2286d85-0a63-40ac-ab47-81aefcc30ffd"
  },
  {
   "cell_type": "code",
   "execution_count": null,
   "metadata": {
    "layout-align": "center"
   },
   "outputs": [
    {
     "output_type": "display_data",
     "metadata": {},
     "data": {}
    }
   ],
   "source": [
    "p1 <- feed_summary %>%\n",
    "  mutate(digest_total = digest * total) %>% \n",
    "  ggplot(aes(x = feed, y = total, fill = macro)) +\n",
    "  geom_col(position = \"dodge\", alpha = 0.55, colour = \"black\") +\n",
    "  geom_col(mapping = aes(y = digest_total), position = \"dodge\", alpha = 1, colour = \"black\") +\n",
    "  scale_fill_manual(values = macro_pal) +\n",
    "  scale_y_continuous(breaks = seq(0,0.5,0.1), labels = seq(0,50,10)) +\n",
    "  scale_x_discrete(labels = c(\"reference\" = \"Reference\", \"past\" = \"Past\", \"future\" = \"Future\")) +\n",
    "  labs(x = \"Feed\", y = \"Proportion (%)\") +\n",
    "  prettyplot()\n",
    "\n",
    "feed_ings <- rbind(\n",
    "  feed_params[[1]][[1]] %>% mutate(feed = as.factor(\"reference\")), \n",
    "  feed_params[[2]][[1]] %>% mutate(feed = as.factor(\"past\")), \n",
    "  feed_params[[3]][[1]] %>% mutate(feed = as.factor(\"future\"))\n",
    ") %>%\n",
    "  rename(protein = macro) %>%\n",
    "  mutate(\n",
    "    category = case_when(\n",
    "      str_detect(ingredient, \"fish-oil\") ~ \"fish\",\n",
    "      str_detect(ingredient, \"fishmeal\") ~ \"fish\",\n",
    "      str_detect(ingredient, \"krill\") ~ \"other-marine\",\n",
    "      str_detect(ingredient, \"soy\") ~ \"legume\",\n",
    "      str_detect(ingredient, \"pea\") ~ \"legume\",\n",
    "      str_detect(ingredient, \"guar\") ~ \"legume\",\n",
    "      str_detect(ingredient, \"faba\") ~ \"legume\",\n",
    "      str_detect(ingredient, \"corn\") ~ \"wheat-corn\",\n",
    "      str_detect(ingredient, \"wheat\") ~ \"wheat-corn\",\n",
    "      str_detect(ingredient, \"chicken\") ~ \"chicken\",\n",
    "      str_detect(ingredient, \"bacteri\") ~ \"bact-fungi-micro\",\n",
    "      str_detect(ingredient, \"yeast\") ~ \"bact-fungi-micro\",\n",
    "      str_detect(ingredient, \"spirulina\") ~ \"bact-fungi-micro\",\n",
    "      str_detect(ingredient, \"bsf\") ~ \"insect\",\n",
    "      T ~ \"other-plant\"\n",
    "    ) %>% \n",
    "      factor(levels = c(\"fish\", \"other-marine\", \"chicken\", \"wheat-corn\", \"legume\", \"other-plant\", \"insect\", \"bact-fungi-micro\"))\n",
    "  )\n",
    "\n",
    "p_ings <- feed_ings %>% \n",
    "  mutate(feed = factor(feed, levels = c(\"reference\", \"past\", \"future\"), labels = c(\"Reference\", \"Past\", \"Future\"))) %>% \n",
    "  group_by(feed, category) %>%\n",
    "  reframe(proportion = sum(proportion)) %>% \n",
    "  ggplot(aes(x = \"\", y = proportion, fill = category)) +\n",
    "  geom_col(width = 1, colour = \"black\") +\n",
    "  coord_polar(\"y\", start = 0) +\n",
    "  scale_fill_manual(\n",
    "    name = \"Ingredient category\",\n",
    "    values = c(\"fish\" = \"royalblue3\", \"other-marine\" = \"turquoise2\", \"chicken\" = \"hotpink1\", \"wheat-corn\" = \"moccasin\", \"legume\" = \"forestgreen\", \"other-plant\" = \"darkolivegreen1\", \"insect\" = \"firebrick3\", \"bact-fungi-micro\" = \"darkorange\"), \n",
    "    labels = c(\"Fish meal or oil\", \"Other marine ingredients\", \"Chicken\", \"Wheat and corn\", \"Legumes\", \"Other plant ingredients\", \"Insects\", \"Bacteria, fungi or microalgae\")) +\n",
    "  facet_grid(cols = vars(feed)) +\n",
    "  theme_void() +\n",
    "  theme(\n",
    "    text = element_text(family = \"serif\", size = 12, colour = \"black\"),\n",
    "    legend.position = \"bottom\",\n",
    "    legend.title = element_blank(), \n",
    "    strip.text = element_blank(),\n",
    "    strip.text.x = element_text(size = 14)\n",
    "  )\n",
    "\n",
    "plot_grid(p1, p_ings, nrow = 2)"
   ],
   "id": "cell-fig-feed-summary-ideas"
  },
  {
   "cell_type": "markdown",
   "metadata": {},
   "source": [
    "## Model population and biomass"
   ],
   "id": "aef6d51a-8389-4a25-b90f-56b0f0d76131"
  },
  {
   "cell_type": "code",
   "execution_count": null,
   "metadata": {
    "layout-align": "center"
   },
   "outputs": [],
   "source": [
    "farmrun_files <- file.path(output_cohort_growth_data_path) %>% \n",
    "  list.files(full.names = T)\n",
    "\n",
    "weight <- purrr::map(farmrun_files, function(f) {qs::qread(f)[[\"weight_stat\"]]}) %>%\n",
    "  bind_rows()\n",
    "biomass <- purrr::map(farmrun_files, function(f) {qs::qread(f)[[\"biomass_stat\"]]}) %>%\n",
    "  bind_rows()"
   ],
   "id": "d89a0409-eee6-4931-9230-a531e3fa2b6d"
  },
  {
   "cell_type": "code",
   "execution_count": null,
   "metadata": {
    "layout-align": "center"
   },
   "outputs": [
    {
     "output_type": "display_data",
     "metadata": {},
     "data": {}
    }
   ],
   "source": [
    "fnms <- output_farm_growth_data_path %>% \n",
    "  list.files(full.names = T) %>% \n",
    "  str_subset(\"reference\")\n",
    "\n",
    "df <- qs::qread(fnms[1])[[\"biomass_stat\"]] %>% \n",
    "  as.data.frame() %>% \n",
    "  mutate(mean = set_units(mean, \"g\") %>% set_units(\"t\"),\n",
    "         sd = set_units(sd, \"g\") %>% set_units(\"t\")) %>% \n",
    "  select(-farm_ID)\n",
    "\n",
    "df <- rbind(\n",
    "  df %>% mutate(cohort = 1),\n",
    "  df %>% mutate(t = t+365, cohort = 2),\n",
    "  df %>% mutate(t = t+730, cohort = 3)\n",
    ") %>% \n",
    "  mutate(t = (t-min(t))+1,\n",
    "         split = \"Split by cohort\")\n",
    "\n",
    "min_t <- min(df$t[df$cohort == 2])\n",
    "max_t <- max(df$t[df$cohort == 2])\n",
    "\n",
    "df_2 <- df %>% \n",
    "  filter(t %in% min_t:max_t) %>% \n",
    "  mutate(sd = sd/mean) %>% \n",
    "  group_by(t) %>% \n",
    "  reframe(sd = sqrt(sum(sd^2)),\n",
    "          mean = sum(mean),\n",
    "          sd = sd*mean) %>% \n",
    "  mutate(cohort = \"all\",\n",
    "         split = \"Totalled\")\n",
    "\n",
    "df <- rbind(df, df_2) %>% \n",
    "  mutate(cohort = as.factor(cohort))\n",
    "\n",
    "ggplot(df, aes(x = t, y = mean, ymin = mean-sd, ymax = mean+sd, colour = as.factor(cohort))) +\n",
    "  geom_line(linewidth = 0.75) +\n",
    "  geom_ribbon(linetype = \"dotted\", alpha = 0) +\n",
    "  facet_grid(cols = vars(split)) +\n",
    "  scale_x_continuous(breaks = seq(0, 1600, 120)) +\n",
    "  scale_colour_manual(values = cohort_pal) +\n",
    "  prettyplot() +\n",
    "  labs(y = \"Farm biomass\", x = \"Day of production\")"
   ],
   "id": "cell-fig-cohorts"
  },
  {
   "cell_type": "code",
   "execution_count": null,
   "metadata": {
    "layout-align": "center"
   },
   "outputs": [],
   "source": [
    "coho_biom <- file.path(data_analysis_path, \"biomass_produced_comparison.qs\") %>% \n",
    "  qs::qread()\n",
    "harv_size <- file.path(output_farm_data_path, \"farm_harvest_size.qs\") %>% \n",
    "  qread()\n",
    "\n",
    "coho_biom_summ <- coho_biom %>% \n",
    "  mutate(perc_diff = 100*(mean - tonnes_per_farm)/tonnes_per_farm)"
   ],
   "id": "6a204382-cc97-4a75-827b-977e216d74c1"
  },
  {
   "cell_type": "markdown",
   "metadata": {},
   "source": [
    "Each farm’s final population was calculated by dividing the production tonnage required by the average modelled individual harvest size for each farm (when feed reference feed). A population timeseries was the generated using the standard mortality rate (5.99798^{-4} d$^{-1}$). Using this method, a farm’s ‘population’ is not a good representation of the actual number of individuals being farmed, but it ensures each farm location is producing the correct tonnage while allowing comparisons between the different feeds."
   ],
   "id": "b47893ba-1135-4bb3-8b85-05aaf4445030"
  },
  {
   "cell_type": "code",
   "execution_count": null,
   "metadata": {
    "layout-align": "center"
   },
   "outputs": [],
   "source": [],
   "id": "cell-fig-harvest-size"
  },
  {
   "cell_type": "markdown",
   "metadata": {},
   "source": [
    "By this method, farm biomass as predicted by the model slightly overestimated farm tonnage. Predicted farm biomass was 2.4-6.5 higher than tonnage produced (<a href=\"#fig-biomass-produced\" class=\"quarto-xref\">Figure 6</a>). This variation was not correlated with mean farm temperature or total tonnage produced (<a href=\"#fig-biomass-variation\" class=\"quarto-xref\">Figure 5</a>)."
   ],
   "id": "0d3a9598-d556-403b-a2b5-9b6eb0a74dc9"
  },
  {
   "cell_type": "code",
   "execution_count": null,
   "metadata": {
    "layout-align": "center"
   },
   "outputs": [],
   "source": [],
   "id": "cell-fig-biomass-variation"
  },
  {
   "cell_type": "code",
   "execution_count": null,
   "metadata": {
    "layout-align": "center"
   },
   "outputs": [],
   "source": [],
   "id": "cell-fig-biomass-produced"
  },
  {
   "cell_type": "markdown",
   "metadata": {},
   "source": [
    "## Impacts of nutrient input\n",
    "\n",
    "General thoughts is that a risk-assessment approach is most compelling:\n",
    "\n",
    "-   Hazard: Nutrient input. Present as a change between feeds (%?), relative to background levels (ratio?)\n",
    "    -   Possibly ask Camille how the quotas for Tasmanian salmon are calculated\n",
    "    -   Background levels are from [oceanhealthindex.org](https://knb.ecoinformatics.org/view/resource_map_doi:10.5063/F1610XPS) - double-check that it includes wastewater input AND agriculture - should include both - if they’re not combined ask Ben because he has them combined somewhere\n",
    "    -   If this is too uncertain perhaps combine into categorical (oligotrophic/eutrophic) classification?\n",
    "-   Exposure: Species presence. Use IUCN/Aquamap data to estimate the % of each species range is occupied by farms\n",
    "    -   give each farm a 1km radius, check for overlaps\n",
    "    -   Gage already has the data to process the Aquamap data\n",
    "-   Vulnerability: species vulnerability to eutrophication + nutrient input - from Butt et al. ([2022](#ref-butt_trait-based_2022)). Possibly also use IUCN threat levels for prioritisation?\n",
    "\n",
    "# Statistical analysis & code availability\n",
    "\n",
    "All analysis was conducted in R version 4.4.2 “Pile of Leaves” ([R Core Team 2019](#ref-R_base)). Major packages used include packages `magrittr`, version 2.0.3 ([Bache and Wickham 2022](#ref-magrittr)), `dplyr`, version 1.1.4 ([Wickham et al. 2023](#ref-dplyr)), `tidyr`, version 1.3.1 ([Wickham, Vaughan, and Girlich 2024](#ref-tidyr)), `stringr`, version 1.5.1 ([Wickham 2023](#ref-stringr)), `ggplot2`, version 3.5.2 ([Wickham 2016](#ref-ggplot2)), `arrow`, version 20.0.0.2 ([Richardson et al. 2024](#ref-arrow)), `targets`, version 1.11.3 ([Landau 2021](#ref-targets)), `sf`, version 1.0.21 ([Pebesma 2018](#ref-sf)), `terra`, version 1.8.54 ([Hijmans 2024](#ref-terra)), `rnaturalearth`, version 1.1.0 ([Massicotte and South, n.d.](#ref-rnaturalearth)), `furrr`, version 0.3.1 ([Vaughan and Dancho 2022](#ref-furrr)), `future`, version 1.58.0 ([Bengtsson 2021](#ref-future)), `units`, version 0.8.7 ([Pebesma, Mailund, and Hiebert 2016](#ref-units)), and `lubridate`, version 1.9.4 ([Grolemund and Wickham 2011](#ref-lubridate)). For a full list of R packages used see the lockfile on [Github](https://www.github.com). This manuscript was written in Quarto ([Allaire et al. 2024](#ref-quarto)) using TinyTex ([Xie 2017](#ref-tinytex)) and the acronyms extension ([Chaput 2024](#ref-acronyms)).\n",
    "\n",
    "# Results\n",
    "\n",
    "-   Parameter sensitivity results are in supplementary <a href=\"#sec-parameter-sensitivity\" class=\"quarto-xref\">Section 4.1</a>\n",
    "\n",
    "In general, data outputs comes in the following dimensions:\n",
    "\n",
    "-   Location -\\> temperature -\\> farm_ID\n",
    "-   Uneaten feed + excreted faeces = total inputs (g)\n",
    "-   Day of production (impacted by location)\n",
    "-   Main point is the difference between feeds (kg/t salmon).\n",
    "-   Also interesting to see if difference between feeds varies geographically (correlates with latitude, or maybe mean/median/max temperature?)\n",
    "\n",
    "## Uneaten feed and faeces"
   ],
   "id": "3b9cf352-71a1-4587-a97d-207cc6beb356"
  },
  {
   "cell_type": "code",
   "execution_count": null,
   "metadata": {
    "layout-align": "center"
   },
   "outputs": [],
   "source": [
    "uneaten_total <- farmrun_files %>% \n",
    "  purrr::map(function(f) {qs::qread(f)[[\"total_uneat_stat\"]]}) %>% \n",
    "  bind_rows() %>% \n",
    "  merge(biomass, by = c(\"farm_ID\", \"feed\", \"t\")) %>% \n",
    "  rename(uneat_mean = mean.x, biomass_mean = mean.y,\n",
    "         uneat_sd = sd.x, biomass_sd = sd.y) %>% \n",
    "  mutate(uneat_sd = uneat_sd/uneat_mean,\n",
    "         biomass_sd = biomass_sd/biomass_mean,\n",
    "         uneat_biom_mean = uneat_mean/biomass_mean,\n",
    "         uneat_biom_sd = sqrt(uneat_sd^2+biomass_sd^2)*uneat_biom_mean)"
   ],
   "id": "630f3e23-c8d3-436e-bd50-2528fda4b9c6"
  },
  {
   "cell_type": "code",
   "execution_count": null,
   "metadata": {
    "layout-align": "center"
   },
   "outputs": [],
   "source": [
    "uneaten_total_stats <- uneaten_total %>% \n",
    "  group_by(feed, farm_ID) %>% \n",
    "  reframe(total = sum(uneat_biom_mean)) %>% \n",
    "  group_by(feed) %>% \n",
    "  reframe(min = minna(total),\n",
    "          max = maxna(total),\n",
    "          mean = meanna(total)) %>% \n",
    "  mutate(min = min %>% set_units(\"g g_fish-1\") %>% set_units(\"g kg_fish-1\"),\n",
    "         max = max %>% set_units(\"g g_fish-1\") %>% set_units(\"g kg_fish-1\"),\n",
    "         mean = mean %>% set_units(\"g g_fish-1\") %>% set_units(\"g kg_fish-1\")) %>% \n",
    "  mutate(min = round(min,2),\n",
    "         max = round(max,2),\n",
    "         mean = round(mean,2))\n",
    "\n",
    "uneaten_total_compare <- uneaten_total %>% \n",
    "  group_by(feed, farm_ID) %>% \n",
    "  reframe(total = sum(uneat_biom_mean)) %>% \n",
    "  pivot_wider(names_from = \"feed\", values_from = \"total\", id_cols = \"farm_ID\") %>% \n",
    "  mutate(diff_past = past-reference,\n",
    "         diff_future = future-reference,\n",
    "         diffperc_past = diff_past/reference,\n",
    "         diffperc_future = diff_future/reference) %>% \n",
    "  dplyr::select(-c(reference, future, past)) %>% \n",
    "  pivot_longer(names_to = c(\"measure\", \"feed\"), names_sep = \"_\", values_to = \"value\",\n",
    "               cols = contains(\"diff\"), names_transform = list(measure = as.factor, feed = as.factor)) %>% \n",
    "  group_by(feed, measure) %>% \n",
    "  reframe(min = minna(value),\n",
    "          max = maxna(value),\n",
    "          mean = meanna(value)) %>% \n",
    "  mutate(\n",
    "    min = case_when(measure == \"diffperc\" ~ 100*min,\n",
    "                    T ~ min %>% set_units(\"g g_fish-1\") %>% set_units(\"g kg_fish-1\") %>% drop_units()),\n",
    "    max = case_when(measure == \"diffperc\" ~ 100*max,\n",
    "                    T ~ max %>% set_units(\"g g_fish-1\") %>% set_units(\"g kg_fish-1\") %>% drop_units()),\n",
    "    mean = case_when(measure == \"diffperc\" ~ 100*mean,\n",
    "                     T ~ mean %>% set_units(\"g g_fish-1\") %>% set_units(\"g kg_fish-1\") %>% drop_units()),\n",
    "    )"
   ],
   "id": "8f11fde1-f117-453e-980b-fb56e7c38b97"
  },
  {
   "cell_type": "markdown",
   "metadata": {},
   "source": [
    "Total uneaten feed across a cohort (548 days) fed the reference feed ranged from 48.46 to 73.82 g kg$^{-1}$ fish, with a mean of 61.71 g kg$^{-1}$ fish. Differences between the feeds were very small, but slightly less feed was left uneaten in the reference scenario (<a href=\"#fig-total-uneaten-perday\" class=\"quarto-xref\">Figure 7</a>). Uneaten feed in the past scenario ranged from 48.72 to 74.52 g kg$^{-1}$ fish (mean of 62.17 g kg$^{-1}$ fish) while uneaten feed in the future scenario ranged from 48.73 to 74.25 g kg$^{-1}$ (mean of 62.05 g kg$^{-1}$ fish)."
   ],
   "id": "96980826-625d-470a-adff-e5ca2b9d3981"
  },
  {
   "cell_type": "code",
   "execution_count": null,
   "metadata": {
    "layout-align": "center"
   },
   "outputs": [
    {
     "output_type": "display_data",
     "metadata": {},
     "data": {}
    }
   ],
   "source": [
    "uneaten_total %>% \n",
    "  merge(farms_geometry, by = \"farm_ID\") %>% \n",
    "  mutate(uneat_biom_mean = uneat_biom_mean %>% set_units(\"g g_fish-1 d-1\") %>% set_units(\"g kg_fish-1 d-1\"),\n",
    "         country = factor(country, levels = sorted_countries)) %>% \n",
    "  ggplot(aes(x = country, y = uneat_biom_mean, fill = feed)) +\n",
    "  geom_boxplot() +\n",
    "  prettyplot() +\n",
    "  scale_fill_manual(values = feed_pal) +\n",
    "  labs(y = \"Uneaten feed\", x = \"Country\")"
   ],
   "id": "cell-fig-total-uneaten-perday"
  },
  {
   "cell_type": "code",
   "execution_count": null,
   "metadata": {
    "layout-align": "center"
   },
   "outputs": [],
   "source": [
    "uneaten_P <- farmrun_files %>% purrr::map(function(f) {qs::qread(f)[[\"P_uneat_stat\"]]}) %>% bind_rows()\n",
    "uneaten_L <- farmrun_files %>% purrr::map(function(f) {qs::qread(f)[[\"L_uneat_stat\"]]}) %>% bind_rows()\n",
    "uneaten_C <- farmrun_files %>% purrr::map(function(f) {qs::qread(f)[[\"C_uneat_stat\"]]}) %>% bind_rows()\n",
    "\n",
    "uneaten_all <- uneaten_total %>% \n",
    "  select(-contains(\"biom\")) %>% \n",
    "  merge(uneaten_P, by = c(\"farm_ID\", \"feed\", \"t\")) %>% \n",
    "  merge(uneaten_L, by = c(\"farm_ID\", \"feed\", \"t\")) %>% \n",
    "  merge(uneaten_C, by = c(\"farm_ID\", \"feed\", \"t\")) %>% \n",
    "  select(-c(contains(\"sd\")))"
   ],
   "id": "2d954537-0825-4f25-abed-a42cf1871baf"
  },
  {
   "cell_type": "markdown",
   "metadata": {},
   "source": [
    "The composition of the uneaten feed is (obviously) the same as the total feed composition detailed in (<a href=\"#sec-feeds\" class=\"quarto-xref\">Section 1.3</a>).\n",
    "\n",
    "## Excreted faeces"
   ],
   "id": "b6d3c4b6-f256-47e7-997f-0346dbf74dd2"
  },
  {
   "cell_type": "code",
   "execution_count": null,
   "metadata": {
    "layout-align": "center"
   },
   "outputs": [],
   "source": [
    "# The following reads in all the total excretion data and converts the mean and sd values into values/biomass\n",
    "excreted_total <- farmrun_files %>% \n",
    "  purrr::map(function(f) {qs::qread(f)[[\"total_excr_stat\"]]}) %>% \n",
    "  bind_rows() %>% \n",
    "  merge(biomass, by = c(\"farm_ID\", \"feed\", \"t\")) %>% \n",
    "  rename(excr_mean = mean.x, biomass_mean = mean.y,\n",
    "         excr_sd = sd.x, biomass_sd = sd.y) %>% \n",
    "  mutate(excr_sd = excr_sd/excr_mean,\n",
    "         biomass_sd = biomass_sd/biomass_mean,\n",
    "         excr_biom_mean = excr_mean/biomass_mean,\n",
    "         excr_biom_sd = sqrt(excr_sd^2+biomass_sd^2)*excr_biom_mean)\n",
    "\n",
    "excreted_total_stats <- excreted_total %>% \n",
    "  group_by(feed, farm_ID) %>% \n",
    "  reframe(total = sum(excr_biom_mean)) %>% \n",
    "  group_by(feed) %>% \n",
    "  reframe(min = minna(total),\n",
    "          max = maxna(total),\n",
    "          mean = meanna(total)) %>% \n",
    "  mutate(min = min %>% set_units(\"g g_fish-1\") %>% set_units(\"g kg_fish-1\"),\n",
    "         max = max %>% set_units(\"g g_fish-1\") %>% set_units(\"g kg_fish-1\"),\n",
    "         mean = mean %>% set_units(\"g g_fish-1\") %>% set_units(\"g kg_fish-1\")) %>% \n",
    "  mutate(min = round(min,2),\n",
    "         max = round(max,2),\n",
    "         mean = round(mean,2))"
   ],
   "id": "b7732188-7262-4d30-9438-24fdd4c451ed"
  },
  {
   "cell_type": "markdown",
   "metadata": {},
   "source": [
    "### Amount\n",
    "\n",
    "Overall, total excretion was lowest when when fish were fed the past feed and highest when fish were fed the reference feed (<a href=\"#fig-total-excreted-perday\" class=\"quarto-xref\">Figure 8</a>). Total excreted faeces across a cohort (548 days) in the reference scenario ranged from 194.24 to 295.9 g kg$^{-1}$ fish d$^{-1}$, with a mean of 247.38. Total excreted faeces across a cohort in the past scenario ranged from 154.33 to 236.05 g kg$^{-1}$ fish d$^{-1}$ (mean of 196.94 g kg$^{-1}$ fish d$^{-1}$). Total excreted faeces across a cohort in the future scenario ranged from 202.55 to 308.61 g kg$^{-1}$ fish d$^{-1}$ (mean of 257.91 g kg$^{-1}$ fish d$^{-1}$)."
   ],
   "id": "2196bf7b-294a-42b1-861a-4ecef83fe8ef"
  },
  {
   "cell_type": "code",
   "execution_count": null,
   "metadata": {
    "layout-align": "center"
   },
   "outputs": [
    {
     "output_type": "display_data",
     "metadata": {},
     "data": {}
    }
   ],
   "source": [
    "excreted_total %>% \n",
    "  merge(farms_geometry, by = \"farm_ID\") %>% \n",
    "  mutate(excr_biom_mean = excr_biom_mean %>% set_units(\"g g_fish-1 d-1\") %>% set_units(\"g kg_fish-1 d-1\"),\n",
    "         country = factor(country, levels = sorted_countries)) %>% \n",
    "  ggplot(aes(x = country, y = excr_biom_mean, fill = feed)) +\n",
    "  geom_boxplot() +\n",
    "  prettyplot() +\n",
    "  scale_fill_manual(values = feed_pal) +\n",
    "  labs(y = \"Excreted faeces\", x = \"Country\")"
   ],
   "id": "cell-fig-total-excreted-perday"
  },
  {
   "cell_type": "code",
   "execution_count": null,
   "metadata": {
    "layout-align": "center"
   },
   "outputs": [],
   "source": [],
   "id": "cell-fig-total-excr-diff_perc"
  },
  {
   "cell_type": "code",
   "execution_count": null,
   "metadata": {
    "layout-align": "center"
   },
   "outputs": [],
   "source": [],
   "id": "cell-fig-total-excr-diff_perc_2"
  },
  {
   "cell_type": "markdown",
   "metadata": {},
   "source": [
    "However, the actual difference in excreted faeces varied by feed, time in the production cycle, and location of the farm **?@fig-total-excr-act_diff**."
   ],
   "id": "ac1a548e-18a9-47c1-9755-02320aa7f395"
  },
  {
   "cell_type": "code",
   "execution_count": null,
   "metadata": {
    "layout-align": "center"
   },
   "outputs": [],
   "source": [
    "df <- excreted_total %>% \n",
    "  select(-contains(c(\"sd\", \"excr_mean\", \"biomass\"))) %>% \n",
    "  pivot_wider(names_from = \"feed\", values_from = \"excr_biom_mean\") %>% \n",
    "  mutate(past = past-reference,\n",
    "         future = future-reference) %>% \n",
    "  pivot_longer(names_to = \"feed\", values_to = \"diff\", cols = c(past, future), names_transform = list(feed = as.factor)) %>% \n",
    "  mutate(reference = set_units(reference, \"g kg_fish-1 d-1\"),\n",
    "         diff = set_units(diff, \"kg t_fish-1 d-1\")) %>% \n",
    "  merge(farm_coords, by = \"farm_ID\") %>% \n",
    "  mutate(prod_day = t-t_start+1)\n",
    "\n",
    "summ <- df %>%\n",
    "  group_by(hemisphere, feed) %>% \n",
    "  reframe(mean = meanna(diff) %>% round(3),\n",
    "          min = meanna(diff) %>% round(3),\n",
    "          max = maxna(diff) %>% round(3))\n",
    "\n",
    "df %>% \n",
    "  group_by(hemisphere, feed, prod_day) %>% \n",
    "  reframe(mean_diff = meanna(diff),\n",
    "          sd_diff = sdna(diff) %>% set_units(\"kg t_fish-1 d-1\")) %>% \n",
    "  ggplot(aes(x = prod_day, y = mean_diff, ymin = mean_diff-sd_diff, ymax = mean_diff+sd_diff, colour = hemisphere, fill = hemisphere)) +\n",
    "  geom_line(linewidth = 0.75) +\n",
    "  geom_ribbon(alpha = 0.25) +\n",
    "  facet_wrap(~feed) +\n",
    "  prettyplot()"
   ],
   "id": "cell-fig-total-excr-act_diff"
  },
  {
   "cell_type": "markdown",
   "metadata": {},
   "source": [
    "### Composition"
   ],
   "id": "c04ecb62-f486-498a-b33e-d5ff183da3d4"
  },
  {
   "cell_type": "code",
   "execution_count": null,
   "metadata": {
    "layout-align": "center"
   },
   "outputs": [],
   "source": [
    "excreted_P <- farmrun_files %>% purrr::map(function(f) {qs::qread(f)[[\"P_excr_stat\"]]}) %>% bind_rows()\n",
    "excreted_L <- farmrun_files %>% purrr::map(function(f) {qs::qread(f)[[\"L_excr_stat\"]]}) %>% bind_rows()\n",
    "excreted_C <- farmrun_files %>% purrr::map(function(f) {qs::qread(f)[[\"C_excr_stat\"]]}) %>% bind_rows()\n",
    "\n",
    "excreted_all <- excreted_total %>% \n",
    "  select(-contains(\"biom\")) %>% \n",
    "  merge(excreted_P, by = c(\"farm_ID\", \"feed\", \"t\")) %>% \n",
    "  merge(excreted_L, by = c(\"farm_ID\", \"feed\", \"t\")) %>% \n",
    "  merge(excreted_C, by = c(\"farm_ID\", \"feed\", \"t\")) %>% \n",
    "  select(-c(contains(\"sd\"))) %>% \n",
    "  rename(protein = mean.x, lipids = mean.y, carbohydrates = mean) %>% \n",
    "  mutate(protein = protein/excr_mean %>% set_units(\"d-1\"),\n",
    "         lipids = lipids/excr_mean %>% set_units(\"d-1\"),\n",
    "         carbohydrates = carbohydrates/excr_mean %>% set_units(\"d-1\")) %>% \n",
    "  select(-excr_mean)\n",
    "\n",
    "ec <- excreted_all %>% \n",
    "  group_by(feed) %>% \n",
    "  reframe(P = mean(protein),\n",
    "          C = mean(carbohydrates),\n",
    "          L = mean(lipids)) %>% \n",
    "  mutate(source = \"excreted\") %>% \n",
    "  rbind(data.frame(\n",
    "    feed = c(\"reference\", \"past\", \"future\"),\n",
    "    P = c(tP_1, tP_2, tP_3),\n",
    "    C = c(tC_1, tC_2, tC_3),\n",
    "    L = c(tL_1, tL_2, tL_3),\n",
    "    source = rep(\"feed\", 3)\n",
    "  )) %>% \n",
    "  pivot_longer(cols = c(P,L,C), names_to = \"macro\", values_to = \"value\", \n",
    "               names_transform = list(macro = as.factor), values_transform = list(value = as.numeric)) %>% \n",
    "  mutate(source = factor(source, levels = c(\"feed\", \"excreted\")),\n",
    "         macro = factor(macro, levels = c(\"P\", \"L\", \"C\"), labels = c(\"Protein\", \"Lipids\", \"Carbohydrates\")),\n",
    "         feed = factor(feed, levels = c(\"reference\", \"past\", \"future\")),\n",
    "         source = factor(source, levels = c(\"feed\", \"excreted\"), labels = c(\"Feed\", \"Faeces\")))"
   ],
   "id": "31f968ca-483c-429a-9e2f-9cb4d42006eb"
  },
  {
   "cell_type": "markdown",
   "metadata": {},
   "source": [
    "Unlike the uneaten feed, the composition of excreted faeces differs from that of the incoming feed. <span class=\"column-margin margin-aside\">Note that composition does not change through time or with increasing biomass (because digestibility does not change with fish size or temeprature)</span>"
   ],
   "id": "23edce4d-3881-48d2-a2be-0300a47b2a81"
  },
  {
   "cell_type": "code",
   "execution_count": null,
   "metadata": {
    "layout-align": "center"
   },
   "outputs": [],
   "source": [],
   "id": "aaef093c-4071-43bd-8858-cc645bb65f07"
  },
  {
   "cell_type": "code",
   "execution_count": null,
   "metadata": {
    "layout-align": "center"
   },
   "outputs": [
    {
     "output_type": "display_data",
     "metadata": {},
     "data": {}
    }
   ],
   "source": [
    "ggplot(ec, aes(x = source, y = 100*value, fill = feed)) +\n",
    "  geom_col(colour = \"black\", position = position_dodge(width = 0.9), alpha = 0.75) +\n",
    "  facet_grid(cols = vars(macro)) +\n",
    "  prettyplot() +\n",
    "  scale_fill_manual(values = feed_pal) +\n",
    "  scale_y_continuous(breaks = seq(0, 60, 10)) +\n",
    "  labs(y = \"Composition (%)\", x = \"Source\")"
   ],
   "id": "cell-fig-composition-comparison"
  },
  {
   "cell_type": "markdown",
   "metadata": {},
   "source": [
    "## Total nutrients\n",
    "\n",
    "# Supplementary materials\n",
    "\n",
    "## Parameter sensitivity"
   ],
   "id": "b00b3f4f-5599-481e-98a3-6f8ce41f31ea"
  },
  {
   "cell_type": "code",
   "execution_count": null,
   "metadata": {
    "layout-align": "center"
   },
   "outputs": [],
   "source": [
    "sens_weight <- output_sens_data_path %>% \n",
    "  list.files(full.names = T) %>% \n",
    "  str_subset(\"results\") %>% \n",
    "  str_subset(\"weight\") %>% \n",
    "  qs::qread()\n",
    "\n",
    "sens_excr <- output_sens_data_path %>% \n",
    "  list.files(full.names = T) %>% \n",
    "  str_subset(\"results\") %>% \n",
    "  str_subset(\"total_excr\") %>% \n",
    "  qs::qread() \n",
    "\n",
    "sens_data <- rbind(sens_weight, sens_excr)"
   ],
   "id": "2785b6a5-011e-4ad3-8c1b-9b87456c4cb6"
  },
  {
   "cell_type": "markdown",
   "metadata": {},
   "source": [
    "The most sensitive parameter by far in <a href=\"#fig-param-sens-weight\" class=\"quarto-xref\">Figure 10</a> is $m$ (the weight exponent for anabolism), followed closely by $n$ the (weight exponent for catabolism). These two are also relatively uncertain, as $m$ was taken from *Salmo trutta* measurements in a fairly old paper ([Broekhuizen et al. 1994](#ref-broekhuizen_modelling_1994)) and $n$ was taken from Baldan et al. ([2018](#ref-baldan_r_2018)) which did not specifically look at Atlantic salmon."
   ],
   "id": "86407933-025c-44d8-a02e-f7e50eff1f2f"
  },
  {
   "cell_type": "code",
   "execution_count": null,
   "metadata": {
    "layout-align": "center"
   },
   "outputs": [
    {
     "output_type": "display_data",
     "metadata": {},
     "data": {}
    }
   ],
   "source": [
    "sens_data <- sens_data %>% \n",
    "  filter(measure %in% c(\"total_excr\", \"total_uneat\")) \n",
    "\n",
    "sens_data %>% \n",
    "  ggplot(aes(x = adj_param, y = mean_sens, ymin = mean_sens - sd_sens, ymax = mean_sens + sd_sens, fill = measure)) +\n",
    "  geom_col(position = position_dodge(), width = 0.95, colour = \"black\", alpha = 0.75) +\n",
    "  # geom_errorbar(position = position_dodge(width = 0.95), width = 0.3) +\n",
    "  geom_hline(aes(yintercept = 0), linetype = \"dashed\") +\n",
    "  scale_y_continuous(breaks = seq(-30,30,5), limits = c(-10,30)) +\n",
    "  # scale_x_discrete(limits = rev(param_names$name), labels = rev(param_names$lab)) +\n",
    "  # scale_fill_manual(values = c(total_excr = \"salmon\", total_uneat = \"steelblue\")) +\n",
    "  labs(x = \"Adjusted parameter\", y = \"Sensitivity\") +\n",
    "  prettyplot() +\n",
    "  theme(strip.text = element_blank(), \n",
    "        aspect.ratio = 0.8,\n",
    "        axis.title.y = element_blank()) +\n",
    "  coord_flip()"
   ],
   "id": "cell-fig-param-sens-weight"
  },
  {
   "cell_type": "markdown",
   "metadata": {},
   "source": [
    "# References\n",
    "\n",
    "Allaire, J. J., Charles Teague, Carlos Scheidegger, Yihui Xie, and Christophe Dervieux. 2024. ‘Quarto’. <https://doi.org/10.5281/zenodo.5960048>.\n",
    "\n",
    "Bache, Stefan Milton, and Hadley Wickham. 2022. *Magrittr: A Forward-Pipe Operator for r*. <https://CRAN.R-project.org/package=magrittr>.\n",
    "\n",
    "Baldan, Damiano, Erika M. D. Porporato, Roberto Pastres, and Daniele Brigolin. 2018. ‘An R Package for Simulating Growth and Organic Wastage in Aquaculture Farms in Response to Environmental Conditions and Husbandry Practices’. *PLOS ONE* 13 (5): e0195732. <https://doi.org/10.1371/journal.pone.0195732>.\n",
    "\n",
    "Bengtsson, Henrik. 2021. ‘A Unifying Framework for Parallel and Distributed Processing in r Using Futures’. *The R Journal* 13 (2): 208–27. <https://doi.org/10.32614/RJ-2021-048>.\n",
    "\n",
    "Broekhuizen, Niall., William. S. C. Gurney, A. Jones, and A. D. Bryant. 1994. ‘Modelling Compensatory Growth’. *Functional Ecology* 8 (6): 770–82. <https://doi.org/10.2307/2390237>.\n",
    "\n",
    "Butt, Nathalie, Benjamin S. Halpern, Casey C. O’Hara, A. Louise Allcock, Beth Polidoro, Samantha Sherman, Maria Byrne, et al. 2022. ‘A Trait-Based Framework for Assessing the Vulnerability of Marine Species to Human Impacts’. *Ecosphere* 13 (2): e3919. <https://doi.org/10.1002/ecs2.3919>.\n",
    "\n",
    "Chaput, Remy. 2024. ‘<span class=\"nocase\">acronyms</span>’. <https://github.com/rchaput/acronyms>.\n",
    "\n",
    "Dempsey, Danielle P., Gregor K. Reid, Leah Lewis-McCrea, Toby Balch, Roland Cusack, André Dumas, and Jack Rensel. 2023. ‘Estimating Stocking Weights for Atlantic Salmon to Grow to Market Size at Novel Aquaculture Sites with Extreme Temperatures’. *Frontiers in Marine Science* 10 (May). <https://doi.org/10.3389/fmars.2023.1094247>.\n",
    "\n",
    "Elliott, J. M., and W. Davison. 1975. ‘Energy Equivalents of Oxygen Consumption in Animal Energetics’. *Oecologia* 19 (3): 195–201. <https://doi.org/10.1007/BF00345305>.\n",
    "\n",
    "Grolemund, Garrett, and Hadley Wickham. 2011. ‘Dates and Times Made Easy with <span class=\"nocase\">lubridate</span>’. *Journal of Statistical Software* 40 (3): 1–25. <https://www.jstatsoft.org/v40/i03/>.\n",
    "\n",
    "Hijmans, Robert J. 2024. *Terra: Spatial Data Analysis*. <https://CRAN.R-project.org/package=terra>.\n",
    "\n",
    "Jonsson, Bror, Torbjørn Forseth, Arne. J. Jensen, and Tor. F. Næsje. 2001. ‘Thermal Performance of Juvenile Atlantic Salmon, *Salmo Salar* L.’ *Functional Ecology* 15 (6): 701–11. <https://doi.org/10.1046/j.0269-8463.2001.00572.x>.\n",
    "\n",
    "Landau, William Michael. 2021. ‘The Targets r Package: A Dynamic Make-Like Function-Oriented Pipeline Toolkit for Reproducibility and High-Performance Computing’. *Journal of Open Source Software* 6 (57): 2959. <https://doi.org/10.21105/joss.02959>.\n",
    "\n",
    "Macnaughton, Camille J., David Deslauriers, Erinn L. Ipsen, Emily Corey, and Eva C. Enders. 2019. ‘Using Meta-Analysis to Derive a Respiration Model for Atlantic Salmon (*Salmo Salar*) to Assess Bioenergetics Requirements of Juveniles in Two Canadian Rivers’. *Canadian Journal of Fisheries and Aquatic Sciences* 76 (12): 2225–34. <https://doi.org/10.1139/cjfas-2018-0436>.\n",
    "\n",
    "Massicotte, Philippe, and Andy South. n.d. *Rnaturalearth: World Map Data from Natural Earth*. <https://github.com/ropensci/rnaturalearth>.\n",
    "\n",
    "Pebesma, Edzer. 2018. ‘Simple Features for r: Standardized Support for Spatial Vector Data’. *The R Journal* 10 (1): 439–46. <https://doi.org/10.32614/RJ-2018-009>.\n",
    "\n",
    "Pebesma, Edzer, Thomas Mailund, and James Hiebert. 2016. ‘Measurement Units in R’. *R Journal* 8 (2): 486–94. <https://doi.org/10.32614/RJ-2016-061>.\n",
    "\n",
    "Poletto, Jamilynn B., Dennis E. Cocherell, Sarah E. Baird, Trinh X. Nguyen, Valentina Cabrera-Stagno, Anthony P. Farrell, and Nann A. Fangue. 2017. ‘Unusual Aerobic Performance at High Temperatures in Juvenile Chinook Salmon, *Oncorhynchus Tshawytscha*’. *Conservation Physiology* 5 (1). <https://doi.org/10.1093/conphys/cow067>.\n",
    "\n",
    "R Core Team. 2019. *R: A Language and Environment for Statistical Computing*. Vienna, Austria: R Foundation for Statistical Computing. <https://www.R-project.org>.\n",
    "\n",
    "Richardson, Neal, Ian Cook, Nic Crane, Dewey Dunnington, Romain François, Jonathan Keane, Dragoș Moldovan-Grünfeld, Jeroen Ooms, Jacob Wujciak-Jens, and Apache Arrow. 2024. ‘Arrow: Integration to ’Apache’ ’Arrow’’. <https://CRAN.R-project.org/package=arrow>.\n",
    "\n",
    "Tvete, Ingunn Fride, Magne Aldrin, and Britt Bang Jensen. 2023. ‘Towards Better Survival: Modeling Drivers for Daily Mortality in Norwegian Atlantic Salmon Farming’. *Preventive Veterinary Medicine* 210 (January): 105798. <https://doi.org/10.1016/j.prevetmed.2022.105798>.\n",
    "\n",
    "Uglem, Ingebrigt, Kilian Toledo-Guedes, Pablo Sanchez-Jerez, Eva M. Ulvan, Tor Evensen, and Bjørn S. Sæther. 2020. ‘Does Waste Feed from Salmon Farming Affect the Quality of Saithe (*Pollachius Virens* L.) Attracted to Fish Farms?’ *Aquaculture Research* 51 (4): 1720–30. <https://doi.org/10.1111/are.14519>.\n",
    "\n",
    "Vadboncoeur, Émile, Charlotte Nelson, Jennifer R. Hall, Kathy A. Clow, Rebeccah M. Sandrelli, Colin J. Brauner, Andrew K. Swanson, and A. Kurt Gamperl. 2023. ‘Lowering Temperature to 1 °C Results in Physiological Changes, Stress and Mortality in Cultured Atlantic Salmon (*Salmo Salar*)’. *Aquaculture* 568 (April): 739313. <https://doi.org/10.1016/j.aquaculture.2023.739313>.\n",
    "\n",
    "Van Tien, Nguyen, Dam T. M. Chinh, Tran T. M. Huong, Truong H. Phuong, Simon Irvin, and Brett Glencross. 2016. ‘Development of a Nutritional Model to Define the Energy and Protein Requirements of Cobia, *Rachycentron Canadum*’. *Aquaculture* 463 (October): 193–200. <https://doi.org/10.1016/j.aquaculture.2016.05.037>.\n",
    "\n",
    "Vaughan, Davis, and Matt Dancho. 2022. *Furrr: Apply Mapping Functions in Parallel Using Futures*. <https://CRAN.R-project.org/package=furrr>.\n",
    "\n",
    "Wickham, Hadley. 2016. *Ggplot2: Elegant Graphics for Data Analysis*. Springer-Verlag New York. <https://ggplot2.tidyverse.org>.\n",
    "\n",
    "———. 2023. *Stringr: Simple, Consistent Wrappers for Common String Operations*. <https://CRAN.R-project.org/package=stringr>.\n",
    "\n",
    "Wickham, Hadley, Romain François, Lionel Henry, Kirill Müller, and Davis Vaughan. 2023. *Dplyr: A Grammar of Data Manipulation*. <https://CRAN.R-project.org/package=dplyr>.\n",
    "\n",
    "Wickham, Hadley, Davis Vaughan, and Maximilian Girlich. 2024. *Tidyr: Tidy Messy Data*. <https://CRAN.R-project.org/package=tidyr>.\n",
    "\n",
    "Xie, Yihui. 2017. ‘Tinytex: Helper Functions to Install and Maintain TeX Live, and Compile LaTeX Documents’. <https://cran.r-project.org/web/packages/tinytex>."
   ],
   "id": "393b1ebe-59c0-4cf5-8e75-1c97d3bd798f"
  }
 ],
 "nbformat": 4,
 "nbformat_minor": 5,
 "metadata": {}
}
