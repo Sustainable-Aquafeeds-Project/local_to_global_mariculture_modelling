{
 "cells": [
  {
   "cell_type": "markdown",
   "metadata": {},
   "source": [
    "# Local to global N input modelling"
   ],
   "id": "5a91c96b-ae0f-4d9e-84ae-5e6ce1150b65"
  },
  {
   "cell_type": "code",
   "execution_count": null,
   "metadata": {
    "layout-align": "center"
   },
   "outputs": [
    {
     "output_type": "stream",
     "name": "stderr",
     "text": [
      "\n",
      "Attaching package: 'dplyr'"
     ]
    },
    {
     "output_type": "stream",
     "name": "stderr",
     "text": [
      "The following objects are masked from 'package:stats':\n",
      "\n",
      "    filter, lag"
     ]
    },
    {
     "output_type": "stream",
     "name": "stderr",
     "text": [
      "The following objects are masked from 'package:base':\n",
      "\n",
      "    intersect, setdiff, setequal, union"
     ]
    },
    {
     "output_type": "stream",
     "name": "stderr",
     "text": [
      "\n",
      "Attaching package: 'tidyr'"
     ]
    },
    {
     "output_type": "stream",
     "name": "stderr",
     "text": [
      "The following object is masked from 'package:magrittr':\n",
      "\n",
      "    extract"
     ]
    },
    {
     "output_type": "stream",
     "name": "stderr",
     "text": [
      "Warning: package 'ggplot2' was built under R version 4.4.3"
     ]
    },
    {
     "output_type": "stream",
     "name": "stderr",
     "text": [
      "Warning: package 'ggh4x' was built under R version 4.4.3"
     ]
    },
    {
     "output_type": "stream",
     "name": "stderr",
     "text": [
      "here() starts at C:/Users/treimer/Documents/R-temp-files/local_to_global_mariculture_modelling"
     ]
    },
    {
     "output_type": "stream",
     "name": "stderr",
     "text": [
      "\n",
      "Attaching package: 'cowplot'"
     ]
    },
    {
     "output_type": "stream",
     "name": "stderr",
     "text": [
      "The following object is masked from 'package:ggpubr':\n",
      "\n",
      "    get_legend"
     ]
    },
    {
     "output_type": "stream",
     "name": "stderr",
     "text": [
      "\n",
      "Attaching package: 'patchwork'"
     ]
    },
    {
     "output_type": "stream",
     "name": "stderr",
     "text": [
      "The following object is masked from 'package:cowplot':\n",
      "\n",
      "    align_plots"
     ]
    },
    {
     "output_type": "stream",
     "name": "stderr",
     "text": [
      "Warning: package 'qs' was built under R version 4.4.3"
     ]
    },
    {
     "output_type": "stream",
     "name": "stderr",
     "text": [
      "qs 0.27.3. Announcement: https://github.com/qsbase/qs/issues/103"
     ]
    },
    {
     "output_type": "stream",
     "name": "stderr",
     "text": [
      "\n",
      "Attaching package: 'arrow'"
     ]
    },
    {
     "output_type": "stream",
     "name": "stderr",
     "text": [
      "The following object is masked from 'package:magrittr':\n",
      "\n",
      "    is_in"
     ]
    },
    {
     "output_type": "stream",
     "name": "stderr",
     "text": [
      "The following object is masked from 'package:utils':\n",
      "\n",
      "    timestamp"
     ]
    },
    {
     "output_type": "stream",
     "name": "stderr",
     "text": [
      "Linking to GEOS 3.13.0, GDAL 3.10.1, PROJ 9.5.1; sf_use_s2() is TRUE"
     ]
    },
    {
     "output_type": "stream",
     "name": "stderr",
     "text": [
      "Warning: package 'terra' was built under R version 4.4.3"
     ]
    },
    {
     "output_type": "stream",
     "name": "stderr",
     "text": [
      "terra 1.8.54"
     ]
    },
    {
     "output_type": "stream",
     "name": "stderr",
     "text": [
      "\n",
      "Attaching package: 'terra'"
     ]
    },
    {
     "output_type": "stream",
     "name": "stderr",
     "text": [
      "The following object is masked from 'package:arrow':\n",
      "\n",
      "    buffer"
     ]
    },
    {
     "output_type": "stream",
     "name": "stderr",
     "text": [
      "The following object is masked from 'package:patchwork':\n",
      "\n",
      "    area"
     ]
    },
    {
     "output_type": "stream",
     "name": "stderr",
     "text": [
      "The following object is masked from 'package:ggpubr':\n",
      "\n",
      "    rotate"
     ]
    },
    {
     "output_type": "stream",
     "name": "stderr",
     "text": [
      "The following object is masked from 'package:tidyr':\n",
      "\n",
      "    extract"
     ]
    },
    {
     "output_type": "stream",
     "name": "stderr",
     "text": [
      "The following objects are masked from 'package:magrittr':\n",
      "\n",
      "    extract, inset"
     ]
    },
    {
     "output_type": "stream",
     "name": "stderr",
     "text": [
      "\n",
      "Attaching package: 'rnaturalearthdata'"
     ]
    },
    {
     "output_type": "stream",
     "name": "stderr",
     "text": [
      "The following object is masked from 'package:rnaturalearth':\n",
      "\n",
      "    countries110"
     ]
    },
    {
     "output_type": "stream",
     "name": "stderr",
     "text": [
      "Loading required package: future"
     ]
    },
    {
     "output_type": "stream",
     "name": "stderr",
     "text": [
      "\n",
      "Attaching package: 'purrr'"
     ]
    },
    {
     "output_type": "stream",
     "name": "stderr",
     "text": [
      "The following object is masked from 'package:magrittr':\n",
      "\n",
      "    set_names"
     ]
    },
    {
     "output_type": "stream",
     "name": "stderr",
     "text": [
      "Warning: package 'readxl' was built under R version 4.4.3"
     ]
    },
    {
     "output_type": "stream",
     "name": "stderr",
     "text": [
      "Warning: package 'units' was built under R version 4.4.3"
     ]
    },
    {
     "output_type": "stream",
     "name": "stderr",
     "text": [
      "udunits database from C:/Users/treimer/AppData/Local/R/cache/R/renv/cache/v5/windows/R-4.4/x86_64-w64-mingw32/units/0.8-7/5d0b024902d5da97a2b64f002e92a869/units/share/udunits/udunits2.xml"
     ]
    }
   ],
   "source": [
    "library(magrittr)\n",
    "library(dplyr)"
   ],
   "id": "e0e82dc1-f7cc-4fde-bd3c-3ccd2a8868be"
  },
  {
   "cell_type": "code",
   "execution_count": null,
   "metadata": {
    "layout-align": "center"
   },
   "outputs": [],
   "source": [
    "source(here(\"00_model_functions.R\"))\n",
    "source(here(\"00_dirs.R\"))\n",
    "\n",
    "# Filenames\n",
    "farm_coords_file <- file.path(output_farm_data_path, \"farm_coords.qs\")\n",
    "species_params_file <- file.path(output_species_data_path, \"species_params.qs\")\n",
    "pop_params_file <- file.path(output_species_data_path, \"pop_params.qs\")\n",
    "feed_params_file <- file.path(output_species_data_path, \"feed_params.qs\")\n",
    "sens_params_file <- file.path(output_species_data_path, \"sens_params.qs\")\n",
    "sens_results_files <- file.path(output_sens_data_path) %>% list.files(full.names = T) %>% str_subset(\"results\")\n",
    "\n",
    "species_params <- qread(species_params_file)\n",
    "pop_params <- qread(pop_params_file)\n",
    "\n",
    "prettyplot <- function() {\n",
    "  theme_classic() +\n",
    "    theme(legend.position = \"none\",\n",
    "          text = element_text(family = \"serif\", size = 12, colour = \"black\"),\n",
    "          axis.title.x = element_text(vjust = 0.5),\n",
    "          axis.title.y = element_text(hjust = 0.5))\n",
    "}\n",
    "  \n",
    "feed_pal <- c(\"past\" = \"#E41A1C\", \"reference\" = \"#377EB8\", \"future\" = \"#4DAF4A\")  \n",
    "cohort_pal <- c(\"1\" = \"#E41A1C\", \"2\" = \"#377EB8\", \"3\" = \"#4DAF4A\", \"all\" = \"black\")\n",
    "macro_pal <- c(\n",
    "  \"protein\" = \"darkred\", \"P\" = \"darkred\", \n",
    "  \"carbohydrates\" = \"steelblue\", \"C\" = \"steelblue\", \n",
    "  \"lipids\" = \"darkgoldenrod1\", \"L\" = \"darkgoldenrod1\"\n",
    ")"
   ],
   "id": "69276d71-6c6d-42c8-9355-920c0f9100c6"
  },
  {
   "cell_type": "markdown",
   "metadata": {},
   "source": [
    "This document was last updated at 15:42 on 12 Jun, 2025.\n",
    "\n",
    "# Methods\n",
    "\n",
    "### Feeding rate\n",
    "\n",
    "To detail here:\n",
    "\n",
    "-   Functional response to temperature (species-specific)\n",
    "-   Overfeeding parameters and how they come into play\n",
    "-   Deminstration of how feeding response and actual food given vary with temperature?"
   ],
   "id": "27df3cb5-0fb2-413b-953e-588f309eb59e"
  },
  {
   "cell_type": "code",
   "execution_count": null,
   "metadata": {
    "layout-align": "center"
   },
   "outputs": [],
   "source": [
    "df <- data.frame(water_temp = seq(-5, 26, 0.25))\n",
    "df$feeding <- sapply(FUN = feeding_rate, X = df$water_temp, species_params = species_params)\n",
    "df <- df %>% \n",
    "mutate(ing_pot = pop_params['meanImax'] * (pop_params['meanW']^species_params['m']) * feeding,\n",
    "       food_prov = NA)\n",
    "for (i in 1:nrow(df)) {\n",
    "  df$food_prov[i] <- food_prov_rate(pop_params = pop_params, rel_feeding = df$feeding[i], ing_pot = df$ing_pot[i], \n",
    "                                    ing_pot_10 = pop_params['meanImax'] * (pop_params['meanW']^species_params['m']) * 0.1)\n",
    "}\n",
    "df$ing_pot <- df$ing_pot/maxna(df$ing_pot)\n",
    "df$food_prov <- df$food_prov/maxna(df$ing_pot)\n",
    "\n",
    "df %>% \n",
    "  ggplot(aes(x = water_temp, y = ing_pot)) +\n",
    "  geom_line(linewidth = 0.75) +\n",
    "  geom_line(aes(y = food_prov), linewidth = 0.75, linetype = \"dotted\") +\n",
    "  scale_y_continuous(breaks = seq(0,1.5,0.25)) +\n",
    "  scale_x_continuous(breaks = seq(-5,30,5), limits = c(-5,26)) +\n",
    "  labs(x = expression(\"Water temperature (\"*degree*\"C)\"), y = \"Relative food ingested/provided\") +\n",
    "  prettyplot() +\n",
    "  theme(text = element_text(colour = \"black\", family = \"serif\", size = 12))"
   ],
   "id": "cell-fig-functional-response-to-temperature"
  },
  {
   "cell_type": "markdown",
   "metadata": {},
   "source": [
    "## Farm temperature forcings"
   ],
   "id": "66cb0d43-a540-4625-a876-e2ae2aaa908b"
  },
  {
   "cell_type": "code",
   "execution_count": null,
   "metadata": {
    "layout-align": "center"
   },
   "outputs": [],
   "source": [
    "farms_to_omit <- file.path(input_farm_coords_path, \"atlantic_salmon_farms_to_omit.qs\") %>% qs::qread()\n",
    "farm_ts_data <- file.path(output_farm_data_path, \"farm_ts_data.qs\") %>% qs::qread()\n",
    "farm_coords <- file.path(output_farm_data_path, \"farm_coords.qs\") %>% qs::qread() %>% \n",
    "    mutate(hemisphere = case_when(lat < 0 ~ \"S\", T ~ \"N\") %>% as.factor()) \n",
    "\n",
    "farms_geometry <- file.path(output_farm_data_path, \"farm_geometry.qs\") %>% qs::qread() %>% \n",
    "  rename(farm_ID = farm_id)\n",
    "\n",
    "sorted_countries <- farm_coords %>% \n",
    "  merge(farms_geometry, by = \"farm_ID\") %>% \n",
    "  group_by(country) %>% \n",
    "  reframe(av_lat = mean(lat)) %>% \n",
    "  arrange(-av_lat) %>% \n",
    "  pull(country) %>% \n",
    "  unique()\n",
    "\n",
    "farms_geometry <- farms_geometry %>% \n",
    "  mutate(country = factor(country, levels = sorted_countries))"
   ],
   "id": "02521c50-20a4-406f-95eb-d915edb0296f"
  },
  {
   "cell_type": "code",
   "execution_count": null,
   "metadata": {
    "layout-align": "center"
   },
   "outputs": [],
   "source": [
    "farm_temp_means <- farm_ts_data %>% \n",
    "  group_by(farm_ID) %>% \n",
    "  reframe(mean_temp = mean(temp_c)) %>% \n",
    "  merge(farms_geometry, by = \"farm_ID\") %>% \n",
    "  merge(farm_coords, by = \"farm_ID\") %>% \n",
    "  dplyr::filter(!farm_ID %in% farms_to_omit)\n",
    "\n",
    "overall_mean <- mean(farm_temp_means$mean_temp)\n",
    "overall_sd <- sd(farm_temp_means$mean_temp)\n",
    "\n",
    "rm(farm_ts_data)"
   ],
   "id": "0f7cf2ce-aad3-4a59-91d1-91d52bd35654"
  },
  {
   "cell_type": "markdown",
   "metadata": {},
   "source": [
    "Mean daily temperatures at the farms globally ranged from from 6$^{\\circ}$C to 16.7$^{\\circ}$C, with an overall mean of 10.1$^{\\circ}$C ($\\pm$ 1.8$^{\\circ}$C SD). Farms with a mean temperature of \\$$6$^\\$C were excluded (4 farms). The total number of farms included in the analysis was therefore 2717."
   ],
   "id": "d6bab121-5601-482c-a890-97357f5ede67"
  },
  {
   "cell_type": "code",
   "execution_count": null,
   "metadata": {
    "layout-align": "center"
   },
   "outputs": [
    {
     "output_type": "stream",
     "name": "stderr",
     "text": [
      "Coordinate system already present. Adding new coordinate system, which will\n",
      "replace the existing one."
     ]
    },
    {
     "output_type": "display_data",
     "metadata": {},
     "data": {}
    }
   ],
   "source": [
    "worldmap <- ne_countries(scale = \"medium\", returnclass = \"sf\") %>% st_transform(crs = \"+proj=robin\")\n",
    "graticules <- st_graticule(worldmap, lon = seq(-180, 180, 30), lat = seq(-90, 90, 30)) \n",
    "\n",
    "inset_boxes <- list(   # lonmin, lonmax, latmin, latmax\n",
    "  CAN1 = c(-132, -122, 47.75, 54.25),\n",
    "  CAN2 = c(-70, -54, 43, 48.5),\n",
    "  EUR = c(-26, 30, 51, 72),\n",
    "  CHI = c(-77.5, -62.5, -56, -25),\n",
    "  AUS = c(144, 149.5, -44, -39.75)\n",
    ")\n",
    "labels_spec <- c(CAN1 = \"bottom_left_outside\", CAN2 = \"bottom_right_outside\", EUR = \"bottom_left_outside\", CHI = \"top_left_outside\", AUS = \"bottom_left_outside\")\n",
    "labels_offset <- c(CAN1 = 1, CAN2 = 2, EUR = 1.75, CHI = 1.75, AUS = 3.5)\n",
    "\n",
    "box_data <- create_boxes(box_list = inset_boxes, # see function create_boxes above\n",
    "                         label_positions = unname(labels_spec),\n",
    "                         offset_deg = unname(labels_offset))\n",
    "boxes_robinson <- st_transform(box_data$boxes, crs = \"+proj=robin\")\n",
    "labels_robinson <- st_transform(box_data$labels, crs = \"+proj=robin\")\n",
    "farm_temp_robinson <- st_sf(farm_temp_means) %>% st_transform(crs = \"+proj=robin\")\n",
    "\n",
    "p_big_map <- ggplot() +\n",
    "  geom_sf(data = graticules, color = \"gray80\", size = 0.3) +\n",
    "  geom_sf(data = worldmap, fill = \"white\", color = \"dimgray\") +\n",
    "  geom_sf(data = farm_temp_robinson, aes(color = mean_temp), size = 1) +\n",
    "  coord_sf() +\n",
    "  scale_color_viridis_c(option = \"turbo\") +\n",
    "  guides(col = guide_colourbar(\n",
    "    title = \"Mean temperature (°C)\",\n",
    "    direction = \"horizontal\", position = \"bottom\",\n",
    "    label.position = \"bottom\", title.position = \"top\", \n",
    "    title.vjust = 1, title.hjust = 0.5,\n",
    "    frame.colour = \"black\", ticks.colour = \"black\",ticks.linewidth = 2,\n",
    "    barwidth = 25,barheight = 1.5\n",
    "  )) +\n",
    "  geom_sf(data = boxes_robinson, fill = NA, color = \"darkred\", size = 1.65) +\n",
    "  geom_sf_text(data = labels_robinson, aes(label = letter), \n",
    "               color = \"darkred\", size = 5, fontface = \"bold\", \n",
    "               hjust = 0.5, vjust = 0.5) +\n",
    "  theme_void()"
   ],
   "id": "cell-fig-farm-mean-temps"
  },
  {
   "cell_type": "code",
   "execution_count": null,
   "metadata": {
    "layout-align": "center"
   },
   "outputs": [
    {
     "output_type": "stream",
     "name": "stderr",
     "text": [
      "Coordinate system already present. Adding new coordinate system, which will\n",
      "replace the existing one."
     ]
    },
    {
     "output_type": "stream",
     "name": "stderr",
     "text": [
      "Coordinate system already present. Adding new coordinate system, which will\n",
      "replace the existing one."
     ]
    },
    {
     "output_type": "stream",
     "name": "stderr",
     "text": [
      "Coordinate system already present. Adding new coordinate system, which will\n",
      "replace the existing one."
     ]
    },
    {
     "output_type": "stream",
     "name": "stderr",
     "text": [
      "Coordinate system already present. Adding new coordinate system, which will\n",
      "replace the existing one."
     ]
    },
    {
     "output_type": "stream",
     "name": "stderr",
     "text": [
      "Coordinate system already present. Adding new coordinate system, which will\n",
      "replace the existing one."
     ]
    },
    {
     "output_type": "display_data",
     "metadata": {},
     "data": {}
    }
   ],
   "source": [
    "no_margins <- function() {\n",
    "  theme(legend.position = \"none\", \n",
    "        plot.margin = margin(0, 0, 0, 0),\n",
    "        axis.title = element_blank())\n",
    "}\n",
    "\n",
    "inset_boxes_sm <- list(   # lonmin, lonmax, latmin, latmax\n",
    "  CAN1 = c(-132, -122, 48.5, 54),\n",
    "  CAN2 = c(-70, -54, 43, 48.5),\n",
    "  EUR = c(-23, 28.5, 52, 71),\n",
    "  CHI = c(-78, -62, -55.5, -27),\n",
    "  AUS = c(144, 149, -43.75, -40.75)\n",
    ")\n",
    "\n",
    "inset_boxes_sm <- map(inset_boxes_sm, function(bx) {\n",
    "  list(\n",
    "    xlims = bx[1:2],\n",
    "    ylims = bx[3:4],\n",
    "    labx = bx[1],\n",
    "    laby = bx[4]\n",
    "    )\n",
    "})\n",
    "\n",
    "worldmap <- ne_countries(scale = \"large\", returnclass = \"sf\")\n",
    "p1 <- ggplot() +\n",
    "  geom_sf(data = worldmap, fill = \"white\", color = \"dimgray\") +\n",
    "  geom_sf(data = farm_temp_means, aes(color = mean_temp, geometry = geometry), size = 2) +\n",
    "  coord_sf() +\n",
    "  scale_color_viridis_c(option = \"turbo\") +\n",
    "  guides(col = guide_colourbar(\n",
    "    title = \"Mean temperature (°C)\",\n",
    "    direction = \"vertical\", position = \"right\",\n",
    "    label.position = \"right\", title.position = \"top\", \n",
    "    title.vjust = 1, title.hjust = 0.5,\n",
    "    frame.colour = \"black\", ticks.colour = \"black\",ticks.linewidth = 2,\n",
    "    barwidth = 1.5, barheight = 20\n",
    "  )) +\n",
    "  prettyplot() +\n",
    "  labs(y = \"Latitude\", x = \"Longitude\")\n",
    "\n",
    "p_Can1 <- p1 + \n",
    "  coord_sf(xlim = inset_boxes_sm[[\"CAN1\"]][[\"xlims\"]], \n",
    "           ylim = inset_boxes_sm[[\"CAN1\"]][[\"ylims\"]])  +\n",
    "  draw_label(\"A\", size = 14, fontface = \"bold\", \n",
    "             x = inset_boxes_sm[[\"CAN1\"]][[\"labx\"]], \n",
    "             y = inset_boxes_sm[[\"CAN1\"]][[\"laby\"]], \n",
    "             hjust = -1, vjust = 0.5)"
   ],
   "id": "8be7184a-3cb8-4cf8-9582-28efe81075df"
  },
  {
   "cell_type": "markdown",
   "metadata": {},
   "source": [
    "## Model parameterisation"
   ],
   "id": "679af149-5734-40b4-8324-7da45574b256"
  },
  {
   "cell_type": "raw",
   "metadata": {
    "raw_mimetype": "text/html"
   },
   "source": [
    "<!-- Salmon were grown for 548 days and were initialised in Spring. This was on day 274 for farms in the southern hemisphere and day 121 for farms in the northern hemisphere. Cohorts were initialised annually, such that there was an overlap of 183 days where one cohort was nearing harvest and another was being initialised. -->"
   ],
   "id": "cd71a799-d2ce-4343-a911-99753e73b77f"
  },
  {
   "cell_type": "code",
   "execution_count": null,
   "metadata": {
    "layout-align": "center"
   },
   "outputs": [],
   "source": [
    "params <- file.path(output_species_data_path, \"sens_params.qs\") %>% qs::qread()\n",
    "\n",
    "param_names <- tibble::tribble(\n",
    "  ~name,        ~lab,\n",
    "  \"alpha\",      bquote(alpha),\n",
    "  \"epsprot\",    bquote(epsilon[\"P\"]),\n",
    "  \"epslip\",     bquote(epsilon[\"L\"]),\n",
    "  \"epscarb\",    bquote(epsilon[\"C\"]),\n",
    "  \"epsO2\",      bquote(epsilon[\"O\"[2]]),\n",
    "  \"pk\",         bquote(\"pk\"),\n",
    "  \"k0\",         bquote(\"k\"[0]),\n",
    "  \"m\",          bquote(\"m\"),\n",
    "  \"n\",          bquote(\"n\"),\n",
    "  \"betac\",      bquote(beta*\"C\"),\n",
    "  \"Tma\",        bquote(\"T\"[\"max\"]),\n",
    "  \"Toa\",        bquote(\"T\"[\"opt\"]),\n",
    "  \"Taa\",        bquote(\"T\"[\"min\"]),\n",
    "  \"omega\",      bquote(omega),\n",
    "  \"a\",          bquote(\"a\"),\n",
    "  \"k\",          bquote(\"k\"),\n",
    "  \"eff\",        bquote(\"eff\"),\n",
    "  \"meanW\",      bquote(bar(\"W\")),\n",
    "  \"deltaW\",     bquote(Delta*\"W\"), \n",
    "  \"meanImax\",   bquote(bar(\"I\"[\"max\"])),\n",
    "  \"deltaImax\",  bquote(Delta*\"I\"[\"max\"]),\n",
    "  \"overFmean\",  bquote(bar(\"F\")),\n",
    "  \"overFdelta\", bquote(Delta*\"F\"),\n",
    "  \"mortmyt\",    bquote(\"mort\")\n",
    ")"
   ],
   "id": "df8a7d43-a5bd-471f-953f-8bffda073daa"
  },
  {
   "cell_type": "markdown",
   "metadata": {},
   "source": [
    "| Parameter | Value | Reference |\n",
    "|:------------------:|:------------------:|:------------------------------:|\n",
    "| $\\alpha$ | 0.04 | Broekhuizen et al. ([1994](#ref-broekhuizen_modelling_1994)) |\n",
    "| $\\epsilon_{P}$ | 2.36^{4} | Baldan et al. ([2018](#ref-baldan_r_2018)) |\n",
    "| $\\epsilon_{L}$ | 3.62^{4} | Baldan et al. ([2018](#ref-baldan_r_2018)) |\n",
    "| $\\epsilon_{C}$ | 1.72^{4} | Baldan et al. ([2018](#ref-baldan_r_2018)) |\n",
    "| $\\epsilon_{O_2}$ | 1.34^{4} | Elliott and Davison ([1975](#ref-elliott_energy_1975)) |\n",
    "| $p_k$ | 0.05 | Macnaughton et al. ([2019](#ref-macnaughton_using_2019)) |\n",
    "| $k_0$ | 0.003 | Macnaughton et al. ([2019](#ref-macnaughton_using_2019)) |\n",
    "| $m$ | 0.75 | Broekhuizen et al. ([1994](#ref-broekhuizen_modelling_1994)) |\n",
    "| $n$ | 1 | Baldan et al. ([2018](#ref-baldan_r_2018)) |\n",
    "| $\\beta C$ | 0.3234 | Jonsson et al. ([2001](#ref-jonsson_thermal_2001)) |\n",
    "| $T_{max}$ | 26 | Poletto et al. ([2017](#ref-poletto_unusual_2017)) |\n",
    "| $T_{opt}$ | 16 | Jonsson et al. ([2001](#ref-jonsson_thermal_2001)) |\n",
    "| $T_{min}$ | 2 | Vadboncoeur et al. ([2023](#ref-vadboncoeur_lowering_2023)) |\n",
    "| $\\omega$ | 0.6542 | Baldan et al. ([2018](#ref-baldan_r_2018)) |\n",
    "| $a$ | 2669 | Van Tien et al. ([2016](#ref-van_tien_development_2016)) |\n",
    "| $k$ | 0.1715 | Van Tien et al. ([2016](#ref-van_tien_development_2016)) |\n",
    "| $eff$ | 0.97 | Uglem et al. ([2020](#ref-uglem_does_2020)) |\n",
    "| $\\overline{W}$ | 125 | Dempsey et al. ([2023](#ref-dempsey_estimating_2023)) |\n",
    "| $\\Delta{W}$ | 10 | Dempsey et al. ([2023](#ref-dempsey_estimating_2023)) |\n",
    "| $\\overline{I_{max}}$ | 0.035 | ([**lall_nutrition_2009?**](#ref-lall_nutrition_2009)) |\n",
    "| $\\Delta{I_{max}}$ | 0.005 | ([**lall_nutrition_2009?**](#ref-lall_nutrition_2009)) |\n",
    "| $\\overline{F}$ | 0.015 |  |\n",
    "| $\\Delta{F}$ | 0.0045 |  |\n",
    "| $mort$ | 5.99798^{-4} | Tvete, Aldrin, and Jensen ([2023](#ref-tvete_towards_2023)) |\n",
    "\n",
    "Table 1: Model growth parameters for Atlantic salmon (for double-checking numbers and reference list only)\n",
    "\n",
    "### Parameter sensitivity\n",
    "\n",
    "Parameter sensitivity was tested by varying each parameter in <a href=\"#tbl-params\" class=\"quarto-xref\">Table 1</a> by $\\pm 10$% and calculating sensitivity as $S_p = \\frac{(P_{1.1} - P_{0.9})}{0.2 \\times P_1}$, where $S$ is the sensitivity of the measured variable to changes in parameter $p$, and $P_{1.1}$, $P_{0.9}$, and $P_{1}$ are the value of the measured variable when the model is run with parameter $p$ at 110%, 90%, and 100% of its value respectively. All parameters in Table <a href=\"#tbl-params\" class=\"quarto-xref\">Table 1</a> were tested. The population-level parameters ($\\overline{W}$, $\\Delta{W}$, $\\overline{I_{max}}$, $\\Delta{I_{max}}$, $\\overline{F}$, $\\Delta{F}$) were tested with a population of of 5000 on a random 10% of farms, while all other parameters were tested across all farms with a population of 10.\n",
    "\n",
    "## Modelled experimental feeds"
   ],
   "id": "7f1fd066-d873-4255-be9a-4016a522e187"
  },
  {
   "cell_type": "code",
   "execution_count": null,
   "metadata": {
    "layout-align": "center"
   },
   "outputs": [],
   "source": [
    "feed_params <- file.path(output_species_data_path, \"feed_params.qs\") %>%\n",
    "  qs::qread() \n",
    "\n",
    "feed_summary <- map_dfr(names(feed_params), function(feed) {\n",
    "  df <- feed_params[[feed]]\n",
    "  map_dfr(c(\"Proteins\", \"Lipids\", \"Carbohydrates\"), function(macro) {\n",
    "    contrib <- df[[macro]]$proportion * df[[macro]]$macro\n",
    "    total <- sum(contrib)\n",
    "    digest <- sum(df[[macro]]$digest * contrib) / total\n",
    "        tibble(\n",
    "      feed = feed,\n",
    "      macro = macro,\n",
    "      total = total,\n",
    "      digest = digest\n",
    "    )\n",
    "  })\n",
    "}) %>%\n",
    "  mutate(macro = factor(macro, levels = c(\"Proteins\", \"Lipids\", \"Carbohydrates\"), labels = c(\"P\", \"L\", \"C\")),\n",
    "         feed = factor(feed, levels = c(\"reference\", \"past\", \"future\")),\n",
    "         total_r = total * 100 %>% round(1),\n",
    "         digest_r = digest * 100 %>% round(1))"
   ],
   "id": "baaa1c0c-4b7d-4450-8976-38400501034d"
  },
  {
   "cell_type": "markdown",
   "metadata": {},
   "source": [
    "The reference feed was 37.8% protein, 36.5% lipid, and 20.4% carbohydrate, the past feed was 49.8% protein, 27.1% lipid, and 16.6% carbohydrate, and the future feed was 47.7% protein, 32.9% lipid, and 13.9% carbohydrate.\n",
    "\n",
    "Ingredients are tracked seperately through the model with their own digestibility coefficients. Overall, protein digestibility was 89.2%, 90.5%, and 86.2% and carbohydrate digestibility was 69.6%, 79.7%, and 69.3% within the reference, past, and future feeds respectively. The digestibility of lipids was assumed to remain constant across all ingredients at 96%."
   ],
   "id": "7c622145-dde6-4a70-80c7-8c5807487cdc"
  },
  {
   "cell_type": "code",
   "execution_count": null,
   "metadata": {
    "layout-align": "center"
   },
   "outputs": [
    {
     "output_type": "display_data",
     "metadata": {},
     "data": {}
    }
   ],
   "source": [
    "p1 <- feed_summary %>%\n",
    "  mutate(digest_total = digest * total) %>% \n",
    "  ggplot(aes(x = feed, y = total, fill = macro)) +\n",
    "  geom_col(position = \"dodge\", alpha = 0.55, colour = \"black\") +\n",
    "  geom_col(mapping = aes(y = digest_total), position = \"dodge\", alpha = 1, colour = \"black\") +\n",
    "  scale_fill_manual(values = macro_pal) +\n",
    "  scale_y_continuous(breaks = seq(0,0.5,0.1), labels = seq(0,50,10)) +\n",
    "  scale_x_discrete(labels = c(\"reference\" = \"Reference\", \"past\" = \"Past\", \"future\" = \"Future\")) +\n",
    "  labs(x = \"Feed\", y = \"Proportion (%)\") +\n",
    "  prettyplot()\n",
    "\n",
    "feed_ings <- rbind(\n",
    "  feed_params[[1]][[1]] %>% mutate(feed = as.factor(\"reference\")), \n",
    "  feed_params[[2]][[1]] %>% mutate(feed = as.factor(\"past\")), \n",
    "  feed_params[[3]][[1]] %>% mutate(feed = as.factor(\"future\"))\n",
    ") %>%\n",
    "  rename(protein = macro) %>%\n",
    "  mutate(\n",
    "    category = case_when(\n",
    "      str_detect(ingredient, \"fish-oil\") ~ \"fish\",\n",
    "      str_detect(ingredient, \"fishmeal\") ~ \"fish\",\n",
    "      str_detect(ingredient, \"krill\") ~ \"other-marine\",\n",
    "      str_detect(ingredient, \"soy\") ~ \"legume\",\n",
    "      str_detect(ingredient, \"pea\") ~ \"legume\",\n",
    "      str_detect(ingredient, \"guar\") ~ \"legume\",\n",
    "      str_detect(ingredient, \"faba\") ~ \"legume\",\n",
    "      str_detect(ingredient, \"corn\") ~ \"wheat-corn\",\n",
    "      str_detect(ingredient, \"wheat\") ~ \"wheat-corn\",\n",
    "      str_detect(ingredient, \"chicken\") ~ \"chicken\",\n",
    "      str_detect(ingredient, \"bacteri\") ~ \"bact-fungi-micro\",\n",
    "      str_detect(ingredient, \"yeast\") ~ \"bact-fungi-micro\",\n",
    "      str_detect(ingredient, \"spirulina\") ~ \"bact-fungi-micro\",\n",
    "      str_detect(ingredient, \"bsf\") ~ \"insect\",\n",
    "      T ~ \"other-plant\"\n",
    "    ) %>% \n",
    "      factor(levels = c(\"fish\", \"other-marine\", \"chicken\", \"wheat-corn\", \"legume\", \"other-plant\", \"insect\", \"bact-fungi-micro\"))\n",
    "  )\n",
    "\n",
    "p_ings <- feed_ings %>% \n",
    "  mutate(feed = factor(feed, levels = c(\"reference\", \"past\", \"future\"), labels = c(\"Reference\", \"Past\", \"Future\"))) %>% \n",
    "  group_by(feed, category) %>%\n",
    "  reframe(proportion = sum(proportion)) %>% \n",
    "  ggplot(aes(x = \"\", y = proportion, fill = category)) +\n",
    "  geom_col(width = 1, colour = \"black\") +\n",
    "  coord_polar(\"y\", start = 0) +\n",
    "  scale_fill_manual(\n",
    "    name = \"Ingredient category\",\n",
    "    values = c(\"fish\" = \"royalblue3\", \"other-marine\" = \"turquoise2\", \"chicken\" = \"hotpink1\", \"wheat-corn\" = \"moccasin\", \"legume\" = \"forestgreen\", \"other-plant\" = \"darkolivegreen1\", \"insect\" = \"firebrick3\", \"bact-fungi-micro\" = \"darkorange\"), \n",
    "    labels = c(\"Fish meal or oil\", \"Other marine ingredients\", \"Chicken\", \"Wheat and corn\", \"Legumes\", \"Other plant ingredients\", \"Insects\", \"Bacteria, fungi or microalgae\")) +\n",
    "  facet_grid(cols = vars(feed)) +\n",
    "  theme_void() +\n",
    "  theme(\n",
    "    text = element_text(family = \"serif\", size = 12, colour = \"black\"),\n",
    "    legend.position = \"bottom\",\n",
    "    legend.title = element_blank(), \n",
    "    strip.text = element_blank(),\n",
    "    strip.text.x = element_text(size = 14)\n",
    "  )\n",
    "\n",
    "plot_grid(p1, p_ings, nrow = 2)"
   ],
   "id": "cell-fig-feed-summary-ideas"
  },
  {
   "cell_type": "markdown",
   "metadata": {},
   "source": [
    "## Model population and biomass"
   ],
   "id": "4d45d016-a7eb-4783-893b-58ef841abbc5"
  },
  {
   "cell_type": "code",
   "execution_count": null,
   "metadata": {
    "layout-align": "center"
   },
   "outputs": [],
   "source": [
    "farmrun_files <- file.path(output_cohorts_data_path) %>% \n",
    "  list.files(full.names = T)\n",
    "\n",
    "weight <- find_read(output_cohorts_data_path, \"allfarms_comparisons_weight_stat\")\n",
    "biomass <- find_read(output_cohorts_data_path, \"allfarms_comparisons_biomass_stat\")"
   ],
   "id": "3a802a2a-5729-49b1-9fed-ab718ae602be"
  },
  {
   "cell_type": "code",
   "execution_count": null,
   "metadata": {
    "layout-align": "center"
   },
   "outputs": [
    {
     "output_type": "display_data",
     "metadata": {},
     "data": {}
    }
   ],
   "source": [
    "fnms <- output_growth_data_path %>% \n",
    "  list.files(full.names = T) %>% \n",
    "  str_subset(\"reference\")\n",
    "\n",
    "df <- qs::qread(fnms[1])[[\"biomass_stat\"]] %>% \n",
    "  as.data.frame() %>% \n",
    "  mutate(mean = set_units(mean, \"g\") %>% set_units(\"t\"),\n",
    "         sd = set_units(sd, \"g\") %>% set_units(\"t\")) %>% \n",
    "  select(-farm_ID)\n",
    "\n",
    "df <- rbind(\n",
    "  df %>% mutate(cohort = 1),\n",
    "  df %>% mutate(t = t+365, cohort = 2),\n",
    "  df %>% mutate(t = t+730, cohort = 3)\n",
    ") %>% \n",
    "  mutate(t = (t-min(t))+1,\n",
    "         split = \"Split by cohort\")\n",
    "\n",
    "min_t <- min(df$t[df$cohort == 2])\n",
    "max_t <- max(df$t[df$cohort == 2])\n",
    "\n",
    "df_2 <- df %>% \n",
    "  filter(t %in% min_t:max_t) %>% \n",
    "  mutate(sd = sd/mean) %>% \n",
    "  group_by(t) %>% \n",
    "  reframe(sd = sqrt(sum(sd^2)),\n",
    "          mean = sum(mean),\n",
    "          sd = sd*mean) %>% \n",
    "  mutate(cohort = \"all\",\n",
    "         split = \"Totalled\")\n",
    "\n",
    "df <- rbind(df, df_2) %>% \n",
    "  mutate(cohort = as.factor(cohort))\n",
    "\n",
    "ggplot(df, aes(x = t, y = mean, ymin = mean-sd, ymax = mean+sd, colour = as.factor(cohort))) +\n",
    "  geom_line(linewidth = 0.75) +\n",
    "  geom_ribbon(linetype = \"dotted\", alpha = 0) +\n",
    "  facet_grid(cols = vars(split)) +\n",
    "  scale_x_continuous(breaks = seq(0, 1600, 120)) +\n",
    "  scale_colour_manual(values = cohort_pal) +\n",
    "  prettyplot() +\n",
    "  labs(y = \"Farm biomass\", x = \"Day of production\")"
   ],
   "id": "cell-fig-cohorts"
  },
  {
   "cell_type": "code",
   "execution_count": null,
   "metadata": {
    "layout-align": "center"
   },
   "outputs": [],
   "source": [
    "coho_biom <- file.path(data_analysis_path, \"biomass_produced_comparison.qs\") %>% \n",
    "  qs::qread()\n",
    "harv_size <- file.path(output_farm_data_path, \"farm_harvest_size.qs\") %>% \n",
    "  qread()\n",
    "\n",
    "coho_biom_summ <- coho_biom %>% \n",
    "  mutate(perc_diff = 100*(mean - tonnes_per_farm)/tonnes_per_farm)"
   ],
   "id": "4f4787ec-973f-40ba-90a5-6e1fdff1c976"
  },
  {
   "cell_type": "markdown",
   "metadata": {},
   "source": [
    "Each farm’s final population was calculated by dividing the production tonnage required by the average modelled individual harvest size for each farm (when feed reference feed). A population timeseries was the generated using the standard mortality rate (5.99798^{-4} d$^{-1}$). Using this method, a farm’s ‘population’ is not a good representation of the actual number of individuals being farmed, but it ensures each farm location is producing the correct tonnage while allowing comparisons between the different feeds."
   ],
   "id": "fcef67ee-463f-4391-a9c9-16b305bd6c93"
  },
  {
   "cell_type": "code",
   "execution_count": null,
   "metadata": {
    "layout-align": "center"
   },
   "outputs": [],
   "source": [],
   "id": "cell-fig-harvest-size"
  },
  {
   "cell_type": "markdown",
   "metadata": {},
   "source": [
    "By this method, farm biomass as predicted by the model slightly overestimated farm tonnage. Predicted farm biomass was 2.4-6.5 higher than tonnage produced (<a href=\"#fig-biomass-produced\" class=\"quarto-xref\">Figure 6</a>). This variation was not correlated with mean farm temperature or total tonnage produced (<a href=\"#fig-biomass-variation\" class=\"quarto-xref\">Figure 5</a>)."
   ],
   "id": "25d164fb-b6b0-4ea9-97a6-926bcad82096"
  },
  {
   "cell_type": "code",
   "execution_count": null,
   "metadata": {
    "layout-align": "center"
   },
   "outputs": [],
   "source": [],
   "id": "cell-fig-biomass-variation"
  },
  {
   "cell_type": "code",
   "execution_count": null,
   "metadata": {
    "layout-align": "center"
   },
   "outputs": [],
   "source": [],
   "id": "cell-fig-biomass-produced"
  },
  {
   "cell_type": "markdown",
   "metadata": {},
   "source": [
    "## Impacts of nutrient input\n",
    "\n",
    "General thoughts is that a risk-assessment approach is most compelling:\n",
    "\n",
    "-   Hazard: Nutrient input. Present as a change between feeds (%?), relative to background levels (ratio?)\n",
    "    -   Possibly ask Camille how the quotas for Tasmanian salmon are calculated\n",
    "    -   Background levels are from [oceanhealthindex.org](https://knb.ecoinformatics.org/view/resource_map_doi:10.5063/F1610XPS) - double-check that it includes wastewater input AND agriculture - should include both - if they’re not combined ask Ben because he has them combined somewhere\n",
    "    -   If this is too uncertain perhaps combine into categorical (oligotrophic/eutrophic) classification?\n",
    "-   Exposure: Species presence. Use IUCN/Aquamap data to estimate the % of each species range is occupied by farms\n",
    "    -   give each farm a 1km radius, check for overlaps\n",
    "    -   Gage already has the data to process the Aquamap data\n",
    "-   Vulnerability: species vulnerability to eutrophication + nutrient input - from Butt et al. ([2022](#ref-butt_trait-based_2022)). Possibly also use IUCN threat levels for prioritisation?\n",
    "\n",
    "# Statistical analysis & code availability\n",
    "\n",
    "All analysis was conducted in R version 4.4.2 “Pile of Leaves” ([R Core Team 2019](#ref-R_base)). Major packages used include packages `magrittr`, version 2.0.3 ([Bache and Wickham 2022](#ref-magrittr)), `dplyr`, version 1.1.4 ([Wickham et al. 2023](#ref-dplyr)), `tidyr`, version 1.3.1 ([Wickham, Vaughan, and Girlich 2024](#ref-tidyr)), `stringr`, version 1.5.1 ([Wickham 2023](#ref-stringr)), `ggplot2`, version 3.5.2 ([Wickham 2016](#ref-ggplot2)), `arrow`, version 20.0.0.2 ([Richardson et al. 2024](#ref-arrow)), `targets`, version 1.11.3 ([Landau 2021](#ref-targets)), `sf`, version 1.0.21 ([Pebesma 2018](#ref-sf)), `terra`, version 1.8.54 ([Hijmans 2024](#ref-terra)), `rnaturalearth`, version 1.1.0 ([Massicotte and South, n.d.](#ref-rnaturalearth)), `furrr`, version 0.3.1 ([Vaughan and Dancho 2022](#ref-furrr)), `future`, version 1.58.0 ([Bengtsson 2021](#ref-future)), `units`, version 0.8.7 ([Pebesma, Mailund, and Hiebert 2016](#ref-units)), and `lubridate`, version 1.9.4 ([Grolemund and Wickham 2011](#ref-lubridate)). For a full list of R packages used see the lockfile on [Github](https://www.github.com). This manuscript was written in Quarto ([Allaire et al. 2024](#ref-quarto)) using TinyTex ([Xie 2017](#ref-tinytex)) and the acronyms extension ([Chaput 2024](#ref-acronyms)).\n",
    "\n",
    "# Results\n",
    "\n",
    "-   Parameter sensitivity results are in supplementary <a href=\"#sec-parameter-sensitivity\" class=\"quarto-xref\">Section 4.1</a>\n",
    "\n",
    "In general, data outputs comes in the following dimensions:\n",
    "\n",
    "-   Location -\\> temperature -\\> farm_ID\n",
    "-   Uneaten feed + excreted faeces = total inputs (g)\n",
    "-   Day of production (impacted by location)\n",
    "-   Main point is the difference between feeds (kg/t salmon).\n",
    "-   Also interesting to see if difference between feeds varies geographically (correlates with latitude, or maybe mean/median/max temperature?)\n",
    "\n",
    "## Uneaten feed and faeces"
   ],
   "id": "818918d6-c8a0-478d-85b2-008ce6702ae3"
  },
  {
   "cell_type": "code",
   "execution_count": null,
   "metadata": {
    "layout-align": "center"
   },
   "outputs": [],
   "source": [
    "mass_inputs_ts <- find_read(data_analysis_path, \"all_waste_inputs\")\n",
    "mass_inputs_end <- find_read(data_analysis_path, \"sumtotal_waste_inputs.qs\")\n",
    "N_inputs_ts <- find_read(data_analysis_path, \"all_N_inputs\")\n",
    "N_inputs_end <- find_read(data_analysis_path, \"sumtotal_N_inputs\")"
   ],
   "id": "5b49dc03-5516-44be-ac80-a294ca3a70cd"
  },
  {
   "cell_type": "code",
   "execution_count": null,
   "metadata": {
    "layout-align": "center"
   },
   "outputs": [],
   "source": [
    "mass_inputs_ts\n",
    "N_inputs_ts\n",
    "\n",
    "# Through time\n",
    "inputs_stats_ts <- inputs_df %>%\n",
    "  group_by(feed, t, measure) %>% \n",
    "  reframe(min = minna(mean),\n",
    "          max = maxna(mean),\n",
    "          sd = sdna(mean) %>% set_units(\"g\"),\n",
    "          mean = meanna(mean))\n",
    "\n",
    "inputs_stats_rel_ts <- inputs_rel_df %>% \n",
    "  group_by(feed, t, measure) %>% \n",
    "  reframe(min = minna(mean),\n",
    "          max = maxna(mean),\n",
    "          sd = sdna(mean) %>% set_units(\"g g_fish-1\"),\n",
    "          mean = meanna(mean))\n",
    "\n",
    "# Total (at production end)\n",
    "inputs_stats_end <- inputs_df %>% \n",
    "  group_by(feed, measure, farm_ID) %>% \n",
    "  reframe(mean = sumna(mean)) %>% \n",
    "  group_by(feed, measure) %>% \n",
    "  reframe(min = minna(mean),\n",
    "          max = maxna(mean),\n",
    "          sd = sdna(mean) %>% set_units(\"g\"),\n",
    "          mean = meanna(mean))\n",
    "\n",
    "inputs_stats_rel_end <- inputs_rel_df %>% \n",
    "  group_by(feed, measure, farm_ID) %>% \n",
    "  reframe(mean = sumna(mean)) %>% \n",
    "  group_by(feed, measure) %>% \n",
    "  reframe(min = minna(mean),\n",
    "          max = maxna(mean),\n",
    "          sd = sdna(mean) %>% set_units(\"g g_fish-1\"),\n",
    "          mean = meanna(mean))\n",
    "\n",
    "inputs_stats_rel_end_diff <- inputs_rel_df %>% \n",
    "  group_by(feed, measure, farm_ID) %>% \n",
    "  reframe(mean = sumna(mean)) %>% \n",
    "  pivot_wider(names_from = feed, values_from = mean) %>% \n",
    "  mutate(future = (future-reference)/reference,\n",
    "         past = (past-reference)/reference) %>% \n",
    "  select(-reference) %>% \n",
    "  pivot_longer(cols = c(past, future), names_to = \"feed\", values_to = \"diff\") %>% \n",
    "  mutate(feed = factor(feed, levels = c(\"past\", \"future\"))) %>% \n",
    "  group_by(feed, measure) %>% \n",
    "  reframe(min = minna(diff),\n",
    "          max = maxna(diff),\n",
    "          sd = sdna(diff),\n",
    "          mean = meanna(diff))\n",
    "\n",
    "# Pull key values (uneaten feed)\n",
    "u_stmin1 <- filter(inputs_stats_rel_end, feed == \"reference\", measure == \"uneat\") %>% pull(min)\n",
    "u_stmax1 <- filter(inputs_stats_rel_end, feed == \"reference\", measure == \"uneat\") %>% pull(max)\n",
    "u_stmean1 <- filter(inputs_stats_rel_end, feed == \"reference\", measure == \"uneat\") %>% pull(mean)\n",
    "u_stmin2 <- filter(inputs_stats_rel_end_diff, feed == \"past\", measure == \"uneat\") %>% pull(min)\n",
    "u_stmax2 <- filter(inputs_stats_rel_end_diff, feed == \"past\", measure == \"uneat\") %>% pull(max)\n",
    "u_stmean2 <- filter(inputs_stats_rel_end_diff, feed == \"past\", measure == \"uneat\") %>% pull(mean)\n",
    "u_stmin3 <- filter(inputs_stats_rel_end_diff, feed == \"future\", measure == \"uneat\") %>% pull(min)\n",
    "u_stmax3 <- filter(inputs_stats_rel_end_diff, feed == \"future\", measure == \"uneat\") %>% pull(max)\n",
    "u_stmean3 <- filter(inputs_stats_rel_end_diff, feed == \"future\", measure == \"uneat\") %>% pull(mean)\n",
    "\n",
    "# Convert past and future values to % change values\n",
    "u_stmin2 <- (100*u_stmin2) %>% round(2)\n",
    "u_stmax2 <- (100*u_stmax2) %>% round(2)\n",
    "u_stmean2 <- (100*u_stmean2) %>% round(2)\n",
    "u_stmin3 <- (100*u_stmin3) %>% round(2)\n",
    "u_stmax3 <- (100*u_stmax3) %>% round(2)\n",
    "u_stmean3 <- (100*u_stmean3) %>% round(2)\n",
    "\n",
    "u_stmin1 <- u_stmin1 %>% set_units(\"g kg_fish-1\") %>% drop_units() %>% round(2)\n",
    "u_stmax1 <- u_stmax1 %>% set_units(\"g kg_fish-1\") %>% drop_units() %>% round(2)\n",
    "u_stmean1 <- u_stmean1 %>% set_units(\"g kg_fish-1\") %>% drop_units() %>% round(2)\n",
    "\n",
    "# Pull key values (excreted faeces)\n",
    "e_stmin1 <- filter(inputs_stats_rel_end, feed == \"reference\", measure == \"excr\") %>% pull(min)\n",
    "e_stmax1 <- filter(inputs_stats_rel_end, feed == \"reference\", measure == \"excr\") %>% pull(max)\n",
    "e_stmean1 <- filter(inputs_stats_rel_end, feed == \"reference\", measure == \"excr\") %>% pull(mean)\n",
    "e_stmin2 <- filter(inputs_stats_rel_end_diff, feed == \"past\", measure == \"excr\") %>% pull(min)\n",
    "e_stmax2 <- filter(inputs_stats_rel_end_diff, feed == \"past\", measure == \"excr\") %>% pull(max)\n",
    "e_stmean2 <- filter(inputs_stats_rel_end_diff, feed == \"past\", measure == \"excr\") %>% pull(mean)\n",
    "e_stmin3 <- filter(inputs_stats_rel_end_diff, feed == \"future\", measure == \"excr\") %>% pull(min)\n",
    "e_stmax3 <- filter(inputs_stats_rel_end_diff, feed == \"future\", measure == \"excr\") %>% pull(max)\n",
    "e_stmean3 <- filter(inputs_stats_rel_end_diff, feed == \"future\", measure == \"excr\") %>% pull(mean)\n",
    "\n",
    "# Convert past and future values to % change values\n",
    "e_stmin2 <- (100*e_stmin2) %>% round(2)\n",
    "e_stmax2 <- (100*e_stmax2) %>% round(2)\n",
    "e_stmean2 <- (100*e_stmean2) %>% round(2)\n",
    "e_stmin3 <- (100*e_stmin3) %>% round(2)\n",
    "e_stmax3 <- (100*e_stmax3) %>% round(2)\n",
    "e_stmean3 <- (100*e_stmean3) %>% round(2)\n",
    "\n",
    "e_stmin1 <- e_stmin1 %>% set_units(\"g kg_fish-1\") %>% drop_units() %>% round(2)\n",
    "e_stmax1 <- e_stmax1 %>% set_units(\"g kg_fish-1\") %>% drop_units() %>% round(2)\n",
    "e_stmean1 <- e_stmean1 %>% set_units(\"g kg_fish-1\") %>% drop_units() %>% round(2)"
   ],
   "id": "c1f1fc4e-d2f3-476b-ba05-57774d9d7345"
  },
  {
   "cell_type": "code",
   "execution_count": null,
   "metadata": {
    "layout-align": "center"
   },
   "outputs": [],
   "source": [
    "mass_inputs_sep <- mass_inputs_end %>% \n",
    "  mutate(waste_per_biomass = set_units(total/biomass_total, \"g kg_fish-1\")) %>% \n",
    "  dplyr::select(-c(total, biomass_total)) %>% \n",
    "  pivot_wider(names_from = measure, values_from = waste_per_biomass) %>% \n",
    "  mutate(total = excr+uneat) %>% \n",
    "  pivot_longer(names_to = \"measure\", values_to = \"waste_per_biomass\", cols = c(total, excr, uneat), names_transform = list(measure = as.factor)) %>% \n",
    "  group_by(feed, measure) %>% \n",
    "  reframe(mean_wpb = meanna(waste_per_biomass),\n",
    "          mean_wpb = sdna(waste_per_biomass) %>% set_units(\"g kg_fish-1\"),\n",
    "          min_wpb = minna(waste_per_biomass),\n",
    "          max_wpb = maxna(waste_per_biomass))\n",
    "\n",
    "twi_min <- mass_inputs_sep$min_wpb[mass_inputs_sep$measure == \"total\"] %>% round(2)\n",
    "twi_max <- mass_inputs_sep$max_wpb[mass_inputs_sep$measure == \"total\"] %>% round(2)\n",
    "twi_mean <- mass_inputs_sep$mean_wpb[mass_inputs_sep$measure == \"total\"] %>% round(2)\n",
    "\n",
    "# There were only very small differences in total uneaten feed between the different feeds, with the past feed increasing uneaten feed by `r u_stmin2`-`r u_stmax2`%  (mean of `r u_stmean2`%) and the future feed increasing uneaten feed by `r u_stmin3`-`r u_stmax3`%  (mean of `r u_stmean3`%).\n",
    "\n",
    "# * Total excreted faeces across a cohort fed the reference feed ranged from `r e_stmin1` to `r e_stmax1` g kg$^{-1}$ fish, with a mean of `r e_stmean1` g kg$^{-1}$ fish. \n",
    "# * Past feed decreased excreted faeces by `r -1*e_stmin2`-`r -1*e_stmax2`%  (mean of `r -1*e_stmean2`%) \n",
    "# * Future feed increased excreted faeces by `r e_stmin3`-`r e_stmax3`%  (mean of `r e_stmean3`%)"
   ],
   "id": "cfbd5179-d570-4b64-a889-f94bf54bbcdc"
  },
  {
   "cell_type": "markdown",
   "metadata": {},
   "source": [
    "-   Total waste inputs across a single production period of fish fed the reference feed ranged from 151.45 to 252.66 g kg$^{-1}$ fish, with a mean of 15.74 g kg$^{-1}$ fish.\n",
    "-   Total waste inputs across a single production period of fish fed the past feed ranged from 127.58 to 213.51 g kg$^{-1}$ fish, with a mean of 13.31 g kg$^{-1}$ fish.\n",
    "-   Total waste inputs across a single production period of fish fed the future feed ranged from 157.16 to 262.39 g kg$^{-1}$ fish, with a mean of 16.35 g kg$^{-1}$ fish."
   ],
   "id": "0e5044ab-9c9c-48c9-96b7-c89f4a24aa97"
  },
  {
   "cell_type": "code",
   "execution_count": null,
   "metadata": {
    "layout-align": "center"
   },
   "outputs": [
    {
     "output_type": "stream",
     "name": "stderr",
     "text": [
      "Coordinate system already present. Adding new coordinate system, which will\n",
      "replace the existing one."
     ]
    },
    {
     "output_type": "display_data",
     "metadata": {},
     "data": {}
    }
   ],
   "source": [
    "mass_inputs_sep_geometry <- mass_inputs_end %>% \n",
    "  mutate(waste_per_biomass = set_units(total/biomass_total, \"g kg_fish-1\")) %>% \n",
    "  dplyr::select(-c(total, biomass_total)) %>% \n",
    "  pivot_wider(names_from = measure, values_from = waste_per_biomass) %>% \n",
    "  mutate(total = excr+uneat) %>% \n",
    "  pivot_longer(names_to = \"measure\", values_to = \"waste_per_biomass\", cols = c(total, excr, uneat), names_transform = list(measure = as.factor)) %>% \n",
    "  group_by(farm_ID, feed, measure) %>% \n",
    "  reframe(mean_wpb = meanna(waste_per_biomass),\n",
    "          sd_wpb = sdna(waste_per_biomass) %>% set_units(\"g kg_fish-1\"),\n",
    "          min_wpb = minna(waste_per_biomass),\n",
    "          max_wpb = maxna(waste_per_biomass)) %>% \n",
    "  merge(farms_geometry, by = \"farm_ID\")\n",
    "\n",
    "mass_inputs_robinson <- mass_inputs_sep_geometry %>% \n",
    "  filter(feed == \"reference\" & measure == \"total\") %>% \n",
    "  mutate(mean_wpb = mean_wpb %>% drop_units()) %>% \n",
    "  st_sf() %>% \n",
    "  st_transform(crs = \"+proj=robin\")\n",
    "\n",
    "ggplot() +\n",
    "  geom_sf(data = graticules, color = \"gray80\", size = 0.3) +\n",
    "  geom_sf(data = worldmap, fill = \"white\", color = \"dimgray\") +\n",
    "  geom_sf(data = mass_inputs_robinson, aes(color = mean_wpb), size = 1) +\n",
    "  coord_sf() +\n",
    "  scale_color_viridis_c(option = \"turbo\") +\n",
    "  guides(col = guide_colourbar(\n",
    "    title = expression(\"Mean waste inputs (g g fish\"^-1*\")\"),\n",
    "    direction = \"horizontal\", position = \"bottom\",\n",
    "    label.position = \"bottom\", title.position = \"top\", \n",
    "    title.vjust = 1, title.hjust = 0.5,\n",
    "    frame.colour = \"black\", ticks.colour = \"black\",ticks.linewidth = 2,\n",
    "    barwidth = 25,barheight = 1.5\n",
    "  )) +\n",
    "  geom_sf(data = boxes_robinson, fill = NA, color = \"darkred\", size = 1.65) +\n",
    "  geom_sf_text(data = labels_robinson, aes(label = letter), \n",
    "               color = \"darkred\", size = 5, fontface = \"bold\", \n",
    "               hjust = 0.5, vjust = 0.5) +\n",
    "  theme_void()"
   ],
   "id": "cell-fig-waste-inputs-total"
  },
  {
   "cell_type": "code",
   "execution_count": null,
   "metadata": {
    "layout-align": "center"
   },
   "outputs": [
    {
     "output_type": "stream",
     "name": "stderr",
     "text": [
      "Coordinate system already present. Adding new coordinate system, which will\n",
      "replace the existing one."
     ]
    },
    {
     "output_type": "stream",
     "name": "stderr",
     "text": [
      "Coordinate system already present. Adding new coordinate system, which will\n",
      "replace the existing one."
     ]
    },
    {
     "output_type": "stream",
     "name": "stderr",
     "text": [
      "Coordinate system already present. Adding new coordinate system, which will\n",
      "replace the existing one."
     ]
    },
    {
     "output_type": "stream",
     "name": "stderr",
     "text": [
      "Coordinate system already present. Adding new coordinate system, which will\n",
      "replace the existing one."
     ]
    },
    {
     "output_type": "stream",
     "name": "stderr",
     "text": [
      "Coordinate system already present. Adding new coordinate system, which will\n",
      "replace the existing one."
     ]
    },
    {
     "output_type": "display_data",
     "metadata": {},
     "data": {}
    }
   ],
   "source": [
    "mass_inputs_patch <- mass_inputs_sep_geometry %>% \n",
    "  filter(feed == \"reference\" & measure == \"total\") %>% \n",
    "  mutate(mean_wpb = mean_wpb %>% drop_units())\n",
    "\n",
    "p1 <- ggplot() +\n",
    "  geom_sf(data = worldmap, fill = \"white\", color = \"dimgray\") +\n",
    "  geom_sf(data = mass_inputs_patch, aes(color = mean_wpb, geometry = geometry), size = 2) +\n",
    "  coord_sf() +\n",
    "  scale_color_viridis_c(option = \"turbo\") +\n",
    "  guides(col = guide_colourbar(\n",
    "    title = expression(\"Mean waste inputs (g g fish\"^-1*\")\"),\n",
    "    direction = \"vertical\", position = \"right\",\n",
    "    label.position = \"right\", title.position = \"top\", \n",
    "    title.vjust = 1, title.hjust = 0.5,\n",
    "    frame.colour = \"black\", ticks.colour = \"black\",ticks.linewidth = 1.5,\n",
    "    barwidth = 1.5, barheight = 20,\n",
    "  )) +\n",
    "  prettyplot() +\n",
    "  labs(y = \"Latitude\", x = \"Longitude\")\n",
    "\n",
    "p_Can1 <- p1 + \n",
    "  coord_sf(xlim = inset_boxes_sm[[\"CAN1\"]][[\"xlims\"]], \n",
    "           ylim = inset_boxes_sm[[\"CAN1\"]][[\"ylims\"]])  +\n",
    "  draw_label(\"A\", size = 14, fontface = \"bold\", \n",
    "             x = inset_boxes_sm[[\"CAN1\"]][[\"labx\"]], \n",
    "             y = inset_boxes_sm[[\"CAN1\"]][[\"laby\"]], \n",
    "             hjust = -1, vjust = 0.5)"
   ],
   "id": "037274d5-3bef-45fa-8113-fd36d7c3c614"
  },
  {
   "cell_type": "code",
   "execution_count": null,
   "metadata": {
    "layout-align": "center"
   },
   "outputs": [],
   "source": [
    "excreted_total %>% \n",
    "  merge(farms_geometry, by = \"farm_ID\") %>% \n",
    "  mutate(excr_biom_mean = excr_biom_mean %>% set_units(\"g g_fish-1 d-1\") %>% set_units(\"g kg_fish-1 d-1\"),\n",
    "         country = factor(country, levels = sorted_countries)) %>% \n",
    "  ggplot(aes(x = country, y = excr_biom_mean, fill = feed)) +\n",
    "  geom_boxplot() +\n",
    "  prettyplot() +\n",
    "  scale_fill_manual(values = feed_pal) +\n",
    "  labs(y = \"Excreted faeces\", x = \"Country\")"
   ],
   "id": "cell-fig-total-excreted-perday"
  },
  {
   "cell_type": "code",
   "execution_count": null,
   "metadata": {
    "layout-align": "center"
   },
   "outputs": [],
   "source": [],
   "id": "cell-fig-total-excr-diff_perc"
  },
  {
   "cell_type": "code",
   "execution_count": null,
   "metadata": {
    "layout-align": "center"
   },
   "outputs": [],
   "source": [],
   "id": "cell-fig-total-excr-diff_perc_2"
  },
  {
   "cell_type": "code",
   "execution_count": null,
   "metadata": {
    "layout-align": "center"
   },
   "outputs": [],
   "source": [
    "df <- excreted_total %>% \n",
    "  select(-contains(c(\"sd\", \"excr_mean\", \"biomass\"))) %>% \n",
    "  pivot_wider(names_from = \"feed\", values_from = \"excr_biom_mean\") %>% \n",
    "  mutate(past = past-reference,\n",
    "         future = future-reference) %>% \n",
    "  pivot_longer(names_to = \"feed\", values_to = \"diff\", cols = c(past, future), names_transform = list(feed = as.factor)) %>% \n",
    "  mutate(reference = set_units(reference, \"g kg_fish-1 d-1\"),\n",
    "         diff = set_units(diff, \"kg t_fish-1 d-1\")) %>% \n",
    "  merge(farm_coords, by = \"farm_ID\") %>% \n",
    "  mutate(prod_day = t-t_start+1)\n",
    "\n",
    "summ <- df %>%\n",
    "  group_by(hemisphere, feed) %>% \n",
    "  reframe(mean = meanna(diff) %>% round(3),\n",
    "          min = meanna(diff) %>% round(3),\n",
    "          max = maxna(diff) %>% round(3))\n",
    "\n",
    "df %>% \n",
    "  group_by(hemisphere, feed, prod_day) %>% \n",
    "  reframe(mean_diff = meanna(diff),\n",
    "          sd_diff = sdna(diff) %>% set_units(\"kg t_fish-1 d-1\")) %>% \n",
    "  ggplot(aes(x = prod_day, y = mean_diff, ymin = mean_diff-sd_diff, ymax = mean_diff+sd_diff, colour = hemisphere, fill = hemisphere)) +\n",
    "  geom_line(linewidth = 0.75) +\n",
    "  geom_ribbon(alpha = 0.25) +\n",
    "  facet_wrap(~feed) +\n",
    "  prettyplot()"
   ],
   "id": "cell-fig-total-excr-act_diff"
  },
  {
   "cell_type": "markdown",
   "metadata": {},
   "source": [
    "## Total nutrient inputs"
   ],
   "id": "ee8f6617-a2be-402c-a03b-addcf2817fb1"
  },
  {
   "cell_type": "code",
   "execution_count": null,
   "metadata": {
    "layout-align": "center"
   },
   "outputs": [],
   "source": [
    "N_inputs_df <- rbind(\n",
    "  farmrun_files %>% \n",
    "    purrr::map(function(f) {qs::qread(f)[[\"P_excr_stat\"]]}) %>% \n",
    "    bind_rows() %>% \n",
    "    mutate(measure = \"excr\"),\n",
    "  farmrun_files %>% \n",
    "    purrr::map(function(f) {qs::qread(f)[[\"P_uneat_stat\"]]}) %>% \n",
    "    bind_rows() %>% \n",
    "    mutate(measure = \"uneat\")\n",
    ") %>% \n",
    "  mutate(measure = as.factor(measure),\n",
    "         t = as.integer(t))\n",
    "\n",
    "# Absolute inputs\n",
    "N_inputs_df <- N_inputs_df %>% \n",
    "  mutate(mean = mean %>% set_units(\"g\") %>% set_units(\"gN\"),\n",
    "         sd = sd %>% set_units(\"g\") %>% set_units(\"gN\"))\n",
    "\n",
    "# Inputs relative to biomass produced\n",
    "N_inputs_rel_df <- N_inputs_df %>% \n",
    "  merge(biomass, by = c(\"farm_ID\", \"feed\", \"t\")) %>% \n",
    "  rename(mean = mean.x, \n",
    "         sd = sd.x, \n",
    "         biomass_mean = mean.y,\n",
    "         biomass_sd = sd.y) %>% \n",
    "  mutate(biomass_mean = biomass_mean %>% set_units(\"g_fish\"),\n",
    "         biomass_sd = biomass_sd %>% set_units(\"g_fish\"),\n",
    "         biomass_sd = biomass_sd/biomass_mean,\n",
    "         sd = sd/mean,\n",
    "         mean = mean/biomass_mean,\n",
    "         sd = sqrt(sd^2 + biomass_sd^2) * mean,\n",
    "         biomass_sd = biomass_sd * biomass_mean)"
   ],
   "id": "66be370d-9aac-4c2e-b25c-f4add2a15721"
  },
  {
   "cell_type": "code",
   "execution_count": null,
   "metadata": {
    "layout-align": "center"
   },
   "outputs": [],
   "source": [
    "ggplot(ec, aes(x = source, y = 100*value, fill = feed)) +\n",
    "  geom_col(colour = \"black\", position = position_dodge(width = 0.9), alpha = 0.75) +\n",
    "  facet_grid(cols = vars(macro)) +\n",
    "  prettyplot() +\n",
    "  scale_fill_manual(values = feed_pal) +\n",
    "  scale_y_continuous(breaks = seq(0, 60, 10)) +\n",
    "  labs(y = \"Composition (%)\", x = \"Source\")"
   ],
   "id": "cell-fig-composition-comparison"
  },
  {
   "cell_type": "code",
   "execution_count": null,
   "metadata": {
    "layout-align": "center"
   },
   "outputs": [],
   "source": [
    "# Through time\n",
    "N_inputs_ts <- N_inputs_df %>%\n",
    "  group_by(feed, t, measure) %>% \n",
    "  reframe(min = minna(mean),\n",
    "          max = maxna(mean),\n",
    "          sd = sdna(mean) %>% set_units(\"g\"),\n",
    "          mean = meanna(mean))\n",
    "\n",
    "N_inputs_rel_ts <- N_inputs_rel_df %>% \n",
    "  group_by(feed, t, measure) %>% \n",
    "  reframe(min = minna(mean),\n",
    "          max = maxna(mean),\n",
    "          sd = sdna(mean) %>% set_units(\"g g_fish-1\"),\n",
    "          mean = meanna(mean))\n",
    "\n",
    "# Total (at production end)\n",
    "N_inputs_end <- N_inputs_df %>% \n",
    "  group_by(feed, measure, farm_ID) %>% \n",
    "  reframe(mean = sumna(mean)) %>% \n",
    "  group_by(feed, measure) %>% \n",
    "  reframe(min = minna(mean),\n",
    "          max = maxna(mean),\n",
    "          sd = sdna(mean) %>% set_units(\"g\"),\n",
    "          mean = meanna(mean))\n",
    "\n",
    "N_inputs_rel_end <- N_inputs_rel_df %>% \n",
    "  group_by(feed, measure, farm_ID) %>% \n",
    "  reframe(mean = sumna(mean)) %>% \n",
    "  group_by(feed, measure) %>% \n",
    "  reframe(min = minna(mean),\n",
    "          max = maxna(mean),\n",
    "          sd = sdna(mean) %>% set_units(\"g g_fish-1\"),\n",
    "          mean = meanna(mean))\n",
    "\n",
    "N_inputs_rel_end_diff <- N_inputs_rel_df %>% \n",
    "  group_by(feed, measure, farm_ID) %>% \n",
    "  reframe(mean = sumna(mean)) %>% \n",
    "  pivot_wider(names_from = feed, values_from = mean) %>% \n",
    "  mutate(future = (future-reference)/reference,\n",
    "         past = (past-reference)/reference) %>% \n",
    "  select(-reference) %>% \n",
    "  pivot_longer(cols = c(past, future), names_to = \"feed\", values_to = \"diff\") %>% \n",
    "  mutate(feed = factor(feed, levels = c(\"past\", \"future\"))) %>% \n",
    "  group_by(feed, measure) %>% \n",
    "  reframe(min = minna(diff),\n",
    "          max = maxna(diff),\n",
    "          sd = sdna(diff),\n",
    "          mean = meanna(diff))\n",
    "\n",
    "# Pull key values (uneaten feed)\n",
    "u_stmin1 <- filter(N_inputs_rel_end, feed == \"reference\", measure == \"uneat\") %>% pull(min)\n",
    "u_stmax1 <- filter(N_inputs_rel_end, feed == \"reference\", measure == \"uneat\") %>% pull(max)\n",
    "u_stmean1 <- filter(N_inputs_rel_end, feed == \"reference\", measure == \"uneat\") %>% pull(mean)\n",
    "u_stmin2 <- filter(N_inputs_rel_end_diff, feed == \"past\", measure == \"uneat\") %>% pull(min)\n",
    "u_stmax2 <- filter(N_inputs_rel_end_diff, feed == \"past\", measure == \"uneat\") %>% pull(max)\n",
    "u_stmean2 <- filter(N_inputs_rel_end_diff, feed == \"past\", measure == \"uneat\") %>% pull(mean)\n",
    "u_stmin3 <- filter(N_inputs_rel_end_diff, feed == \"future\", measure == \"uneat\") %>% pull(min)\n",
    "u_stmax3 <- filter(N_inputs_rel_end_diff, feed == \"future\", measure == \"uneat\") %>% pull(max)\n",
    "u_stmean3 <- filter(N_inputs_rel_end_diff, feed == \"future\", measure == \"uneat\") %>% pull(mean)\n",
    "\n",
    "# Convert past and future values to % change values\n",
    "u_stmin2 <- (100*u_stmin2) %>% round(2)\n",
    "u_stmax2 <- (100*u_stmax2) %>% round(2)\n",
    "u_stmean2 <- (100*u_stmean2) %>% round(2)\n",
    "u_stmin3 <- (100*u_stmin3) %>% round(2)\n",
    "u_stmax3 <- (100*u_stmax3) %>% round(2)\n",
    "u_stmean3 <- (100*u_stmean3) %>% round(2)\n",
    "\n",
    "u_stmin1 <- u_stmin1 %>% set_units(\"g kg_fish-1\") %>% drop_units() %>% round(2)\n",
    "u_stmax1 <- u_stmax1 %>% set_units(\"g kg_fish-1\") %>% drop_units() %>% round(2)\n",
    "u_stmean1 <- u_stmean1 %>% set_units(\"g kg_fish-1\") %>% drop_units() %>% round(2)"
   ],
   "id": "64a0e87f-9712-4e38-a949-06216a90372c"
  },
  {
   "cell_type": "markdown",
   "metadata": {},
   "source": [
    "# Supplementary materials\n",
    "\n",
    "## Parameter sensitivity"
   ],
   "id": "acad5068-d84f-4b8d-91c6-eed4c2079cec"
  },
  {
   "cell_type": "code",
   "execution_count": null,
   "metadata": {
    "layout-align": "center"
   },
   "outputs": [],
   "source": [
    "sens_weight <- output_sens_data_path %>% \n",
    "  list.files(full.names = T) %>% \n",
    "  str_subset(\"results\") %>% \n",
    "  str_subset(\"weight\") %>% \n",
    "  qs::qread()\n",
    "\n",
    "sens_excr <- output_sens_data_path %>% \n",
    "  list.files(full.names = T) %>% \n",
    "  str_subset(\"results\") %>% \n",
    "  str_subset(\"total_excr\") %>% \n",
    "  qs::qread() \n",
    "\n",
    "sens_data <- rbind(sens_weight, sens_excr)"
   ],
   "id": "8f6cbd23-3891-4cc2-8526-0562abfd2702"
  },
  {
   "cell_type": "markdown",
   "metadata": {},
   "source": [
    "The most sensitive parameter by far in <a href=\"#fig-param-sens-weight\" class=\"quarto-xref\">Figure 8</a> is $m$ (the weight exponent for anabolism), followed closely by $n$ the (weight exponent for catabolism). These two are also relatively uncertain, as $m$ was taken from *Salmo trutta* measurements in a fairly old paper ([Broekhuizen et al. 1994](#ref-broekhuizen_modelling_1994)) and $n$ was taken from Baldan et al. ([2018](#ref-baldan_r_2018)) which did not specifically look at Atlantic salmon."
   ],
   "id": "626563d7-6a33-4ea4-a1d8-16d6131d4670"
  },
  {
   "cell_type": "code",
   "execution_count": null,
   "metadata": {
    "layout-align": "center"
   },
   "outputs": [
    {
     "output_type": "display_data",
     "metadata": {},
     "data": {}
    }
   ],
   "source": [
    "sens_data <- sens_data %>% \n",
    "  filter(measure %in% c(\"total_excr\", \"total_uneat\")) \n",
    "\n",
    "sens_data %>% \n",
    "  ggplot(aes(x = adj_param, y = mean_sens, ymin = mean_sens - sd_sens, ymax = mean_sens + sd_sens, fill = measure)) +\n",
    "  geom_col(position = position_dodge(), width = 0.95, colour = \"black\", alpha = 0.75) +\n",
    "  # geom_errorbar(position = position_dodge(width = 0.95), width = 0.3) +\n",
    "  geom_hline(aes(yintercept = 0), linetype = \"dashed\") +\n",
    "  scale_y_continuous(breaks = seq(-30,30,5), limits = c(-10,30)) +\n",
    "  # scale_x_discrete(limits = rev(param_names$name), labels = rev(param_names$lab)) +\n",
    "  # scale_fill_manual(values = c(total_excr = \"salmon\", total_uneat = \"steelblue\")) +\n",
    "  labs(x = \"Adjusted parameter\", y = \"Sensitivity\") +\n",
    "  prettyplot() +\n",
    "  theme(strip.text = element_blank(), \n",
    "        aspect.ratio = 0.8,\n",
    "        axis.title.y = element_blank()) +\n",
    "  coord_flip()"
   ],
   "id": "cell-fig-param-sens-weight"
  },
  {
   "cell_type": "markdown",
   "metadata": {},
   "source": [
    "# References\n",
    "\n",
    "Allaire, J. J., Charles Teague, Carlos Scheidegger, Yihui Xie, and Christophe Dervieux. 2024. ‘Quarto’. <https://doi.org/10.5281/zenodo.5960048>.\n",
    "\n",
    "Bache, Stefan Milton, and Hadley Wickham. 2022. *Magrittr: A Forward-Pipe Operator for r*. <https://CRAN.R-project.org/package=magrittr>.\n",
    "\n",
    "Baldan, Damiano, Erika M. D. Porporato, Roberto Pastres, and Daniele Brigolin. 2018. ‘An R Package for Simulating Growth and Organic Wastage in Aquaculture Farms in Response to Environmental Conditions and Husbandry Practices’. *PLOS ONE* 13 (5): e0195732. <https://doi.org/10.1371/journal.pone.0195732>.\n",
    "\n",
    "Bengtsson, Henrik. 2021. ‘A Unifying Framework for Parallel and Distributed Processing in r Using Futures’. *The R Journal* 13 (2): 208–27. <https://doi.org/10.32614/RJ-2021-048>.\n",
    "\n",
    "Broekhuizen, Niall., William. S. C. Gurney, A. Jones, and A. D. Bryant. 1994. ‘Modelling Compensatory Growth’. *Functional Ecology* 8 (6): 770–82. <https://doi.org/10.2307/2390237>.\n",
    "\n",
    "Butt, Nathalie, Benjamin S. Halpern, Casey C. O’Hara, A. Louise Allcock, Beth Polidoro, Samantha Sherman, Maria Byrne, et al. 2022. ‘A Trait-Based Framework for Assessing the Vulnerability of Marine Species to Human Impacts’. *Ecosphere* 13 (2): e3919. <https://doi.org/10.1002/ecs2.3919>.\n",
    "\n",
    "Chaput, Remy. 2024. ‘<span class=\"nocase\">acronyms</span>’. <https://github.com/rchaput/acronyms>.\n",
    "\n",
    "Dempsey, Danielle P., Gregor K. Reid, Leah Lewis-McCrea, Toby Balch, Roland Cusack, André Dumas, and Jack Rensel. 2023. ‘Estimating Stocking Weights for Atlantic Salmon to Grow to Market Size at Novel Aquaculture Sites with Extreme Temperatures’. *Frontiers in Marine Science* 10 (May). <https://doi.org/10.3389/fmars.2023.1094247>.\n",
    "\n",
    "Elliott, J. M., and W. Davison. 1975. ‘Energy Equivalents of Oxygen Consumption in Animal Energetics’. *Oecologia* 19 (3): 195–201. <https://doi.org/10.1007/BF00345305>.\n",
    "\n",
    "Grolemund, Garrett, and Hadley Wickham. 2011. ‘Dates and Times Made Easy with <span class=\"nocase\">lubridate</span>’. *Journal of Statistical Software* 40 (3): 1–25. <https://www.jstatsoft.org/v40/i03/>.\n",
    "\n",
    "Hijmans, Robert J. 2024. *Terra: Spatial Data Analysis*. <https://CRAN.R-project.org/package=terra>.\n",
    "\n",
    "Jonsson, Bror, Torbjørn Forseth, Arne. J. Jensen, and Tor. F. Næsje. 2001. ‘Thermal Performance of Juvenile Atlantic Salmon, *Salmo Salar* L.’ *Functional Ecology* 15 (6): 701–11. <https://doi.org/10.1046/j.0269-8463.2001.00572.x>.\n",
    "\n",
    "Landau, William Michael. 2021. ‘The Targets r Package: A Dynamic Make-Like Function-Oriented Pipeline Toolkit for Reproducibility and High-Performance Computing’. *Journal of Open Source Software* 6 (57): 2959. <https://doi.org/10.21105/joss.02959>.\n",
    "\n",
    "Macnaughton, Camille J., David Deslauriers, Erinn L. Ipsen, Emily Corey, and Eva C. Enders. 2019. ‘Using Meta-Analysis to Derive a Respiration Model for Atlantic Salmon (*Salmo Salar*) to Assess Bioenergetics Requirements of Juveniles in Two Canadian Rivers’. *Canadian Journal of Fisheries and Aquatic Sciences* 76 (12): 2225–34. <https://doi.org/10.1139/cjfas-2018-0436>.\n",
    "\n",
    "Massicotte, Philippe, and Andy South. n.d. *Rnaturalearth: World Map Data from Natural Earth*. <https://github.com/ropensci/rnaturalearth>.\n",
    "\n",
    "Pebesma, Edzer. 2018. ‘Simple Features for r: Standardized Support for Spatial Vector Data’. *The R Journal* 10 (1): 439–46. <https://doi.org/10.32614/RJ-2018-009>.\n",
    "\n",
    "Pebesma, Edzer, Thomas Mailund, and James Hiebert. 2016. ‘Measurement Units in R’. *R Journal* 8 (2): 486–94. <https://doi.org/10.32614/RJ-2016-061>.\n",
    "\n",
    "Poletto, Jamilynn B., Dennis E. Cocherell, Sarah E. Baird, Trinh X. Nguyen, Valentina Cabrera-Stagno, Anthony P. Farrell, and Nann A. Fangue. 2017. ‘Unusual Aerobic Performance at High Temperatures in Juvenile Chinook Salmon, *Oncorhynchus Tshawytscha*’. *Conservation Physiology* 5 (1). <https://doi.org/10.1093/conphys/cow067>.\n",
    "\n",
    "R Core Team. 2019. *R: A Language and Environment for Statistical Computing*. Vienna, Austria: R Foundation for Statistical Computing. <https://www.R-project.org>.\n",
    "\n",
    "Richardson, Neal, Ian Cook, Nic Crane, Dewey Dunnington, Romain François, Jonathan Keane, Dragoș Moldovan-Grünfeld, Jeroen Ooms, Jacob Wujciak-Jens, and Apache Arrow. 2024. ‘Arrow: Integration to ’Apache’ ’Arrow’’. <https://CRAN.R-project.org/package=arrow>.\n",
    "\n",
    "Tvete, Ingunn Fride, Magne Aldrin, and Britt Bang Jensen. 2023. ‘Towards Better Survival: Modeling Drivers for Daily Mortality in Norwegian Atlantic Salmon Farming’. *Preventive Veterinary Medicine* 210 (January): 105798. <https://doi.org/10.1016/j.prevetmed.2022.105798>.\n",
    "\n",
    "Uglem, Ingebrigt, Kilian Toledo-Guedes, Pablo Sanchez-Jerez, Eva M. Ulvan, Tor Evensen, and Bjørn S. Sæther. 2020. ‘Does Waste Feed from Salmon Farming Affect the Quality of Saithe (*Pollachius Virens* L.) Attracted to Fish Farms?’ *Aquaculture Research* 51 (4): 1720–30. <https://doi.org/10.1111/are.14519>.\n",
    "\n",
    "Vadboncoeur, Émile, Charlotte Nelson, Jennifer R. Hall, Kathy A. Clow, Rebeccah M. Sandrelli, Colin J. Brauner, Andrew K. Swanson, and A. Kurt Gamperl. 2023. ‘Lowering Temperature to 1 °C Results in Physiological Changes, Stress and Mortality in Cultured Atlantic Salmon (*Salmo Salar*)’. *Aquaculture* 568 (April): 739313. <https://doi.org/10.1016/j.aquaculture.2023.739313>.\n",
    "\n",
    "Van Tien, Nguyen, Dam T. M. Chinh, Tran T. M. Huong, Truong H. Phuong, Simon Irvin, and Brett Glencross. 2016. ‘Development of a Nutritional Model to Define the Energy and Protein Requirements of Cobia, *Rachycentron Canadum*’. *Aquaculture* 463 (October): 193–200. <https://doi.org/10.1016/j.aquaculture.2016.05.037>.\n",
    "\n",
    "Vaughan, Davis, and Matt Dancho. 2022. *Furrr: Apply Mapping Functions in Parallel Using Futures*. <https://CRAN.R-project.org/package=furrr>.\n",
    "\n",
    "Wickham, Hadley. 2016. *Ggplot2: Elegant Graphics for Data Analysis*. Springer-Verlag New York. <https://ggplot2.tidyverse.org>.\n",
    "\n",
    "———. 2023. *Stringr: Simple, Consistent Wrappers for Common String Operations*. <https://CRAN.R-project.org/package=stringr>.\n",
    "\n",
    "Wickham, Hadley, Romain François, Lionel Henry, Kirill Müller, and Davis Vaughan. 2023. *Dplyr: A Grammar of Data Manipulation*. <https://CRAN.R-project.org/package=dplyr>.\n",
    "\n",
    "Wickham, Hadley, Davis Vaughan, and Maximilian Girlich. 2024. *Tidyr: Tidy Messy Data*. <https://CRAN.R-project.org/package=tidyr>.\n",
    "\n",
    "Xie, Yihui. 2017. ‘Tinytex: Helper Functions to Install and Maintain TeX Live, and Compile LaTeX Documents’. <https://cran.r-project.org/web/packages/tinytex>."
   ],
   "id": "98e8c8be-7d8c-449d-a42c-de98b35e8a72"
  }
 ],
 "nbformat": 4,
 "nbformat_minor": 5,
 "metadata": {}
}
