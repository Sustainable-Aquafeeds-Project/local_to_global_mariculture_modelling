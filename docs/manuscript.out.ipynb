{
 "cells": [
  {
   "cell_type": "markdown",
   "metadata": {},
   "source": [
    "# Local to global N input modelling"
   ],
   "id": "d7462a6e-3473-413c-97df-e46e55d4e5e7"
  },
  {
   "cell_type": "code",
   "execution_count": null,
   "metadata": {
    "layout-align": "center"
   },
   "outputs": [
    {
     "output_type": "stream",
     "name": "stderr",
     "text": [
      "\n",
      "Attaching package: 'dplyr'"
     ]
    },
    {
     "output_type": "stream",
     "name": "stderr",
     "text": [
      "The following objects are masked from 'package:stats':\n",
      "\n",
      "    filter, lag"
     ]
    },
    {
     "output_type": "stream",
     "name": "stderr",
     "text": [
      "The following objects are masked from 'package:base':\n",
      "\n",
      "    intersect, setdiff, setequal, union"
     ]
    },
    {
     "output_type": "stream",
     "name": "stderr",
     "text": [
      "\n",
      "Attaching package: 'tidyr'"
     ]
    },
    {
     "output_type": "stream",
     "name": "stderr",
     "text": [
      "The following object is masked from 'package:magrittr':\n",
      "\n",
      "    extract"
     ]
    },
    {
     "output_type": "stream",
     "name": "stderr",
     "text": [
      "Warning: package 'ggplot2' was built under R version 4.4.3"
     ]
    },
    {
     "output_type": "stream",
     "name": "stderr",
     "text": [
      "Warning: package 'ggh4x' was built under R version 4.4.3"
     ]
    },
    {
     "output_type": "stream",
     "name": "stderr",
     "text": [
      "here() starts at C:/Users/treimer/Documents/R-temp-files/local_to_global_mariculture_modelling"
     ]
    },
    {
     "output_type": "stream",
     "name": "stderr",
     "text": [
      "Warning: package 'qs' was built under R version 4.4.3"
     ]
    },
    {
     "output_type": "stream",
     "name": "stderr",
     "text": [
      "qs 0.27.3. Announcement: https://github.com/qsbase/qs/issues/103"
     ]
    },
    {
     "output_type": "stream",
     "name": "stderr",
     "text": [
      "\n",
      "Attaching package: 'arrow'"
     ]
    },
    {
     "output_type": "stream",
     "name": "stderr",
     "text": [
      "The following object is masked from 'package:magrittr':\n",
      "\n",
      "    is_in"
     ]
    },
    {
     "output_type": "stream",
     "name": "stderr",
     "text": [
      "The following object is masked from 'package:utils':\n",
      "\n",
      "    timestamp"
     ]
    },
    {
     "output_type": "stream",
     "name": "stderr",
     "text": [
      "Linking to GEOS 3.13.0, GDAL 3.10.1, PROJ 9.5.1; sf_use_s2() is TRUE"
     ]
    },
    {
     "output_type": "stream",
     "name": "stderr",
     "text": [
      "terra 1.8.50"
     ]
    },
    {
     "output_type": "stream",
     "name": "stderr",
     "text": [
      "\n",
      "Attaching package: 'terra'"
     ]
    },
    {
     "output_type": "stream",
     "name": "stderr",
     "text": [
      "The following object is masked from 'package:arrow':\n",
      "\n",
      "    buffer"
     ]
    },
    {
     "output_type": "stream",
     "name": "stderr",
     "text": [
      "The following object is masked from 'package:patchwork':\n",
      "\n",
      "    area"
     ]
    },
    {
     "output_type": "stream",
     "name": "stderr",
     "text": [
      "The following object is masked from 'package:ggpubr':\n",
      "\n",
      "    rotate"
     ]
    },
    {
     "output_type": "stream",
     "name": "stderr",
     "text": [
      "The following object is masked from 'package:tidyr':\n",
      "\n",
      "    extract"
     ]
    },
    {
     "output_type": "stream",
     "name": "stderr",
     "text": [
      "The following objects are masked from 'package:magrittr':\n",
      "\n",
      "    extract, inset"
     ]
    },
    {
     "output_type": "stream",
     "name": "stderr",
     "text": [
      "\n",
      "Attaching package: 'rnaturalearthdata'"
     ]
    },
    {
     "output_type": "stream",
     "name": "stderr",
     "text": [
      "The following object is masked from 'package:rnaturalearth':\n",
      "\n",
      "    countries110"
     ]
    },
    {
     "output_type": "stream",
     "name": "stderr",
     "text": [
      "Loading required package: future"
     ]
    },
    {
     "output_type": "stream",
     "name": "stderr",
     "text": [
      "\n",
      "Attaching package: 'purrr'"
     ]
    },
    {
     "output_type": "stream",
     "name": "stderr",
     "text": [
      "The following object is masked from 'package:magrittr':\n",
      "\n",
      "    set_names"
     ]
    },
    {
     "output_type": "stream",
     "name": "stderr",
     "text": [
      "Warning: package 'readxl' was built under R version 4.4.3"
     ]
    },
    {
     "output_type": "stream",
     "name": "stderr",
     "text": [
      "Warning: package 'units' was built under R version 4.4.3"
     ]
    },
    {
     "output_type": "stream",
     "name": "stderr",
     "text": [
      "udunits database from C:/Users/treimer/AppData/Local/R/cache/R/renv/cache/v5/windows/R-4.4/x86_64-w64-mingw32/units/0.8-7/5d0b024902d5da97a2b64f002e92a869/units/share/udunits/udunits2.xml"
     ]
    }
   ],
   "source": [
    "library(magrittr)\n",
    "library(dplyr)"
   ],
   "id": "7166668f-88be-4d68-81ba-8ec00c977e2f"
  },
  {
   "cell_type": "code",
   "execution_count": null,
   "metadata": {
    "layout-align": "center"
   },
   "outputs": [],
   "source": [
    "source(here(\"00_model_functions.R\"))\n",
    "\n",
    "# Input paths\n",
    "input_farm_coords_path <- here() %>% file.path(\"data\", \"_general_data\", \"farm_locations\")\n",
    "input_farm_sst_path <- here() %>% file.path(\"data\", \"_general_data\", \"SST\")\n",
    "input_species_param_path <- here() %>% file.path(\"data\", \"atlantic_salmon\", \"params\")\n",
    "input_feed_profile_path <- here() %>% file.path(\"data\", \"_general_data\", \"diets\")\n",
    "\n",
    "# Output paths\n",
    "output_farm_data_path <- here() %>% file.path(\"outputs\", \"farm_data\")\n",
    "output_species_data_path <- here() %>% file.path(\"outputs\", \"species_data\")\n",
    "output_sens_data_path <- here() %>% file.path(\"outputs\", \"sensitivity_data\")\n",
    "output_farm_growth_data_path <- here() %>% file.path(\"outputs\", \"farm_growth_data\")\n",
    "output_cohort_growth_data_path <- here() %>% file.path(\"outputs\", \"cohort_growth_data\")\n",
    "data_analysis_path <- here() %>% file.path(\"outputs\", \"data_analysis\")\n",
    "\n",
    "# Filenames\n",
    "farm_coords_file <- file.path(output_farm_data_path, \"farm_coords.qs\")\n",
    "species_params_file <- file.path(output_species_data_path, \"species_params.qs\")\n",
    "pop_params_file <- file.path(output_species_data_path, \"pop_params.qs\")\n",
    "feed_params_file <- file.path(output_species_data_path, \"feed_params.qs\")\n",
    "sens_params_file <- file.path(output_species_data_path, \"sens_params.qs\")\n",
    "sens_results_files <- file.path(output_sens_data_path) %>% str_subset(\"results\")\n",
    "\n",
    "species_params <- qread(species_params_file)\n",
    "pop_params <- qread(pop_params_file)\n",
    "\n",
    "feed_pal <- c(\"past\" = brewer.pal(9, \"Set1\")[1], \"reference\" = brewer.pal(9, \"Set1\")[2], \"future\" = brewer.pal(9, \"Set1\")[3])\n",
    "cohort_pal <- c(\"1\" = brewer.pal(9, \"Set1\")[1], \"2\" = brewer.pal(9, \"Set1\")[2], \"3\" = brewer.pal(9, \"Set1\")[3], \"all\" = \"black\")"
   ],
   "id": "97972362-5113-4927-b123-e158fd1e06d3"
  },
  {
   "cell_type": "markdown",
   "metadata": {},
   "source": [
    "This document was last updated at 17:10 on 04 Jun, 2025.\n",
    "\n",
    "# Methods\n",
    "\n",
    "### Feeding rate\n",
    "\n",
    "To detail here:\n",
    "\n",
    "-   Functional response to temperature (species-specific)\n",
    "-   Overfeeding parameters and how they come into play\n",
    "-   Deminstration of how feeding response and actual food given vary with temperature?"
   ],
   "id": "ea35773c-9e97-4abb-bce9-c7831998f525"
  },
  {
   "cell_type": "code",
   "execution_count": null,
   "metadata": {
    "layout-align": "center"
   },
   "outputs": [],
   "source": [
    "df <- data.frame(water_temp = seq(-5, 26, 0.25))\n",
    "df$feeding <- sapply(FUN = feeding_rate, X = df$water_temp, species_params = species_params)\n",
    "df <- df %>% \n",
    "mutate(ing_pot = pop_params['meanImax'] * (pop_params['meanW']^species_params['m']) * feeding,\n",
    "       food_prov = NA)\n",
    "for (i in 1:nrow(df)) {\n",
    "  df$food_prov[i] <- food_prov_rate(pop_params = pop_params, rel_feeding = df$feeding[i], ing_pot = df$ing_pot[i], \n",
    "                                    ing_pot_10 = pop_params['meanImax'] * (pop_params['meanW']^species_params['m']) * 0.1)\n",
    "}\n",
    "df$ing_pot <- df$ing_pot/maxna(df$ing_pot)\n",
    "df$food_prov <- df$food_prov/maxna(df$ing_pot)\n",
    "\n",
    "df %>% \n",
    "  ggplot(aes(x = water_temp, y = ing_pot)) +\n",
    "  geom_line(linewidth = 0.75) +\n",
    "  geom_line(aes(y = food_prov), linewidth = 0.75, linetype = \"dotted\") +\n",
    "  scale_y_continuous(breaks = seq(0,1.5,0.25)) +\n",
    "  scale_x_continuous(breaks = seq(-5,30,5), limits = c(-5,26)) +\n",
    "  labs(x = expression(\"Water temperature (\"*degree*\"C)\"), y = \"Relative food ingested/provided\") +\n",
    "  theme_classic() +\n",
    "  theme(text = element_text(colour = \"black\", family = \"serif\", size = 12))"
   ],
   "id": "cell-fig-functional-response-to-temperature"
  },
  {
   "cell_type": "markdown",
   "metadata": {},
   "source": [
    "## Farm temperature forcings"
   ],
   "id": "44c41dfc-c5d0-4c83-ac0a-7a0aa9fa0de8"
  },
  {
   "cell_type": "code",
   "execution_count": null,
   "metadata": {
    "layout-align": "center"
   },
   "outputs": [],
   "source": [
    "farms_to_omit <- file.path(input_farm_coords_path, \"atlantic_salmon_farms_to_omit.qs\") %>% qs::qread()\n",
    "farm_ts_data <- file.path(output_farm_data_path, \"farm_ts_data.qs\") %>% qs::qread()\n",
    "farm_coords <- file.path(output_farm_data_path, \"farm_coords.qs\") %>% qs::qread() %>% \n",
    "    mutate(hemisphere = case_when(lat < 0 ~ \"S\", T ~ \"N\") %>% as.factor()) \n",
    "\n",
    "farms_geometry <- file.path(output_farm_data_path, \"farm_geometry.qs\") %>% qs::qread() %>% \n",
    "  rename(farm_ID = farm_id)\n",
    "\n",
    "sorted_countries <- farm_coords %>% \n",
    "  merge(farms_geometry, by = \"farm_ID\") %>% \n",
    "  group_by(country) %>% \n",
    "  reframe(av_lat = mean(lat)) %>% \n",
    "  arrange(-av_lat) %>% \n",
    "  pull(country) %>% \n",
    "  unique()"
   ],
   "id": "b35f0a3c-99bd-4ef3-8f4b-9280d9a4f1f2"
  },
  {
   "cell_type": "code",
   "execution_count": null,
   "metadata": {
    "layout-align": "center"
   },
   "outputs": [],
   "source": [
    "farm_temp_means <- farm_ts_data %>% \n",
    "  group_by(farm_ID) %>% \n",
    "  reframe(mean_temp = mean(temp_c)) %>% \n",
    "  merge(farms_geometry, by = \"farm_ID\") %>% \n",
    "  merge(farm_coords, by = \"farm_ID\") %>% \n",
    "  dplyr::filter(!farm_ID %in% farms_to_omit)\n",
    "\n",
    "overall_mean <- mean(farm_temp_means$mean_temp)\n",
    "overall_sd <- sd(farm_temp_means$mean_temp)\n",
    "\n",
    "rm(farm_ts_data)"
   ],
   "id": "151df053-27bb-4ea8-8759-d2f3c359bcfe"
  },
  {
   "cell_type": "markdown",
   "metadata": {},
   "source": [
    "Mean daily temperatures at the farms globally ranged from from 6$^{\\circ}$C to 16.7$^{\\circ}$C, with an overall mean of 10.1$^{\\circ}$C ($\\pm$ 1.8$^{\\circ}$C SD). Farms with a mean temperature of \\$$6$^\\$C were excluded (4 farms). The total number of farms included in the analysis was therefore 2717."
   ],
   "id": "54d05a88-059e-4212-8400-ff0975b87046"
  },
  {
   "cell_type": "code",
   "execution_count": null,
   "metadata": {
    "layout-align": "center"
   },
   "outputs": [
    {
     "output_type": "display_data",
     "metadata": {},
     "data": {}
    }
   ],
   "source": [
    "worldmap <- ne_countries(scale = \"medium\", returnclass = \"sf\")\n",
    "\n",
    "p1 <- ggplot(data = worldmap, aes(geometry = geometry)) +\n",
    "  geom_sf(fill = \"white\", color = \"dimgray\") +\n",
    "  geom_sf(data = farm_temp_means, aes(colour = mean_temp), size = 1.5) +\n",
    "  coord_sf() +\n",
    "  theme_classic() \n",
    "\n",
    "p2 <- farm_temp_means %>% \n",
    "  ggplot(aes(y = mean_temp, x = abs(lat), colour = country)) +\n",
    "  geom_point(size = 2) +\n",
    "  scale_colour_brewer(palette = \"Set1\") +\n",
    "  labs(x = expression(\"Absolute latitude (\"*degree*\")\"), y = expression(\"Mean temperature (\"*degree*\"C)\")) +\n",
    "  theme_classic() +\n",
    "  theme(legend.position = \"top\", legend.title = element_blank())\n",
    "\n",
    "p3 <- farm_temp_means %>% \n",
    "  mutate(hemisphere = case_when(lat < 0 ~ \"S\", T ~ \"N\")) %>% \n",
    "  ggplot(aes(x = mean_temp, fill = hemisphere)) +\n",
    "  geom_histogram(position = \"identity\", colour = \"black\", alpha = 0.5, binwidth = 0.5) +\n",
    "  labs(x = expression(\"Mean temperature (\"*degree*\"C)\"), y = \"Frequency\") +\n",
    "  theme_classic() +\n",
    "  theme(legend.position = \"top\", legend.title = element_blank())\n",
    "\n",
    "(p2 + p3) / p1 + plot_layout(heights = c(1, 1.5))"
   ],
   "id": "cell-fig-farm-mean-temps"
  },
  {
   "cell_type": "code",
   "execution_count": null,
   "metadata": {
    "layout-align": "center"
   },
   "outputs": [
    {
     "output_type": "stream",
     "name": "stderr",
     "text": [
      "Coordinate system already present. Adding new coordinate system, which will\n",
      "replace the existing one."
     ]
    },
    {
     "output_type": "stream",
     "name": "stderr",
     "text": [
      "Coordinate system already present. Adding new coordinate system, which will\n",
      "replace the existing one."
     ]
    },
    {
     "output_type": "stream",
     "name": "stderr",
     "text": [
      "Coordinate system already present. Adding new coordinate system, which will\n",
      "replace the existing one."
     ]
    },
    {
     "output_type": "stream",
     "name": "stderr",
     "text": [
      "Coordinate system already present. Adding new coordinate system, which will\n",
      "replace the existing one."
     ]
    },
    {
     "output_type": "stream",
     "name": "stderr",
     "text": [
      "Coordinate system already present. Adding new coordinate system, which will\n",
      "replace the existing one."
     ]
    },
    {
     "output_type": "display_data",
     "metadata": {},
     "data": {}
    }
   ],
   "source": [
    "worldmap <- ne_countries(scale = \"large\", returnclass = \"sf\")\n",
    "\n",
    "AUS_bounds <- c(144, 149.5, -39.75, -44)\n",
    "CAN1_bounds <- c(-132, -122, 47.75, 54.25)\n",
    "CAN2_bounds <- c(-70, -54, 43, 48.5)\n",
    "CHI_bounds <- c(-77.5, -62.5, -56, -25)\n",
    "EUR_bounds <- c(-26, 30, 51, 71)\n",
    "\n",
    "p_ALL <- ggplot(data = worldmap, aes(geometry = geometry)) +\n",
    "  geom_sf(fill = \"white\", color = \"dimgray\") +\n",
    "  geom_sf(data = farm_temp_means, aes(colour = mean_temp), size = 1.5) +\n",
    "  coord_sf() +\n",
    "  theme_classic()\n",
    "\n",
    "no_margins <- function() {\n",
    "  theme(legend.position = \"none\", \n",
    "        plot.margin = margin(0, 0, 0, 0),\n",
    "        axis.title = element_blank())\n",
    "}\n",
    "\n",
    "p_Aus <- p_ALL + coord_sf(xlim = AUS_bounds[1:2], ylim = AUS_bounds[3:4], expand = FALSE) + no_margins()"
   ],
   "id": "d8dd8682-a786-4715-ad05-4ee20811a32e"
  },
  {
   "cell_type": "markdown",
   "metadata": {},
   "source": [
    "## Production parameters\n",
    "\n",
    "Salmon were grown for 548 days and were initialised Spring. This was on day 274 for farms in the southern hemisphere and day 121 for farms in the northern hemisphere. Cohorts were initialised anually, such that there was an overlap of 183 days where one cohort was nearing harvest and another was being initialised.\n",
    "\n",
    "## Model parameterisation"
   ],
   "id": "2206011f-3be1-44a3-9956-760460bfb572"
  },
  {
   "cell_type": "code",
   "execution_count": null,
   "metadata": {
    "layout-align": "center"
   },
   "outputs": [],
   "source": [
    "params <- file.path(output_species_data_path, \"sens_params.qs\") %>% qs::qread()\n",
    "\n",
    "param_names <- tibble::tribble(\n",
    "  ~name,        ~lab,\n",
    "  \"alpha\",      bquote(alpha),\n",
    "  \"epsprot\",    bquote(epsilon[\"P\"]),\n",
    "  \"epslip\",     bquote(epsilon[\"L\"]),\n",
    "  \"epscarb\",    bquote(epsilon[\"C\"]),\n",
    "  \"epsO2\",      bquote(epsilon[\"O\"[2]]),\n",
    "  \"pk\",         bquote(\"pk\"),\n",
    "  \"k0\",         bquote(\"k\"[0]),\n",
    "  \"m\",          bquote(\"m\"),\n",
    "  \"n\",          bquote(\"n\"),\n",
    "  \"betac\",      bquote(beta*\"C\"),\n",
    "  \"Tma\",        bquote(\"T\"[\"max\"]),\n",
    "  \"Toa\",        bquote(\"T\"[\"opt\"]),\n",
    "  \"Taa\",        bquote(\"T\"[\"min\"]),\n",
    "  \"omega\",      bquote(omega),\n",
    "  \"a\",          bquote(\"a\"),\n",
    "  \"k\",          bquote(\"k\"),\n",
    "  \"eff\",        bquote(\"eff\"),\n",
    "  \"meanW\",      bquote(bar(\"W\")),\n",
    "  \"deltaW\",     bquote(Delta*\"W\"), \n",
    "  \"meanImax\",   bquote(bar(\"I\"[\"max\"])),\n",
    "  \"deltaImax\",  bquote(Delta*\"I\"[\"max\"]),\n",
    "  \"overFmean\",  bquote(bar(\"F\")),\n",
    "  \"overFdelta\", bquote(Delta*\"F\"),\n",
    "  \"mortmyt\",    bquote(\"mort\")\n",
    ")"
   ],
   "id": "caa4e015-8ec8-44dc-a6cb-ae5ffafa1954"
  },
  {
   "cell_type": "markdown",
   "metadata": {},
   "source": [
    "<a href=\"#tbl-params\" class=\"quarto-xref\">Table 1</a> shows the parameter values used to model the growth of farmed Atlantic salmon.\n",
    "\n",
    "| Parameter | Value | Units | Description | Reference |\n",
    "|:--:|:--:|:--:|:---|:---|\n",
    "| $\\alpha$ | 0.04 | \\- | Feeding catabolism coefficient | *Salvelinus alpinus*, *Oncorhynchus mykiss* (temps: 8–13$^{\\circ}$C) ([Broekhuizen et al. 1994](#ref-broekhuizen_modelling_1994)) |\n",
    "| $\\epsilon_{P}$ | 2.36^{4} | J g$^{-1}$ | Energy content of protein | Baldan et al. ([2018](#ref-baldan_r_2018)) |\n",
    "| $\\epsilon_{L}$ | 3.62^{4} | J g$^{-1}$ | Energy content of lipid | Baldan et al. ([2018](#ref-baldan_r_2018)) |\n",
    "| $\\epsilon_{C}$ | 1.72^{4} | J g$^{-1}$ | Energy content of carbohydrate | Baldan et al. ([2018](#ref-baldan_r_2018)) |\n",
    "| $\\epsilon_{O_2}$ | 1.34^{4} | J g O$_2^{-1}$ | Energy consumed by the respiration of 1 g of oxygen | Elliott and Davison ([1975](#ref-elliott_energy_1975)) |\n",
    "| pk | 0.05 | d$^{-1}$ | Temperature coefficient for the fasting catabolism | Macnaughton et al. ([2019](#ref-macnaughton_using_2019)) |\n",
    "| $k_0$ | 0.003 | \\- | Fasting catabolism at 0 $^{^\\circ}$C | Macnaughton et al. ([2019](#ref-macnaughton_using_2019)) |\n",
    "| m | 0.75 | \\- | Weight exponent for anabolism | Experimentally-derived alue over a range of *Oncorhynchus*, *Perca* and *Salmo* species (temps: 8–13$^{\\circ}$C) ([Broekhuizen et al. 1994](#ref-broekhuizen_modelling_1994)) |\n",
    "| n | 1 | \\- | Weight exponent for catabolism | Baldan et al. ([2018](#ref-baldan_r_2018)) |\n",
    "| $\\beta C$ | 0.3234 | \\- | Shape coefficient for the feeding function | Fish size range: 2.25 $\\pm$ 0.49 – 11.5 $\\pm$ 5.29 g, temperature ranges: 5–24$\\^{\\circ}$C. Coefficient for mean daily energy intake of the moderately fast growing group, 0.4398 (mean fast group), 0.2214 (mean slow group) ([B. Jonsson et al. 2001](#ref-jonsson_thermal_2001)) |\n",
    "| $T_{max}$ | 26 | $^{\\circ}$C | Maximum lethal temperature | Juvenile *Oncorhynchus tshawytscha* (19.8 $\\pm$ 0.02 g, acclimation temp: 15$^{^\\circ}$C, 19${\\circ}$C) ([Poletto et al. 2017](#ref-poletto_unusual_2017)) |\n",
    "| $T_{opt}$ | 16 | $^{\\circ}$C | Optimal temperature | Fish size range: 2.25 $\\pm$ 0.49 – 11.5 $\\pm$ 5.29 g, temperature ranges: 5–24$^{^\\circ}$C ([B. Jonsson et al. 2001](#ref-jonsson_thermal_2001)). Alt value: 14°C ([Handeland, Imsland, and Stefansson 2008](#ref-handeland_effect_2008)), *Salmo salar* initial size: 77.0 $\\pm$ 14.6 g, temps: 6, 10, 14, 18${\\circ}$C |\n",
    "| $T_{min}$ | 2 | $^{\\circ}$C | Lowest feeding temperature | Fish essentially stop feeding when below 2$^{\\circ}$C ([Vadboncoeur et al. 2023](#ref-vadboncoeur_lowering_2023)) |\n",
    "| $\\omega$ | 0.6542 | g O$_2$ g$^{-1}$ | Oxygen consumption:weight loss ratio | Calibrated value from Baldan et al. ([2018](#ref-baldan_r_2018)) |\n",
    "| a | 2669 | J g tissue$^{-1}$ | Energy content of fish tissue | Alt value: 17.02350 (nls model fitted to female Atlantic salmon data extracted and transformed from N. Jonsson and Jonsson ([2003](#ref-jonsson_energy_2003); [Van Tien et al. 2016](#ref-van_tien_development_2016)) |\n",
    "| k | 0.1715 | \\- | Weight exponent for energy content | Alt value: 1.65175 (nls model fitted to female Atlantic salmon data extracted and transformed from N. Jonsson and Jonsson ([2003](#ref-jonsson_energy_2003); [Van Tien et al. 2016](#ref-van_tien_development_2016)) |\n",
    "| eff | 0.97 | \\- | Food ingestion efficiency | Range: 95-97% ingestion efficiency ([Uglem et al. 2020](#ref-uglem_does_2020)) |\n",
    "| $\\overline{W}$ | 125 | g | Dry weight mean | Range of 100-150 given so used a mean of 125 and sd of 10 which over 1000 draws from a normal distribution delivers a minimum and maximum close to these numbers ([Dempsey et al. 2023](#ref-dempsey_estimating_2023)) |\n",
    "| $\\Delta{W}$ | 10 | g | Dry weight standard deviation | Range of 100-150 given so used a mean of 125 and sd of 10 which over 1000 draws from a normal distribution delivers a minimum and maximum close to these numbers ([Dempsey et al. 2023](#ref-dempsey_estimating_2023)) |\n",
    "| $\\overline{I_{max}}$ | 0.035 | g g$^{-1}$ fish d$^{-1}$ | Ingestion rate mean | [FAO](https://www.fao.org/fileadmin/user_upload/affris/docs/tabl10.pdf) |\n",
    "| $\\Delta{I_{max}}$ | 0.005 | g g$^{-1}$ fish d$^{-1}$ | Ingestion rate standard deviation | [FAO](https://www.fao.org/fileadmin/user_upload/affris/docs/tabl10.pdf) |\n",
    "| $\\overline{F}$ | 0.015 | g g$^{-1}$ fish | Overfeeding rate mean |  |\n",
    "| $\\Delta{F}$ | 0.0045 | g g$^{-1}$ fish | Overfeeding rate standard deviation |  |\n",
    "| mort | 5.99798^{-4} | d$^{-1}$ | Natural mortality rate | Tvete, Aldrin, and Jensen ([2023](#ref-tvete_towards_2023)) |\n",
    "\n",
    "Table 1: Model growth parameters for Atlantic salmon\n",
    "\n",
    "### Parameter sensitivity\n",
    "\n",
    "Parameter sensitivity was tested by varying each parameter in <a href=\"#tbl-params\" class=\"quarto-xref\">Table 1</a> by $\\pm 10$% and calculating sensitivity as $S_p = \\frac{(P_{1.1} - P_{0.9})}{0.2 \\times P_1}$, where $S$ is the sensitivity of the measured variable to changes in parameter $p$, and $P_{1.1}$, $P_{0.9}$, and $P_{1}$ are the value of the measured variable when the model is run with parameter $p$ at 110%, 90%, and 100% of its value respectively. \\* All parameters in Table <a href=\"#tbl-params\" class=\"quarto-xref\">Table 1</a> were tested across all farms (all temperatures) \\* Used the full population of 5000 for the population parameters $\\overline{W}$, $\\Delta{W}$, $\\overline{I_{max}}$, $\\Delta{I_{max}}$, $\\overline{F}$, and $\\Delta{F}$, and a population of 100 in each farm for all other parameters."
   ],
   "id": "9f2b9f54-8f73-4300-b661-5f6c9bcea04f"
  },
  {
   "cell_type": "code",
   "execution_count": null,
   "metadata": {
    "layout-align": "center"
   },
   "outputs": [],
   "source": [
    "sens_weight <- output_sens_data_path %>% \n",
    "  list.files(full.names = T) %>% \n",
    "  str_subset(\"results\") %>% \n",
    "  str_subset(\"weight\") %>% \n",
    "  qs::qread()\n",
    "\n",
    "sens_excr <- output_sens_data_path %>% \n",
    "  list.files(full.names = T) %>% \n",
    "  str_subset(\"results\") %>% \n",
    "  str_subset(\"total_excr\") %>% \n",
    "  qs::qread() \n",
    "\n",
    "sens_data <- rbind(sens_weight, sens_excr) %>% \n",
    "  mutate(adj_param = factor(adj_param, levels = param_names$name))"
   ],
   "id": "6285eaee-5a91-40bb-862f-61d4bfb184c9"
  },
  {
   "cell_type": "markdown",
   "metadata": {},
   "source": [
    "Looking at <a href=\"#fig-param-sens-weight\" class=\"quarto-xref\">Figure 2</a>:\n",
    "\n",
    "-   The most sensitive parameter by far is $m$ (the weight exponent for anabolism), followed closely by $n$ the (weight exponent for catabolism)\n",
    "-   These two are also relatively uncertain, as $m$ was taken from *Salmo trutta* measurements in a fairly old paper ([Broekhuizen et al. 1994](#ref-broekhuizen_modelling_1994)) and $n$ was taken from Baldan et al. ([2018](#ref-baldan_r_2018)) which did not specifically look at Atlantic salmon. There must be more up-to-date measurements for Atlantic salmon in particular."
   ],
   "id": "6942cb57-79a0-43ca-a065-4483e61ef6e5"
  },
  {
   "cell_type": "code",
   "execution_count": null,
   "metadata": {
    "layout-align": "center"
   },
   "outputs": [
    {
     "output_type": "display_data",
     "metadata": {},
     "data": {}
    }
   ],
   "source": [
    "sens_data %>% \n",
    "  ggplot(aes(x = adj_param, y = mean_sens, ymin = mean_sens - sd_sens, ymax = mean_sens + sd_sens, fill = measure)) +\n",
    "  geom_col(position = position_dodge(), width = 0.95, colour = \"black\", alpha = 0.75) +\n",
    "  # geom_errorbar(position = position_dodge(width = 0.95), width = 0.3) +\n",
    "  geom_hline(aes(yintercept = 0), linetype = \"dashed\") +\n",
    "  scale_y_continuous(breaks = seq(-30,30,5), limits = c(-10,30)) +\n",
    "  scale_x_discrete(limits = rev(param_names$name), labels = rev(param_names$lab)) +\n",
    "  scale_fill_manual(values = c(weight = \"salmon\", total_excr = \"steelblue\")) +\n",
    "  # scale_fill_manual(values = c(\"weight\" = \"salmon\", \"uneat\" = \"steelblue\", \"excr\" = \"darkgreen\")) +\n",
    "  labs(x = \"Adjusted parameter\", y = \"Sensitivity\") +\n",
    "  theme_classic() + \n",
    "  theme(legend.position = \"none\", \n",
    "        strip.text = element_blank(), \n",
    "        aspect.ratio = 0.8,\n",
    "        text = element_text(size = 12),\n",
    "        axis.title.y = element_blank()) +\n",
    "  coord_flip()"
   ],
   "id": "cell-fig-param-sens-weight"
  },
  {
   "cell_type": "markdown",
   "metadata": {},
   "source": [
    "## Modelled experimental feeds"
   ],
   "id": "5f35851c-47fa-4304-8010-2d8cdbd5afa5"
  },
  {
   "cell_type": "code",
   "execution_count": null,
   "metadata": {
    "layout-align": "center"
   },
   "outputs": [],
   "source": [
    "feed_params <- file.path(output_species_data_path, \"feed_params.qs\") %>% qs::qread()\n",
    "\n",
    "df <- feed_params[[\"reference\"]]\n",
    "contribP_1 <- df[[\"Proteins\"]]$proportion*df[[\"Proteins\"]]$macro\n",
    "tP_1 <- sum(contribP_1)\n",
    "digestP_1 <- sum(df[[\"Proteins\"]]$digest * contribP_1)/tP_1\n",
    "\n",
    "contribL_1 <- df[[\"Lipids\"]]$proportion*df[[\"Lipids\"]]$macro\n",
    "tL_1 <- sum(contribL_1)\n",
    "digestL <- sum(df[[\"Lipids\"]]$digest * contribL_1)/tL_1\n",
    "\n",
    "contribC_1 <- df[[\"Carbohydrates\"]]$proportion*df[[\"Carbohydrates\"]]$macro\n",
    "tC_1 <- sum(contribC_1)\n",
    "digestC_1 <- sum(df[[\"Carbohydrates\"]]$digest * contribC_1)/tC_1\n",
    "\n",
    "df <- feed_params[[\"past\"]]\n",
    "contribP_2 <- df[[\"Proteins\"]]$proportion*df[[\"Proteins\"]]$macro\n",
    "tP_2 <- sum(contribP_2)\n",
    "digestP_2 <- sum(df[[\"Proteins\"]]$digest * contribP_2)/tP_2\n",
    "\n",
    "contribL_2 <- df[[\"Lipids\"]]$proportion*df[[\"Lipids\"]]$macro\n",
    "tL_2 <- sum(contribL_2)\n",
    "digestL <- sum(df[[\"Lipids\"]]$digest * contribL_2)/tL_2\n",
    "\n",
    "contribC_2 <- df[[\"Carbohydrates\"]]$proportion*df[[\"Carbohydrates\"]]$macro\n",
    "tC_2 <- sum(contribC_2)\n",
    "digestC_2 <- sum(df[[\"Carbohydrates\"]]$digest * contribC_2)/tC_2\n",
    "\n",
    "df <- feed_params[[\"future\"]]\n",
    "contribP_3 <- df[[\"Proteins\"]]$proportion*df[[\"Proteins\"]]$macro\n",
    "tP_3 <- sum(contribP_3)\n",
    "digestP_3 <- sum(df[[\"Proteins\"]]$digest * contribP_3)/tP_3\n",
    "\n",
    "contribL_3 <- df[[\"Lipids\"]]$proportion*df[[\"Lipids\"]]$macro\n",
    "tL_3 <- sum(contribL_3)\n",
    "digestL <- sum(df[[\"Lipids\"]]$digest * contribL_3)/tL_3\n",
    "\n",
    "contribC_3 <- df[[\"Carbohydrates\"]]$proportion*df[[\"Carbohydrates\"]]$macro\n",
    "tC_3 <- sum(contribC_3)\n",
    "digestC_3 <- sum(df[[\"Carbohydrates\"]]$digest * contribC_3)/tC_3"
   ],
   "id": "8c61345d-d3f0-4047-9d04-c926924444cf"
  },
  {
   "cell_type": "markdown",
   "metadata": {},
   "source": [
    "<span class=\"column-margin margin-aside\">Possibly replace this with a better summary of the ingredients that make up each feed, and report these stats in Results under Uneaten feed?</span>\n",
    "\n",
    "-   Feeds came from ([Cottrell et al., n.d.](#ref-cottrell_origins_nodate), [2020](#ref-cottrell_global_2020)).\n",
    "-   The reference feed is 37.8% protein, 36.5% lipid, 20.4% carbohydrate.\n",
    "-   The past feed is 49.8% protein, 27.1% lipid, 16.6% carbohydrate.\n",
    "-   The future feed is 47.7% protein, 32.9% lipid, 13.9% carbohydrate.\n",
    "-   Within the reference feed, protein is overall 89.2% digestible, lipid is overall 96% digestible, and carbohydrate is overall 69.6% digestible.\n",
    "-   Within the past feed, protein is overall 90.5% digestible, lipid is overall 96% digestible, and carbohydrate is overall 79.7% digestible.\n",
    "-   Within the future feed, protein is overall 86.2% digestible, lipid is overall 96% digestible, and carbohydrate is overall 69.3% digestible.\n",
    "\n",
    "## Model population and biomass"
   ],
   "id": "12117137-012d-4d5a-93fa-a402dba3bfb5"
  },
  {
   "cell_type": "code",
   "execution_count": null,
   "metadata": {
    "layout-align": "center"
   },
   "outputs": [
    {
     "output_type": "display_data",
     "metadata": {},
     "data": {}
    }
   ],
   "source": [
    "fnms <- output_farm_growth_data_path %>% \n",
    "  list.files(full.names = T) %>% \n",
    "  str_subset(\"reference\")\n",
    "\n",
    "df <- qs::qread(fnms[1])[[\"biomass_stat\"]] %>% \n",
    "  as.data.frame() %>% \n",
    "  mutate(mean = set_units(mean, \"g\") %>% set_units(\"t\"),\n",
    "         sd = set_units(sd, \"g\") %>% set_units(\"t\")) %>% \n",
    "  select(-farm_ID)\n",
    "\n",
    "df <- rbind(\n",
    "  df %>% mutate(cohort = 1),\n",
    "  df %>% mutate(t = t+365, cohort = 2),\n",
    "  df %>% mutate(t = t+730, cohort = 3)\n",
    ") %>% \n",
    "  mutate(t = (t-min(t))+1,\n",
    "         split = \"Split by cohort\")\n",
    "\n",
    "min_t <- min(df$t[df$cohort == 2])\n",
    "max_t <- max(df$t[df$cohort == 2])\n",
    "\n",
    "df_2 <- df %>% \n",
    "  filter(t %in% min_t:max_t) %>% \n",
    "  mutate(sd = sd/mean) %>% \n",
    "  group_by(t) %>% \n",
    "  reframe(sd = sqrt(sum(sd^2)),\n",
    "          mean = sum(mean),\n",
    "          sd = sd*mean) %>% \n",
    "  mutate(cohort = \"all\",\n",
    "         split = \"Totalled\")\n",
    "\n",
    "df <- rbind(df, df_2) %>% \n",
    "  mutate(cohort = as.factor(cohort))\n",
    "\n",
    "ggplot(df, aes(x = t, y = mean, ymin = mean-sd, ymax = mean+sd, colour = as.factor(cohort))) +\n",
    "  geom_line(linewidth = 0.75) +\n",
    "  geom_ribbon(linetype = \"dotted\", alpha = 0) +\n",
    "  facet_grid(cols = vars(split)) +\n",
    "  theme_classic() +\n",
    "  scale_x_continuous(breaks = seq(0, 1600, 120)) +\n",
    "  scale_colour_manual(values = cohort_pal) +\n",
    "  theme(legend.position = \"none\") +\n",
    "  labs(y = \"Farm biomass\", x = \"Day of production\")"
   ],
   "id": "cell-fig-cohorts"
  },
  {
   "cell_type": "code",
   "execution_count": null,
   "metadata": {
    "layout-align": "center"
   },
   "outputs": [],
   "source": [
    "coho_biom <- file.path(data_analysis_path, \"biomass_produced_comparison.qs\") %>% \n",
    "  qs::qread()\n",
    "harv_size <- file.path(output_farm_data_path, \"farm_harvest_size.qs\") %>% \n",
    "  qread()\n",
    "\n",
    "coho_biom_summ <- coho_biom %>% \n",
    "  mutate(perc_diff = 100*(mean - tonnes_per_farm)/tonnes_per_farm)"
   ],
   "id": "6792854a-3775-4273-b672-51704453b0f6"
  },
  {
   "cell_type": "markdown",
   "metadata": {},
   "source": [
    "Each farm’s final population was calculated by dividing the production tonnage required by the average modelled individual harvest size for each farm (when feed reference feed). A population timeseries was the generated using the standard mortality rate (5.99798^{-4} d$^{-1}$). Using this method, a farm’s ‘population’ is not a good representation of the actual number of individuals being farmed, but it ensures each farm location is producing the correct tonnage while allowing comparisons between the different feeds."
   ],
   "id": "9c584b17-bc3c-4cba-9ec9-d6866dd6c384"
  },
  {
   "cell_type": "code",
   "execution_count": null,
   "metadata": {
    "layout-align": "center"
   },
   "outputs": [],
   "source": [],
   "id": "cell-fig-harvest-size"
  },
  {
   "cell_type": "markdown",
   "metadata": {},
   "source": [
    "By this method, farm biomass as predicted by the model slightly overestimated farm tonnage. Predicted farm biomass was 2.4-6.5 higher than tonnage produced (<a href=\"#fig-biomass-produced\" class=\"quarto-xref\">Figure 7</a>). This variation was not correlated with mean farm temperature or total tonnage produced (**?@fig-biomass-variation**)."
   ],
   "id": "fb10cec2-b1ff-46c0-8161-f5da20e40c0a"
  },
  {
   "cell_type": "code",
   "execution_count": null,
   "metadata": {
    "layout-align": "center"
   },
   "outputs": [],
   "source": [],
   "id": "cell-fig-biomass-variation"
  },
  {
   "cell_type": "code",
   "execution_count": null,
   "metadata": {
    "layout-align": "center"
   },
   "outputs": [],
   "source": [],
   "id": "cell-fig-biomass-produced"
  },
  {
   "cell_type": "markdown",
   "metadata": {},
   "source": [
    "## Impacts of nutrient input\n",
    "\n",
    "*To detail here:*\n",
    "\n",
    "-   How to convert feed and uneaten faeces into nutrients - just nitrogen? Carbon too? If just nitrogen, then can probably use the standard N = 6.25 x protein conversion to compare the feeds (lipids and carbohydrates have negligible protein). If doing carbon too, will need to find conversion rates for all of them, possibly splitting carbs/lipids into complex/simple, saturated/unsaturated, etc.\n",
    "-   Source of species vulnerability layers\n",
    "\n",
    "# Results\n",
    "\n",
    "In general, data outputs comes in the following dimensions:\n",
    "\n",
    "-   Location -\\> temperature -\\> farm_ID\n",
    "\n",
    "-   Uneaten feed + excreted faeces = total inputs (g)\n",
    "\n",
    "-   Day of production (impacted by location)\n",
    "\n",
    "-   Main point is the difference between feeds (kg/t salmon).\n",
    "\n",
    "-   Also interesting to see if difference between feeds varies geographically (correlates with latitude, or maybe mean/median/max temperature?)"
   ],
   "id": "9b3209cd-115a-4c11-b11b-c12fbd9caea2"
  },
  {
   "cell_type": "code",
   "execution_count": null,
   "metadata": {
    "layout-align": "center"
   },
   "outputs": [
    {
     "output_type": "stream",
     "name": "stdout",
     "text": [
      " [1] \"weight_stat\"      \"dw_stat\"          \"water_temp_stat\"  \"T_response_stat\" \n",
      " [5] \"P_excr_stat\"      \"L_excr_stat\"      \"C_excr_stat\"      \"P_uneat_stat\"    \n",
      " [9] \"L_uneat_stat\"     \"C_uneat_stat\"     \"food_prov_stat\"   \"food_enc_stat\"   \n",
      "[13] \"rel_feeding_stat\" \"ing_pot_stat\"     \"ing_act_stat\"     \"E_assim_stat\"    \n",
      "[17] \"E_somat_stat\"     \"anab_stat\"        \"catab_stat\"       \"O2_stat\"         \n",
      "[21] \"NH4_stat\"         \"total_excr_stat\"  \"total_uneat_stat\" \"metab_stat\"      \n",
      "[25] \"biomass_stat\"    "
     ]
    }
   ],
   "source": [
    "farmrun_files <- file.path(output_cohort_growth_data_path) %>% \n",
    "  list.files(full.names = T)\n",
    "\n",
    "qs::qread(farmrun_files[1]) %>% names()"
   ],
   "id": "9006505b-40a7-4065-883f-fe37d97b19a0"
  },
  {
   "cell_type": "markdown",
   "metadata": {},
   "source": [
    "## Uneaten feed"
   ],
   "id": "f8a11bdc-aa7d-42d2-a27f-0e1c107ba180"
  },
  {
   "cell_type": "code",
   "execution_count": null,
   "metadata": {
    "layout-align": "center"
   },
   "outputs": [],
   "source": [
    "uneaten_total <- farmrun_files %>% \n",
    "  purrr::map(function(f) {qs::qread(f)[[\"total_uneat_stat\"]]}) %>% \n",
    "  bind_rows() %>% \n",
    "  merge(biomass, by = c(\"farm_ID\", \"feed\", \"t\")) %>% \n",
    "  rename(uneat_mean = mean.x, biomass_mean = mean.y,\n",
    "         uneat_sd = sd.x, biomass_sd = sd.y) %>% \n",
    "  mutate(uneat_sd = uneat_sd/uneat_mean,\n",
    "         biomass_sd = biomass_sd/biomass_mean,\n",
    "         uneat_biom_mean = uneat_mean/biomass_mean,\n",
    "         uneat_biom_sd = sqrt(uneat_sd^2+biomass_sd^2)*uneat_biom_mean)\n",
    "\n",
    "uneaten_total_stats <- uneaten_total %>% \n",
    "  group_by(feed, farm_ID) %>% \n",
    "  reframe(total = sum(uneat_biom_mean)) %>% \n",
    "  group_by(feed) %>% \n",
    "  reframe(min = minna(total),\n",
    "          max = maxna(total),\n",
    "          mean = meanna(total)) %>% \n",
    "  mutate(min = min %>% set_units(\"g g_fish-1\") %>% set_units(\"g kg_fish-1\"),\n",
    "         max = max %>% set_units(\"g g_fish-1\") %>% set_units(\"g kg_fish-1\"),\n",
    "         mean = mean %>% set_units(\"g g_fish-1\") %>% set_units(\"g kg_fish-1\")) %>% \n",
    "  mutate(min = round(min,2),\n",
    "         max = round(max,2),\n",
    "         mean = round(mean,2))"
   ],
   "id": "111e7681-ec86-4b60-8735-e9e3b5c3c871"
  },
  {
   "cell_type": "markdown",
   "metadata": {},
   "source": [
    "### Amount\n",
    "\n",
    "-   Total reference uneaten feed across a cohort (548 days) ranged from 48.46 to 48.46 g kg$^{-1}$, with a mean of 61.71.\n",
    "-   There was very little difference between the past and future feeds and the reference feed. Uneaten past feed ranged from 48.72 to 48.72 g kg$^{-1}$ (mean of 62.17) while uneaten future feed ranged from 48.73 to 48.73 g kg$^{-1}$ (mean of 62.05).\n",
    "-   <a href=\"#fig-total-uneaten-perday\" class=\"quarto-xref\">Figure 8</a> shows the range of total uneaten feed per day across countries."
   ],
   "id": "eb023620-add8-43e3-9c85-f3bd62fd8a0e"
  },
  {
   "cell_type": "code",
   "execution_count": null,
   "metadata": {
    "layout-align": "center"
   },
   "outputs": [
    {
     "output_type": "display_data",
     "metadata": {},
     "data": {}
    }
   ],
   "source": [
    "uneaten_total %>% \n",
    "  merge(farms_geometry, by = \"farm_ID\") %>% \n",
    "  mutate(uneat_biom_mean = uneat_biom_mean %>% set_units(\"g g_fish-1 d-1\") %>% set_units(\"g kg_fish-1 d-1\"),\n",
    "         country = factor(country, levels = sorted_countries)) %>% \n",
    "  ggplot(aes(x = country, y = uneat_biom_mean, fill = feed)) +\n",
    "  geom_boxplot() +\n",
    "  theme_classic() +\n",
    "  scale_fill_manual(values = feed_pal) +\n",
    "  labs(y = \"Uneaten feed\", x = \"Country\")"
   ],
   "id": "cell-fig-total-uneaten-perday"
  },
  {
   "cell_type": "code",
   "execution_count": null,
   "metadata": {
    "layout-align": "center"
   },
   "outputs": [],
   "source": [
    "uneaten_P <- farmrun_files %>% purrr::map(function(f) {qs::qread(f)[[\"P_uneat_stat\"]]}) %>% bind_rows()\n",
    "uneaten_L <- farmrun_files %>% purrr::map(function(f) {qs::qread(f)[[\"L_uneat_stat\"]]}) %>% bind_rows()\n",
    "uneaten_C <- farmrun_files %>% purrr::map(function(f) {qs::qread(f)[[\"C_uneat_stat\"]]}) %>% bind_rows()\n",
    "\n",
    "uneaten_all <- uneaten_total %>% \n",
    "  select(-contains(\"biom\")) %>% \n",
    "  merge(uneaten_P, by = c(\"farm_ID\", \"feed\", \"t\")) %>% \n",
    "  merge(uneaten_L, by = c(\"farm_ID\", \"feed\", \"t\")) %>% \n",
    "  merge(uneaten_C, by = c(\"farm_ID\", \"feed\", \"t\")) %>% \n",
    "  select(-c(contains(\"sd\")))"
   ],
   "id": "3ab79a0e-3644-4293-83c0-3f5bec0ec557"
  },
  {
   "cell_type": "markdown",
   "metadata": {},
   "source": [
    "-   The composition of the uneaten feed is (obviously) the same as the total feed composition (<a href=\"#sec-feeds\" class=\"quarto-xref\">Section 1.4</a>).\n",
    "\n",
    "## Excreted faeces"
   ],
   "id": "3a737eee-978f-4a84-9a1a-4d0aafd9d79b"
  },
  {
   "cell_type": "code",
   "execution_count": null,
   "metadata": {
    "layout-align": "center"
   },
   "outputs": [],
   "source": [
    "# The following reads in all the total excretion data and converts the mean and sd values into values/biomass\n",
    "excreted_total <- farmrun_files %>% \n",
    "  purrr::map(function(f) {qs::qread(f)[[\"total_excr_stat\"]]}) %>% \n",
    "  bind_rows() %>% \n",
    "  merge(biomass, by = c(\"farm_ID\", \"feed\", \"t\")) %>% \n",
    "  rename(excr_mean = mean.x, biomass_mean = mean.y,\n",
    "         excr_sd = sd.x, biomass_sd = sd.y) %>% \n",
    "  mutate(excr_sd = excr_sd/excr_mean,\n",
    "         biomass_sd = biomass_sd/biomass_mean,\n",
    "         excr_biom_mean = excr_mean/biomass_mean,\n",
    "         excr_biom_sd = sqrt(excr_sd^2+biomass_sd^2)*excr_biom_mean)\n",
    "\n",
    "excreted_total_stats <- excreted_total %>% \n",
    "  group_by(feed, farm_ID) %>% \n",
    "  reframe(total = sum(excr_biom_mean)) %>% \n",
    "  group_by(feed) %>% \n",
    "  reframe(min = minna(total),\n",
    "          max = maxna(total),\n",
    "          mean = meanna(total)) %>% \n",
    "  mutate(min = min %>% set_units(\"g g_fish-1\") %>% set_units(\"g kg_fish-1\"),\n",
    "         max = max %>% set_units(\"g g_fish-1\") %>% set_units(\"g kg_fish-1\"),\n",
    "         mean = mean %>% set_units(\"g g_fish-1\") %>% set_units(\"g kg_fish-1\")) %>% \n",
    "  mutate(min = round(min,2),\n",
    "         max = round(max,2),\n",
    "         mean = round(mean,2))"
   ],
   "id": "0e14ae88-d380-4404-ac69-abd0c62167d6"
  },
  {
   "cell_type": "markdown",
   "metadata": {},
   "source": [
    "-   Total reference excreted faeces across a cohort (548 days) ranged from 194.24 to 295.9 g kg$^{-1}$, with a mean of 247.38.\n",
    "-   There was very little difference between the past and future feeds and the reference feed. Uneaten past feed ranged from 154.33 to 236.05 g kg$^{-1}$ (mean of 196.94 g kg$^{-1}$) while uneaten future feed ranged from 202.55 to 308.61 g kg$^{-1}$ (mean of 257.91 g kg$^{-1}$).\n",
    "-   <a href=\"#fig-total-excreted-perday\" class=\"quarto-xref\">Figure 9</a> shows the range of total excreted faeces per day across countries."
   ],
   "id": "ad15cfdc-12c3-4c36-89fc-29313e8c61b2"
  },
  {
   "cell_type": "code",
   "execution_count": null,
   "metadata": {
    "layout-align": "center"
   },
   "outputs": [
    {
     "output_type": "display_data",
     "metadata": {},
     "data": {}
    }
   ],
   "source": [
    "excreted_total %>% \n",
    "  merge(farms_geometry, by = \"farm_ID\") %>% \n",
    "  mutate(excr_biom_mean = excr_biom_mean %>% set_units(\"g g_fish-1 d-1\") %>% set_units(\"g kg_fish-1 d-1\"),\n",
    "         country = factor(country, levels = sorted_countries)) %>% \n",
    "  ggplot(aes(x = country, y = excr_biom_mean, fill = feed)) +\n",
    "  geom_boxplot() +\n",
    "  theme_classic() +\n",
    "  scale_fill_manual(values = feed_pal) +\n",
    "  labs(y = \"Excreted faeces\", x = \"Country\")"
   ],
   "id": "cell-fig-total-excreted-perday"
  },
  {
   "cell_type": "markdown",
   "metadata": {},
   "source": [
    "### Amount"
   ],
   "id": "3bd30cb6-27cf-45ad-a905-729a5f51b8f5"
  },
  {
   "cell_type": "code",
   "execution_count": null,
   "metadata": {
    "layout-align": "center"
   },
   "outputs": [],
   "source": [],
   "id": "cell-fig-total-excr-diff_perc"
  },
  {
   "cell_type": "markdown",
   "metadata": {},
   "source": [
    "The difference in total excretion for the past feed ranged from -26, -26.1–23.9, -23.9% across all farms globally, and for the future feed ranged from 1.3, 1.3-4.1, 3.7%."
   ],
   "id": "9ae89683-47d8-40ed-b253-f7ce0505d2d0"
  },
  {
   "cell_type": "code",
   "execution_count": null,
   "metadata": {
    "layout-align": "center"
   },
   "outputs": [],
   "source": [],
   "id": "cell-fig-total-excr-diff_perc_2"
  },
  {
   "cell_type": "markdown",
   "metadata": {},
   "source": [
    "However, the actual difference in excreted faeces varied by feed, time in the production cycle, and location of the farm <a href=\"#fig-total-excr-act_diff\" class=\"quarto-xref\">Figure 12</a>."
   ],
   "id": "0cc75e8d-0d20-4bad-8945-2551b0e4c19f"
  },
  {
   "cell_type": "code",
   "execution_count": null,
   "metadata": {
    "layout-align": "center"
   },
   "outputs": [
    {
     "output_type": "display_data",
     "metadata": {},
     "data": {}
    }
   ],
   "source": [
    "df <- excreted_total %>% \n",
    "  select(-contains(c(\"sd\", \"excr_mean\", \"biomass\"))) %>% \n",
    "  pivot_wider(names_from = \"feed\", values_from = \"excr_biom_mean\") %>% \n",
    "  mutate(past = past-reference,\n",
    "         future = future-reference) %>% \n",
    "  pivot_longer(names_to = \"feed\", values_to = \"diff\", cols = c(past, future), names_transform = list(feed = as.factor)) %>% \n",
    "  mutate(reference = set_units(reference, \"g kg_fish-1 d-1\"),\n",
    "         diff = set_units(diff, \"kg t_fish-1 d-1\")) %>% \n",
    "  merge(farm_coords, by = \"farm_ID\") %>% \n",
    "  mutate(prod_day = t-t_start+1)\n",
    "\n",
    "summ <- df %>%\n",
    "  group_by(hemisphere, feed) %>% \n",
    "  reframe(mean = meanna(diff) %>% round(3),\n",
    "          min = meanna(diff) %>% round(3),\n",
    "          max = maxna(diff) %>% round(3))\n",
    "\n",
    "df %>% \n",
    "  group_by(hemisphere, feed, prod_day) %>% \n",
    "  reframe(mean_diff = meanna(diff),\n",
    "          sd_diff = sdna(diff) %>% set_units(\"kg t_fish-1 d-1\")) %>% \n",
    "  ggplot(aes(x = prod_day, y = mean_diff, ymin = mean_diff-sd_diff, ymax = mean_diff+sd_diff, colour = hemisphere, fill = hemisphere)) +\n",
    "  geom_line(linewidth = 0.75) +\n",
    "  geom_ribbon(alpha = 0.25) +\n",
    "  facet_wrap(~feed) +\n",
    "  theme_classic()"
   ],
   "id": "cell-fig-total-excr-act_diff"
  },
  {
   "cell_type": "markdown",
   "metadata": {},
   "source": [
    "### Composition"
   ],
   "id": "3c2256af-68a3-443a-8726-c516bee4761e"
  },
  {
   "cell_type": "code",
   "execution_count": null,
   "metadata": {
    "layout-align": "center"
   },
   "outputs": [],
   "source": [
    "excreted_P <- farmrun_files %>% purrr::map(function(f) {qs::qread(f)[[\"P_excr_stat\"]]}) %>% bind_rows()\n",
    "excreted_L <- farmrun_files %>% purrr::map(function(f) {qs::qread(f)[[\"L_excr_stat\"]]}) %>% bind_rows()\n",
    "excreted_C <- farmrun_files %>% purrr::map(function(f) {qs::qread(f)[[\"C_excr_stat\"]]}) %>% bind_rows()\n",
    "\n",
    "excreted_all <- excreted_total %>% \n",
    "  select(-contains(\"biom\")) %>% \n",
    "  merge(excreted_P, by = c(\"farm_ID\", \"feed\", \"t\")) %>% \n",
    "  merge(excreted_L, by = c(\"farm_ID\", \"feed\", \"t\")) %>% \n",
    "  merge(excreted_C, by = c(\"farm_ID\", \"feed\", \"t\")) %>% \n",
    "  select(-c(contains(\"sd\"))) %>% \n",
    "  rename(protein = mean.x, lipids = mean.y, carbohydrates = mean) %>% \n",
    "  mutate(protein = protein/excr_mean %>% set_units(\"d-1\"),\n",
    "         lipids = lipids/excr_mean %>% set_units(\"d-1\"),\n",
    "         carbohydrates = carbohydrates/excr_mean %>% set_units(\"d-1\")) %>% \n",
    "  select(-excr_mean)"
   ],
   "id": "c933d9d8-3e53-48a7-99b1-787bfa425a0b"
  },
  {
   "cell_type": "markdown",
   "metadata": {},
   "source": [
    "Unlike the uneaten feed, the composition of excreted faeces differs from that of the incoming feed.\n",
    "\n",
    "-   Composition does not change through time or with increasing biomass (because digestibility does not change with fish size or temeprature)"
   ],
   "id": "bb5dbe12-21f4-4f39-941f-f31f624b7d72"
  },
  {
   "cell_type": "code",
   "execution_count": null,
   "metadata": {
    "layout-align": "center"
   },
   "outputs": [],
   "source": [
    "excreted_all %>% \n",
    "  pivot_longer(names_to = \"macro\", values_to = \"perc\", cols = c(\"protein\", \"lipids\", \"carbohydrates\")) %>% \n",
    "  mutate(macro = factor(macro, levels = c(\"protein\", \"lipids\", \"carbohydrates\"))) %>% \n",
    "  group_by(farm_ID, feed, macro) %>% \n",
    "  reframe(sd = sd(perc) %>% set_units(\"d-1\"),\n",
    "          mean = mean(perc)) %>% \n",
    "  ggplot(aes(x = farm_ID, colour = feed, fill = feed, y = 100*mean, ymin = 100*(mean-sd), ymax = 100*(mean+sd))) +\n",
    "  geom_point(size = 2) +\n",
    "  geom_errorbar(width = 0.5) +\n",
    "  scale_color_manual(values = feed_pal) +\n",
    "  scale_fill_manual(values = feed_pal) +\n",
    "  facet_grid(rows = vars(macro)) +\n",
    "  theme_classic() +\n",
    "  labs(x = \"Macronutrient\", y = \"Mean composition of faeces\")"
   ],
   "id": "61d9e464-f441-4e3b-bfb2-fb65cf4c1f7a"
  },
  {
   "cell_type": "markdown",
   "metadata": {},
   "source": [
    "|     Macro     | Reference |  Past   |  Future   |\n",
    "|:-------------:|:---------:|:-------:|:---------:|\n",
    "|    Protein    |  0.37808  | 0.49812 | 0.4770088 |\n",
    "|    Lipids     |  0.36492  | 0.27103 | 0.3286915 |\n",
    "| Carbohydrates |  0.20395  | 0.27103 | 0.3286915 |\n",
    "\n",
    "## Total nutrients\n",
    "\n",
    "# Statistical analysis & code availability\n",
    "\n",
    "All analysis was conducted in R version 4.4.2 “Pile of Leaves” ([R Core Team 2019](#ref-R_base)). Major packages used include `terra` ([Hijmans 2024](#ref-terra)), `targets` ([Landau 2021](#ref-targets)), `future` ([Bengtsson 2021](#ref-future)), `furrr` ([Vaughan and Dancho 2022](#ref-furrr)), `renv` ([**renv?**](#ref-renv)), and the `tidyverse` ([Wickham et al. 2019](#ref-tidyverse)). For a full list of R packages used see the lockfile on [Github](https://www.github.com). This manuscript was written in Quarto ([Allaire et al. 2024](#ref-quarto)) using TinyTex ([Xie 2017](#ref-tinytex)) and the acronyms extension ([Chaput 2024](#ref-acronyms)).\n",
    "\n",
    "# References\n",
    "\n",
    "Allaire, J. J., Charles Teague, Carlos Scheidegger, Yihui Xie, and Christophe Dervieux. 2024. ‘Quarto’. <https://doi.org/10.5281/zenodo.5960048>.\n",
    "\n",
    "Baldan, Damiano, Erika M. D. Porporato, Roberto Pastres, and Daniele Brigolin. 2018. ‘An R Package for Simulating Growth and Organic Wastage in Aquaculture Farms in Response to Environmental Conditions and Husbandry Practices’. *PLOS ONE* 13 (5): e0195732. https://doi.org/<https://doi.org/10.1371/journal.pone.0195732>.\n",
    "\n",
    "Bengtsson, Henrik. 2021. ‘A Unifying Framework for Parallel and Distributed Processing in r Using Futures’. *The R Journal* 13 (2): 208–27. <https://doi.org/10.32614/RJ-2021-048>.\n",
    "\n",
    "Broekhuizen, Niall., William. S. C. Gurney, A. Jones, and A. D. Bryant. 1994. ‘Modelling Compensatory Growth’. *Functional Ecology* 8 (6): 770–82. https://doi.org/<https://doi.org/10.2307/2390237>.\n",
    "\n",
    "Chaput, Remy. 2024. ‘<span class=\"nocase\">acronyms</span>’. <https://github.com/rchaput/acronyms>.\n",
    "\n",
    "Cottrell, Richard S., Julia L. Blanchard, Benjamin S. Halpern, Marc Metian, and Halley E. Froehlich. 2020. ‘Global Adoption of Novel Aquaculture Feeds Could Substantially Reduce Forage Fish Demand by 2030’. *Nature Food* 1 (5): 301–8. <https://doi.org/10.1038/s43016-020-0078-x>.\n",
    "\n",
    "Cottrell, Richard S., Benjamin S. Halpern, Marceau Cormery, Helen A. Hamilton, Gage Clawson, Beth Penrose, Louise Adams, et al. n.d. ‘The Origins of Ingredients Matter More Than Ingredient Types for the Environmental Footprint of Aquaculture Feeds’.\n",
    "\n",
    "Dempsey, Danielle P., Gregor K. Reid, Leah Lewis-McCrea, Toby Balch, Roland Cusack, André Dumas, and Jack Rensel. 2023. ‘Estimating Stocking Weights for Atlantic Salmon to Grow to Market Size at Novel Aquaculture Sites with Extreme Temperatures’. *Frontiers in Marine Science* 10 (May). https://doi.org/[https://doi.org/ 10.3389/fmars.2023.1094247](https://doi.org/ 10.3389/fmars.2023.1094247).\n",
    "\n",
    "Elliott, J. M., and W. Davison. 1975. ‘Energy Equivalents of Oxygen Consumption in Animal Energetics’. *Oecologia* 19 (3): 195–201. https://doi.org/<https://doi.org/10.1007/BF00345305>.\n",
    "\n",
    "Handeland, Sigurd O., Albert K. Imsland, and Sigurd O. Stefansson. 2008. ‘The Effect of Temperature and Fish Size on Growth, Feed Intake, Food Conversion Efficiency and Stomach Evacuation Rate of Atlantic Salmon Post-Smolts’. *Aquaculture* 283 (1): 36–42. https://doi.org/[https://doi.org/ 10.1016/j.aquaculture.2008.06.042](https://doi.org/ 10.1016/j.aquaculture.2008.06.042).\n",
    "\n",
    "Hijmans, Robert J. 2024. *Terra: Spatial Data Analysis*. <https://CRAN.R-project.org/package=terra>.\n",
    "\n",
    "Jonsson, Bror, Torbjørn Forseth, Arne. J. Jensen, and Tor. F. Næsje. 2001. ‘Thermal Performance of Juvenile Atlantic Salmon, *Salmo Salar* L.’ *Functional Ecology* 15 (6): 701–11. https://doi.org/<https://doi.org/10.1046/j.0269-8463.2001.00572.x>.\n",
    "\n",
    "Jonsson, Nina, and Bror Jonsson. 2003. ‘Energy Allocation Among Developmental Stages, Age Groups, and Types of Atlantic Salmon (*Salmo Salar*) Spawners’. *Canadian Journal of Fisheries and Aquatic Sciences* 60 (5): 506–16. https://doi.org/[https://doi.org/ 10.1139/f03-042](https://doi.org/ 10.1139/f03-042).\n",
    "\n",
    "Landau, William Michael. 2021. ‘The Targets r Package: A Dynamic Make-Like Function-Oriented Pipeline Toolkit for Reproducibility and High-Performance Computing’. *Journal of Open Source Software* 6 (57): 2959. <https://doi.org/10.21105/joss.02959>.\n",
    "\n",
    "Macnaughton, Camille J., David Deslauriers, Erinn L. Ipsen, Emily Corey, and Eva C. Enders. 2019. ‘Using Meta-Analysis to Derive a Respiration Model for Atlantic Salmon (*Salmo Salar*) to Assess Bioenergetics Requirements of Juveniles in Two Canadian Rivers’. *Canadian Journal of Fisheries and Aquatic Sciences* 76 (12): 2225–34. https://doi.org/[https://doi.org/ 10.1139/cjfas-2018-0436](https://doi.org/ 10.1139/cjfas-2018-0436).\n",
    "\n",
    "Poletto, Jamilynn B., Dennis E. Cocherell, Sarah E. Baird, Trinh X. Nguyen, Valentina Cabrera-Stagno, Anthony P. Farrell, and Nann A. Fangue. 2017. ‘Unusual Aerobic Performance at High Temperatures in Juvenile Chinook Salmon, *Oncorhynchus Tshawytscha*’. *Conservation Physiology* 5 (1). https://doi.org/[https://doi.org/ 10.1093/conphys/cow067](https://doi.org/ 10.1093/conphys/cow067).\n",
    "\n",
    "R Core Team. 2019. *R: A Language and Environment for Statistical Computing*. Vienna, Austria: R Foundation for Statistical Computing. <https://www.R-project.org>.\n",
    "\n",
    "Tvete, Ingunn Fride, Magne Aldrin, and Britt Bang Jensen. 2023. ‘Towards Better Survival: Modeling Drivers for Daily Mortality in Norwegian Atlantic Salmon Farming’. *Preventive Veterinary Medicine* 210 (January): 105798. https://doi.org/[https://doi.org/ 10.1016/j.prevetmed.2022.105798](https://doi.org/ 10.1016/j.prevetmed.2022.105798).\n",
    "\n",
    "Uglem, Ingebrigt, Kilian Toledo-Guedes, Pablo Sanchez-Jerez, Eva M. Ulvan, Tor Evensen, and Bjørn S. Sæther. 2020. ‘Does Waste Feed from Salmon Farming Affect the Quality of Saithe (*Pollachius Virens* L.) Attracted to Fish Farms?’ *Aquaculture Research* 51 (4): 1720–30. https://doi.org/[https://doi.org/ 10.1111/are.14519](https://doi.org/ 10.1111/are.14519).\n",
    "\n",
    "Vadboncoeur, Émile, Charlotte Nelson, Jennifer R. Hall, Kathy A. Clow, Rebeccah M. Sandrelli, Colin J. Brauner, Andrew K. Swanson, and A. Kurt Gamperl. 2023. ‘Lowering Temperature to 1 °C Results in Physiological Changes, Stress and Mortality in Cultured Atlantic Salmon (*Salmo Salar*)’. *Aquaculture* 568 (April): 739313. https://doi.org/[https://doi.org/ 10.1016/j.aquaculture.2023.739313](https://doi.org/ 10.1016/j.aquaculture.2023.739313).\n",
    "\n",
    "Van Tien, Nguyen, Dam T. M. Chinh, Tran T. M. Huong, Truong H. Phuong, Simon Irvin, and Brett Glencross. 2016. ‘Development of a Nutritional Model to Define the Energy and Protein Requirements of Cobia, *Rachycentron Canadum*’. *Aquaculture* 463 (October): 193–200. https://doi.org/[https://doi.org/ 10.1016/j.aquaculture.2016.05.037](https://doi.org/ 10.1016/j.aquaculture.2016.05.037).\n",
    "\n",
    "Vaughan, Davis, and Matt Dancho. 2022. *Furrr: Apply Mapping Functions in Parallel Using Futures*. <https://CRAN.R-project.org/package=furrr>.\n",
    "\n",
    "Wickham, Hadley, Mara Averick, Jennifer Bryan, Winston Chang, Lucy D’Agostino McGowan, Romain François, Garrett Grolemund, et al. 2019. ‘Welcome to the <span class=\"nocase\">tidyverse</span>’. *Journal of Open Source Software* 4 (43): 1686. <https://doi.org/10.21105/joss.01686>.\n",
    "\n",
    "Xie, Yihui. 2017. ‘Tinytex: Helper Functions to Install and Maintain TeX Live, and Compile LaTeX Documents’. <https://cran.r-project.org/web/packages/tinytex>."
   ],
   "id": "6e98136a-9e28-46f1-9c57-0d5040503480"
  }
 ],
 "nbformat": 4,
 "nbformat_minor": 5,
 "metadata": {}
}
