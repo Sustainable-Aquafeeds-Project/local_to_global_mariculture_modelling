{
 "cells": [
  {
   "cell_type": "markdown",
   "metadata": {},
   "source": [
    "# Local to global N input modelling\n",
    "\n",
    "Tormey Reimer [![](data:image/png;base64,iVBORw0KGgoAAAANSUhEUgAAABAAAAAQCAYAAAAf8/9hAAAAGXRFWHRTb2Z0d2FyZQBBZG9iZSBJbWFnZVJlYWR5ccllPAAAA2ZpVFh0WE1MOmNvbS5hZG9iZS54bXAAAAAAADw/eHBhY2tldCBiZWdpbj0i77u/IiBpZD0iVzVNME1wQ2VoaUh6cmVTek5UY3prYzlkIj8+IDx4OnhtcG1ldGEgeG1sbnM6eD0iYWRvYmU6bnM6bWV0YS8iIHg6eG1wdGs9IkFkb2JlIFhNUCBDb3JlIDUuMC1jMDYwIDYxLjEzNDc3NywgMjAxMC8wMi8xMi0xNzozMjowMCAgICAgICAgIj4gPHJkZjpSREYgeG1sbnM6cmRmPSJodHRwOi8vd3d3LnczLm9yZy8xOTk5LzAyLzIyLXJkZi1zeW50YXgtbnMjIj4gPHJkZjpEZXNjcmlwdGlvbiByZGY6YWJvdXQ9IiIgeG1sbnM6eG1wTU09Imh0dHA6Ly9ucy5hZG9iZS5jb20veGFwLzEuMC9tbS8iIHhtbG5zOnN0UmVmPSJodHRwOi8vbnMuYWRvYmUuY29tL3hhcC8xLjAvc1R5cGUvUmVzb3VyY2VSZWYjIiB4bWxuczp4bXA9Imh0dHA6Ly9ucy5hZG9iZS5jb20veGFwLzEuMC8iIHhtcE1NOk9yaWdpbmFsRG9jdW1lbnRJRD0ieG1wLmRpZDo1N0NEMjA4MDI1MjA2ODExOTk0QzkzNTEzRjZEQTg1NyIgeG1wTU06RG9jdW1lbnRJRD0ieG1wLmRpZDozM0NDOEJGNEZGNTcxMUUxODdBOEVCODg2RjdCQ0QwOSIgeG1wTU06SW5zdGFuY2VJRD0ieG1wLmlpZDozM0NDOEJGM0ZGNTcxMUUxODdBOEVCODg2RjdCQ0QwOSIgeG1wOkNyZWF0b3JUb29sPSJBZG9iZSBQaG90b3Nob3AgQ1M1IE1hY2ludG9zaCI+IDx4bXBNTTpEZXJpdmVkRnJvbSBzdFJlZjppbnN0YW5jZUlEPSJ4bXAuaWlkOkZDN0YxMTc0MDcyMDY4MTE5NUZFRDc5MUM2MUUwNEREIiBzdFJlZjpkb2N1bWVudElEPSJ4bXAuZGlkOjU3Q0QyMDgwMjUyMDY4MTE5OTRDOTM1MTNGNkRBODU3Ii8+IDwvcmRmOkRlc2NyaXB0aW9uPiA8L3JkZjpSREY+IDwveDp4bXBtZXRhPiA8P3hwYWNrZXQgZW5kPSJyIj8+84NovQAAAR1JREFUeNpiZEADy85ZJgCpeCB2QJM6AMQLo4yOL0AWZETSqACk1gOxAQN+cAGIA4EGPQBxmJA0nwdpjjQ8xqArmczw5tMHXAaALDgP1QMxAGqzAAPxQACqh4ER6uf5MBlkm0X4EGayMfMw/Pr7Bd2gRBZogMFBrv01hisv5jLsv9nLAPIOMnjy8RDDyYctyAbFM2EJbRQw+aAWw/LzVgx7b+cwCHKqMhjJFCBLOzAR6+lXX84xnHjYyqAo5IUizkRCwIENQQckGSDGY4TVgAPEaraQr2a4/24bSuoExcJCfAEJihXkWDj3ZAKy9EJGaEo8T0QSxkjSwORsCAuDQCD+QILmD1A9kECEZgxDaEZhICIzGcIyEyOl2RkgwAAhkmC+eAm0TAAAAABJRU5ErkJggg==)](https://orcid.org/0000-0002-5983-2798)Richard S. Cottrell [![](data:image/png;base64,iVBORw0KGgoAAAANSUhEUgAAABAAAAAQCAYAAAAf8/9hAAAAGXRFWHRTb2Z0d2FyZQBBZG9iZSBJbWFnZVJlYWR5ccllPAAAA2ZpVFh0WE1MOmNvbS5hZG9iZS54bXAAAAAAADw/eHBhY2tldCBiZWdpbj0i77u/IiBpZD0iVzVNME1wQ2VoaUh6cmVTek5UY3prYzlkIj8+IDx4OnhtcG1ldGEgeG1sbnM6eD0iYWRvYmU6bnM6bWV0YS8iIHg6eG1wdGs9IkFkb2JlIFhNUCBDb3JlIDUuMC1jMDYwIDYxLjEzNDc3NywgMjAxMC8wMi8xMi0xNzozMjowMCAgICAgICAgIj4gPHJkZjpSREYgeG1sbnM6cmRmPSJodHRwOi8vd3d3LnczLm9yZy8xOTk5LzAyLzIyLXJkZi1zeW50YXgtbnMjIj4gPHJkZjpEZXNjcmlwdGlvbiByZGY6YWJvdXQ9IiIgeG1sbnM6eG1wTU09Imh0dHA6Ly9ucy5hZG9iZS5jb20veGFwLzEuMC9tbS8iIHhtbG5zOnN0UmVmPSJodHRwOi8vbnMuYWRvYmUuY29tL3hhcC8xLjAvc1R5cGUvUmVzb3VyY2VSZWYjIiB4bWxuczp4bXA9Imh0dHA6Ly9ucy5hZG9iZS5jb20veGFwLzEuMC8iIHhtcE1NOk9yaWdpbmFsRG9jdW1lbnRJRD0ieG1wLmRpZDo1N0NEMjA4MDI1MjA2ODExOTk0QzkzNTEzRjZEQTg1NyIgeG1wTU06RG9jdW1lbnRJRD0ieG1wLmRpZDozM0NDOEJGNEZGNTcxMUUxODdBOEVCODg2RjdCQ0QwOSIgeG1wTU06SW5zdGFuY2VJRD0ieG1wLmlpZDozM0NDOEJGM0ZGNTcxMUUxODdBOEVCODg2RjdCQ0QwOSIgeG1wOkNyZWF0b3JUb29sPSJBZG9iZSBQaG90b3Nob3AgQ1M1IE1hY2ludG9zaCI+IDx4bXBNTTpEZXJpdmVkRnJvbSBzdFJlZjppbnN0YW5jZUlEPSJ4bXAuaWlkOkZDN0YxMTc0MDcyMDY4MTE5NUZFRDc5MUM2MUUwNEREIiBzdFJlZjpkb2N1bWVudElEPSJ4bXAuZGlkOjU3Q0QyMDgwMjUyMDY4MTE5OTRDOTM1MTNGNkRBODU3Ii8+IDwvcmRmOkRlc2NyaXB0aW9uPiA8L3JkZjpSREY+IDwveDp4bXBtZXRhPiA8P3hwYWNrZXQgZW5kPSJyIj8+84NovQAAAR1JREFUeNpiZEADy85ZJgCpeCB2QJM6AMQLo4yOL0AWZETSqACk1gOxAQN+cAGIA4EGPQBxmJA0nwdpjjQ8xqArmczw5tMHXAaALDgP1QMxAGqzAAPxQACqh4ER6uf5MBlkm0X4EGayMfMw/Pr7Bd2gRBZogMFBrv01hisv5jLsv9nLAPIOMnjy8RDDyYctyAbFM2EJbRQw+aAWw/LzVgx7b+cwCHKqMhjJFCBLOzAR6+lXX84xnHjYyqAo5IUizkRCwIENQQckGSDGY4TVgAPEaraQr2a4/24bSuoExcJCfAEJihXkWDj3ZAKy9EJGaEo8T0QSxkjSwORsCAuDQCD+QILmD1A9kECEZgxDaEZhICIzGcIyEyOl2RkgwAAhkmC+eAm0TAAAAABJRU5ErkJggg==)](https://orcid.org/0000-0002-6499-7503)Alexandra Johne [![](data:image/png;base64,iVBORw0KGgoAAAANSUhEUgAAABAAAAAQCAYAAAAf8/9hAAAAGXRFWHRTb2Z0d2FyZQBBZG9iZSBJbWFnZVJlYWR5ccllPAAAA2ZpVFh0WE1MOmNvbS5hZG9iZS54bXAAAAAAADw/eHBhY2tldCBiZWdpbj0i77u/IiBpZD0iVzVNME1wQ2VoaUh6cmVTek5UY3prYzlkIj8+IDx4OnhtcG1ldGEgeG1sbnM6eD0iYWRvYmU6bnM6bWV0YS8iIHg6eG1wdGs9IkFkb2JlIFhNUCBDb3JlIDUuMC1jMDYwIDYxLjEzNDc3NywgMjAxMC8wMi8xMi0xNzozMjowMCAgICAgICAgIj4gPHJkZjpSREYgeG1sbnM6cmRmPSJodHRwOi8vd3d3LnczLm9yZy8xOTk5LzAyLzIyLXJkZi1zeW50YXgtbnMjIj4gPHJkZjpEZXNjcmlwdGlvbiByZGY6YWJvdXQ9IiIgeG1sbnM6eG1wTU09Imh0dHA6Ly9ucy5hZG9iZS5jb20veGFwLzEuMC9tbS8iIHhtbG5zOnN0UmVmPSJodHRwOi8vbnMuYWRvYmUuY29tL3hhcC8xLjAvc1R5cGUvUmVzb3VyY2VSZWYjIiB4bWxuczp4bXA9Imh0dHA6Ly9ucy5hZG9iZS5jb20veGFwLzEuMC8iIHhtcE1NOk9yaWdpbmFsRG9jdW1lbnRJRD0ieG1wLmRpZDo1N0NEMjA4MDI1MjA2ODExOTk0QzkzNTEzRjZEQTg1NyIgeG1wTU06RG9jdW1lbnRJRD0ieG1wLmRpZDozM0NDOEJGNEZGNTcxMUUxODdBOEVCODg2RjdCQ0QwOSIgeG1wTU06SW5zdGFuY2VJRD0ieG1wLmlpZDozM0NDOEJGM0ZGNTcxMUUxODdBOEVCODg2RjdCQ0QwOSIgeG1wOkNyZWF0b3JUb29sPSJBZG9iZSBQaG90b3Nob3AgQ1M1IE1hY2ludG9zaCI+IDx4bXBNTTpEZXJpdmVkRnJvbSBzdFJlZjppbnN0YW5jZUlEPSJ4bXAuaWlkOkZDN0YxMTc0MDcyMDY4MTE5NUZFRDc5MUM2MUUwNEREIiBzdFJlZjpkb2N1bWVudElEPSJ4bXAuZGlkOjU3Q0QyMDgwMjUyMDY4MTE5OTRDOTM1MTNGNkRBODU3Ii8+IDwvcmRmOkRlc2NyaXB0aW9uPiA8L3JkZjpSREY+IDwveDp4bXBtZXRhPiA8P3hwYWNrZXQgZW5kPSJyIj8+84NovQAAAR1JREFUeNpiZEADy85ZJgCpeCB2QJM6AMQLo4yOL0AWZETSqACk1gOxAQN+cAGIA4EGPQBxmJA0nwdpjjQ8xqArmczw5tMHXAaALDgP1QMxAGqzAAPxQACqh4ER6uf5MBlkm0X4EGayMfMw/Pr7Bd2gRBZogMFBrv01hisv5jLsv9nLAPIOMnjy8RDDyYctyAbFM2EJbRQw+aAWw/LzVgx7b+cwCHKqMhjJFCBLOzAR6+lXX84xnHjYyqAo5IUizkRCwIENQQckGSDGY4TVgAPEaraQr2a4/24bSuoExcJCfAEJihXkWDj3ZAKy9EJGaEo8T0QSxkjSwORsCAuDQCD+QILmD1A9kECEZgxDaEZhICIzGcIyEyOl2RkgwAAhkmC+eAm0TAAAAABJRU5ErkJggg==)](https://orcid.org/0000-0002-2816-7983)Sowdamini Sesha PrasadMarceau CormeryGage ClawsonScott HadleyHelen HamiltonBenjamin S. HalpernCatriona MacleodCamille WhiteJulia L. Blanchard"
   ],
   "id": "f2d1fce7-1534-46e8-81b4-b748b22a0671"
  },
  {
   "cell_type": "code",
   "execution_count": null,
   "metadata": {
    "layout-align": "center"
   },
   "outputs": [
    {
     "output_type": "stream",
     "name": "stderr",
     "text": [
      "\n",
      "Attaching package: 'dplyr'"
     ]
    },
    {
     "output_type": "stream",
     "name": "stderr",
     "text": [
      "The following objects are masked from 'package:stats':\n",
      "\n",
      "    filter, lag"
     ]
    },
    {
     "output_type": "stream",
     "name": "stderr",
     "text": [
      "The following objects are masked from 'package:base':\n",
      "\n",
      "    intersect, setdiff, setequal, union"
     ]
    },
    {
     "output_type": "stream",
     "name": "stderr",
     "text": [
      "\n",
      "Attaching package: 'tidyr'"
     ]
    },
    {
     "output_type": "stream",
     "name": "stderr",
     "text": [
      "The following object is masked from 'package:magrittr':\n",
      "\n",
      "    extract"
     ]
    },
    {
     "output_type": "stream",
     "name": "stderr",
     "text": [
      "Warning: package 'ggplot2' was built under R version 4.4.3"
     ]
    },
    {
     "output_type": "stream",
     "name": "stderr",
     "text": [
      "Warning: package 'ggh4x' was built under R version 4.4.3"
     ]
    },
    {
     "output_type": "stream",
     "name": "stderr",
     "text": [
      "here() starts at C:/Users/treimer/Documents/R-temp-files/local_to_global_mariculture_modelling"
     ]
    },
    {
     "output_type": "stream",
     "name": "stderr",
     "text": [
      "Warning: package 'qs' was built under R version 4.4.3"
     ]
    },
    {
     "output_type": "stream",
     "name": "stderr",
     "text": [
      "qs 0.27.3. Announcement: https://github.com/qsbase/qs/issues/103"
     ]
    },
    {
     "output_type": "stream",
     "name": "stderr",
     "text": [
      "\n",
      "Attaching package: 'arrow'"
     ]
    },
    {
     "output_type": "stream",
     "name": "stderr",
     "text": [
      "The following object is masked from 'package:magrittr':\n",
      "\n",
      "    is_in"
     ]
    },
    {
     "output_type": "stream",
     "name": "stderr",
     "text": [
      "The following object is masked from 'package:utils':\n",
      "\n",
      "    timestamp"
     ]
    },
    {
     "output_type": "stream",
     "name": "stderr",
     "text": [
      "Linking to GEOS 3.13.0, GDAL 3.10.1, PROJ 9.5.1; sf_use_s2() is TRUE"
     ]
    },
    {
     "output_type": "stream",
     "name": "stderr",
     "text": [
      "terra 1.8.50"
     ]
    },
    {
     "output_type": "stream",
     "name": "stderr",
     "text": [
      "\n",
      "Attaching package: 'terra'"
     ]
    },
    {
     "output_type": "stream",
     "name": "stderr",
     "text": [
      "The following object is masked from 'package:arrow':\n",
      "\n",
      "    buffer"
     ]
    },
    {
     "output_type": "stream",
     "name": "stderr",
     "text": [
      "The following object is masked from 'package:patchwork':\n",
      "\n",
      "    area"
     ]
    },
    {
     "output_type": "stream",
     "name": "stderr",
     "text": [
      "The following object is masked from 'package:ggpubr':\n",
      "\n",
      "    rotate"
     ]
    },
    {
     "output_type": "stream",
     "name": "stderr",
     "text": [
      "The following object is masked from 'package:tidyr':\n",
      "\n",
      "    extract"
     ]
    },
    {
     "output_type": "stream",
     "name": "stderr",
     "text": [
      "The following objects are masked from 'package:magrittr':\n",
      "\n",
      "    extract, inset"
     ]
    },
    {
     "output_type": "stream",
     "name": "stderr",
     "text": [
      "\n",
      "Attaching package: 'rnaturalearthdata'"
     ]
    },
    {
     "output_type": "stream",
     "name": "stderr",
     "text": [
      "The following object is masked from 'package:rnaturalearth':\n",
      "\n",
      "    countries110"
     ]
    },
    {
     "output_type": "stream",
     "name": "stderr",
     "text": [
      "Loading required package: future"
     ]
    },
    {
     "output_type": "stream",
     "name": "stderr",
     "text": [
      "\n",
      "Attaching package: 'purrr'"
     ]
    },
    {
     "output_type": "stream",
     "name": "stderr",
     "text": [
      "The following object is masked from 'package:magrittr':\n",
      "\n",
      "    set_names"
     ]
    },
    {
     "output_type": "stream",
     "name": "stderr",
     "text": [
      "Warning: package 'readxl' was built under R version 4.4.3"
     ]
    },
    {
     "output_type": "stream",
     "name": "stderr",
     "text": [
      "Warning: package 'units' was built under R version 4.4.3"
     ]
    },
    {
     "output_type": "stream",
     "name": "stderr",
     "text": [
      "udunits database from C:/Users/treimer/AppData/Local/R/cache/R/renv/cache/v5/windows/R-4.4/x86_64-w64-mingw32/units/0.8-7/5d0b024902d5da97a2b64f002e92a869/units/share/udunits/udunits2.xml"
     ]
    }
   ],
   "source": [
    "library(magrittr)\n",
    "library(dplyr)"
   ],
   "id": "e958aef4-2c02-43f4-a596-9412f90cde7e"
  },
  {
   "cell_type": "code",
   "execution_count": null,
   "metadata": {
    "layout-align": "center"
   },
   "outputs": [],
   "source": [
    "source(here(\"00_model_functions.R\"))\n",
    "\n",
    "# Input paths\n",
    "input_farm_coords_path <- here() %>% file.path(\"data\", \"_general_data\", \"farm_locations\")\n",
    "input_farm_sst_path <- here() %>% file.path(\"data\", \"_general_data\", \"SST\")\n",
    "input_species_param_path <- here() %>% file.path(\"data\", \"atlantic_salmon\", \"params\")\n",
    "input_feed_profile_path <- here() %>% file.path(\"data\", \"_general_data\", \"diets\")\n",
    "\n",
    "# Output paths\n",
    "output_farm_data_path <- here() %>% file.path(\"outputs\", \"farm_data\")\n",
    "output_species_data_path <- here() %>% file.path(\"outputs\", \"species_data\")\n",
    "output_sens_data_path <- here() %>% file.path(\"outputs\", \"sensitivity_data\")\n",
    "output_farm_growth_data_path <- here() %>% file.path(\"outputs\", \"farm_growth_data\")\n",
    "output_cohort_growth_data_path <- here() %>% file.path(\"outputs\", \"cohort_growth_data\")\n",
    "data_analysis_path <- here() %>% file.path(\"outputs\", \"data_analysis\")\n",
    "\n",
    "# Filenames\n",
    "farm_coords_file <- file.path(output_farm_data_path, \"farm_coords.qs\")\n",
    "species_params_file <- file.path(output_species_data_path, \"species_params.qs\")\n",
    "pop_params_file <- file.path(output_species_data_path, \"pop_params.qs\")\n",
    "feed_params_file <- file.path(output_species_data_path, \"feed_params.qs\")\n",
    "sens_params_file <- file.path(output_species_data_path, \"sens_params.qs\")\n",
    "sens_results_files <- file.path(output_sens_data_path) %>% str_subset(\"results\")\n",
    "\n",
    "species_params <- qread(species_params_file)\n",
    "pop_params <- qread(pop_params_file)"
   ],
   "id": "d4f3a440-b9d4-4860-9499-32c9dc0246a3"
  },
  {
   "cell_type": "markdown",
   "metadata": {},
   "source": [
    "# Introduction\n",
    "\n",
    "<span class=\"column-margin margin-aside\">This intro is copied verbatim from work done during one of the early workshops.</span>\n",
    "\n",
    "Aquaculture is now the dominant form of aquatic animal food (herein ‘seafood’) production and is expected to be the primary way we meet future seafood demand. Freshwater systems will likely continue to provide the majority of farmed seafood but marine aquaculture is also poised to expand substantially in numerous areas. Farmed marine fish and invertebrates are produced near exclusively in coastal waters, and nearly three quarters of this production is dependent on human-made feeds. Nearshore locations and feed inputs are necessary to maintain profitable and productive farming operations but coastal aquaculture generates a number of challenges. In the crowded coastal zone, aquaculture operations can conflict with other stakeholder uses such as recreation, fishing, renewable energy, transport, and tourism. And while farming marine fish typically generates a far smaller nutrient footprint than livestock farming, the overt nature of aquaculture in nearshore regions and evidence of localised nutrient impacts around fish farms remains a primary public and scientific concern. Identifying strategies that reduce ecosystem impacts from fish farm waste therefore represents an important goal for improving marine aquaculture sustainability and maintaining the sector’s social licence to operate.\n",
    "\n",
    "Aquaculture feeds represent an important lever for reducing nutrient waste impacts around fish farms. Like all farmed animals, fish and invertebrates must digest the nutrients contained in feeds before they can be used for growth. Any nutrients left undigested are egested as solid waste, and dissolved wastes are excreted as metabolic waste products. Further, some feed inevitably remains uneaten and is lost to the surrounding ecosystem. Particulate organic matter (both feed and faeces) that settles can simplify benthic communities as the oxygen demand from its decomposition drives the production of sulphides that kill less mobile faunal, encouraging a lower diversity of opportunistic scavengers and the growth of bacterial mats (e.g., Beggiatoa spp). Thus, the chemical composition of the ingredients used in aquaculture feeds and their digestibility for the farmed species has significant implications for the nature and reactivity of the waste generate by marine aquaculture.\n",
    "\n",
    "Firstly the overall volume of nutrient waste is dictated by the nature and intensity of production, that is the farm size, the density of farmed animals and the feed requirements and efficiency of the species grown. SecondlDeposition of waste is heavily influenced by water depth and current speed at the farming site. Once\n",
    "\n",
    "As farmed fish and invertebrates are fed, whatever\n",
    "\n",
    "Nutand its impact on marine ecosystems is influenced by many factors. \\* Farm size \\* Depth \\* Current speed \\* Benthic impact - sediment type/faunal assemblages/wider marine community \\* High turnover environments - nitrogen enriched areas \\* Feed influences all of these things\n",
    "\n",
    "The primary source of organic waste from fed aquaculture production comes from the excretion and faeces of the farmed animals and through uneaten feed that dissolves in the water column or settles on the benthos. The nature and impact of this waste are influenced heavily by the composition of the feeds fed to farmed animals.\n",
    "\n",
    "## P2\n",
    "\n",
    "-   Waste from aquaculture farms and it’s impact is influenced by many things but the composition of feeds plays a central role.\n",
    "-   Waste from aquaculture farms has multiple sources.\n",
    "-   The primary source of organic waste comes from the faeces and excretion of the fish or invertebrates.\n",
    "-   Uneaten feed produced another key source.\n",
    "-   The nature and impact of this waste are influenced heavily by the composition of the feeds fed to farmed animals\n",
    "-   Many marine fish are naturally carnivorous so diets used to be high in fishmeal and oil but increasing fishmeal and oil prices along with concerns over the sustainability of marine ingredients have led to a reduction in their use across multiple farmed taxa\n",
    "-   In lieu of fishmeal and oil, many plant-based ingredients such as soy protein concentrate, canola oil, and wheat gluten have replaced them.\n",
    "-   Changes in feed composition influences the digestibility of the nutrients held in each feed and can alter the composition of waste.\n",
    "-   Of particular concern are changes (increases) to the presence of reactive nitrogen and phosphorus in coastal waters that could have an effect on eutrophication.\n",
    "\n",
    "## P3\n",
    "\n",
    "-   Whether or not nutrients lead to eutrophication depends on the sensitivity of the receiving environment\n",
    "-   Ecosystems that are already enriched through natural processes and whose biota is well adapted to substantial fluxes in available nutrients (e.g. upwelling zones, dynamic coastal communities) may be less sensitive while oligotrophic ecosystem are likely to see considerable changes under nutrient enrichment scenarios.\n",
    "-   To understand the impact of aquaculture waste under present day or future scenarios we need to quantify the volume, nature, and location of mariculture waste and determine the sensitivity of the receiving environments to that waste. Yet only recent estimates even give us the estimated location of marine farms let alone the volume of nature of the waste produced. To address this gap, we use existing maps of mariculture location with a bioenergtic model\n",
    "\n",
    "# Methods\n",
    "\n",
    "## Model and approach\n",
    "\n",
    "<span class=\"column-margin margin-aside\">Unfinished. Need to work out how much should be transposed from Baldan et al. ([2018](#ref-baldan_r_2018)). One thing that definitely needs to be stated is the individual ingredient (rather than whole food) tracking, the use of cohorts, and the new method for calculating population.</span>\n",
    "\n",
    "We adapted the methods of Baldan et al. ([2018](#ref-baldan_r_2018)) to create a bioenergetic model that simulates individual growth and farm-scale production for Atlantic salmon and the resultant nutrient waste in the form of excess labile nitrogen and phosphorus. The model simulates growth at an individual level, calculating the change in individual weight through time using:\n",
    "\n",
    "$$\n",
    "\\frac{dw}{dt} = \\frac{A-C}{\\epsilon}\n",
    "$$\n",
    "\n",
    "Where $w=$ is wet weight (t), $t=$ time (d), $A=$ anabolic rate (J t$^{-1}$), $C=$ the catabolic rate (J t$^{-1}$), $\\epsilon=$ energy density of body tissues (J t$^{-1}$). Individual models were then upscaled using monte-carlo simulations to simulate size structure in a population. Size differences were achieved through different initial starting weights and ingestion rates for different finfish species. All individuals have a fixed mortality rate to simulate stocking and harvesting.\n",
    "\n",
    "## Farm temperature forcings"
   ],
   "id": "13dcb07c-0ed7-4ba8-bac6-4d36a8bc3fd9"
  },
  {
   "cell_type": "code",
   "execution_count": null,
   "metadata": {
    "layout-align": "center"
   },
   "outputs": [],
   "source": [
    "farms_to_omit <- file.path(input_farm_coords_path, \"atlantic_salmon_farms_to_omit.qs\") %>% qs::qread()\n",
    "farm_ts_data <- file.path(output_farm_data_path, \"farm_ts_data.qs\") %>% qs::qread()\n",
    "farm_coords <- file.path(output_farm_data_path, \"farm_coords.qs\") %>% qs::qread() %>% \n",
    "    mutate(hemisphere = case_when(lat < 0 ~ \"S\", T ~ \"N\") %>% as.factor()) \n",
    "\n",
    "farms_geometry <- file.path(output_farm_data_path, \"farm_geometry.qs\") %>% qs::qread() %>% \n",
    "  rename(farm_ID = farm_id)\n",
    "\n",
    "sorted_countries <- farm_coords %>% \n",
    "  merge(farms_geometry, by = \"farm_ID\") %>% \n",
    "  group_by(country) %>% \n",
    "  reframe(av_lat = mean(lat)) %>% \n",
    "  arrange(-av_lat) %>% \n",
    "  pull(country) %>% \n",
    "  unique()"
   ],
   "id": "25a38d35-9bf2-4bb5-80f6-c49d03a77bf0"
  },
  {
   "cell_type": "code",
   "execution_count": null,
   "metadata": {
    "layout-align": "center"
   },
   "outputs": [],
   "source": [
    "farm_temp_means <- farm_ts_data %>% \n",
    "  group_by(farm_ID) %>% \n",
    "  reframe(mean_temp = mean(temp_c)) %>% \n",
    "  merge(farms_geometry, by = \"farm_ID\") %>% \n",
    "  merge(farm_coords, by = \"farm_ID\") %>% \n",
    "  dplyr::filter(!farm_ID %in% farms_to_omit)\n",
    "\n",
    "overall_mean <- mean(farm_temp_means$mean_temp)\n",
    "overall_sd <- sd(farm_temp_means$mean_temp)\n",
    "\n",
    "rm(farm_ts_data)"
   ],
   "id": "67bccc7e-d7b1-4bfb-bedc-2595ae0d76a3"
  },
  {
   "cell_type": "markdown",
   "metadata": {},
   "source": [
    "Mean daily temperatures at the farms globally ranged from from 6$^{\\circ}$ to 16.7$^{\\circ}$, with an overall mean of 10.1$^{\\circ}$ ($\\pm$ 1.8 SD). Farms with a mean temperature of $\\leq 6^\\circ$C were excluded (4 farms). The total number of farms included in this analysis was therefore 2717."
   ],
   "id": "32a71c64-2d8e-4a18-bcf1-129fa274d410"
  },
  {
   "cell_type": "code",
   "execution_count": null,
   "metadata": {
    "layout-align": "center"
   },
   "outputs": [
    {
     "output_type": "display_data",
     "metadata": {},
     "data": {}
    }
   ],
   "source": [
    "worldmap <- ne_countries(scale = \"medium\", returnclass = \"sf\")\n",
    "\n",
    "p1 <- ggplot(data = worldmap, aes(geometry = geometry)) +\n",
    "  geom_sf(fill = \"white\", color = \"dimgray\") +\n",
    "  geom_sf(data = farm_temp_means, aes(colour = mean_temp), size = 1.5) +\n",
    "  coord_sf() +\n",
    "  theme_classic() \n",
    "\n",
    "p2 <- farm_temp_means %>% \n",
    "  ggplot(aes(y = mean_temp, x = abs(lat), colour = country)) +\n",
    "  geom_point(size = 2) +\n",
    "  scale_colour_brewer(palette = \"Set1\") +\n",
    "  labs(x = expression(\"Absolute latitude (\"*degree*\")\"), y = expression(\"Mean temperature (\"*degree*\"C)\")) +\n",
    "  theme_classic() +\n",
    "  theme(legend.position = \"top\", legend.title = element_blank())\n",
    "\n",
    "p3 <- farm_temp_means %>% \n",
    "  mutate(hemisphere = case_when(lat < 0 ~ \"S\", T ~ \"N\")) %>% \n",
    "  ggplot(aes(x = mean_temp, fill = hemisphere)) +\n",
    "  geom_histogram(position = \"identity\", colour = \"black\", alpha = 0.5, binwidth = 0.5) +\n",
    "  labs(x = expression(\"Mean temperature (\"*degree*\"C)\"), y = \"Frequency\") +\n",
    "  theme_classic() +\n",
    "  theme(legend.position = \"top\", legend.title = element_blank())\n",
    "\n",
    "(p2 + p3) / p1 + plot_layout(heights = c(1, 1.5))"
   ],
   "id": "cell-fig-farm-mean-temps"
  },
  {
   "cell_type": "code",
   "execution_count": null,
   "metadata": {
    "layout-align": "center"
   },
   "outputs": [
    {
     "output_type": "stream",
     "name": "stderr",
     "text": [
      "Coordinate system already present. Adding new coordinate system, which will\n",
      "replace the existing one."
     ]
    },
    {
     "output_type": "stream",
     "name": "stderr",
     "text": [
      "Coordinate system already present. Adding new coordinate system, which will\n",
      "replace the existing one."
     ]
    },
    {
     "output_type": "stream",
     "name": "stderr",
     "text": [
      "Coordinate system already present. Adding new coordinate system, which will\n",
      "replace the existing one."
     ]
    },
    {
     "output_type": "stream",
     "name": "stderr",
     "text": [
      "Coordinate system already present. Adding new coordinate system, which will\n",
      "replace the existing one."
     ]
    },
    {
     "output_type": "stream",
     "name": "stderr",
     "text": [
      "Coordinate system already present. Adding new coordinate system, which will\n",
      "replace the existing one."
     ]
    },
    {
     "output_type": "display_data",
     "metadata": {},
     "data": {}
    }
   ],
   "source": [
    "worldmap <- ne_countries(scale = \"large\", returnclass = \"sf\")\n",
    "\n",
    "AUS_bounds <- c(144, 149.5, -39.75, -44)\n",
    "CAN1_bounds <- c(-132, -122, 47.75, 54.25)\n",
    "CAN2_bounds <- c(-70, -54, 43, 48.5)\n",
    "CHI_bounds <- c(-77.5, -62.5, -56, -25)\n",
    "EUR_bounds <- c(-26, 30, 51, 71)\n",
    "\n",
    "p_ALL <- ggplot(data = worldmap, aes(geometry = geometry)) +\n",
    "  geom_sf(fill = \"white\", color = \"dimgray\") +\n",
    "  geom_sf(data = farm_temp_means, aes(colour = mean_temp), size = 1.5) +\n",
    "  coord_sf() +\n",
    "  theme_classic()\n",
    "\n",
    "no_margins <- function() {\n",
    "  theme(legend.position = \"none\", \n",
    "        plot.margin = margin(),\n",
    "        axis.title = element_blank())\n",
    "}\n",
    "\n",
    "p_Aus <- p_ALL + coord_sf(xlim = AUS_bounds[1:2], ylim = AUS_bounds[3:4], expand = FALSE) + no_margins()"
   ],
   "id": "60cd51b5-393b-49a0-bb1f-3775c4f91704"
  },
  {
   "cell_type": "code",
   "execution_count": null,
   "metadata": {
    "layout-align": "center"
   },
   "outputs": [],
   "source": [
    "fnms <- output_cohort_growth_data_path %>% \n",
    "  list.files(full.names = T) %>% \n",
    "  str_subset(\"biomass\")\n",
    "\n",
    "df <- fnms[1] %>% read_parquet() %>% \n",
    "  filter(feed == \"reference\") %>% \n",
    "  mutate(mean = set_units(mean, \"g\") %>% set_units(\"t\"),\n",
    "         sd = set_units(sd, \"g\") %>% set_units(\"t\"))\n",
    "\n",
    "ggplot(df, aes(x = yday, y = mean, ymin = mean-sd, ymax = mean+sd, colour = as.factor(cohort))) +\n",
    "  geom_line(linewidth = 0.75) +\n",
    "  geom_ribbon(linetype = \"dotted\", alpha = 0) +\n",
    "  scale_x_continuous(breaks = seq(0, 2000, 200)) +\n",
    "  labs(y = \"Farm biomass\", x = \"Day of the year\") +\n",
    "  theme_classic() +\n",
    "  theme(legend.position = \"none\", aspect.ratio = 0.75)\n",
    "\n",
    "yrs <- max(df$yday)/365\n",
    "harvests <- df %>% \n",
    "  group_by(cohort) %>% \n",
    "  reframe(mean = maxna(mean),\n",
    "          sd = maxna(sd))\n",
    "\n",
    "sum(harvests$mean)/yrs\n",
    "mean(harvests$sd)/yrs"
   ],
   "id": "cell-fig-cohorts"
  },
  {
   "cell_type": "markdown",
   "metadata": {},
   "source": [
    "### Feeding rate\n",
    "\n",
    "To detail here:\n",
    "\n",
    "-   Functional response to temperature (species-specific)\n",
    "-   Overfeeding parameters and how they come into play\n",
    "-   Deminstration of how feeding response and actual food given vary with temperature?"
   ],
   "id": "f87cac8e-8997-4396-b8de-82323981df34"
  },
  {
   "cell_type": "code",
   "execution_count": null,
   "metadata": {
    "layout-align": "center"
   },
   "outputs": [],
   "source": [
    "df <- data.frame(water_temp = seq(-5, 26, 0.25))\n",
    "df$feeding <- sapply(FUN = feeding_rate, X = df$water_temp, species_params = species_params)\n",
    "df <- df %>% \n",
    "mutate(ing_pot = pop_params['meanImax'] * (pop_params['meanW']^species_params['m']) * feeding,\n",
    "       food_prov = NA)\n",
    "for (i in 1:nrow(df)) {\n",
    "  df$food_prov[i] <- food_prov_rate(pop_params = pop_params, rel_feeding = df$feeding[i], ing_pot = df$ing_pot[i], \n",
    "                                    ing_pot_10 = pop_params['meanImax'] * (pop_params['meanW']^species_params['m']) * 0.1)\n",
    "}\n",
    "df$ing_pot <- df$ing_pot/maxna(df$ing_pot)\n",
    "df$food_prov <- df$food_prov/maxna(df$ing_pot)\n",
    "\n",
    "df %>% \n",
    "  ggplot(aes(x = water_temp, y = ing_pot)) +\n",
    "  geom_line(linewidth = 0.75) +\n",
    "  geom_line(aes(y = food_prov), linewidth = 0.75, linetype = \"dotted\") +\n",
    "  scale_y_continuous(breaks = seq(0,1.5,0.25)) +\n",
    "  scale_x_continuous(breaks = seq(-5,30,5), limits = c(-5,26)) +\n",
    "  labs(x = expression(\"Water temperature (\"*degree*\"C)\"), y = \"Relative food ingested/provided\") +\n",
    "  theme_classic() +\n",
    "  theme(text = element_text(colour = \"black\", family = \"serif\", size = 12))"
   ],
   "id": "cell-fig-functional-response-to-temperature"
  },
  {
   "cell_type": "markdown",
   "metadata": {},
   "source": [
    "## Production parameters\n",
    "\n",
    "-   Salmon cohorts were always grown for 548 days\n",
    "-   Salmon cohorts were initialised Spring. This was on day 274 for farms in the southern hemisphere and day 121 for farms in the northern hemisphere.\n",
    "-   Cohorts were initialised anually, such that there was an overlap of 183 days where one cohort was nearing harvest and another was being initialised.\n",
    "\n",
    "## Parameterisation for Atlantic salmon"
   ],
   "id": "c250aa67-d449-4e6a-a49a-1e603258a062"
  },
  {
   "cell_type": "code",
   "execution_count": null,
   "metadata": {
    "layout-align": "center"
   },
   "outputs": [],
   "source": [
    "params <- file.path(output_species_data_path, \"sens_params.qs\") %>% qs::qread()\n",
    "\n",
    "param_names <- tibble::tribble(\n",
    "  ~name,        ~lab,\n",
    "  \"alpha\",      bquote(alpha),\n",
    "  \"epsprot\",    bquote(epsilon[\"P\"]),\n",
    "  \"epslip\",     bquote(epsilon[\"L\"]),\n",
    "  \"epscarb\",    bquote(epsilon[\"C\"]),\n",
    "  \"epsO2\",      bquote(epsilon[\"O\"[2]]),\n",
    "  \"pk\",         bquote(\"pk\"),\n",
    "  \"k0\",         bquote(\"k\"[0]),\n",
    "  \"m\",          bquote(\"m\"),\n",
    "  \"n\",          bquote(\"n\"),\n",
    "  \"betac\",      bquote(beta*\"C\"),\n",
    "  \"Tma\",        bquote(\"T\"[\"max\"]),\n",
    "  \"Toa\",        bquote(\"T\"[\"opt\"]),\n",
    "  \"Taa\",        bquote(\"T\"[\"min\"]),\n",
    "  \"omega\",      bquote(omega),\n",
    "  \"a\",          bquote(\"a\"),\n",
    "  \"k\",          bquote(\"k\"),\n",
    "  \"eff\",        bquote(\"eff\"),\n",
    "  \"meanW\",      bquote(bar(\"W\")),\n",
    "  \"deltaW\",     bquote(Delta*\"W\"), \n",
    "  \"meanImax\",   bquote(bar(\"I\"[\"max\"])),\n",
    "  \"deltaImax\",  bquote(Delta*\"I\"[\"max\"]),\n",
    "  \"overFmean\",  bquote(bar(\"F\")),\n",
    "  \"overFdelta\", bquote(Delta*\"F\"),\n",
    "  \"mortmyt\",    bquote(\"mort\")\n",
    ")"
   ],
   "id": "f02e1afb-254c-4898-9616-a876aed7fd11"
  },
  {
   "cell_type": "markdown",
   "metadata": {},
   "source": [
    "tbl-params shows the parameter values used to model the growth of farmed Atlantic salmon.\n",
    "\n",
    "| Parameter | Value | Units | Description | Reference |\n",
    "|:--:|:--:|:--:|:---|:---|\n",
    "| $\\alpha$ | 0.04 | \\- | Feeding catabolism coefficient | *Salvelinus alpinus*, *Oncorhynchus mykiss* (temps: 8–13$^{\\circ}$C) ([Broekhuizen et al. 1994](#ref-broekhuizen_modelling_1994)) |\n",
    "| $\\epsilon_{P}$ | 2.36^{4} | J g protein$^{-1}$ | Energy content of protein | Baldan et al. ([2018](#ref-baldan_r_2018)) |\n",
    "| $\\epsilon_{L}$ | 3.62^{4} | J g lipid$^{-1}$ | Energy content of lipid | Baldan et al. ([2018](#ref-baldan_r_2018)) |\n",
    "| $\\epsilon_{C}$ | 1.72^{4} | J g carbohydrate$^{-1}$ | Energy content of carbohydrate | Baldan et al. ([2018](#ref-baldan_r_2018)) |\n",
    "| $\\epsilon_{O_2}$ | 1.34^{4} | J g O2$^{-1}$ | Energy consumed by the respiration of 1 g of oxygen | Elliott and Davison ([1975](#ref-elliott_energy_1975)) |\n",
    "| pk | 0.05 | d$^{-1}$ | Temperature coefficient for the fasting catabolism | Macnaughton et al. ([2019](#ref-macnaughton_using_2019)) |\n",
    "| $k_0$ | 0.003 | \\- | Fasting catabolism at 0 $^{^\\circ}$C | Macnaughton et al. ([2019](#ref-macnaughton_using_2019)) |\n",
    "| m | 0.75 | \\- | Weight exponent for anabolism | Experimentally-derived alue over a range of *Oncorhynchus*, *Perca* and *Salmo* species (temps: 8–13$^{\\circ}$C) ([Broekhuizen et al. 1994](#ref-broekhuizen_modelling_1994)) |\n",
    "| n | 1 | \\- | Weight exponent for catabolism | Baldan et al. ([2018](#ref-baldan_r_2018)) |\n",
    "| $\\beta C$ | 0.3234 | \\- | Shape coefficient for the feeding function | Fish size range: 2.25 $\\pm$ 0.49 – 11.5 $\\pm$ 5.29 g, temperature ranges: 5–24$\\^{\\circ}$C. Coefficent for mean daily energy intake of the moderately fast growing group, 0.4398 (mean fast group), 0.2214 (mean slow group) ([B. Jonsson et al. 2001](#ref-jonsson_thermal_2001)) |\n",
    "| $T_{max}$ | 26 | $^{^\\circ}$C | Maximum lethal temperature | Juvenile *Oncorhynchus tshawytscha* (19.8 $\\pm$ 0.02 g, acclimation temp: 15$^{^\\circ}$C, 19${\\circ}$C) ([Poletto et al. 2017](#ref-poletto_unusual_2017)) |\n",
    "| $T_{opt}$ | 16 | $^{^\\circ}$C | Optimal temperature | Fish size range: 2.25 $\\pm$ 0.49 – 11.5 $\\pm$ 5.29 g, temperature ranges: 5–24$^{^\\circ}$C ([B. Jonsson et al. 2001](#ref-jonsson_thermal_2001)). Alt value: 14°C ([Handeland, Imsland, and Stefansson 2008](#ref-handeland_effect_2008)), *Salmo salar* initial size: 77.0 $\\pm$ 14.6 g, temps: 6, 10, 14, 18${\\circ}$C |\n",
    "| $T_{min}$ | 2 | $^{^\\circ}$C | Lowest feeding temperature | Fish essentially stop feeding when below 2$^{\\circ}$C ([Vadboncoeur et al. 2023](#ref-vadboncoeur_lowering_2023)) |\n",
    "| $\\omega$ | 0.6542 | g O2 / g | Oxygen consumption:weight loss ratio | Calibrated value from Baldan et al. ([2018](#ref-baldan_r_2018)) |\n",
    "| a | 2669 | J g tissue$^{-1}$ | Energy content of fish tissue | Alt value: 17.02350 (nls model fitted to female Atlantic salmon data extracted and transformed from N. Jonsson and Jonsson ([2003](#ref-jonsson_energy_2003); [Van Tien et al. 2016](#ref-van_tien_development_2016)) |\n",
    "| k | 0.1715 | \\- | Weight exponent for energy content | Alt value: 1.65175 (nls model fitted to female Atlantic salmon data extracted and transformed from N. Jonsson and Jonsson ([2003](#ref-jonsson_energy_2003); [Van Tien et al. 2016](#ref-van_tien_development_2016)) |\n",
    "| eff | 0.97 | \\- | Food ingestion efficiency | Range: 95-97% ingestion efficiency ([Uglem et al. 2020](#ref-uglem_does_2020)) |\n",
    "| $\\overline{W}$ | 125 | g | Dry weight mean | Range of 100-150 given so used a mean of 125 and sd of 10 which over 1000 draws from a normal distribution delivers a minimum and maximum close to these numbers ([Dempsey et al. 2023](#ref-dempsey_estimating_2023)) |\n",
    "| $\\Delta{W}$ | 10 | g | Dry weight standard deviation | Range of 100-150 given so used a mean of 125 and sd of 10 which over 1000 draws from a normal distribution delivers a minimum and maximum close to these numbers ([Dempsey et al. 2023](#ref-dempsey_estimating_2023)) |\n",
    "| $\\overline{I_{max}}$ | 0.035 | g g$^{-1}$ fish day$^{-1}$ | Ingestion rate mean | [FAO](https://www.fao.org/fileadmin/user_upload/affris/docs/tabl10.pdf) |\n",
    "| $\\Delta{I_{max}}$ | 0.005 | g g$^{-1}$ fish day$^{-1}$ | Ingestion rate standard deviation | [FAO](https://www.fao.org/fileadmin/user_upload/affris/docs/tabl10.pdf) |\n",
    "| $\\overline{F}$ | 0.015 | g g$^{-1}$ fish\\$ | Overfeeding rate mean |  |\n",
    "| $\\Delta{F}$ | 0.0045 | g g$^{-1}$ fish\\$ | Overfeeding rate standard deviation |  |\n",
    "| mort | 5.99798^{-4} | d$^{-1}$ | Natural mortality rate | Tvete, Aldrin, and Jensen ([2023](#ref-tvete_towards_2023)) |\n",
    "\n",
    "Table 1: Model growth parameters for Atlantic salmon\n",
    "\n",
    "### Parameter sensitivity\n",
    "\n",
    "Parameter sensitivity was tested by varying each parameter in <a href=\"#tbl-params\" class=\"quarto-xref\">Table 1</a> by $\\pm 10$% and calculating sensitivity as:\n",
    "\n",
    "$$\n",
    "S_p = \\frac{(P_{1.1} - P_{0.9})}{0.2 \\times P_1}\n",
    "$$\n",
    "\n",
    "where $S$ is the sensitivity of the measured variable to changes in parameter $p$, and $P_{1.1}$, $P_{0.9}$, and $P_{1}$ are the value of the measured variable when the model is run with parameter $p$ at 110%, 90%, and 100% of its value respectively.\n",
    "\n",
    "-   All parameters in Table <a href=\"#tbl-params\" class=\"quarto-xref\">Table 1</a> were tested across all farms (all temperatures)\n",
    "-   Used a population of 100 in each farm"
   ],
   "id": "5d69b820-914e-418d-9c21-8c48984ac7ee"
  },
  {
   "cell_type": "code",
   "execution_count": null,
   "metadata": {
    "layout-align": "center"
   },
   "outputs": [],
   "source": [
    "sens_weight <- output_sens_data_path %>% \n",
    "  list.files(full.names = T) %>% \n",
    "  str_subset(\"results\") %>% \n",
    "  str_subset(\"weight\") %>% \n",
    "  qs::qread()\n",
    "\n",
    "sens_excr <- output_sens_data_path %>% \n",
    "  list.files(full.names = T) %>% \n",
    "  str_subset(\"results\") %>% \n",
    "  str_subset(\"total_excr\") %>% \n",
    "  qs::qread() \n",
    "\n",
    "sens_data <- rbind(sens_weight, sens_excr) %>% \n",
    "  mutate(adj_param = factor(adj_param, levels = param_names$name))"
   ],
   "id": "fe010b71-9319-4221-8356-1de705e866bb"
  },
  {
   "cell_type": "markdown",
   "metadata": {},
   "source": [
    "Looking at <a href=\"#fig-param-sens-weight\" class=\"quarto-xref\">Figure 2</a>:\n",
    "\n",
    "-   The most sensitive parameter by far is $m$ (the weight exponent for anabolism), followed closely by $n$ the (weight exponent for catabolism)\n",
    "-   These two are also relatively uncertain, as $m$ was taken from *Salmo trutta* measurements in a fairly old paper ([Broekhuizen et al. 1994](#ref-broekhuizen_modelling_1994)) and $n$ was taken from Baldan et al. ([2018](#ref-baldan_r_2018)) which did not specifically look at Atlantic salmon. There must be more up-to-date measurements for Atlantic salmon in particular."
   ],
   "id": "41d2108d-dc69-408f-9404-1260b81a999f"
  },
  {
   "cell_type": "code",
   "execution_count": null,
   "metadata": {
    "layout-align": "center"
   },
   "outputs": [
    {
     "output_type": "display_data",
     "metadata": {},
     "data": {}
    }
   ],
   "source": [
    "sens_data %>% \n",
    "  ggplot(aes(x = adj_param, y = mean_sens, ymin = mean_sens - sd_sens, ymax = mean_sens + sd_sens, fill = measure)) +\n",
    "  geom_col(position = position_dodge(), width = 0.95, colour = \"black\", alpha = 0.75) +\n",
    "  # geom_errorbar(position = position_dodge(width = 0.95), width = 0.3) +\n",
    "  geom_hline(aes(yintercept = 0), linetype = \"dashed\") +\n",
    "  scale_y_continuous(breaks = seq(-30,30,5), limits = c(-10,30)) +\n",
    "  scale_x_discrete(limits = rev(param_names$name), labels = rev(param_names$lab)) +\n",
    "  scale_fill_manual(values = c(weight = \"salmon\", total_excr = \"steelblue\")) +\n",
    "  # scale_fill_manual(values = c(\"weight\" = \"salmon\", \"uneat\" = \"steelblue\", \"excr\" = \"darkgreen\")) +\n",
    "  labs(x = \"Adjusted parameter\", y = \"Sensitivity\") +\n",
    "  theme_classic() + \n",
    "  theme(legend.position = \"none\", \n",
    "        strip.text = element_blank(), \n",
    "        aspect.ratio = 0.8,\n",
    "        text = element_text(size = 12),\n",
    "        axis.title.y = element_blank()) +\n",
    "  coord_flip()"
   ],
   "id": "cell-fig-param-sens-weight"
  },
  {
   "cell_type": "markdown",
   "metadata": {},
   "source": [
    "## Modelled experimental feeds"
   ],
   "id": "105a4277-255b-4a22-88e7-6624f5c93b07"
  },
  {
   "cell_type": "code",
   "execution_count": null,
   "metadata": {
    "layout-align": "center"
   },
   "outputs": [],
   "source": [
    "feed_pal <- c(\"past\" = brewer.pal(9, \"Set1\")[1], \"reference\" = brewer.pal(9, \"Set1\")[2], \"future\" = brewer.pal(9, \"Set1\")[3])\n",
    "feed_params <- file.path(output_species_data_path, \"feed_params.qs\") %>% qs::qread()\n",
    "\n",
    "df <- feed_params[[\"reference\"]]\n",
    "contribP_1 <- df[[\"Proteins\"]]$proportion*df[[\"Proteins\"]]$macro\n",
    "tP_1 <- sum(contribP_1)\n",
    "digestP_1 <- sum(df[[\"Proteins\"]]$digest * contribP_1)/tP_1\n",
    "\n",
    "contribL_1 <- df[[\"Lipids\"]]$proportion*df[[\"Lipids\"]]$macro\n",
    "tL_1 <- sum(contribL_1)\n",
    "digestL <- sum(df[[\"Lipids\"]]$digest * contribL_1)/tL_1\n",
    "\n",
    "contribC_1 <- df[[\"Carbohydrates\"]]$proportion*df[[\"Carbohydrates\"]]$macro\n",
    "tC_1 <- sum(contribC_1)\n",
    "digestC_1 <- sum(df[[\"Carbohydrates\"]]$digest * contribC_1)/tC_1\n",
    "\n",
    "df <- feed_params[[\"past\"]]\n",
    "contribP_2 <- df[[\"Proteins\"]]$proportion*df[[\"Proteins\"]]$macro\n",
    "tP_2 <- sum(contribP_2)\n",
    "digestP_2 <- sum(df[[\"Proteins\"]]$digest * contribP_2)/tP_2\n",
    "\n",
    "contribL_2 <- df[[\"Lipids\"]]$proportion*df[[\"Lipids\"]]$macro\n",
    "tL_2 <- sum(contribL_2)\n",
    "digestL <- sum(df[[\"Lipids\"]]$digest * contribL_2)/tL_2\n",
    "\n",
    "contribC_2 <- df[[\"Carbohydrates\"]]$proportion*df[[\"Carbohydrates\"]]$macro\n",
    "tC_2 <- sum(contribC_2)\n",
    "digestC_2 <- sum(df[[\"Carbohydrates\"]]$digest * contribC_2)/tC_2\n",
    "\n",
    "df <- feed_params[[\"future\"]]\n",
    "contribP_3 <- df[[\"Proteins\"]]$proportion*df[[\"Proteins\"]]$macro\n",
    "tP_3 <- sum(contribP_3)\n",
    "digestP_3 <- sum(df[[\"Proteins\"]]$digest * contribP_3)/tP_3\n",
    "\n",
    "contribL_3 <- df[[\"Lipids\"]]$proportion*df[[\"Lipids\"]]$macro\n",
    "tL_3 <- sum(contribL_3)\n",
    "digestL <- sum(df[[\"Lipids\"]]$digest * contribL_3)/tL_3\n",
    "\n",
    "contribC_3 <- df[[\"Carbohydrates\"]]$proportion*df[[\"Carbohydrates\"]]$macro\n",
    "tC_3 <- sum(contribC_3)\n",
    "digestC_3 <- sum(df[[\"Carbohydrates\"]]$digest * contribC_3)/tC_3"
   ],
   "id": "d6192d21-8a2f-4975-8889-da6124c34c6f"
  },
  {
   "cell_type": "markdown",
   "metadata": {},
   "source": [
    "<span class=\"column-margin margin-aside\">Possibly replace this with a better summary of the ingredients that make up each feed, and report these stats in Results under Uneaten feed</span>\n",
    "\n",
    "-   Feed came from ([Cottrell et al., n.d.](#ref-cottrell_origins_nodate), [2020](#ref-cottrell_global_2020))\n",
    "-   The reference feed is 37.8% protein, 36.5% lipid, 20.4% carbohydrate.\n",
    "-   The past feed is 49.8% protein, 27.1% lipid, 16.6% carbohydrate.\n",
    "-   The future feed is 47.7% protein, 32.9% lipid, 13.9% carbohydrate.\n",
    "-   Within the reference feed, protein is overall 89.2% digestible, lipid is overall 96% digestible, and carbohydrate is overall 69.6% digestible.\n",
    "-   Within the reference feed, protein is overall 90.5% digestible, lipid is overall 96% digestible, and carbohydrate is overall 79.7% digestible.\n",
    "-   Within the reference feed, protein is overall 86.2% digestible, lipid is overall 96% digestible, and carbohydrate is overall 69.3% digestible.\n",
    "\n",
    "## Population and biomass estimates"
   ],
   "id": "a44582b8-0986-4153-903b-d61800c2d7f9"
  },
  {
   "cell_type": "code",
   "execution_count": null,
   "metadata": {
    "layout-align": "center"
   },
   "outputs": [],
   "source": [
    "coho_biom <- file.path(data_analysis_path, \"biomass_produced_comparison.qs\") %>% \n",
    "  qs::qread()\n",
    "harv_size <- file.path(output_farm_data_path, \"farm_harvest_size.qs\") %>% \n",
    "  qread()\n",
    "\n",
    "coho_biom_summ <- coho_biom %>% \n",
    "  mutate(perc_diff = 100*(mean - tonnes_per_farm)/tonnes_per_farm)"
   ],
   "id": "3b2fa1b2-047e-4edc-a83e-af12649b7ecb"
  },
  {
   "cell_type": "markdown",
   "metadata": {},
   "source": [
    "Each farm’s final population was calculated by dividing the production tonnage required by the average modelled individual harvest size for each farm (when feed reference feed). A population timeseries was the generated using the standard mortality rate (5.99798^{-4} d$^{-1}$). Using this method, a farm’s ‘population’ is not a good representation of the actual number of individuals being farmed, but it ensures each farm location is producing the correct tonnage while allowing comparisons between the different feeds.\n",
    "\n",
    "<a href=\"#fig-harvest-size\" class=\"quarto-xref\">Figure 3</a> shows the distribution of average individual harvest sizes across farms used to create the population timeseries as predicted by the fish-growth model."
   ],
   "id": "72f3ad46-bd54-41cf-b0d7-32f7fe99177a"
  },
  {
   "cell_type": "code",
   "execution_count": null,
   "metadata": {
    "layout-align": "center"
   },
   "outputs": [],
   "source": [],
   "id": "cell-fig-harvest-size"
  },
  {
   "cell_type": "markdown",
   "metadata": {},
   "source": [
    "By this method, farm biomass as predicted by the model slightly overestimated farm tonnage. Predicted farm biomass was 2.4-6.5 higher than tonnage produced (<a href=\"#fig-biomass-produced\" class=\"quarto-xref\">Figure 6</a>). This variation was not correlated with mean farm temperature or total tonnage produced (**?@fig-biomass-variation**)."
   ],
   "id": "6acdb5bf-20bd-4128-9ce4-866bc1400c57"
  },
  {
   "cell_type": "code",
   "execution_count": null,
   "metadata": {
    "layout-align": "center"
   },
   "outputs": [],
   "source": [],
   "id": "cell-fig-biomass-variation"
  },
  {
   "cell_type": "code",
   "execution_count": null,
   "metadata": {
    "layout-align": "center"
   },
   "outputs": [],
   "source": [],
   "id": "cell-fig-biomass-produced"
  },
  {
   "cell_type": "markdown",
   "metadata": {},
   "source": [
    "## Impacts of nutrient input\n",
    "\n",
    "*To detail here:*\n",
    "\n",
    "-   How to convert feed and uneaten faeces into nutrients - just nitrogen? Carbon too? If just nitrogen, then can probably use the standard N = 6.25 x protein conversion to compare the feeds (lipids and carbohydrates have negligible protein). If doing carbon too, will need to find conversion rates for all of them, possibly splitting carbs/lipids into complex/simple, saturated/unsaturated, etc.\n",
    "-   Source of species vulnerability layers\n",
    "\n",
    "# Results\n",
    "\n",
    "-   Main point is the difference between feeds (kg/t salmon).\n",
    "-   Also interesting to see if difference between feeds varies geographically (correlates with mean/median/max temperature?)"
   ],
   "id": "b6d88174-8ad2-44d2-9c50-d76f413b4408"
  },
  {
   "cell_type": "code",
   "execution_count": null,
   "metadata": {
    "layout-align": "center"
   },
   "outputs": [
    {
     "output_type": "stream",
     "name": "stdout",
     "text": [
      " [1] \"weight_stat\"      \"dw_stat\"          \"water_temp_stat\"  \"T_response_stat\" \n",
      " [5] \"P_excr_stat\"      \"L_excr_stat\"      \"C_excr_stat\"      \"P_uneat_stat\"    \n",
      " [9] \"L_uneat_stat\"     \"C_uneat_stat\"     \"food_prov_stat\"   \"food_enc_stat\"   \n",
      "[13] \"rel_feeding_stat\" \"ing_pot_stat\"     \"ing_act_stat\"     \"E_assim_stat\"    \n",
      "[17] \"E_somat_stat\"     \"anab_stat\"        \"catab_stat\"       \"O2_stat\"         \n",
      "[21] \"NH4_stat\"         \"total_excr_stat\"  \"total_uneat_stat\" \"metab_stat\"      \n",
      "[25] \"biomass_stat\"    "
     ]
    }
   ],
   "source": [
    "farmrun_files <- file.path(output_cohort_growth_data_path) %>% \n",
    "  list.files(full.names = T)\n",
    "\n",
    "qs::qread(farmrun_files[1]) %>% names()"
   ],
   "id": "488aafa7-a588-4099-983f-c63cbaba3591"
  },
  {
   "cell_type": "markdown",
   "metadata": {},
   "source": [
    "## Uneaten feed"
   ],
   "id": "d99e94fd-6a68-45e4-be29-819fbceff93c"
  },
  {
   "cell_type": "code",
   "execution_count": null,
   "metadata": {
    "layout-align": "center"
   },
   "outputs": [],
   "source": [
    "uneaten_total <- farmrun_files %>% \n",
    "  purrr::map(function(f) {qs::qread(f)[[\"total_uneat_stat\"]]}) %>% \n",
    "  bind_rows() %>% \n",
    "  merge(biomass, by = c(\"farm_ID\", \"feed\", \"t\")) %>% \n",
    "  rename(uneat_mean = mean.x, biomass_mean = mean.y,\n",
    "         uneat_sd = sd.x, biomass_sd = sd.y) %>% \n",
    "  mutate(uneat_sd = uneat_sd/uneat_mean,\n",
    "         biomass_sd = biomass_sd/biomass_mean,\n",
    "         uneat_biom_mean = uneat_mean/biomass_mean,\n",
    "         uneat_biom_sd = sqrt(uneat_sd^2+biomass_sd^2)*uneat_biom_mean)\n",
    "\n",
    "uneaten_total_stats <- uneaten_total %>% \n",
    "  group_by(feed, farm_ID) %>% \n",
    "  reframe(total = sum(uneat_biom_mean)) %>% \n",
    "  group_by(feed) %>% \n",
    "  reframe(min = minna(total),\n",
    "          max = maxna(total),\n",
    "          mean = meanna(total)) %>% \n",
    "  mutate(min = min %>% set_units(\"g gfish-1\") %>% set_units(\"g kgfish-1\"),\n",
    "         max = max %>% set_units(\"g gfish-1\") %>% set_units(\"g kgfish-1\"),\n",
    "         mean = mean %>% set_units(\"g gfish-1\") %>% set_units(\"g kgfish-1\")) %>% \n",
    "  mutate(min = round(min,2),\n",
    "         max = round(max,2),\n",
    "         mean = round(mean,2))"
   ],
   "id": "61991f3e-4019-4fb7-b8d3-aee8ae315b6b"
  },
  {
   "cell_type": "markdown",
   "metadata": {},
   "source": [
    "### Amount\n",
    "\n",
    "-   Total reference uneaten feed across a cohort (548 days) ranged from 48.46 to 48.46 g kg$^{-1}$, with a mean of 61.71.\n",
    "-   There was very little difference between the past and future feeds and the reference feed. Uneaten past feed ranged from 48.72 to 48.72 g kg$^{-1}$ (mean of 62.17) while uneaten future feed ranged from 48.73 to 48.73 g kg$^{-1}$ (mean of 62.05).\n",
    "-   <a href=\"#fig-total-uneaten-perday\" class=\"quarto-xref\">Figure 7</a> shows the range of total uneaten feed per day across countries."
   ],
   "id": "c156d19c-457f-4d20-afb4-8d5cf52e482a"
  },
  {
   "cell_type": "code",
   "execution_count": null,
   "metadata": {
    "layout-align": "center"
   },
   "outputs": [
    {
     "output_type": "display_data",
     "metadata": {},
     "data": {}
    }
   ],
   "source": [
    "uneaten_total %>% \n",
    "  merge(farms_geometry, by = \"farm_ID\") %>% \n",
    "  mutate(uneat_biom_mean = uneat_biom_mean %>% set_units(\"g gfish-1 d-1\") %>% set_units(\"g kgfish-1 d-1\"),\n",
    "         country = factor(country, levels = sorted_countries)) %>% \n",
    "  ggplot(aes(x = country, y = uneat_biom_mean, fill = feed)) +\n",
    "  geom_boxplot() +\n",
    "  theme_classic() +\n",
    "  scale_fill_manual(values = feed_pal) +\n",
    "  labs(y = \"Uneaten feed\", x = \"Country\")"
   ],
   "id": "cell-fig-total-uneaten-perday"
  },
  {
   "cell_type": "code",
   "execution_count": null,
   "metadata": {
    "layout-align": "center"
   },
   "outputs": [],
   "source": [
    "uneaten_P <- farmrun_files %>% purrr::map(function(f) {qs::qread(f)[[\"P_uneat_stat\"]]}) %>% bind_rows()\n",
    "uneaten_L <- farmrun_files %>% purrr::map(function(f) {qs::qread(f)[[\"L_uneat_stat\"]]}) %>% bind_rows()\n",
    "uneaten_C <- farmrun_files %>% purrr::map(function(f) {qs::qread(f)[[\"C_uneat_stat\"]]}) %>% bind_rows()\n",
    "\n",
    "uneaten_all <- uneaten_total %>% \n",
    "  select(-contains(\"biom\")) %>% \n",
    "  merge(uneaten_P, by = c(\"farm_ID\", \"feed\", \"t\")) %>% \n",
    "  merge(uneaten_L, by = c(\"farm_ID\", \"feed\", \"t\")) %>% \n",
    "  merge(uneaten_C, by = c(\"farm_ID\", \"feed\", \"t\")) %>% \n",
    "  select(-c(contains(\"sd\")))"
   ],
   "id": "97f81446-0cf0-4e8c-8425-61592a54dcd2"
  },
  {
   "cell_type": "markdown",
   "metadata": {},
   "source": [
    "-   The composition of the uneaten feed is (obviously) the same as the total feed composition (<a href=\"#sec-feeds\" class=\"quarto-xref\">Section 2.5</a>).\n",
    "\n",
    "## Excreted faeces"
   ],
   "id": "44eff9f6-dafb-4b32-96d8-ddc2664ecc4c"
  },
  {
   "cell_type": "code",
   "execution_count": null,
   "metadata": {
    "layout-align": "center"
   },
   "outputs": [],
   "source": [
    "# The following reads in all the total excretion data and converts the mean and sd values into values/biomass\n",
    "excreted_total <- farmrun_files %>% \n",
    "  purrr::map(function(f) {qs::qread(f)[[\"total_excr_stat\"]]}) %>% \n",
    "  bind_rows() %>% \n",
    "  merge(biomass, by = c(\"farm_ID\", \"feed\", \"t\")) %>% \n",
    "  rename(excr_mean = mean.x, biomass_mean = mean.y,\n",
    "         excr_sd = sd.x, biomass_sd = sd.y) %>% \n",
    "  mutate(excr_sd = excr_sd/excr_mean,\n",
    "         biomass_sd = biomass_sd/biomass_mean,\n",
    "         excr_biom_mean = excr_mean/biomass_mean,\n",
    "         excr_biom_sd = sqrt(excr_sd^2+biomass_sd^2)*excr_biom_mean)\n",
    "\n",
    "excreted_total_stats <- excreted_total %>% \n",
    "  group_by(feed, farm_ID) %>% \n",
    "  reframe(total = sum(excr_biom_mean)) %>% \n",
    "  group_by(feed) %>% \n",
    "  reframe(min = minna(total),\n",
    "          max = maxna(total),\n",
    "          mean = meanna(total)) %>% \n",
    "  mutate(min = min %>% set_units(\"g gfish-1\") %>% set_units(\"g kgfish-1\"),\n",
    "         max = max %>% set_units(\"g gfish-1\") %>% set_units(\"g kgfish-1\"),\n",
    "         mean = mean %>% set_units(\"g gfish-1\") %>% set_units(\"g kgfish-1\")) %>% \n",
    "  mutate(min = round(min,2),\n",
    "         max = round(max,2),\n",
    "         mean = round(mean,2))"
   ],
   "id": "25214191-bebd-4273-b179-6e0bb6fc9b27"
  },
  {
   "cell_type": "markdown",
   "metadata": {},
   "source": [
    "-   Total reference excreted faeces across a cohort (548 days) ranged from 194.24 to 295.9 g kg$^{-1}$, with a mean of 247.38.\n",
    "-   There was very little difference between the past and future feeds and the reference feed. Uneaten past feed ranged from 154.33 to 236.05 g kg$^{-1}$ (mean of 196.94 g kg$^{-1}$) while uneaten future feed ranged from 202.55 to 308.61 g kg$^{-1}$ (mean of 257.91 g kg$^{-1}$).\n",
    "-   <a href=\"#fig-total-excreted-perday\" class=\"quarto-xref\">Figure 8</a> shows the range of total excreted faeces per day across countries."
   ],
   "id": "a30c2d3b-1b2e-4b93-8b9f-49e27993c273"
  },
  {
   "cell_type": "code",
   "execution_count": null,
   "metadata": {
    "layout-align": "center"
   },
   "outputs": [
    {
     "output_type": "display_data",
     "metadata": {},
     "data": {}
    }
   ],
   "source": [
    "excreted_total %>% \n",
    "  merge(farms_geometry, by = \"farm_ID\") %>% \n",
    "  mutate(excr_biom_mean = excr_biom_mean %>% set_units(\"g gfish-1 d-1\") %>% set_units(\"g kgfish-1 d-1\"),\n",
    "         country = factor(country, levels = sorted_countries)) %>% \n",
    "  ggplot(aes(x = country, y = excr_biom_mean, fill = feed)) +\n",
    "  geom_boxplot() +\n",
    "  theme_classic() +\n",
    "  scale_fill_manual(values = feed_pal) +\n",
    "  labs(y = \"Excreted faeces\", x = \"Country\")"
   ],
   "id": "cell-fig-total-excreted-perday"
  },
  {
   "cell_type": "markdown",
   "metadata": {},
   "source": [
    "### Amount"
   ],
   "id": "90717559-8264-46d5-9407-4980e6e1285e"
  },
  {
   "cell_type": "code",
   "execution_count": null,
   "metadata": {
    "layout-align": "center"
   },
   "outputs": [],
   "source": [],
   "id": "cell-fig-total-excr-diff_perc"
  },
  {
   "cell_type": "markdown",
   "metadata": {},
   "source": [
    "There was very little variation in the percentage difference (from reference) excreted with increasing overall excretion (<a href=\"#fig-total-excr-diff_perc\" class=\"quarto-xref\">Figure 9</a>), or through time (<a href=\"#fig-total-excr-diff_perc_2\" class=\"quarto-xref\">Figure 10</a>). The difference in total excretion for the past feed ranged from -26, -26.1–23.9, -23.9% across all farms globally, and for the future feed ranged from 1.3, 1.3-4.1, 3.7%."
   ],
   "id": "20f3c13c-6e6f-4628-9846-b9c5e1a6368b"
  },
  {
   "cell_type": "code",
   "execution_count": null,
   "metadata": {
    "layout-align": "center"
   },
   "outputs": [],
   "source": [],
   "id": "cell-fig-total-excr-diff_perc_2"
  },
  {
   "cell_type": "markdown",
   "metadata": {},
   "source": [
    "However, the actual difference in excreted faeces varied by feed, time in the production cycle, and location of the farm <a href=\"#fig-total-excr-act_diff\" class=\"quarto-xref\">Figure 11</a>."
   ],
   "id": "d94046c0-7f1c-43f4-8336-93926284e6bb"
  },
  {
   "cell_type": "code",
   "execution_count": null,
   "metadata": {
    "layout-align": "center"
   },
   "outputs": [
    {
     "output_type": "display_data",
     "metadata": {},
     "data": {}
    }
   ],
   "source": [
    "df <- excreted_total %>% \n",
    "  select(-contains(c(\"sd\", \"excr_mean\", \"biomass\"))) %>% \n",
    "  pivot_wider(names_from = \"feed\", values_from = \"excr_biom_mean\") %>% \n",
    "  mutate(past = past-reference,\n",
    "         future = future-reference) %>% \n",
    "  pivot_longer(names_to = \"feed\", values_to = \"diff\", cols = c(past, future), names_transform = list(feed = as.factor)) %>% \n",
    "  mutate(reference = set_units(reference, \"g kgfish-1 d-1\"),\n",
    "         diff = set_units(diff, \"kg tfish-1 d-1\")) %>% \n",
    "  merge(farm_coords, by = \"farm_ID\") %>% \n",
    "  mutate(prod_day = t-t_start+1)\n",
    "\n",
    "summ <- df %>%\n",
    "  group_by(hemisphere, feed) %>% \n",
    "  reframe(mean = meanna(diff) %>% round(3),\n",
    "          min = meanna(diff) %>% round(3),\n",
    "          max = maxna(diff) %>% round(3))\n",
    "\n",
    "df %>% \n",
    "  group_by(hemisphere, feed, prod_day) %>% \n",
    "  reframe(mean_diff = meanna(diff),\n",
    "          sd_diff = sdna(diff) %>% set_units(\"kg tfish-1 d-1\")) %>% \n",
    "  ggplot(aes(x = prod_day, y = mean_diff, ymin = mean_diff-sd_diff, ymax = mean_diff+sd_diff, colour = hemisphere, fill = hemisphere)) +\n",
    "  geom_line(linewidth = 0.75) +\n",
    "  geom_ribbon(alpha = 0.25) +\n",
    "  facet_wrap(~feed) +\n",
    "  theme_classic()"
   ],
   "id": "cell-fig-total-excr-act_diff"
  },
  {
   "cell_type": "markdown",
   "metadata": {},
   "source": [
    "### Composition"
   ],
   "id": "07c84577-8483-4122-a4aa-b075eca784a9"
  },
  {
   "cell_type": "code",
   "execution_count": null,
   "metadata": {
    "layout-align": "center"
   },
   "outputs": [],
   "source": [
    "excreted_P <- farmrun_files %>% purrr::map(function(f) {qs::qread(f)[[\"P_excr_stat\"]]}) %>% bind_rows()\n",
    "excreted_L <- farmrun_files %>% purrr::map(function(f) {qs::qread(f)[[\"L_excr_stat\"]]}) %>% bind_rows()\n",
    "excreted_C <- farmrun_files %>% purrr::map(function(f) {qs::qread(f)[[\"C_excr_stat\"]]}) %>% bind_rows()\n",
    "\n",
    "excreted_all <- excreted_total %>% \n",
    "  select(-contains(\"biom\")) %>% \n",
    "  merge(excreted_P, by = c(\"farm_ID\", \"feed\", \"t\")) %>% \n",
    "  merge(excreted_L, by = c(\"farm_ID\", \"feed\", \"t\")) %>% \n",
    "  merge(excreted_C, by = c(\"farm_ID\", \"feed\", \"t\")) %>% \n",
    "  select(-c(contains(\"sd\"))) %>% \n",
    "  rename(protein = mean.x, lipids = mean.y, carbohydrates = mean) %>% \n",
    "  mutate(protein = protein/excr_mean %>% set_units(\"d-1\"),\n",
    "         lipids = lipids/excr_mean %>% set_units(\"d-1\"),\n",
    "         carbohydrates = carbohydrates/excr_mean %>% set_units(\"d-1\")) %>% \n",
    "  select(-excr_mean)"
   ],
   "id": "6e2d4663-61aa-422a-8162-c72372da7191"
  },
  {
   "cell_type": "markdown",
   "metadata": {},
   "source": [
    "Unlike the uneaten feed, the composition of excreted faeces differs from that of the incoming feed.\n",
    "\n",
    "-   Composition does not change through time or with increasing biomass (because digestibility does not change with fish size or temeprature)"
   ],
   "id": "1db63d12-e32a-49e4-beb4-5900bb11d06c"
  },
  {
   "cell_type": "code",
   "execution_count": null,
   "metadata": {
    "layout-align": "center"
   },
   "outputs": [],
   "source": [
    "excreted_all %>% \n",
    "  pivot_longer(names_to = \"macro\", values_to = \"perc\", cols = c(\"protein\", \"lipids\", \"carbohydrates\")) %>% \n",
    "  mutate(macro = factor(macro, levels = c(\"protein\", \"lipids\", \"carbohydrates\"))) %>% \n",
    "  group_by(farm_ID, feed, macro) %>% \n",
    "  reframe(sd = sd(perc) %>% set_units(\"d-1\"),\n",
    "          mean = mean(perc)) %>% \n",
    "  ggplot(aes(x = farm_ID, colour = feed, fill = feed, y = 100*mean, ymin = 100*(mean-sd), ymax = 100*(mean+sd))) +\n",
    "  geom_point(size = 2) +\n",
    "  geom_errorbar(width = 0.5) +\n",
    "  scale_color_manual(values = feed_pal) +\n",
    "  scale_fill_manual(values = feed_pal) +\n",
    "  facet_grid(rows = vars(macro)) +\n",
    "  theme_classic() +\n",
    "  labs(x = \"Macronutrient\", y = \"Mean composition of faeces\")"
   ],
   "id": "00c97d90-b390-4b48-bc10-14bab7435ca6"
  },
  {
   "cell_type": "markdown",
   "metadata": {},
   "source": [
    "## Total nutrients\n",
    "\n",
    "# Statistical analysis & code availability\n",
    "\n",
    "All analysis was conducted in R version 4.4.2 “Pile of Leaves” ([R Core Team 2019](#ref-R_base)). Major packages used include `terra` ([Hijmans 2024](#ref-terra)), `targets` ([Landau 2021](#ref-targets)), `future` ([Bengtsson 2021](#ref-future)), `furrr` ([Vaughan and Dancho 2022](#ref-furrr)), `renv` ([**renv?**](#ref-renv)), and the `tidyverse` ([Wickham et al. 2019](#ref-tidyverse)). For a full list of R packages used see the lockfile on [Github](https://www.github.com). This manuscript was written in Quarto ([Allaire et al. 2024](#ref-quarto)) using TinyTex ([Xie 2017](#ref-tinytex)) and the acronyms extension ([Chaput 2024](#ref-acronyms)).\n",
    "\n",
    "# References\n",
    "\n",
    "Allaire, J. J., Charles Teague, Carlos Scheidegger, Yihui Xie, and Christophe Dervieux. 2024. ‘Quarto’. <https://doi.org/10.5281/zenodo.5960048>.\n",
    "\n",
    "Baldan, Damiano, Erika M. D. Porporato, Roberto Pastres, and Daniele Brigolin. 2018. ‘An R Package for Simulating Growth and Organic Wastage in Aquaculture Farms in Response to Environmental Conditions and Husbandry Practices’. *PLOS ONE* 13 (5): e0195732. https://doi.org/<https://doi.org/10.1371/journal.pone.0195732>.\n",
    "\n",
    "Bengtsson, Henrik. 2021. ‘A Unifying Framework for Parallel and Distributed Processing in r Using Futures’. *The R Journal* 13 (2): 208–27. <https://doi.org/10.32614/RJ-2021-048>.\n",
    "\n",
    "Broekhuizen, Niall., William. S. C. Gurney, A. Jones, and A. D. Bryant. 1994. ‘Modelling Compensatory Growth’. *Functional Ecology* 8 (6): 770–82. https://doi.org/<https://doi.org/10.2307/2390237>.\n",
    "\n",
    "Chaput, Remy. 2024. ‘<span class=\"nocase\">acronyms</span>’. <https://github.com/rchaput/acronyms>.\n",
    "\n",
    "Cottrell, Richard S., Julia L. Blanchard, Benjamin S. Halpern, Marc Metian, and Halley E. Froehlich. 2020. ‘Global Adoption of Novel Aquaculture Feeds Could Substantially Reduce Forage Fish Demand by 2030’. *Nature Food* 1 (5): 301–8. <https://doi.org/10.1038/s43016-020-0078-x>.\n",
    "\n",
    "Cottrell, Richard S., Benjamin S. Halpern, Marceau Cormery, Helen A. Hamilton, Gage Clawson, Beth Penrose, Louise Adams, et al. n.d. ‘The Origins of Ingredients Matter More Than Ingredient Types for the Environmental Footprint of Aquaculture Feeds’.\n",
    "\n",
    "Dempsey, Danielle P., Gregor K. Reid, Leah Lewis-McCrea, Toby Balch, Roland Cusack, André Dumas, and Jack Rensel. 2023. ‘Estimating Stocking Weights for Atlantic Salmon to Grow to Market Size at Novel Aquaculture Sites with Extreme Temperatures’. *Frontiers in Marine Science* 10 (May). https://doi.org/[https://doi.org/ 10.3389/fmars.2023.1094247](https://doi.org/ 10.3389/fmars.2023.1094247).\n",
    "\n",
    "Elliott, J. M., and W. Davison. 1975. ‘Energy Equivalents of Oxygen Consumption in Animal Energetics’. *Oecologia* 19 (3): 195–201. https://doi.org/<https://doi.org/10.1007/BF00345305>.\n",
    "\n",
    "Handeland, Sigurd O., Albert K. Imsland, and Sigurd O. Stefansson. 2008. ‘The Effect of Temperature and Fish Size on Growth, Feed Intake, Food Conversion Efficiency and Stomach Evacuation Rate of Atlantic Salmon Post-Smolts’. *Aquaculture* 283 (1): 36–42. https://doi.org/[https://doi.org/ 10.1016/j.aquaculture.2008.06.042](https://doi.org/ 10.1016/j.aquaculture.2008.06.042).\n",
    "\n",
    "Hijmans, Robert J. 2024. *Terra: Spatial Data Analysis*. <https://CRAN.R-project.org/package=terra>.\n",
    "\n",
    "Jonsson, Bror, Torbjørn Forseth, Arne. J. Jensen, and Tor. F. Næsje. 2001. ‘Thermal Performance of Juvenile Atlantic Salmon, *Salmo Salar* L.’ *Functional Ecology* 15 (6): 701–11. https://doi.org/<https://doi.org/10.1046/j.0269-8463.2001.00572.x>.\n",
    "\n",
    "Jonsson, Nina, and Bror Jonsson. 2003. ‘Energy Allocation Among Developmental Stages, Age Groups, and Types of Atlantic Salmon (*Salmo Salar*) Spawners’. *Canadian Journal of Fisheries and Aquatic Sciences* 60 (5): 506–16. https://doi.org/[https://doi.org/ 10.1139/f03-042](https://doi.org/ 10.1139/f03-042).\n",
    "\n",
    "Landau, William Michael. 2021. ‘The Targets r Package: A Dynamic Make-Like Function-Oriented Pipeline Toolkit for Reproducibility and High-Performance Computing’. *Journal of Open Source Software* 6 (57): 2959. <https://doi.org/10.21105/joss.02959>.\n",
    "\n",
    "Macnaughton, Camille J., David Deslauriers, Erinn L. Ipsen, Emily Corey, and Eva C. Enders. 2019. ‘Using Meta-Analysis to Derive a Respiration Model for Atlantic Salmon (*Salmo Salar*) to Assess Bioenergetics Requirements of Juveniles in Two Canadian Rivers’. *Canadian Journal of Fisheries and Aquatic Sciences* 76 (12): 2225–34. https://doi.org/[https://doi.org/ 10.1139/cjfas-2018-0436](https://doi.org/ 10.1139/cjfas-2018-0436).\n",
    "\n",
    "Poletto, Jamilynn B., Dennis E. Cocherell, Sarah E. Baird, Trinh X. Nguyen, Valentina Cabrera-Stagno, Anthony P. Farrell, and Nann A. Fangue. 2017. ‘Unusual Aerobic Performance at High Temperatures in Juvenile Chinook Salmon, *Oncorhynchus Tshawytscha*’. *Conservation Physiology* 5 (1). https://doi.org/[https://doi.org/ 10.1093/conphys/cow067](https://doi.org/ 10.1093/conphys/cow067).\n",
    "\n",
    "R Core Team. 2019. *R: A Language and Environment for Statistical Computing*. Vienna, Austria: R Foundation for Statistical Computing. <https://www.R-project.org>.\n",
    "\n",
    "Tvete, Ingunn Fride, Magne Aldrin, and Britt Bang Jensen. 2023. ‘Towards Better Survival: Modeling Drivers for Daily Mortality in Norwegian Atlantic Salmon Farming’. *Preventive Veterinary Medicine* 210 (January): 105798. https://doi.org/[https://doi.org/ 10.1016/j.prevetmed.2022.105798](https://doi.org/ 10.1016/j.prevetmed.2022.105798).\n",
    "\n",
    "Uglem, Ingebrigt, Kilian Toledo-Guedes, Pablo Sanchez-Jerez, Eva M. Ulvan, Tor Evensen, and Bjørn S. Sæther. 2020. ‘Does Waste Feed from Salmon Farming Affect the Quality of Saithe (*Pollachius Virens* L.) Attracted to Fish Farms?’ *Aquaculture Research* 51 (4): 1720–30. https://doi.org/[https://doi.org/ 10.1111/are.14519](https://doi.org/ 10.1111/are.14519).\n",
    "\n",
    "Vadboncoeur, Émile, Charlotte Nelson, Jennifer R. Hall, Kathy A. Clow, Rebeccah M. Sandrelli, Colin J. Brauner, Andrew K. Swanson, and A. Kurt Gamperl. 2023. ‘Lowering Temperature to 1 °C Results in Physiological Changes, Stress and Mortality in Cultured Atlantic Salmon (*Salmo Salar*)’. *Aquaculture* 568 (April): 739313. https://doi.org/[https://doi.org/ 10.1016/j.aquaculture.2023.739313](https://doi.org/ 10.1016/j.aquaculture.2023.739313).\n",
    "\n",
    "Van Tien, Nguyen, Dam T. M. Chinh, Tran T. M. Huong, Truong H. Phuong, Simon Irvin, and Brett Glencross. 2016. ‘Development of a Nutritional Model to Define the Energy and Protein Requirements of Cobia, *Rachycentron Canadum*’. *Aquaculture* 463 (October): 193–200. https://doi.org/[https://doi.org/ 10.1016/j.aquaculture.2016.05.037](https://doi.org/ 10.1016/j.aquaculture.2016.05.037).\n",
    "\n",
    "Vaughan, Davis, and Matt Dancho. 2022. *Furrr: Apply Mapping Functions in Parallel Using Futures*. <https://CRAN.R-project.org/package=furrr>.\n",
    "\n",
    "Wickham, Hadley, Mara Averick, Jennifer Bryan, Winston Chang, Lucy D’Agostino McGowan, Romain François, Garrett Grolemund, et al. 2019. ‘Welcome to the <span class=\"nocase\">tidyverse</span>’. *Journal of Open Source Software* 4 (43): 1686. <https://doi.org/10.21105/joss.01686>.\n",
    "\n",
    "Xie, Yihui. 2017. ‘Tinytex: Helper Functions to Install and Maintain TeX Live, and Compile LaTeX Documents’. <https://cran.r-project.org/web/packages/tinytex>."
   ],
   "id": "9589b3c3-5d76-4a87-9326-de70d7b3dcab"
  }
 ],
 "nbformat": 4,
 "nbformat_minor": 5,
 "metadata": {}
}
